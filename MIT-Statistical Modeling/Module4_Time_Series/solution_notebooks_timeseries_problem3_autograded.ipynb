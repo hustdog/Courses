{
 "cells": [
  {
   "cell_type": "markdown",
   "metadata": {},
   "source": [
    "# Time Series Homework"
   ]
  },
  {
   "cell_type": "code",
   "execution_count": 1,
   "metadata": {},
   "outputs": [
    {
     "data": {
      "text/html": [
       "\n",
       "    <div class=\"bk-root\">\n",
       "        <a href=\"https://bokeh.org\" target=\"_blank\" class=\"bk-logo bk-logo-small bk-logo-notebook\"></a>\n",
       "        <span id=\"1001\">Loading BokehJS ...</span>\n",
       "    </div>"
      ]
     },
     "metadata": {},
     "output_type": "display_data"
    },
    {
     "data": {
      "application/javascript": [
       "\n",
       "(function(root) {\n",
       "  function now() {\n",
       "    return new Date();\n",
       "  }\n",
       "\n",
       "  var force = true;\n",
       "\n",
       "  if (typeof root._bokeh_onload_callbacks === \"undefined\" || force === true) {\n",
       "    root._bokeh_onload_callbacks = [];\n",
       "    root._bokeh_is_loading = undefined;\n",
       "  }\n",
       "\n",
       "  var JS_MIME_TYPE = 'application/javascript';\n",
       "  var HTML_MIME_TYPE = 'text/html';\n",
       "  var EXEC_MIME_TYPE = 'application/vnd.bokehjs_exec.v0+json';\n",
       "  var CLASS_NAME = 'output_bokeh rendered_html';\n",
       "\n",
       "  /**\n",
       "   * Render data to the DOM node\n",
       "   */\n",
       "  function render(props, node) {\n",
       "    var script = document.createElement(\"script\");\n",
       "    node.appendChild(script);\n",
       "  }\n",
       "\n",
       "  /**\n",
       "   * Handle when an output is cleared or removed\n",
       "   */\n",
       "  function handleClearOutput(event, handle) {\n",
       "    var cell = handle.cell;\n",
       "\n",
       "    var id = cell.output_area._bokeh_element_id;\n",
       "    var server_id = cell.output_area._bokeh_server_id;\n",
       "    // Clean up Bokeh references\n",
       "    if (id != null && id in Bokeh.index) {\n",
       "      Bokeh.index[id].model.document.clear();\n",
       "      delete Bokeh.index[id];\n",
       "    }\n",
       "\n",
       "    if (server_id !== undefined) {\n",
       "      // Clean up Bokeh references\n",
       "      var cmd = \"from bokeh.io.state import curstate; print(curstate().uuid_to_server['\" + server_id + \"'].get_sessions()[0].document.roots[0]._id)\";\n",
       "      cell.notebook.kernel.execute(cmd, {\n",
       "        iopub: {\n",
       "          output: function(msg) {\n",
       "            var id = msg.content.text.trim();\n",
       "            if (id in Bokeh.index) {\n",
       "              Bokeh.index[id].model.document.clear();\n",
       "              delete Bokeh.index[id];\n",
       "            }\n",
       "          }\n",
       "        }\n",
       "      });\n",
       "      // Destroy server and session\n",
       "      var cmd = \"import bokeh.io.notebook as ion; ion.destroy_server('\" + server_id + \"')\";\n",
       "      cell.notebook.kernel.execute(cmd);\n",
       "    }\n",
       "  }\n",
       "\n",
       "  /**\n",
       "   * Handle when a new output is added\n",
       "   */\n",
       "  function handleAddOutput(event, handle) {\n",
       "    var output_area = handle.output_area;\n",
       "    var output = handle.output;\n",
       "\n",
       "    // limit handleAddOutput to display_data with EXEC_MIME_TYPE content only\n",
       "    if ((output.output_type != \"display_data\") || (!output.data.hasOwnProperty(EXEC_MIME_TYPE))) {\n",
       "      return\n",
       "    }\n",
       "\n",
       "    var toinsert = output_area.element.find(\".\" + CLASS_NAME.split(' ')[0]);\n",
       "\n",
       "    if (output.metadata[EXEC_MIME_TYPE][\"id\"] !== undefined) {\n",
       "      toinsert[toinsert.length - 1].firstChild.textContent = output.data[JS_MIME_TYPE];\n",
       "      // store reference to embed id on output_area\n",
       "      output_area._bokeh_element_id = output.metadata[EXEC_MIME_TYPE][\"id\"];\n",
       "    }\n",
       "    if (output.metadata[EXEC_MIME_TYPE][\"server_id\"] !== undefined) {\n",
       "      var bk_div = document.createElement(\"div\");\n",
       "      bk_div.innerHTML = output.data[HTML_MIME_TYPE];\n",
       "      var script_attrs = bk_div.children[0].attributes;\n",
       "      for (var i = 0; i < script_attrs.length; i++) {\n",
       "        toinsert[toinsert.length - 1].firstChild.setAttribute(script_attrs[i].name, script_attrs[i].value);\n",
       "        toinsert[toinsert.length - 1].firstChild.textContent = bk_div.children[0].textContent\n",
       "      }\n",
       "      // store reference to server id on output_area\n",
       "      output_area._bokeh_server_id = output.metadata[EXEC_MIME_TYPE][\"server_id\"];\n",
       "    }\n",
       "  }\n",
       "\n",
       "  function register_renderer(events, OutputArea) {\n",
       "\n",
       "    function append_mime(data, metadata, element) {\n",
       "      // create a DOM node to render to\n",
       "      var toinsert = this.create_output_subarea(\n",
       "        metadata,\n",
       "        CLASS_NAME,\n",
       "        EXEC_MIME_TYPE\n",
       "      );\n",
       "      this.keyboard_manager.register_events(toinsert);\n",
       "      // Render to node\n",
       "      var props = {data: data, metadata: metadata[EXEC_MIME_TYPE]};\n",
       "      render(props, toinsert[toinsert.length - 1]);\n",
       "      element.append(toinsert);\n",
       "      return toinsert\n",
       "    }\n",
       "\n",
       "    /* Handle when an output is cleared or removed */\n",
       "    events.on('clear_output.CodeCell', handleClearOutput);\n",
       "    events.on('delete.Cell', handleClearOutput);\n",
       "\n",
       "    /* Handle when a new output is added */\n",
       "    events.on('output_added.OutputArea', handleAddOutput);\n",
       "\n",
       "    /**\n",
       "     * Register the mime type and append_mime function with output_area\n",
       "     */\n",
       "    OutputArea.prototype.register_mime_type(EXEC_MIME_TYPE, append_mime, {\n",
       "      /* Is output safe? */\n",
       "      safe: true,\n",
       "      /* Index of renderer in `output_area.display_order` */\n",
       "      index: 0\n",
       "    });\n",
       "  }\n",
       "\n",
       "  // register the mime type if in Jupyter Notebook environment and previously unregistered\n",
       "  if (root.Jupyter !== undefined) {\n",
       "    var events = require('base/js/events');\n",
       "    var OutputArea = require('notebook/js/outputarea').OutputArea;\n",
       "\n",
       "    if (OutputArea.prototype.mime_types().indexOf(EXEC_MIME_TYPE) == -1) {\n",
       "      register_renderer(events, OutputArea);\n",
       "    }\n",
       "  }\n",
       "\n",
       "  \n",
       "  if (typeof (root._bokeh_timeout) === \"undefined\" || force === true) {\n",
       "    root._bokeh_timeout = Date.now() + 5000;\n",
       "    root._bokeh_failed_load = false;\n",
       "  }\n",
       "\n",
       "  var NB_LOAD_WARNING = {'data': {'text/html':\n",
       "     \"<div style='background-color: #fdd'>\\n\"+\n",
       "     \"<p>\\n\"+\n",
       "     \"BokehJS does not appear to have successfully loaded. If loading BokehJS from CDN, this \\n\"+\n",
       "     \"may be due to a slow or bad network connection. Possible fixes:\\n\"+\n",
       "     \"</p>\\n\"+\n",
       "     \"<ul>\\n\"+\n",
       "     \"<li>re-rerun `output_notebook()` to attempt to load from CDN again, or</li>\\n\"+\n",
       "     \"<li>use INLINE resources instead, as so:</li>\\n\"+\n",
       "     \"</ul>\\n\"+\n",
       "     \"<code>\\n\"+\n",
       "     \"from bokeh.resources import INLINE\\n\"+\n",
       "     \"output_notebook(resources=INLINE)\\n\"+\n",
       "     \"</code>\\n\"+\n",
       "     \"</div>\"}};\n",
       "\n",
       "  function display_loaded() {\n",
       "    var el = document.getElementById(\"1001\");\n",
       "    if (el != null) {\n",
       "      el.textContent = \"BokehJS is loading...\";\n",
       "    }\n",
       "    if (root.Bokeh !== undefined) {\n",
       "      if (el != null) {\n",
       "        el.textContent = \"BokehJS \" + root.Bokeh.version + \" successfully loaded.\";\n",
       "      }\n",
       "    } else if (Date.now() < root._bokeh_timeout) {\n",
       "      setTimeout(display_loaded, 100)\n",
       "    }\n",
       "  }\n",
       "\n",
       "\n",
       "  function run_callbacks() {\n",
       "    try {\n",
       "      root._bokeh_onload_callbacks.forEach(function(callback) {\n",
       "        if (callback != null)\n",
       "          callback();\n",
       "      });\n",
       "    } finally {\n",
       "      delete root._bokeh_onload_callbacks\n",
       "    }\n",
       "    console.debug(\"Bokeh: all callbacks have finished\");\n",
       "  }\n",
       "\n",
       "  function load_libs(css_urls, js_urls, callback) {\n",
       "    if (css_urls == null) css_urls = [];\n",
       "    if (js_urls == null) js_urls = [];\n",
       "\n",
       "    root._bokeh_onload_callbacks.push(callback);\n",
       "    if (root._bokeh_is_loading > 0) {\n",
       "      console.debug(\"Bokeh: BokehJS is being loaded, scheduling callback at\", now());\n",
       "      return null;\n",
       "    }\n",
       "    if (js_urls == null || js_urls.length === 0) {\n",
       "      run_callbacks();\n",
       "      return null;\n",
       "    }\n",
       "    console.debug(\"Bokeh: BokehJS not loaded, scheduling load and callback at\", now());\n",
       "    root._bokeh_is_loading = css_urls.length + js_urls.length;\n",
       "\n",
       "    function on_load() {\n",
       "      root._bokeh_is_loading--;\n",
       "      if (root._bokeh_is_loading === 0) {\n",
       "        console.debug(\"Bokeh: all BokehJS libraries/stylesheets loaded\");\n",
       "        run_callbacks()\n",
       "      }\n",
       "    }\n",
       "\n",
       "    function on_error() {\n",
       "      console.error(\"failed to load \" + url);\n",
       "    }\n",
       "\n",
       "    for (var i = 0; i < css_urls.length; i++) {\n",
       "      var url = css_urls[i];\n",
       "      const element = document.createElement(\"link\");\n",
       "      element.onload = on_load;\n",
       "      element.onerror = on_error;\n",
       "      element.rel = \"stylesheet\";\n",
       "      element.type = \"text/css\";\n",
       "      element.href = url;\n",
       "      console.debug(\"Bokeh: injecting link tag for BokehJS stylesheet: \", url);\n",
       "      document.body.appendChild(element);\n",
       "    }\n",
       "\n",
       "    const hashes = {\"https://cdn.bokeh.org/bokeh/release/bokeh-2.1.1.min.js\": \"kLr4fYcqcSpbuI95brIH3vnnYCquzzSxHPU6XGQCIkQRGJwhg0StNbj1eegrHs12\", \"https://cdn.bokeh.org/bokeh/release/bokeh-widgets-2.1.1.min.js\": \"xIGPmVtaOm+z0BqfSOMn4lOR6ciex448GIKG4eE61LsAvmGj48XcMQZtKcE/UXZe\", \"https://cdn.bokeh.org/bokeh/release/bokeh-tables-2.1.1.min.js\": \"Dc9u1wF/0zApGIWoBbH77iWEHtdmkuYWG839Uzmv8y8yBLXebjO9ZnERsde5Ln/P\", \"https://cdn.bokeh.org/bokeh/release/bokeh-gl-2.1.1.min.js\": \"cT9JaBz7GiRXdENrJLZNSC6eMNF3nh3fa5fTF51Svp+ukxPdwcU5kGXGPBgDCa2j\"};\n",
       "\n",
       "    for (var i = 0; i < js_urls.length; i++) {\n",
       "      var url = js_urls[i];\n",
       "      var element = document.createElement('script');\n",
       "      element.onload = on_load;\n",
       "      element.onerror = on_error;\n",
       "      element.async = false;\n",
       "      element.src = url;\n",
       "      if (url in hashes) {\n",
       "        element.crossOrigin = \"anonymous\";\n",
       "        element.integrity = \"sha384-\" + hashes[url];\n",
       "      }\n",
       "      console.debug(\"Bokeh: injecting script tag for BokehJS library: \", url);\n",
       "      document.head.appendChild(element);\n",
       "    }\n",
       "  };\n",
       "\n",
       "  function inject_raw_css(css) {\n",
       "    const element = document.createElement(\"style\");\n",
       "    element.appendChild(document.createTextNode(css));\n",
       "    document.body.appendChild(element);\n",
       "  }\n",
       "\n",
       "  \n",
       "  var js_urls = [\"https://cdn.bokeh.org/bokeh/release/bokeh-2.1.1.min.js\", \"https://cdn.bokeh.org/bokeh/release/bokeh-widgets-2.1.1.min.js\", \"https://cdn.bokeh.org/bokeh/release/bokeh-tables-2.1.1.min.js\", \"https://cdn.bokeh.org/bokeh/release/bokeh-gl-2.1.1.min.js\"];\n",
       "  var css_urls = [];\n",
       "  \n",
       "\n",
       "  var inline_js = [\n",
       "    function(Bokeh) {\n",
       "      Bokeh.set_log_level(\"info\");\n",
       "    },\n",
       "    function(Bokeh) {\n",
       "    \n",
       "    \n",
       "    }\n",
       "  ];\n",
       "\n",
       "  function run_inline_js() {\n",
       "    \n",
       "    if (root.Bokeh !== undefined || force === true) {\n",
       "      \n",
       "    for (var i = 0; i < inline_js.length; i++) {\n",
       "      inline_js[i].call(root, root.Bokeh);\n",
       "    }\n",
       "    if (force === true) {\n",
       "        display_loaded();\n",
       "      }} else if (Date.now() < root._bokeh_timeout) {\n",
       "      setTimeout(run_inline_js, 100);\n",
       "    } else if (!root._bokeh_failed_load) {\n",
       "      console.log(\"Bokeh: BokehJS failed to load within specified timeout.\");\n",
       "      root._bokeh_failed_load = true;\n",
       "    } else if (force !== true) {\n",
       "      var cell = $(document.getElementById(\"1001\")).parents('.cell').data().cell;\n",
       "      cell.output_area.append_execute_result(NB_LOAD_WARNING)\n",
       "    }\n",
       "\n",
       "  }\n",
       "\n",
       "  if (root._bokeh_is_loading === 0) {\n",
       "    console.debug(\"Bokeh: BokehJS loaded, going straight to plotting\");\n",
       "    run_inline_js();\n",
       "  } else {\n",
       "    load_libs(css_urls, js_urls, function() {\n",
       "      console.debug(\"Bokeh: BokehJS plotting callback run at\", now());\n",
       "      run_inline_js();\n",
       "    });\n",
       "  }\n",
       "}(window));"
      ],
      "application/vnd.bokehjs_load.v0+json": "\n(function(root) {\n  function now() {\n    return new Date();\n  }\n\n  var force = true;\n\n  if (typeof root._bokeh_onload_callbacks === \"undefined\" || force === true) {\n    root._bokeh_onload_callbacks = [];\n    root._bokeh_is_loading = undefined;\n  }\n\n  \n\n  \n  if (typeof (root._bokeh_timeout) === \"undefined\" || force === true) {\n    root._bokeh_timeout = Date.now() + 5000;\n    root._bokeh_failed_load = false;\n  }\n\n  var NB_LOAD_WARNING = {'data': {'text/html':\n     \"<div style='background-color: #fdd'>\\n\"+\n     \"<p>\\n\"+\n     \"BokehJS does not appear to have successfully loaded. If loading BokehJS from CDN, this \\n\"+\n     \"may be due to a slow or bad network connection. Possible fixes:\\n\"+\n     \"</p>\\n\"+\n     \"<ul>\\n\"+\n     \"<li>re-rerun `output_notebook()` to attempt to load from CDN again, or</li>\\n\"+\n     \"<li>use INLINE resources instead, as so:</li>\\n\"+\n     \"</ul>\\n\"+\n     \"<code>\\n\"+\n     \"from bokeh.resources import INLINE\\n\"+\n     \"output_notebook(resources=INLINE)\\n\"+\n     \"</code>\\n\"+\n     \"</div>\"}};\n\n  function display_loaded() {\n    var el = document.getElementById(\"1001\");\n    if (el != null) {\n      el.textContent = \"BokehJS is loading...\";\n    }\n    if (root.Bokeh !== undefined) {\n      if (el != null) {\n        el.textContent = \"BokehJS \" + root.Bokeh.version + \" successfully loaded.\";\n      }\n    } else if (Date.now() < root._bokeh_timeout) {\n      setTimeout(display_loaded, 100)\n    }\n  }\n\n\n  function run_callbacks() {\n    try {\n      root._bokeh_onload_callbacks.forEach(function(callback) {\n        if (callback != null)\n          callback();\n      });\n    } finally {\n      delete root._bokeh_onload_callbacks\n    }\n    console.debug(\"Bokeh: all callbacks have finished\");\n  }\n\n  function load_libs(css_urls, js_urls, callback) {\n    if (css_urls == null) css_urls = [];\n    if (js_urls == null) js_urls = [];\n\n    root._bokeh_onload_callbacks.push(callback);\n    if (root._bokeh_is_loading > 0) {\n      console.debug(\"Bokeh: BokehJS is being loaded, scheduling callback at\", now());\n      return null;\n    }\n    if (js_urls == null || js_urls.length === 0) {\n      run_callbacks();\n      return null;\n    }\n    console.debug(\"Bokeh: BokehJS not loaded, scheduling load and callback at\", now());\n    root._bokeh_is_loading = css_urls.length + js_urls.length;\n\n    function on_load() {\n      root._bokeh_is_loading--;\n      if (root._bokeh_is_loading === 0) {\n        console.debug(\"Bokeh: all BokehJS libraries/stylesheets loaded\");\n        run_callbacks()\n      }\n    }\n\n    function on_error() {\n      console.error(\"failed to load \" + url);\n    }\n\n    for (var i = 0; i < css_urls.length; i++) {\n      var url = css_urls[i];\n      const element = document.createElement(\"link\");\n      element.onload = on_load;\n      element.onerror = on_error;\n      element.rel = \"stylesheet\";\n      element.type = \"text/css\";\n      element.href = url;\n      console.debug(\"Bokeh: injecting link tag for BokehJS stylesheet: \", url);\n      document.body.appendChild(element);\n    }\n\n    const hashes = {\"https://cdn.bokeh.org/bokeh/release/bokeh-2.1.1.min.js\": \"kLr4fYcqcSpbuI95brIH3vnnYCquzzSxHPU6XGQCIkQRGJwhg0StNbj1eegrHs12\", \"https://cdn.bokeh.org/bokeh/release/bokeh-widgets-2.1.1.min.js\": \"xIGPmVtaOm+z0BqfSOMn4lOR6ciex448GIKG4eE61LsAvmGj48XcMQZtKcE/UXZe\", \"https://cdn.bokeh.org/bokeh/release/bokeh-tables-2.1.1.min.js\": \"Dc9u1wF/0zApGIWoBbH77iWEHtdmkuYWG839Uzmv8y8yBLXebjO9ZnERsde5Ln/P\", \"https://cdn.bokeh.org/bokeh/release/bokeh-gl-2.1.1.min.js\": \"cT9JaBz7GiRXdENrJLZNSC6eMNF3nh3fa5fTF51Svp+ukxPdwcU5kGXGPBgDCa2j\"};\n\n    for (var i = 0; i < js_urls.length; i++) {\n      var url = js_urls[i];\n      var element = document.createElement('script');\n      element.onload = on_load;\n      element.onerror = on_error;\n      element.async = false;\n      element.src = url;\n      if (url in hashes) {\n        element.crossOrigin = \"anonymous\";\n        element.integrity = \"sha384-\" + hashes[url];\n      }\n      console.debug(\"Bokeh: injecting script tag for BokehJS library: \", url);\n      document.head.appendChild(element);\n    }\n  };\n\n  function inject_raw_css(css) {\n    const element = document.createElement(\"style\");\n    element.appendChild(document.createTextNode(css));\n    document.body.appendChild(element);\n  }\n\n  \n  var js_urls = [\"https://cdn.bokeh.org/bokeh/release/bokeh-2.1.1.min.js\", \"https://cdn.bokeh.org/bokeh/release/bokeh-widgets-2.1.1.min.js\", \"https://cdn.bokeh.org/bokeh/release/bokeh-tables-2.1.1.min.js\", \"https://cdn.bokeh.org/bokeh/release/bokeh-gl-2.1.1.min.js\"];\n  var css_urls = [];\n  \n\n  var inline_js = [\n    function(Bokeh) {\n      Bokeh.set_log_level(\"info\");\n    },\n    function(Bokeh) {\n    \n    \n    }\n  ];\n\n  function run_inline_js() {\n    \n    if (root.Bokeh !== undefined || force === true) {\n      \n    for (var i = 0; i < inline_js.length; i++) {\n      inline_js[i].call(root, root.Bokeh);\n    }\n    if (force === true) {\n        display_loaded();\n      }} else if (Date.now() < root._bokeh_timeout) {\n      setTimeout(run_inline_js, 100);\n    } else if (!root._bokeh_failed_load) {\n      console.log(\"Bokeh: BokehJS failed to load within specified timeout.\");\n      root._bokeh_failed_load = true;\n    } else if (force !== true) {\n      var cell = $(document.getElementById(\"1001\")).parents('.cell').data().cell;\n      cell.output_area.append_execute_result(NB_LOAD_WARNING)\n    }\n\n  }\n\n  if (root._bokeh_is_loading === 0) {\n    console.debug(\"Bokeh: BokehJS loaded, going straight to plotting\");\n    run_inline_js();\n  } else {\n    load_libs(css_urls, js_urls, function() {\n      console.debug(\"Bokeh: BokehJS plotting callback run at\", now());\n      run_inline_js();\n    });\n  }\n}(window));"
     },
     "metadata": {},
     "output_type": "display_data"
    }
   ],
   "source": [
    "from sklearn.preprocessing import PolynomialFeatures\n",
    "from sklearn.pipeline import make_pipeline\n",
    "from sklearn.linear_model import LinearRegression\n",
    "from scipy.interpolate import interp1d\n",
    "import pandas as pd\n",
    "import numpy as np\n",
    "import matplotlib.pyplot as plt\n",
    "from bokeh.io import output_notebook, show, export_png\n",
    "# from bokeh.io import output_file\n",
    "from bokeh.plotting import figure\n",
    "from itertools import chain \n",
    "from sklearn.metrics import mean_squared_error\n",
    "import datetime as dt\n",
    "import statsmodels.api as sm\n",
    "from statsmodels.graphics.tsaplots import plot_acf,plot_pacf\n",
    "from statsmodels.tsa.ar_model import AutoReg\n",
    "# import pmdarima as pm\n",
    "\n",
    "import math\n",
    "# import pmdarima as pm\n",
    "import statsmodels.api as sm\n",
    "def mean_absolute_percentage_error(y_true, y_pred): \n",
    "     return np.mean(np.abs((y_true - y_pred) / y_true)) *100\n",
    "output_notebook()"
   ]
  },
  {
   "cell_type": "markdown",
   "metadata": {},
   "source": [
    "## Problem 3"
   ]
  },
  {
   "cell_type": "markdown",
   "metadata": {},
   "source": [
    "We will first read the two files given to us into dataframes that we can work with"
   ]
  },
  {
   "cell_type": "code",
   "execution_count": 2,
   "metadata": {},
   "outputs": [
    {
     "data": {
      "text/html": [
       "<div>\n",
       "<style scoped>\n",
       "    .dataframe tbody tr th:only-of-type {\n",
       "        vertical-align: middle;\n",
       "    }\n",
       "\n",
       "    .dataframe tbody tr th {\n",
       "        vertical-align: top;\n",
       "    }\n",
       "\n",
       "    .dataframe thead th {\n",
       "        text-align: right;\n",
       "    }\n",
       "</style>\n",
       "<table border=\"1\" class=\"dataframe\">\n",
       "  <thead>\n",
       "    <tr style=\"text-align: right;\">\n",
       "      <th></th>\n",
       "      <th>date</th>\n",
       "      <th>PriceStats</th>\n",
       "      <th>CPI</th>\n",
       "    </tr>\n",
       "  </thead>\n",
       "  <tbody>\n",
       "    <tr>\n",
       "      <th>0</th>\n",
       "      <td>2008-07-24</td>\n",
       "      <td>100.00000</td>\n",
       "      <td>100.0000</td>\n",
       "    </tr>\n",
       "    <tr>\n",
       "      <th>1</th>\n",
       "      <td>2008-07-25</td>\n",
       "      <td>99.99767</td>\n",
       "      <td>100.0000</td>\n",
       "    </tr>\n",
       "    <tr>\n",
       "      <th>2</th>\n",
       "      <td>2008-07-26</td>\n",
       "      <td>99.92376</td>\n",
       "      <td>100.0000</td>\n",
       "    </tr>\n",
       "    <tr>\n",
       "      <th>3</th>\n",
       "      <td>2008-07-27</td>\n",
       "      <td>99.91537</td>\n",
       "      <td>100.0000</td>\n",
       "    </tr>\n",
       "    <tr>\n",
       "      <th>4</th>\n",
       "      <td>2008-07-28</td>\n",
       "      <td>99.89491</td>\n",
       "      <td>100.0000</td>\n",
       "    </tr>\n",
       "    <tr>\n",
       "      <th>5</th>\n",
       "      <td>2008-07-29</td>\n",
       "      <td>99.88470</td>\n",
       "      <td>100.0000</td>\n",
       "    </tr>\n",
       "    <tr>\n",
       "      <th>6</th>\n",
       "      <td>2008-07-30</td>\n",
       "      <td>99.88448</td>\n",
       "      <td>100.0000</td>\n",
       "    </tr>\n",
       "    <tr>\n",
       "      <th>7</th>\n",
       "      <td>2008-07-31</td>\n",
       "      <td>99.86741</td>\n",
       "      <td>100.0000</td>\n",
       "    </tr>\n",
       "    <tr>\n",
       "      <th>8</th>\n",
       "      <td>2008-08-01</td>\n",
       "      <td>99.85761</td>\n",
       "      <td>100.5251</td>\n",
       "    </tr>\n",
       "    <tr>\n",
       "      <th>9</th>\n",
       "      <td>2008-08-02</td>\n",
       "      <td>99.85294</td>\n",
       "      <td>100.5251</td>\n",
       "    </tr>\n",
       "  </tbody>\n",
       "</table>\n",
       "</div>"
      ],
      "text/plain": [
       "        date  PriceStats       CPI\n",
       "0 2008-07-24   100.00000  100.0000\n",
       "1 2008-07-25    99.99767  100.0000\n",
       "2 2008-07-26    99.92376  100.0000\n",
       "3 2008-07-27    99.91537  100.0000\n",
       "4 2008-07-28    99.89491  100.0000\n",
       "5 2008-07-29    99.88470  100.0000\n",
       "6 2008-07-30    99.88448  100.0000\n",
       "7 2008-07-31    99.86741  100.0000\n",
       "8 2008-08-01    99.85761  100.5251\n",
       "9 2008-08-02    99.85294  100.5251"
      ]
     },
     "execution_count": 2,
     "metadata": {},
     "output_type": "execute_result"
    }
   ],
   "source": [
    "ps_cpi = pd.read_csv(\"PriceStats_CPI.csv\")\n",
    "ps_cpi['date'] =pd.to_datetime(ps_cpi['date'])\n",
    "ps_cpi.head(10)"
   ]
  },
  {
   "cell_type": "markdown",
   "metadata": {},
   "source": [
    "Notice that while PriceStats changes on a daily basis, CPI only changes on a monthly basis. Hence, the monthly CPI can be obtained by taking the CPI of any day during a month. Additionally, we split the data into training and testing data sets as outlined in the problem statement"
   ]
  },
  {
   "cell_type": "code",
   "execution_count": 3,
   "metadata": {},
   "outputs": [
    {
     "data": {
      "text/html": [
       "<div>\n",
       "<style scoped>\n",
       "    .dataframe tbody tr th:only-of-type {\n",
       "        vertical-align: middle;\n",
       "    }\n",
       "\n",
       "    .dataframe tbody tr th {\n",
       "        vertical-align: top;\n",
       "    }\n",
       "\n",
       "    .dataframe thead th {\n",
       "        text-align: right;\n",
       "    }\n",
       "</style>\n",
       "<table border=\"1\" class=\"dataframe\">\n",
       "  <thead>\n",
       "    <tr style=\"text-align: right;\">\n",
       "      <th></th>\n",
       "      <th>date</th>\n",
       "      <th>CPI</th>\n",
       "      <th>YearMonth</th>\n",
       "    </tr>\n",
       "  </thead>\n",
       "  <tbody>\n",
       "    <tr>\n",
       "      <th>0</th>\n",
       "      <td>2008-07-31</td>\n",
       "      <td>100.00000</td>\n",
       "      <td>2008-07</td>\n",
       "    </tr>\n",
       "    <tr>\n",
       "      <th>1</th>\n",
       "      <td>2008-08-31</td>\n",
       "      <td>100.52510</td>\n",
       "      <td>2008-08</td>\n",
       "    </tr>\n",
       "    <tr>\n",
       "      <th>2</th>\n",
       "      <td>2008-09-30</td>\n",
       "      <td>100.12380</td>\n",
       "      <td>2008-09</td>\n",
       "    </tr>\n",
       "    <tr>\n",
       "      <th>3</th>\n",
       "      <td>2008-10-31</td>\n",
       "      <td>99.98538</td>\n",
       "      <td>2008-10</td>\n",
       "    </tr>\n",
       "    <tr>\n",
       "      <th>4</th>\n",
       "      <td>2008-11-30</td>\n",
       "      <td>98.97539</td>\n",
       "      <td>2008-11</td>\n",
       "    </tr>\n",
       "    <tr>\n",
       "      <th>5</th>\n",
       "      <td>2008-12-31</td>\n",
       "      <td>97.07973</td>\n",
       "      <td>2008-12</td>\n",
       "    </tr>\n",
       "    <tr>\n",
       "      <th>6</th>\n",
       "      <td>2009-01-31</td>\n",
       "      <td>96.07569</td>\n",
       "      <td>2009-01</td>\n",
       "    </tr>\n",
       "    <tr>\n",
       "      <th>7</th>\n",
       "      <td>2009-02-28</td>\n",
       "      <td>96.49385</td>\n",
       "      <td>2009-02</td>\n",
       "    </tr>\n",
       "    <tr>\n",
       "      <th>8</th>\n",
       "      <td>2009-03-31</td>\n",
       "      <td>96.97369</td>\n",
       "      <td>2009-03</td>\n",
       "    </tr>\n",
       "    <tr>\n",
       "      <th>9</th>\n",
       "      <td>2009-04-30</td>\n",
       "      <td>97.20951</td>\n",
       "      <td>2009-04</td>\n",
       "    </tr>\n",
       "  </tbody>\n",
       "</table>\n",
       "</div>"
      ],
      "text/plain": [
       "        date        CPI YearMonth\n",
       "0 2008-07-31  100.00000   2008-07\n",
       "1 2008-08-31  100.52510   2008-08\n",
       "2 2008-09-30  100.12380   2008-09\n",
       "3 2008-10-31   99.98538   2008-10\n",
       "4 2008-11-30   98.97539   2008-11\n",
       "5 2008-12-31   97.07973   2008-12\n",
       "6 2009-01-31   96.07569   2009-01\n",
       "7 2009-02-28   96.49385   2009-02\n",
       "8 2009-03-31   96.97369   2009-03\n",
       "9 2009-04-30   97.20951   2009-04"
      ]
     },
     "execution_count": 3,
     "metadata": {},
     "output_type": "execute_result"
    }
   ],
   "source": [
    "# cpi_monthly = pd.DataFrame(columns =['Month','CPI'])\n",
    "ps_cpi['YearMonth'] = ps_cpi['date'].dt.strftime('%Y-%m')\n",
    "cpi =ps_cpi.drop_duplicates('YearMonth', keep='last').copy().reset_index().drop(['index','PriceStats'],axis=1)\n",
    "cpi_train = (cpi[cpi.YearMonth<'2013-09'].copy())\n",
    "cpi_test = (cpi[cpi.YearMonth >='2013-09'].copy())\n",
    "# cpi_train.CPI = np.log(cpi_train.CPI)\n",
    "# cpi_test.CPI = np.log(cpi_test.CPI)\n",
    "cpi.head(10)\n"
   ]
  },
  {
   "cell_type": "markdown",
   "metadata": {},
   "source": [
    "Visualize the time series"
   ]
  },
  {
   "cell_type": "code",
   "execution_count": 4,
   "metadata": {},
   "outputs": [
    {
     "data": {
      "text/html": [
       "\n",
       "\n",
       "\n",
       "\n",
       "\n",
       "\n",
       "  <div class=\"bk-root\" id=\"a5a8c06c-9a94-461e-8904-2a96dcb7d865\" data-root-id=\"1002\"></div>\n"
      ]
     },
     "metadata": {},
     "output_type": "display_data"
    },
    {
     "data": {
      "application/javascript": [
       "(function(root) {\n",
       "  function embed_document(root) {\n",
       "    \n",
       "  var docs_json = {\"919b9e94-3f63-4c11-9026-93d95fda5647\":{\"roots\":{\"references\":[{\"attributes\":{\"below\":[{\"id\":\"1013\"}],\"center\":[{\"id\":\"1016\"},{\"id\":\"1020\"}],\"left\":[{\"id\":\"1017\"}],\"plot_height\":400,\"plot_width\":400,\"renderers\":[{\"id\":\"1038\"}],\"title\":{\"id\":\"1003\"},\"toolbar\":{\"id\":\"1028\"},\"x_range\":{\"id\":\"1005\"},\"x_scale\":{\"id\":\"1009\"},\"y_range\":{\"id\":\"1007\"},\"y_scale\":{\"id\":\"1011\"}},\"id\":\"1002\",\"subtype\":\"Figure\",\"type\":\"Plot\"},{\"attributes\":{\"line_color\":\"navy\",\"line_width\":2.5,\"x\":{\"field\":\"x\"},\"y\":{\"field\":\"y\"}},\"id\":\"1036\",\"type\":\"Line\"},{\"attributes\":{\"source\":{\"id\":\"1035\"}},\"id\":\"1039\",\"type\":\"CDSView\"},{\"attributes\":{\"bottom_units\":\"screen\",\"fill_alpha\":0.5,\"fill_color\":\"lightgrey\",\"left_units\":\"screen\",\"level\":\"overlay\",\"line_alpha\":1.0,\"line_color\":\"black\",\"line_dash\":[4,4],\"line_width\":2,\"right_units\":\"screen\",\"top_units\":\"screen\"},\"id\":\"1027\",\"type\":\"BoxAnnotation\"},{\"attributes\":{\"axis_label\":\"t\",\"formatter\":{\"id\":\"1041\"},\"ticker\":{\"id\":\"1014\"}},\"id\":\"1013\",\"type\":\"LinearAxis\"},{\"attributes\":{\"active_drag\":\"auto\",\"active_inspect\":\"auto\",\"active_multi\":null,\"active_scroll\":\"auto\",\"active_tap\":\"auto\",\"tools\":[{\"id\":\"1021\"},{\"id\":\"1022\"},{\"id\":\"1023\"},{\"id\":\"1024\"},{\"id\":\"1025\"},{\"id\":\"1026\"}]},\"id\":\"1028\",\"type\":\"Toolbar\"},{\"attributes\":{},\"id\":\"1005\",\"type\":\"DataRange1d\"},{\"attributes\":{},\"id\":\"1009\",\"type\":\"LinearScale\"},{\"attributes\":{},\"id\":\"1018\",\"type\":\"BasicTicker\"},{\"attributes\":{\"axis\":{\"id\":\"1013\"},\"ticker\":null},\"id\":\"1016\",\"type\":\"Grid\"},{\"attributes\":{\"text\":\"Monthly CPI\"},\"id\":\"1003\",\"type\":\"Title\"},{\"attributes\":{\"overlay\":{\"id\":\"1027\"}},\"id\":\"1023\",\"type\":\"BoxZoomTool\"},{\"attributes\":{\"axis\":{\"id\":\"1017\"},\"dimension\":1,\"ticker\":null},\"id\":\"1020\",\"type\":\"Grid\"},{\"attributes\":{},\"id\":\"1043\",\"type\":\"BasicTickFormatter\"},{\"attributes\":{},\"id\":\"1021\",\"type\":\"PanTool\"},{\"attributes\":{},\"id\":\"1011\",\"type\":\"LinearScale\"},{\"attributes\":{},\"id\":\"1014\",\"type\":\"BasicTicker\"},{\"attributes\":{},\"id\":\"1046\",\"type\":\"UnionRenderers\"},{\"attributes\":{},\"id\":\"1007\",\"type\":\"DataRange1d\"},{\"attributes\":{},\"id\":\"1026\",\"type\":\"HelpTool\"},{\"attributes\":{\"data_source\":{\"id\":\"1035\"},\"glyph\":{\"id\":\"1036\"},\"hover_glyph\":null,\"muted_glyph\":null,\"nonselection_glyph\":{\"id\":\"1037\"},\"selection_glyph\":null,\"view\":{\"id\":\"1039\"}},\"id\":\"1038\",\"type\":\"GlyphRenderer\"},{\"attributes\":{},\"id\":\"1025\",\"type\":\"ResetTool\"},{\"attributes\":{},\"id\":\"1041\",\"type\":\"BasicTickFormatter\"},{\"attributes\":{},\"id\":\"1047\",\"type\":\"Selection\"},{\"attributes\":{},\"id\":\"1024\",\"type\":\"SaveTool\"},{\"attributes\":{\"axis_label\":\"CPI\",\"formatter\":{\"id\":\"1043\"},\"ticker\":{\"id\":\"1018\"}},\"id\":\"1017\",\"type\":\"LinearAxis\"},{\"attributes\":{},\"id\":\"1022\",\"type\":\"WheelZoomTool\"},{\"attributes\":{\"data\":{\"x\":[0,1,2,3,4,5,6,7,8,9,10,11,12,13,14,15,16,17,18,19,20,21,22,23,24,25,26,27,28,29,30,31,32,33,34,35,36,37,38,39,40,41,42,43,44,45,46,47,48,49,50,51,52,53,54,55,56,57,58,59,60,61],\"y\":{\"__ndarray__\":\"AAAAAAAAWUBLyAc9myFZQKvP1VbsB1lAe4hGdxD/WEActi3KbL5YQKWg20saRVhAl6jeGtgEWEBLyAc9mx9YQE6c3O9QPlhA1ouhnGhNWEDw+WGE8FxYQNBE2PD0blhAcVrwoq+kWEAYQznRrppYQOl942vPqFhAWwhyUMKsWEB00vvG17JYQOi8xi5Rt1hA48KBkCysWEDkvWplwsFYQEX11sBWw1hArHMMyF7dWEA/jBAebehYQHYyOEpe7VhAd6G5TiPnWECRm+EGfOhYQMjqVs9J8VhA0GG+vAD1WEAFhqxu9fxYQPLNNjem/1hAe4MvTKYKWUB3vp8aLylZQMX+snvySFlA8tJNYhCIWUBSSZ2AJrJZQHBfB84Z0VlAbqMBvAXKWUAdWmQ7389ZQBKlvcEX4llAqmBUUifsWUBYObTIdt5ZQCL99nXg2FlAat5xio7IWUCamZmZmeVZQMKGp1fKAlpA6Nms+lw1WkASg8DKoUlaQC9uowG8QVpAzojS3uA3WkAU0ETY8CxaQFioNc07UlpAo5I6AU1wWkCLbOf7qW1aQEvIBz2bTVpADwu1pnk7WkDIBz2bVU9aQNEi2/l+hlpAFR3J5T+YWkATYcPTK5FaQOF6FK5HnVpAEoPAyqGtWkBqTfOOU7BaQA==\",\"dtype\":\"float64\",\"order\":\"little\",\"shape\":[62]}},\"selected\":{\"id\":\"1047\"},\"selection_policy\":{\"id\":\"1046\"}},\"id\":\"1035\",\"type\":\"ColumnDataSource\"},{\"attributes\":{\"line_alpha\":0.1,\"line_color\":\"navy\",\"line_width\":2.5,\"x\":{\"field\":\"x\"},\"y\":{\"field\":\"y\"}},\"id\":\"1037\",\"type\":\"Line\"}],\"root_ids\":[\"1002\"]},\"title\":\"Bokeh Application\",\"version\":\"2.1.1\"}};\n",
       "  var render_items = [{\"docid\":\"919b9e94-3f63-4c11-9026-93d95fda5647\",\"root_ids\":[\"1002\"],\"roots\":{\"1002\":\"a5a8c06c-9a94-461e-8904-2a96dcb7d865\"}}];\n",
       "  root.Bokeh.embed.embed_items_notebook(docs_json, render_items);\n",
       "\n",
       "  }\n",
       "  if (root.Bokeh !== undefined) {\n",
       "    embed_document(root);\n",
       "  } else {\n",
       "    var attempts = 0;\n",
       "    var timer = setInterval(function(root) {\n",
       "      if (root.Bokeh !== undefined) {\n",
       "        clearInterval(timer);\n",
       "        embed_document(root);\n",
       "      } else {\n",
       "        attempts++;\n",
       "        if (attempts > 100) {\n",
       "          clearInterval(timer);\n",
       "          console.log(\"Bokeh: ERROR: Unable to run BokehJS code because BokehJS library is missing\");\n",
       "        }\n",
       "      }\n",
       "    }, 10, root)\n",
       "  }\n",
       "})(window);"
      ],
      "application/vnd.bokehjs_exec.v0+json": ""
     },
     "metadata": {
      "application/vnd.bokehjs_exec.v0+json": {
       "id": "1002"
      }
     },
     "output_type": "display_data"
    }
   ],
   "source": [
    "p = figure(plot_width=400, plot_height=400, title = \"Monthly CPI\")\n",
    "p.line(cpi_train.index,cpi_train.CPI,line_color=\"navy\",line_width =2.5)\n",
    "p.xaxis.axis_label ='t'\n",
    "p.yaxis.axis_label ='CPI'\n",
    "show(p)"
   ]
  },
  {
   "cell_type": "markdown",
   "metadata": {},
   "source": [
    "From the visualization, it is clear that the timeseries has a deterministic trend. We try and fit a linear model to the data (as in the question above) and see if this is sufficient to represent the trend. We then subtract this trend from the data.\n"
   ]
  },
  {
   "cell_type": "code",
   "execution_count": 5,
   "metadata": {},
   "outputs": [
    {
     "name": "stdout",
     "output_type": "stream",
     "text": [
      "The linear trend is given by F(t) = 0.16104348366951224*t + (96.72932632872502)\n"
     ]
    },
    {
     "data": {
      "text/html": [
       "\n",
       "\n",
       "\n",
       "\n",
       "\n",
       "\n",
       "  <div class=\"bk-root\" id=\"1bd0e314-7b78-4b99-99d6-75fa04ff4426\" data-root-id=\"1096\"></div>\n"
      ]
     },
     "metadata": {},
     "output_type": "display_data"
    },
    {
     "data": {
      "application/javascript": [
       "(function(root) {\n",
       "  function embed_document(root) {\n",
       "    \n",
       "  var docs_json = {\"b16f6eab-36ec-4e62-a817-634733ae879b\":{\"roots\":{\"references\":[{\"attributes\":{\"below\":[{\"id\":\"1107\"}],\"center\":[{\"id\":\"1110\"},{\"id\":\"1114\"},{\"id\":\"1142\"}],\"left\":[{\"id\":\"1111\"}],\"plot_height\":400,\"plot_width\":400,\"renderers\":[{\"id\":\"1132\"},{\"id\":\"1147\"}],\"title\":{\"id\":\"1097\"},\"toolbar\":{\"id\":\"1122\"},\"x_range\":{\"id\":\"1099\"},\"x_scale\":{\"id\":\"1103\"},\"y_range\":{\"id\":\"1101\"},\"y_scale\":{\"id\":\"1105\"}},\"id\":\"1096\",\"subtype\":\"Figure\",\"type\":\"Plot\"},{\"attributes\":{},\"id\":\"1158\",\"type\":\"Selection\"},{\"attributes\":{},\"id\":\"1120\",\"type\":\"HelpTool\"},{\"attributes\":{},\"id\":\"1116\",\"type\":\"WheelZoomTool\"},{\"attributes\":{},\"id\":\"1115\",\"type\":\"PanTool\"},{\"attributes\":{\"overlay\":{\"id\":\"1121\"}},\"id\":\"1117\",\"type\":\"BoxZoomTool\"},{\"attributes\":{},\"id\":\"1118\",\"type\":\"SaveTool\"},{\"attributes\":{},\"id\":\"1119\",\"type\":\"ResetTool\"},{\"attributes\":{\"active_drag\":\"auto\",\"active_inspect\":\"auto\",\"active_multi\":null,\"active_scroll\":\"auto\",\"active_tap\":\"auto\",\"tools\":[{\"id\":\"1115\"},{\"id\":\"1116\"},{\"id\":\"1117\"},{\"id\":\"1118\"},{\"id\":\"1119\"},{\"id\":\"1120\"}]},\"id\":\"1122\",\"type\":\"Toolbar\"},{\"attributes\":{},\"id\":\"1140\",\"type\":\"UnionRenderers\"},{\"attributes\":{},\"id\":\"1137\",\"type\":\"BasicTickFormatter\"},{\"attributes\":{\"label\":{\"value\":\"Original Data\"},\"renderers\":[{\"id\":\"1132\"}]},\"id\":\"1143\",\"type\":\"LegendItem\"},{\"attributes\":{},\"id\":\"1141\",\"type\":\"Selection\"},{\"attributes\":{\"line_color\":\"navy\",\"line_width\":2,\"x\":{\"field\":\"x\"},\"y\":{\"field\":\"y\"}},\"id\":\"1130\",\"type\":\"Line\"},{\"attributes\":{\"source\":{\"id\":\"1129\"}},\"id\":\"1133\",\"type\":\"CDSView\"},{\"attributes\":{},\"id\":\"1135\",\"type\":\"BasicTickFormatter\"},{\"attributes\":{\"line_alpha\":0.1,\"line_color\":\"navy\",\"line_width\":2,\"x\":{\"field\":\"x\"},\"y\":{\"field\":\"y\"}},\"id\":\"1131\",\"type\":\"Line\"},{\"attributes\":{\"items\":[{\"id\":\"1143\"},{\"id\":\"1159\"}],\"location\":\"bottom_right\"},\"id\":\"1142\",\"type\":\"Legend\"},{\"attributes\":{\"data_source\":{\"id\":\"1129\"},\"glyph\":{\"id\":\"1130\"},\"hover_glyph\":null,\"muted_glyph\":null,\"nonselection_glyph\":{\"id\":\"1131\"},\"selection_glyph\":null,\"view\":{\"id\":\"1133\"}},\"id\":\"1132\",\"type\":\"GlyphRenderer\"},{\"attributes\":{\"data\":{\"x\":[0,1,2,3,4,5,6,7,8,9,10,11,12,13,14,15,16,17,18,19,20,21,22,23,24,25,26,27,28,29,30,31,32,33,34,35,36,37,38,39,40,41,42,43,44,45,46,47,48,49,50,51,52,53,54,55,56,57,58,59,60,61],\"y\":{\"__ndarray__\":\"AAAAAAAAWUBLyAc9myFZQKvP1VbsB1lAe4hGdxD/WEActi3KbL5YQKWg20saRVhAl6jeGtgEWEBLyAc9mx9YQE6c3O9QPlhA1ouhnGhNWEDw+WGE8FxYQNBE2PD0blhAcVrwoq+kWEAYQznRrppYQOl942vPqFhAWwhyUMKsWEB00vvG17JYQOi8xi5Rt1hA48KBkCysWEDkvWplwsFYQEX11sBWw1hArHMMyF7dWEA/jBAebehYQHYyOEpe7VhAd6G5TiPnWECRm+EGfOhYQMjqVs9J8VhA0GG+vAD1WEAFhqxu9fxYQPLNNjem/1hAe4MvTKYKWUB3vp8aLylZQMX+snvySFlA8tJNYhCIWUBSSZ2AJrJZQHBfB84Z0VlAbqMBvAXKWUAdWmQ7389ZQBKlvcEX4llAqmBUUifsWUBYObTIdt5ZQCL99nXg2FlAat5xio7IWUCamZmZmeVZQMKGp1fKAlpA6Nms+lw1WkASg8DKoUlaQC9uowG8QVpAzojS3uA3WkAU0ETY8CxaQFioNc07UlpAo5I6AU1wWkCLbOf7qW1aQEvIBz2bTVpADwu1pnk7WkDIBz2bVU9aQNEi2/l+hlpAFR3J5T+YWkATYcPTK5FaQOF6FK5HnVpAEoPAyqGtWkBqTfOOU7BaQA==\",\"dtype\":\"float64\",\"order\":\"little\",\"shape\":[62]}},\"selected\":{\"id\":\"1141\"},\"selection_policy\":{\"id\":\"1140\"}},\"id\":\"1129\",\"type\":\"ColumnDataSource\"},{\"attributes\":{\"text\":\"CPI Time Series\"},\"id\":\"1097\",\"type\":\"Title\"},{\"attributes\":{\"data_source\":{\"id\":\"1144\"},\"glyph\":{\"id\":\"1145\"},\"hover_glyph\":null,\"muted_glyph\":null,\"nonselection_glyph\":{\"id\":\"1146\"},\"selection_glyph\":null,\"view\":{\"id\":\"1148\"}},\"id\":\"1147\",\"type\":\"GlyphRenderer\"},{\"attributes\":{\"line_color\":\"orange\",\"line_width\":2.5,\"x\":{\"field\":\"x\"},\"y\":{\"field\":\"y\"}},\"id\":\"1145\",\"type\":\"Line\"},{\"attributes\":{\"line_alpha\":0.1,\"line_color\":\"orange\",\"line_width\":2.5,\"x\":{\"field\":\"x\"},\"y\":{\"field\":\"y\"}},\"id\":\"1146\",\"type\":\"Line\"},{\"attributes\":{\"source\":{\"id\":\"1144\"}},\"id\":\"1148\",\"type\":\"CDSView\"},{\"attributes\":{\"data\":{\"x\":[0,1,2,3,4,5,6,7,8,9,10,11,12,13,14,15,16,17,18,19,20,21,22,23,24,25,26,27,28,29,30,31,32,33,34,35,36,37,38,39,40,41,42,43,44,45,46,47,48,49,50,51,52,53,54,55,56,57,58,59,60,61],\"y\":{\"__ndarray__\":\"Fn9WSK0uWEAiZarR+zhYQC1L/lpKQ1hAOTFS5JhNWEBFF6Zt51dYQFH9+fY1YlhAXONNgIRsWEBoyaEJ03ZYQHSv9ZIhgVhAf5VJHHCLWECLe52lvpVYQJdh8S4NoFhAo0dFuFuqWECuLZlBqrRYQLoT7cr4vlhAxvlAVEfJWEDR35TdldNYQN3F6Gbk3VhA6as88DLoWED1kZB5gfJYQAB45ALQ/FhADF44jB4HWUAYRIwVbRFZQCQq4J67G1lALxA0KAomWUA79oexWDBZQEfc2zqnOllAUsIvxPVEWUBeqINNRE9ZQGqO19aSWVlAdnQrYOFjWUCBWn/pL25ZQI1A03J+eFlAmSYn/MyCWUCkDHuFG41ZQLDyzg5ql1lAvNgimLihWUDIvnYhB6xZQNOkyqpVtllA34oeNKTAWUDrcHK98spZQPZWxkZB1VlAAj0a0I/fWUAOI25Z3ulZQBoJwuIs9FlAJe8VbHv+WUAx1Wn1yQhaQD27vX4YE1pASKERCGcdWkBUh2WRtSdaQGBtuRoEMlpAbFMNpFI8WkB3OWEtoUZaQIMftbbvUFpAjwUJQD5bWkCa61zJjGVaQKbRsFLbb1pAsrcE3Cl6WkC+nVhleIRaQMmDrO7GjlpA1WkAeBWZWkDhT1QBZKNaQA==\",\"dtype\":\"float64\",\"order\":\"little\",\"shape\":[62]}},\"selected\":{\"id\":\"1158\"},\"selection_policy\":{\"id\":\"1157\"}},\"id\":\"1144\",\"type\":\"ColumnDataSource\"},{\"attributes\":{\"axis_label\":\"t\",\"formatter\":{\"id\":\"1135\"},\"ticker\":{\"id\":\"1108\"}},\"id\":\"1107\",\"type\":\"LinearAxis\"},{\"attributes\":{\"bottom_units\":\"screen\",\"fill_alpha\":0.5,\"fill_color\":\"lightgrey\",\"left_units\":\"screen\",\"level\":\"overlay\",\"line_alpha\":1.0,\"line_color\":\"black\",\"line_dash\":[4,4],\"line_width\":2,\"right_units\":\"screen\",\"top_units\":\"screen\"},\"id\":\"1121\",\"type\":\"BoxAnnotation\"},{\"attributes\":{},\"id\":\"1101\",\"type\":\"DataRange1d\"},{\"attributes\":{},\"id\":\"1099\",\"type\":\"DataRange1d\"},{\"attributes\":{\"label\":{\"value\":\"Linear Trend\"},\"renderers\":[{\"id\":\"1147\"}]},\"id\":\"1159\",\"type\":\"LegendItem\"},{\"attributes\":{},\"id\":\"1108\",\"type\":\"BasicTicker\"},{\"attributes\":{},\"id\":\"1105\",\"type\":\"LinearScale\"},{\"attributes\":{},\"id\":\"1103\",\"type\":\"LinearScale\"},{\"attributes\":{\"axis\":{\"id\":\"1107\"},\"ticker\":null},\"id\":\"1110\",\"type\":\"Grid\"},{\"attributes\":{\"axis_label\":\"CPI\",\"formatter\":{\"id\":\"1137\"},\"ticker\":{\"id\":\"1112\"}},\"id\":\"1111\",\"type\":\"LinearAxis\"},{\"attributes\":{},\"id\":\"1112\",\"type\":\"BasicTicker\"},{\"attributes\":{},\"id\":\"1157\",\"type\":\"UnionRenderers\"},{\"attributes\":{\"axis\":{\"id\":\"1111\"},\"dimension\":1,\"ticker\":null},\"id\":\"1114\",\"type\":\"Grid\"}],\"root_ids\":[\"1096\"]},\"title\":\"Bokeh Application\",\"version\":\"2.1.1\"}};\n",
       "  var render_items = [{\"docid\":\"b16f6eab-36ec-4e62-a817-634733ae879b\",\"root_ids\":[\"1096\"],\"roots\":{\"1096\":\"1bd0e314-7b78-4b99-99d6-75fa04ff4426\"}}];\n",
       "  root.Bokeh.embed.embed_items_notebook(docs_json, render_items);\n",
       "\n",
       "  }\n",
       "  if (root.Bokeh !== undefined) {\n",
       "    embed_document(root);\n",
       "  } else {\n",
       "    var attempts = 0;\n",
       "    var timer = setInterval(function(root) {\n",
       "      if (root.Bokeh !== undefined) {\n",
       "        clearInterval(timer);\n",
       "        embed_document(root);\n",
       "      } else {\n",
       "        attempts++;\n",
       "        if (attempts > 100) {\n",
       "          clearInterval(timer);\n",
       "          console.log(\"Bokeh: ERROR: Unable to run BokehJS code because BokehJS library is missing\");\n",
       "        }\n",
       "      }\n",
       "    }, 10, root)\n",
       "  }\n",
       "})(window);"
      ],
      "application/vnd.bokehjs_exec.v0+json": ""
     },
     "metadata": {
      "application/vnd.bokehjs_exec.v0+json": {
       "id": "1096"
      }
     },
     "output_type": "display_data"
    }
   ],
   "source": [
    "model = LinearRegression().fit(np.array(cpi_train.index).reshape(-1, 1),cpi_train.CPI)\n",
    "coefficients = [model.coef_[0],model.intercept_]\n",
    "print(\"The linear trend is given by F(t) = \" +str(coefficients[0])+\"*t + (\" +str(coefficients[1])+\")\")\n",
    "linear_cpi =model.predict(np.array(cpi_train.index).reshape(-1, 1))\n",
    "p = figure(plot_width=400, plot_height=400, title = \"CPI Time Series\")\n",
    "p.line(cpi_train.index,cpi_train.CPI, line_color=\"navy\", line_width=2, legend_label =\"Original Data\")\n",
    "p.line(cpi_train.index,linear_cpi, line_color=\"orange\",line_width=2.5,legend_label =\"Linear Trend\")\n",
    "\n",
    "p.xaxis.axis_label ='t'\n",
    "p.yaxis.axis_label ='CPI'\n",
    "p.legend.location='bottom_right'\n",
    "show(p)"
   ]
  },
  {
   "cell_type": "markdown",
   "metadata": {},
   "source": [
    "We now subtract this linear trend from the data. When prompted to 'Choose Method:' in the following part, please type 'linear'\n",
    "\n",
    "> $\\textit{Note :}$ An alternative to detrending the data in this manner would be to take first difference. Economists tend to log transform the CPI data and then take the first difference in order to detrend it. While the problem set only asks for the linear trend to be removed from the data, the code below allows you to visualize what the first difference of log transform looks like as well. In order to see this, please enter \"log\" when asked to choose method. Please remember to run the block again with the method as linear to proceed with the next part of the PSET."
   ]
  },
  {
   "cell_type": "code",
   "execution_count": 6,
   "metadata": {},
   "outputs": [
    {
     "name": "stdout",
     "output_type": "stream",
     "text": [
      "Choose Method:linear\n"
     ]
    },
    {
     "data": {
      "text/html": [
       "\n",
       "\n",
       "\n",
       "\n",
       "\n",
       "\n",
       "  <div class=\"bk-root\" id=\"2e5e8695-a8ff-4c77-92f3-58098e64e878\" data-root-id=\"1238\"></div>\n"
      ]
     },
     "metadata": {},
     "output_type": "display_data"
    },
    {
     "data": {
      "application/javascript": [
       "(function(root) {\n",
       "  function embed_document(root) {\n",
       "    \n",
       "  var docs_json = {\"01e7ecdf-d8dc-4017-b7dc-6f6bac4aecb7\":{\"roots\":{\"references\":[{\"attributes\":{\"below\":[{\"id\":\"1249\"}],\"center\":[{\"id\":\"1252\"},{\"id\":\"1256\"},{\"id\":\"1284\"}],\"left\":[{\"id\":\"1253\"}],\"plot_height\":400,\"plot_width\":400,\"renderers\":[{\"id\":\"1274\"}],\"title\":{\"id\":\"1239\"},\"toolbar\":{\"id\":\"1264\"},\"x_range\":{\"id\":\"1241\"},\"x_scale\":{\"id\":\"1245\"},\"y_range\":{\"id\":\"1243\"},\"y_scale\":{\"id\":\"1247\"}},\"id\":\"1238\",\"subtype\":\"Figure\",\"type\":\"Plot\"},{\"attributes\":{},\"id\":\"1261\",\"type\":\"ResetTool\"},{\"attributes\":{\"text\":\"CPI Time Series\"},\"id\":\"1239\",\"type\":\"Title\"},{\"attributes\":{\"line_color\":\"navy\",\"line_width\":2,\"x\":{\"field\":\"x\"},\"y\":{\"field\":\"y\"}},\"id\":\"1272\",\"type\":\"Line\"},{\"attributes\":{},\"id\":\"1241\",\"type\":\"DataRange1d\"},{\"attributes\":{\"source\":{\"id\":\"1271\"}},\"id\":\"1275\",\"type\":\"CDSView\"},{\"attributes\":{},\"id\":\"1243\",\"type\":\"DataRange1d\"},{\"attributes\":{\"formatter\":{\"id\":\"1277\"},\"ticker\":{\"id\":\"1250\"}},\"id\":\"1249\",\"type\":\"LinearAxis\"},{\"attributes\":{\"line_alpha\":0.1,\"line_color\":\"navy\",\"line_width\":2,\"x\":{\"field\":\"x\"},\"y\":{\"field\":\"y\"}},\"id\":\"1273\",\"type\":\"Line\"},{\"attributes\":{},\"id\":\"1258\",\"type\":\"WheelZoomTool\"},{\"attributes\":{\"items\":[{\"id\":\"1285\"}]},\"id\":\"1284\",\"type\":\"Legend\"},{\"attributes\":{},\"id\":\"1247\",\"type\":\"LinearScale\"},{\"attributes\":{\"data\":{\"x\":[0,1,2,3,4,5,6,7,8,9,10,11,12,13,14,15,16,17,18,19,20,21,22,23,24,25,26,27,28,29,30,31,32,33,34,35,36,37,38,39,40,41,42,43,44,45,46,47,48,49,50,51,52,53,54,55,56,57,58,59,60,61],\"y\":{\"__ndarray__\":\"QB0w9VYqCkAgZaxr7RMNQMCP8Ho/lAhAQOiKXvIuBkDAtechV6H5PwCsXB6rG92/QLHOWxnr+b9AR4Am8831v4DJRMYotPC/gNQE1L8D77+AzcCdEGfsv4BjjgwfjOi/AMi0U1Wwtr8AlupfcPvZvwDRlQlfKda/AGvxzgOF3L+AroZMC1/gv4B6BBGcSeO/AIN03S8D7r+ACOoSil/ov4BdwQahvOy/ADD1FeLf5L+A7Nu9+3/kvwDX+1OqLue/AFw3vWxz77+AqpapKvfxv8BfPOFaV/K/gCBY3EH9879Alsi1t5P0vwAeMOgne/a/wD78/sRO9r+AAue3M0DxvwDkIJD7xee/AGSxmpgNtT8AVx6RfYXiPwBgNpzf1+w/AFll75Em5D+Aqs32DOzhP4AfgHkL4eU/gOXqGo/B5T8AbchBC4TTPwBgMYV5+aw/AJheqEUB178A0CVS/xKxvwBQ+8rpOs0/gGF1S8dw6z9AeKtV9TXwPwB52XLBUec/AIbnwNZ52j8AACN9G+20PwB8HT7ZG+A/gJufli796T8AihlDZ4TjPwDAuWrNo6q/AID6U5nE378A0uMfLjfWvwArUSqno9Y/AGNlxAkW3j8AqobV3GbJPwAw7s9+Ac0/AD0ZwFKM1D8AEvs9G9/JPw==\",\"dtype\":\"float64\",\"order\":\"little\",\"shape\":[62]}},\"selected\":{\"id\":\"1283\"},\"selection_policy\":{\"id\":\"1282\"}},\"id\":\"1271\",\"type\":\"ColumnDataSource\"},{\"attributes\":{},\"id\":\"1282\",\"type\":\"UnionRenderers\"},{\"attributes\":{},\"id\":\"1245\",\"type\":\"LinearScale\"},{\"attributes\":{},\"id\":\"1250\",\"type\":\"BasicTicker\"},{\"attributes\":{},\"id\":\"1283\",\"type\":\"Selection\"},{\"attributes\":{\"axis\":{\"id\":\"1249\"},\"ticker\":null},\"id\":\"1252\",\"type\":\"Grid\"},{\"attributes\":{},\"id\":\"1277\",\"type\":\"BasicTickFormatter\"},{\"attributes\":{\"bottom_units\":\"screen\",\"fill_alpha\":0.5,\"fill_color\":\"lightgrey\",\"left_units\":\"screen\",\"level\":\"overlay\",\"line_alpha\":1.0,\"line_color\":\"black\",\"line_dash\":[4,4],\"line_width\":2,\"right_units\":\"screen\",\"top_units\":\"screen\"},\"id\":\"1263\",\"type\":\"BoxAnnotation\"},{\"attributes\":{},\"id\":\"1279\",\"type\":\"BasicTickFormatter\"},{\"attributes\":{\"data_source\":{\"id\":\"1271\"},\"glyph\":{\"id\":\"1272\"},\"hover_glyph\":null,\"muted_glyph\":null,\"nonselection_glyph\":{\"id\":\"1273\"},\"selection_glyph\":null,\"view\":{\"id\":\"1275\"}},\"id\":\"1274\",\"type\":\"GlyphRenderer\"},{\"attributes\":{\"label\":{\"value\":\"Detrended Data\"},\"renderers\":[{\"id\":\"1274\"}]},\"id\":\"1285\",\"type\":\"LegendItem\"},{\"attributes\":{\"formatter\":{\"id\":\"1279\"},\"ticker\":{\"id\":\"1254\"}},\"id\":\"1253\",\"type\":\"LinearAxis\"},{\"attributes\":{},\"id\":\"1254\",\"type\":\"BasicTicker\"},{\"attributes\":{\"axis\":{\"id\":\"1253\"},\"dimension\":1,\"ticker\":null},\"id\":\"1256\",\"type\":\"Grid\"},{\"attributes\":{},\"id\":\"1257\",\"type\":\"PanTool\"},{\"attributes\":{\"overlay\":{\"id\":\"1263\"}},\"id\":\"1259\",\"type\":\"BoxZoomTool\"},{\"attributes\":{},\"id\":\"1260\",\"type\":\"SaveTool\"},{\"attributes\":{},\"id\":\"1262\",\"type\":\"HelpTool\"},{\"attributes\":{\"active_drag\":\"auto\",\"active_inspect\":\"auto\",\"active_multi\":null,\"active_scroll\":\"auto\",\"active_tap\":\"auto\",\"tools\":[{\"id\":\"1257\"},{\"id\":\"1258\"},{\"id\":\"1259\"},{\"id\":\"1260\"},{\"id\":\"1261\"},{\"id\":\"1262\"}]},\"id\":\"1264\",\"type\":\"Toolbar\"}],\"root_ids\":[\"1238\"]},\"title\":\"Bokeh Application\",\"version\":\"2.1.1\"}};\n",
       "  var render_items = [{\"docid\":\"01e7ecdf-d8dc-4017-b7dc-6f6bac4aecb7\",\"root_ids\":[\"1238\"],\"roots\":{\"1238\":\"2e5e8695-a8ff-4c77-92f3-58098e64e878\"}}];\n",
       "  root.Bokeh.embed.embed_items_notebook(docs_json, render_items);\n",
       "\n",
       "  }\n",
       "  if (root.Bokeh !== undefined) {\n",
       "    embed_document(root);\n",
       "  } else {\n",
       "    var attempts = 0;\n",
       "    var timer = setInterval(function(root) {\n",
       "      if (root.Bokeh !== undefined) {\n",
       "        clearInterval(timer);\n",
       "        embed_document(root);\n",
       "      } else {\n",
       "        attempts++;\n",
       "        if (attempts > 100) {\n",
       "          clearInterval(timer);\n",
       "          console.log(\"Bokeh: ERROR: Unable to run BokehJS code because BokehJS library is missing\");\n",
       "        }\n",
       "      }\n",
       "    }, 10, root)\n",
       "  }\n",
       "})(window);"
      ],
      "application/vnd.bokehjs_exec.v0+json": ""
     },
     "metadata": {
      "application/vnd.bokehjs_exec.v0+json": {
       "id": "1238"
      }
     },
     "output_type": "display_data"
    },
    {
     "name": "stdout",
     "output_type": "stream",
     "text": [
      "the maximum residual value is:3.634730187605456\n"
     ]
    }
   ],
   "source": [
    "x = input('Choose Method:')\n",
    "if x == 'linear':\n",
    "    remaining = cpi_train.CPI - linear_cpi\n",
    "    linear_cpi_test = model.predict(np.array(cpi_test.index).reshape(-1, 1))\n",
    "    remaining_test = cpi_test.CPI - linear_cpi_test\n",
    "    test = cpi_test.index\n",
    "    train = cpi_train.index\n",
    "else:\n",
    "    cpi_diff_log = np.log(cpi.CPI).diff()\n",
    "    remaining = cpi_diff_log[0:cpi_train.shape[0]]\n",
    "    remaining.iloc[0] = 0    \n",
    "    #.reset_index()#.drop(['index'],axis =1)\n",
    "    remaining_test = cpi_diff_log[cpi_train.shape[0]:].dropna()\n",
    "    remaining_test.iloc[0] = 0\n",
    "    test = cpi_test.index\n",
    "    train = cpi_train.index\n",
    "\n",
    "\n",
    "    \n",
    "p = figure(plot_width=400, plot_height=400, title = \"CPI Time Series\")\n",
    "p.line(train,remaining, line_color=\"navy\", line_width=2, legend_label =\"Detrended Data\")\n",
    "\n",
    "\n",
    "\n",
    "# p.line(cpi_diff.index,cpi_diff,line_color=\"green\",line_width =2.5)\n",
    "show(p)\n",
    "print(\"the maximum residual value is:\"+str(np.max(remaining)))"
   ]
  },
  {
   "cell_type": "markdown",
   "metadata": {},
   "source": [
    "Note that at some stage, we will be required to add back the trend to the data. The function $\\texttt{rebuild_diffed()}$ below has been designed for this purpose. We will be calling this function later."
   ]
  },
  {
   "cell_type": "code",
   "execution_count": 7,
   "metadata": {},
   "outputs": [],
   "source": [
    "def rebuild_diffed(series, first_element_original,x,linear_trend):\n",
    "    if x == 'linear':\n",
    "        final = series + linear_trend\n",
    "    else:\n",
    "        cumsum = pd.Series(series).cumsum()\n",
    "        final = np.exp(cumsum.fillna(0) + first_element_original)\n",
    "        if first_element_original == 0:\n",
    "            final = np.exp(cumsum.fillna(0))\n",
    "    return final"
   ]
  },
  {
   "cell_type": "markdown",
   "metadata": {},
   "source": [
    "As there seems to be no other trend present in this residual, we can take the linear trend to be sufficient and move to the next step, i.e. to deseasonalize the data. However, the above visualization seems to indicate no clear seasonality. Hence, we directly proceed to fitting an AR Model on the residual. To do so, we first plot the autocorrelation and partial autocorrelation plots."
   ]
  },
  {
   "cell_type": "code",
   "execution_count": 8,
   "metadata": {},
   "outputs": [
    {
     "data": {
      "image/png": "[encoded data removed]",
      "text/plain": [
       "<Figure size 432x288 with 1 Axes>"
      ]
     },
     "metadata": {
      "needs_background": "light"
     },
     "output_type": "display_data"
    },
    {
     "data": {
      "image/png": "[encoded data removed]",
      "text/plain": [
       "<Figure size 432x288 with 1 Axes>"
      ]
     },
     "metadata": {
      "needs_background": "light"
     },
     "output_type": "display_data"
    }
   ],
   "source": [
    "#linear\n",
    "plot_acf(remaining)\n",
    "plt.show()\n",
    "plot_pacf(remaining)\n",
    "plt.show()"
   ]
  },
  {
   "cell_type": "markdown",
   "metadata": {},
   "source": [
    "From the above PACF plot, we can see that the highest lag at which the plot extends beyond the statistically significant boundary is at lag 2. This indicates that an AR Model of lag 2 should be sufficient to fit the data. However, we can further verify this by calculating the rmse of the fit"
   ]
  },
  {
   "cell_type": "code",
   "execution_count": 9,
   "metadata": {},
   "outputs": [
    {
     "data": {
      "text/html": [
       "\n",
       "\n",
       "\n",
       "\n",
       "\n",
       "\n",
       "  <div class=\"bk-root\" id=\"2d8f2fdc-18f1-4fb8-a8dc-c9f02edfd1f3\" data-root-id=\"1360\"></div>\n"
      ]
     },
     "metadata": {},
     "output_type": "display_data"
    },
    {
     "data": {
      "application/javascript": [
       "(function(root) {\n",
       "  function embed_document(root) {\n",
       "    \n",
       "  var docs_json = {\"f557c94c-de29-408d-a905-1b2c86d2b75b\":{\"roots\":{\"references\":[{\"attributes\":{\"below\":[{\"id\":\"1371\"}],\"center\":[{\"id\":\"1374\"},{\"id\":\"1378\"},{\"id\":\"1406\"}],\"left\":[{\"id\":\"1375\"}],\"plot_height\":400,\"plot_width\":400,\"renderers\":[{\"id\":\"1396\"}],\"title\":{\"id\":\"1361\"},\"toolbar\":{\"id\":\"1386\"},\"x_range\":{\"id\":\"1363\"},\"x_scale\":{\"id\":\"1367\"},\"y_range\":{\"id\":\"1365\"},\"y_scale\":{\"id\":\"1369\"}},\"id\":\"1360\",\"subtype\":\"Figure\",\"type\":\"Plot\"},{\"attributes\":{\"data_source\":{\"id\":\"1393\"},\"glyph\":{\"id\":\"1394\"},\"hover_glyph\":null,\"muted_glyph\":null,\"nonselection_glyph\":{\"id\":\"1395\"},\"selection_glyph\":null,\"view\":{\"id\":\"1397\"}},\"id\":\"1396\",\"type\":\"GlyphRenderer\"},{\"attributes\":{\"items\":[{\"id\":\"1407\"}]},\"id\":\"1406\",\"type\":\"Legend\"},{\"attributes\":{},\"id\":\"1369\",\"type\":\"LinearScale\"},{\"attributes\":{\"bottom_units\":\"screen\",\"fill_alpha\":0.5,\"fill_color\":\"lightgrey\",\"left_units\":\"screen\",\"level\":\"overlay\",\"line_alpha\":1.0,\"line_color\":\"black\",\"line_dash\":[4,4],\"line_width\":2,\"right_units\":\"screen\",\"top_units\":\"screen\"},\"id\":\"1385\",\"type\":\"BoxAnnotation\"},{\"attributes\":{},\"id\":\"1379\",\"type\":\"PanTool\"},{\"attributes\":{\"axis_label\":\"RMSE\",\"formatter\":{\"id\":\"1401\"},\"ticker\":{\"id\":\"1376\"}},\"id\":\"1375\",\"type\":\"LinearAxis\"},{\"attributes\":{},\"id\":\"1363\",\"type\":\"DataRange1d\"},{\"attributes\":{\"axis\":{\"id\":\"1371\"},\"ticker\":null},\"id\":\"1374\",\"type\":\"Grid\"},{\"attributes\":{\"source\":{\"id\":\"1393\"}},\"id\":\"1397\",\"type\":\"CDSView\"},{\"attributes\":{},\"id\":\"1382\",\"type\":\"SaveTool\"},{\"attributes\":{\"fill_alpha\":{\"value\":0.5},\"fill_color\":{\"value\":\"orange\"},\"line_color\":{\"value\":\"navy\"},\"marker\":{\"value\":\"square\"},\"size\":{\"units\":\"screen\",\"value\":15},\"x\":{\"field\":\"x\"},\"y\":{\"field\":\"y\"}},\"id\":\"1394\",\"type\":\"Scatter\"},{\"attributes\":{},\"id\":\"1399\",\"type\":\"BasicTickFormatter\"},{\"attributes\":{},\"id\":\"1380\",\"type\":\"WheelZoomTool\"},{\"attributes\":{},\"id\":\"1401\",\"type\":\"BasicTickFormatter\"},{\"attributes\":{},\"id\":\"1384\",\"type\":\"HelpTool\"},{\"attributes\":{},\"id\":\"1365\",\"type\":\"DataRange1d\"},{\"attributes\":{\"fill_alpha\":{\"value\":0.1},\"fill_color\":{\"value\":\"orange\"},\"line_alpha\":{\"value\":0.1},\"line_color\":{\"value\":\"navy\"},\"marker\":{\"value\":\"square\"},\"size\":{\"units\":\"screen\",\"value\":15},\"x\":{\"field\":\"x\"},\"y\":{\"field\":\"y\"}},\"id\":\"1395\",\"type\":\"Scatter\"},{\"attributes\":{\"axis_label\":\"n\",\"formatter\":{\"id\":\"1399\"},\"ticker\":{\"id\":\"1372\"}},\"id\":\"1371\",\"type\":\"LinearAxis\"},{\"attributes\":{\"overlay\":{\"id\":\"1385\"}},\"id\":\"1381\",\"type\":\"BoxZoomTool\"},{\"attributes\":{\"data\":{\"x\":{\"__ndarray__\":\"AQAAAAIAAAADAAAABAAAAAUAAAAGAAAABwAAAA==\",\"dtype\":\"int32\",\"order\":\"little\",\"shape\":[7]},\"y\":[0.4245898727866745,0.32656877529273626,0.32770290052402523,0.31615457753801773,0.3068656056592596,0.260342993874571,0.2537636598936937]},\"selected\":{\"id\":\"1405\"},\"selection_policy\":{\"id\":\"1404\"}},\"id\":\"1393\",\"type\":\"ColumnDataSource\"},{\"attributes\":{},\"id\":\"1372\",\"type\":\"BasicTicker\"},{\"attributes\":{},\"id\":\"1383\",\"type\":\"ResetTool\"},{\"attributes\":{\"axis\":{\"id\":\"1375\"},\"dimension\":1,\"ticker\":null},\"id\":\"1378\",\"type\":\"Grid\"},{\"attributes\":{},\"id\":\"1404\",\"type\":\"UnionRenderers\"},{\"attributes\":{},\"id\":\"1405\",\"type\":\"Selection\"},{\"attributes\":{\"label\":{\"value\":\"RMSE\"},\"renderers\":[{\"id\":\"1396\"}]},\"id\":\"1407\",\"type\":\"LegendItem\"},{\"attributes\":{},\"id\":\"1376\",\"type\":\"BasicTicker\"},{\"attributes\":{},\"id\":\"1367\",\"type\":\"LinearScale\"},{\"attributes\":{\"text\":\"RMSE of AR Models of order n\"},\"id\":\"1361\",\"type\":\"Title\"},{\"attributes\":{\"active_drag\":\"auto\",\"active_inspect\":\"auto\",\"active_multi\":null,\"active_scroll\":\"auto\",\"active_tap\":\"auto\",\"tools\":[{\"id\":\"1379\"},{\"id\":\"1380\"},{\"id\":\"1381\"},{\"id\":\"1382\"},{\"id\":\"1383\"},{\"id\":\"1384\"}]},\"id\":\"1386\",\"type\":\"Toolbar\"}],\"root_ids\":[\"1360\"]},\"title\":\"Bokeh Application\",\"version\":\"2.1.1\"}};\n",
       "  var render_items = [{\"docid\":\"f557c94c-de29-408d-a905-1b2c86d2b75b\",\"root_ids\":[\"1360\"],\"roots\":{\"1360\":\"2d8f2fdc-18f1-4fb8-a8dc-c9f02edfd1f3\"}}];\n",
       "  root.Bokeh.embed.embed_items_notebook(docs_json, render_items);\n",
       "\n",
       "  }\n",
       "  if (root.Bokeh !== undefined) {\n",
       "    embed_document(root);\n",
       "  } else {\n",
       "    var attempts = 0;\n",
       "    var timer = setInterval(function(root) {\n",
       "      if (root.Bokeh !== undefined) {\n",
       "        clearInterval(timer);\n",
       "        embed_document(root);\n",
       "      } else {\n",
       "        attempts++;\n",
       "        if (attempts > 100) {\n",
       "          clearInterval(timer);\n",
       "          console.log(\"Bokeh: ERROR: Unable to run BokehJS code because BokehJS library is missing\");\n",
       "        }\n",
       "      }\n",
       "    }, 10, root)\n",
       "  }\n",
       "})(window);"
      ],
      "application/vnd.bokehjs_exec.v0+json": ""
     },
     "metadata": {
      "application/vnd.bokehjs_exec.v0+json": {
       "id": "1360"
      }
     },
     "output_type": "display_data"
    }
   ],
   "source": [
    "rmse_train=[]\n",
    "\n",
    "for n in range(1,8):\n",
    "    model = AutoReg(remaining, lags= n,trend='n')\n",
    "    model_fit = model.fit()\n",
    "    predictions=model_fit.predict()\n",
    "    rmse=(mean_squared_error(remaining[n:], predictions[n:]))**0.5\n",
    "    rmse_train.append(rmse)\n",
    "\n",
    "    \n",
    "    \n",
    "p = figure(plot_width=400, plot_height=400, title = \"RMSE of AR Models of order n\")\n",
    "p.scatter(np.arange(1,8),rmse_train,size = 15, marker =\"square\", line_color=\"navy\",fill_color=\"orange\", fill_alpha =0.5, legend_label =\"RMSE\")\n",
    "p.xaxis.axis_label ='n'\n",
    "p.yaxis.axis_label ='RMSE'\n",
    "p.legend.location='top_right'\n",
    "show(p)\n",
    "\n",
    "\n"
   ]
  },
  {
   "cell_type": "code",
   "execution_count": 10,
   "metadata": {},
   "outputs": [
    {
     "name": "stdout",
     "output_type": "stream",
     "text": [
      "Test RMSE for AR(1):0.3718449350821093\n",
      "Test RMSE for AR(2):0.39328060138088866\n",
      "Test RMSE for AR(3):0.3784955272936298\n",
      "Test RMSE for AR(4):0.44251979719237056\n",
      "Test RMSE for AR(5):0.43456315263365036\n",
      "Test RMSE for AR(6):0.34020763928627823\n",
      "Test RMSE for AR(7):0.31251327073280627\n"
     ]
    },
    {
     "data": {
      "text/html": [
       "\n",
       "\n",
       "\n",
       "\n",
       "\n",
       "\n",
       "  <div class=\"bk-root\" id=\"4ffc5967-7257-4eb7-b063-92c247bb3067\" data-root-id=\"1490\"></div>\n"
      ]
     },
     "metadata": {},
     "output_type": "display_data"
    },
    {
     "data": {
      "application/javascript": [
       "(function(root) {\n",
       "  function embed_document(root) {\n",
       "    \n",
       "  var docs_json = {\"5e714799-8655-44a4-bd91-59ccdfee34f2\":{\"roots\":{\"references\":[{\"attributes\":{\"below\":[{\"id\":\"1501\"}],\"center\":[{\"id\":\"1504\"},{\"id\":\"1508\"},{\"id\":\"1536\"}],\"left\":[{\"id\":\"1505\"}],\"plot_height\":400,\"plot_width\":400,\"renderers\":[{\"id\":\"1526\"}],\"title\":{\"id\":\"1491\"},\"toolbar\":{\"id\":\"1516\"},\"x_range\":{\"id\":\"1493\"},\"x_scale\":{\"id\":\"1497\"},\"y_range\":{\"id\":\"1495\"},\"y_scale\":{\"id\":\"1499\"}},\"id\":\"1490\",\"subtype\":\"Figure\",\"type\":\"Plot\"},{\"attributes\":{},\"id\":\"1514\",\"type\":\"HelpTool\"},{\"attributes\":{\"data_source\":{\"id\":\"1523\"},\"glyph\":{\"id\":\"1524\"},\"hover_glyph\":null,\"muted_glyph\":null,\"nonselection_glyph\":{\"id\":\"1525\"},\"selection_glyph\":null,\"view\":{\"id\":\"1527\"}},\"id\":\"1526\",\"type\":\"GlyphRenderer\"},{\"attributes\":{\"fill_alpha\":{\"value\":0.5},\"fill_color\":{\"value\":\"orange\"},\"line_color\":{\"value\":\"navy\"},\"marker\":{\"value\":\"square\"},\"size\":{\"units\":\"screen\",\"value\":15},\"x\":{\"field\":\"x\"},\"y\":{\"field\":\"y\"}},\"id\":\"1524\",\"type\":\"Scatter\"},{\"attributes\":{\"items\":[{\"id\":\"1537\"}],\"location\":\"bottom_right\"},\"id\":\"1536\",\"type\":\"Legend\"},{\"attributes\":{\"fill_alpha\":{\"value\":0.1},\"fill_color\":{\"value\":\"orange\"},\"line_alpha\":{\"value\":0.1},\"line_color\":{\"value\":\"navy\"},\"marker\":{\"value\":\"square\"},\"size\":{\"units\":\"screen\",\"value\":15},\"x\":{\"field\":\"x\"},\"y\":{\"field\":\"y\"}},\"id\":\"1525\",\"type\":\"Scatter\"},{\"attributes\":{\"data\":{\"x\":{\"__ndarray__\":\"AQAAAAIAAAADAAAABAAAAAUAAAAGAAAABwAAAA==\",\"dtype\":\"int32\",\"order\":\"little\",\"shape\":[7]},\"y\":[0.3718449350821093,0.39328060138088866,0.3784955272936298,0.44251979719237056,0.43456315263365036,0.34020763928627823,0.31251327073280627]},\"selected\":{\"id\":\"1535\"},\"selection_policy\":{\"id\":\"1534\"}},\"id\":\"1523\",\"type\":\"ColumnDataSource\"},{\"attributes\":{\"source\":{\"id\":\"1523\"}},\"id\":\"1527\",\"type\":\"CDSView\"},{\"attributes\":{\"label\":{\"value\":\"RMSE\"},\"renderers\":[{\"id\":\"1526\"}]},\"id\":\"1537\",\"type\":\"LegendItem\"},{\"attributes\":{},\"id\":\"1534\",\"type\":\"UnionRenderers\"},{\"attributes\":{\"overlay\":{\"id\":\"1515\"}},\"id\":\"1511\",\"type\":\"BoxZoomTool\"},{\"attributes\":{},\"id\":\"1535\",\"type\":\"Selection\"},{\"attributes\":{\"axis_label\":\"RMSE\",\"formatter\":{\"id\":\"1531\"},\"ticker\":{\"id\":\"1506\"}},\"id\":\"1505\",\"type\":\"LinearAxis\"},{\"attributes\":{\"axis_label\":\"n\",\"formatter\":{\"id\":\"1529\"},\"ticker\":{\"id\":\"1502\"}},\"id\":\"1501\",\"type\":\"LinearAxis\"},{\"attributes\":{},\"id\":\"1497\",\"type\":\"LinearScale\"},{\"attributes\":{},\"id\":\"1529\",\"type\":\"BasicTickFormatter\"},{\"attributes\":{\"bottom_units\":\"screen\",\"fill_alpha\":0.5,\"fill_color\":\"lightgrey\",\"left_units\":\"screen\",\"level\":\"overlay\",\"line_alpha\":1.0,\"line_color\":\"black\",\"line_dash\":[4,4],\"line_width\":2,\"right_units\":\"screen\",\"top_units\":\"screen\"},\"id\":\"1515\",\"type\":\"BoxAnnotation\"},{\"attributes\":{},\"id\":\"1493\",\"type\":\"DataRange1d\"},{\"attributes\":{},\"id\":\"1531\",\"type\":\"BasicTickFormatter\"},{\"attributes\":{},\"id\":\"1502\",\"type\":\"BasicTicker\"},{\"attributes\":{},\"id\":\"1495\",\"type\":\"DataRange1d\"},{\"attributes\":{\"axis\":{\"id\":\"1501\"},\"ticker\":null},\"id\":\"1504\",\"type\":\"Grid\"},{\"attributes\":{},\"id\":\"1499\",\"type\":\"LinearScale\"},{\"attributes\":{},\"id\":\"1509\",\"type\":\"PanTool\"},{\"attributes\":{},\"id\":\"1506\",\"type\":\"BasicTicker\"},{\"attributes\":{\"axis\":{\"id\":\"1505\"},\"dimension\":1,\"ticker\":null},\"id\":\"1508\",\"type\":\"Grid\"},{\"attributes\":{\"text\":\"RMSE of AR Models of order n\"},\"id\":\"1491\",\"type\":\"Title\"},{\"attributes\":{},\"id\":\"1512\",\"type\":\"SaveTool\"},{\"attributes\":{},\"id\":\"1510\",\"type\":\"WheelZoomTool\"},{\"attributes\":{\"active_drag\":\"auto\",\"active_inspect\":\"auto\",\"active_multi\":null,\"active_scroll\":\"auto\",\"active_tap\":\"auto\",\"tools\":[{\"id\":\"1509\"},{\"id\":\"1510\"},{\"id\":\"1511\"},{\"id\":\"1512\"},{\"id\":\"1513\"},{\"id\":\"1514\"}]},\"id\":\"1516\",\"type\":\"Toolbar\"},{\"attributes\":{},\"id\":\"1513\",\"type\":\"ResetTool\"}],\"root_ids\":[\"1490\"]},\"title\":\"Bokeh Application\",\"version\":\"2.1.1\"}};\n",
       "  var render_items = [{\"docid\":\"5e714799-8655-44a4-bd91-59ccdfee34f2\",\"root_ids\":[\"1490\"],\"roots\":{\"1490\":\"4ffc5967-7257-4eb7-b063-92c247bb3067\"}}];\n",
       "  root.Bokeh.embed.embed_items_notebook(docs_json, render_items);\n",
       "\n",
       "  }\n",
       "  if (root.Bokeh !== undefined) {\n",
       "    embed_document(root);\n",
       "  } else {\n",
       "    var attempts = 0;\n",
       "    var timer = setInterval(function(root) {\n",
       "      if (root.Bokeh !== undefined) {\n",
       "        clearInterval(timer);\n",
       "        embed_document(root);\n",
       "      } else {\n",
       "        attempts++;\n",
       "        if (attempts > 100) {\n",
       "          clearInterval(timer);\n",
       "          console.log(\"Bokeh: ERROR: Unable to run BokehJS code because BokehJS library is missing\");\n",
       "        }\n",
       "      }\n",
       "    }, 10, root)\n",
       "  }\n",
       "})(window);"
      ],
      "application/vnd.bokehjs_exec.v0+json": ""
     },
     "metadata": {
      "application/vnd.bokehjs_exec.v0+json": {
       "id": "1490"
      }
     },
     "output_type": "display_data"
    }
   ],
   "source": [
    "#plot RMSE for a range of lags p \n",
    "n = 2\n",
    "rmse_ar=[]\n",
    "for n in range(1,8):\n",
    "    model = AutoReg(remaining, lags= n)\n",
    "    model_fit = model.fit()\n",
    "    coef = model_fit.params\n",
    "    past = remaining[len(remaining)-n:].values\n",
    "    past = [past[i] for i in range(len(past))]    \n",
    "    test_predictions = list()\n",
    "    for t in range(len(remaining_test.dropna())):\n",
    "        length = len(past)\n",
    "        lag = [past[i] for i in range(length-n,length)]\n",
    "        pred = coef[0]\n",
    "        for d in range(n):\n",
    "            pred += coef[d+1] * lag[n-d-1]\n",
    "        obs = remaining_test.values[t]\n",
    "        test_predictions.append(pred)\n",
    "        past.append(obs)\n",
    "    rmse = (mean_squared_error(remaining_test.dropna(), test_predictions))**0.5\n",
    "    rmse_ar.append(rmse)\n",
    "    print('Test RMSE for AR(' + str(n) +'):' + str(rmse))\n",
    "p = figure(plot_width=400, plot_height=400, title = \"RMSE of AR Models of order n\")\n",
    "p.scatter(np.arange(1,8),rmse_ar,size = 15, marker =\"square\", line_color=\"navy\",fill_color=\"orange\", fill_alpha =0.5, legend_label =\"RMSE\")\n",
    "p.xaxis.axis_label ='n'\n",
    "p.yaxis.axis_label ='RMSE'\n",
    "p.legend.location='bottom_right'\n",
    "show(p)"
   ]
  },
  {
   "cell_type": "markdown",
   "metadata": {},
   "source": [
    "The plot above seems to indicate the AR(1) model predictions have the least rmse. While it would have been ideal to have our previous conclusion of model order 2 validated by the RMSE, we should note this kind of discrepancy between the two diagnostic methods (rmse and PACF) can occur when working with finite data sets. In order to proceed, we choose to work with model order of 2 so we do not miss out on possible lag terms."
   ]
  },
  {
   "cell_type": "code",
   "execution_count": 11,
   "metadata": {},
   "outputs": [],
   "source": [
    "## Building AR (2) Model \n",
    "n = 2\n",
    "AR2_model = AutoReg(remaining, lags= n).fit()# Here we have used the default value for the trend parameter\n",
    "coef = AR2_model.params\n",
    "# walk forward over time steps in test\n",
    "past = remaining[len(remaining)-n:].values\n",
    "past = [past[i] for i in range(len(past))]\n",
    "test_predictions = list()\n",
    "training_predictions = AR2_model.predict(start = train[0], end =train[-1])\n",
    "for t in range(len(remaining_test)):\n",
    "    length = len(past)\n",
    "    lag = [past[i] for i in range(length-n,length)]\n",
    "    pred = coef[0]\n",
    "    for d in range(n):\n",
    "        pred += coef[d+1] * lag[n-d-1]\n",
    "    obs = remaining_test.values[t]\n",
    "    test_predictions.append(pred)\n",
    "    past.append(obs)\n",
    "final_training = (rebuild_diffed(training_predictions,np.log(cpi_train.CPI[0]),x,linear_cpi))\n",
    "final_test = (rebuild_diffed(test_predictions,np.log(cpi_train.iloc[-1].CPI),x,linear_cpi_test))\n",
    "\n"
   ]
  },
  {
   "cell_type": "code",
   "execution_count": 31,
   "metadata": {},
   "outputs": [
    {
     "data": {
      "text/html": [
       "\n",
       "\n",
       "\n",
       "\n",
       "\n",
       "\n",
       "  <div class=\"bk-root\" id=\"b9abdd7d-e678-4b53-a5a5-c44db39ab9ae\" data-root-id=\"3585\"></div>\n"
      ]
     },
     "metadata": {},
     "output_type": "display_data"
    },
    {
     "data": {
      "application/javascript": [
       "(function(root) {\n",
       "  function embed_document(root) {\n",
       "    \n",
       "  var docs_json = {\"acee0b76-43ad-467e-bb51-e71bb47a8509\":{\"roots\":{\"references\":[{\"attributes\":{\"below\":[{\"id\":\"3596\"}],\"center\":[{\"id\":\"3599\"},{\"id\":\"3603\"},{\"id\":\"3631\"}],\"left\":[{\"id\":\"3600\"}],\"plot_height\":400,\"plot_width\":400,\"renderers\":[{\"id\":\"3621\"},{\"id\":\"3636\"}],\"title\":{\"id\":\"3586\"},\"toolbar\":{\"id\":\"3611\"},\"x_range\":{\"id\":\"3588\"},\"x_scale\":{\"id\":\"3592\"},\"y_range\":{\"id\":\"3590\"},\"y_scale\":{\"id\":\"3594\"}},\"id\":\"3585\",\"subtype\":\"Figure\",\"type\":\"Plot\"},{\"attributes\":{},\"id\":\"3604\",\"type\":\"PanTool\"},{\"attributes\":{},\"id\":\"3590\",\"type\":\"DataRange1d\"},{\"attributes\":{\"axis_label\":\"t\",\"formatter\":{\"id\":\"3624\"},\"ticker\":{\"id\":\"3597\"}},\"id\":\"3596\",\"type\":\"LinearAxis\"},{\"attributes\":{},\"id\":\"3588\",\"type\":\"DataRange1d\"},{\"attributes\":{},\"id\":\"3597\",\"type\":\"BasicTicker\"},{\"attributes\":{},\"id\":\"3594\",\"type\":\"LinearScale\"},{\"attributes\":{\"data\":{\"x\":[0,1,2,3,4,5,6,7,8,9,10,11,12,13,14,15,16,17,18,19,20,21,22,23,24,25,26,27,28,29,30,31,32,33,34,35,36,37,38,39,40,41,42,43,44,45,46,47,48,49,50,51,52,53,54,55,56,57,58,59,60,61],\"y\":{\"__ndarray__\":\"AAAAAAAA+H8AAAAAAAD4f20xsZhWBVlAU3vUk6PTWEBKC9sirtdYQB/Jl9r0iFhA3hYDyc8MWEAD2caGSfpXQEELIGH0QVhA0nGWmYheWEAp3nleWGRYQKKJj9UGc1hAy8jnQ8SEWED9Au8kdcRYQN0KYwvVnFhAPowXBfq2WEAqL9vx1rZYQND1WnPuvlhA6EB2acLDWEAmxdkLxbRYQJObJhZk2VhAIPB9vyjSWEC8AO2V6fVYQDF1r0fd+FhAHeSdIqz7WED2kwDj7/JYQDVGPlEp+lhAydIBHzwHWUANVb8NnQlZQGkPYLtOFFlAP5A958cVWUCUutlfDCVZQC26tffCSVlA5f0UlLtlWUCWrhGljapZQIwYXe3kwllAjLRjYajXWUBxV3ip/r9ZQAxXFjehzVlAJTGdJMfkWUBxGc3vjupZQFyI44U71VlAQMFY+jzXWUB+PsqLvMZZQH2oTjv691lA1594qFURWkAcWAyw6kZaQD0Nl2wJSVpAHHurkvU1WkDt+OJ3PS9aQCDvTvggKFpALA4HuG5hWkCHsTxEkndaQC8/ZKJBZlpAnATteFs/WkBv8SQ1gjpaQGpvZe6NYFpApgxN4CmhWkDiKl7FhJ1aQJkxzEncjFpALPDk0seiWkCenpb3IbRaQA==\",\"dtype\":\"float64\",\"order\":\"little\",\"shape\":[62]}},\"selected\":{\"id\":\"3647\"},\"selection_policy\":{\"id\":\"3646\"}},\"id\":\"3633\",\"type\":\"ColumnDataSource\"},{\"attributes\":{},\"id\":\"3592\",\"type\":\"LinearScale\"},{\"attributes\":{},\"id\":\"3646\",\"type\":\"UnionRenderers\"},{\"attributes\":{\"axis\":{\"id\":\"3596\"},\"ticker\":null},\"id\":\"3599\",\"type\":\"Grid\"},{\"attributes\":{\"axis_label\":\"CPI\",\"formatter\":{\"id\":\"3626\"},\"ticker\":{\"id\":\"3601\"}},\"id\":\"3600\",\"type\":\"LinearAxis\"},{\"attributes\":{},\"id\":\"3647\",\"type\":\"Selection\"},{\"attributes\":{},\"id\":\"3601\",\"type\":\"BasicTicker\"},{\"attributes\":{\"axis\":{\"id\":\"3600\"},\"dimension\":1,\"ticker\":null},\"id\":\"3603\",\"type\":\"Grid\"},{\"attributes\":{},\"id\":\"3605\",\"type\":\"WheelZoomTool\"},{\"attributes\":{\"active_drag\":\"auto\",\"active_inspect\":\"auto\",\"active_multi\":null,\"active_scroll\":\"auto\",\"active_tap\":\"auto\",\"tools\":[{\"id\":\"3604\"},{\"id\":\"3605\"},{\"id\":\"3606\"},{\"id\":\"3607\"},{\"id\":\"3608\"},{\"id\":\"3609\"}]},\"id\":\"3611\",\"type\":\"Toolbar\"},{\"attributes\":{},\"id\":\"3609\",\"type\":\"HelpTool\"},{\"attributes\":{\"overlay\":{\"id\":\"3610\"}},\"id\":\"3606\",\"type\":\"BoxZoomTool\"},{\"attributes\":{},\"id\":\"3608\",\"type\":\"ResetTool\"},{\"attributes\":{},\"id\":\"3607\",\"type\":\"SaveTool\"},{\"attributes\":{\"label\":{\"value\":\"Original Data\"},\"renderers\":[{\"id\":\"3621\"}]},\"id\":\"3632\",\"type\":\"LegendItem\"},{\"attributes\":{\"line_alpha\":0.1,\"line_color\":\"orange\",\"line_width\":2.5,\"x\":{\"field\":\"x\"},\"y\":{\"field\":\"y\"}},\"id\":\"3635\",\"type\":\"Line\"},{\"attributes\":{\"line_color\":\"navy\",\"line_width\":2,\"x\":{\"field\":\"x\"},\"y\":{\"field\":\"y\"}},\"id\":\"3619\",\"type\":\"Line\"},{\"attributes\":{\"source\":{\"id\":\"3633\"}},\"id\":\"3637\",\"type\":\"CDSView\"},{\"attributes\":{\"source\":{\"id\":\"3618\"}},\"id\":\"3622\",\"type\":\"CDSView\"},{\"attributes\":{\"line_alpha\":0.1,\"line_color\":\"navy\",\"line_width\":2,\"x\":{\"field\":\"x\"},\"y\":{\"field\":\"y\"}},\"id\":\"3620\",\"type\":\"Line\"},{\"attributes\":{\"data_source\":{\"id\":\"3618\"},\"glyph\":{\"id\":\"3619\"},\"hover_glyph\":null,\"muted_glyph\":null,\"nonselection_glyph\":{\"id\":\"3620\"},\"selection_glyph\":null,\"view\":{\"id\":\"3622\"}},\"id\":\"3621\",\"type\":\"GlyphRenderer\"},{\"attributes\":{\"items\":[{\"id\":\"3632\"},{\"id\":\"3648\"}],\"location\":\"bottom_right\"},\"id\":\"3631\",\"type\":\"Legend\"},{\"attributes\":{},\"id\":\"3629\",\"type\":\"UnionRenderers\"},{\"attributes\":{\"line_color\":\"orange\",\"line_width\":2.5,\"x\":{\"field\":\"x\"},\"y\":{\"field\":\"y\"}},\"id\":\"3634\",\"type\":\"Line\"},{\"attributes\":{\"data\":{\"x\":[0,1,2,3,4,5,6,7,8,9,10,11,12,13,14,15,16,17,18,19,20,21,22,23,24,25,26,27,28,29,30,31,32,33,34,35,36,37,38,39,40,41,42,43,44,45,46,47,48,49,50,51,52,53,54,55,56,57,58,59,60,61],\"y\":{\"__ndarray__\":\"AAAAAAAAWUBLyAc9myFZQKvP1VbsB1lAe4hGdxD/WEActi3KbL5YQKWg20saRVhAl6jeGtgEWEBLyAc9mx9YQE6c3O9QPlhA1ouhnGhNWEDw+WGE8FxYQNBE2PD0blhAcVrwoq+kWEAYQznRrppYQOl942vPqFhAWwhyUMKsWEB00vvG17JYQOi8xi5Rt1hA48KBkCysWEDkvWplwsFYQEX11sBWw1hArHMMyF7dWEA/jBAebehYQHYyOEpe7VhAd6G5TiPnWECRm+EGfOhYQMjqVs9J8VhA0GG+vAD1WEAFhqxu9fxYQPLNNjem/1hAe4MvTKYKWUB3vp8aLylZQMX+snvySFlA8tJNYhCIWUBSSZ2AJrJZQHBfB84Z0VlAbqMBvAXKWUAdWmQ7389ZQBKlvcEX4llAqmBUUifsWUBYObTIdt5ZQCL99nXg2FlAat5xio7IWUCamZmZmeVZQMKGp1fKAlpA6Nms+lw1WkASg8DKoUlaQC9uowG8QVpAzojS3uA3WkAU0ETY8CxaQFioNc07UlpAo5I6AU1wWkCLbOf7qW1aQEvIBz2bTVpADwu1pnk7WkDIBz2bVU9aQNEi2/l+hlpAFR3J5T+YWkATYcPTK5FaQOF6FK5HnVpAEoPAyqGtWkBqTfOOU7BaQA==\",\"dtype\":\"float64\",\"order\":\"little\",\"shape\":[62]}},\"selected\":{\"id\":\"3630\"},\"selection_policy\":{\"id\":\"3629\"}},\"id\":\"3618\",\"type\":\"ColumnDataSource\"},{\"attributes\":{},\"id\":\"3630\",\"type\":\"Selection\"},{\"attributes\":{\"label\":{\"value\":\"Linear Trend\"},\"renderers\":[{\"id\":\"3636\"}]},\"id\":\"3648\",\"type\":\"LegendItem\"},{\"attributes\":{\"data_source\":{\"id\":\"3633\"},\"glyph\":{\"id\":\"3634\"},\"hover_glyph\":null,\"muted_glyph\":null,\"nonselection_glyph\":{\"id\":\"3635\"},\"selection_glyph\":null,\"view\":{\"id\":\"3637\"}},\"id\":\"3636\",\"type\":\"GlyphRenderer\"},{\"attributes\":{\"text\":\"CPI Time Series\"},\"id\":\"3586\",\"type\":\"Title\"},{\"attributes\":{},\"id\":\"3624\",\"type\":\"BasicTickFormatter\"},{\"attributes\":{\"bottom_units\":\"screen\",\"fill_alpha\":0.5,\"fill_color\":\"lightgrey\",\"left_units\":\"screen\",\"level\":\"overlay\",\"line_alpha\":1.0,\"line_color\":\"black\",\"line_dash\":[4,4],\"line_width\":2,\"right_units\":\"screen\",\"top_units\":\"screen\"},\"id\":\"3610\",\"type\":\"BoxAnnotation\"},{\"attributes\":{},\"id\":\"3626\",\"type\":\"BasicTickFormatter\"}],\"root_ids\":[\"3585\"]},\"title\":\"Bokeh Application\",\"version\":\"2.1.1\"}};\n",
       "  var render_items = [{\"docid\":\"acee0b76-43ad-467e-bb51-e71bb47a8509\",\"root_ids\":[\"3585\"],\"roots\":{\"3585\":\"b9abdd7d-e678-4b53-a5a5-c44db39ab9ae\"}}];\n",
       "  root.Bokeh.embed.embed_items_notebook(docs_json, render_items);\n",
       "\n",
       "  }\n",
       "  if (root.Bokeh !== undefined) {\n",
       "    embed_document(root);\n",
       "  } else {\n",
       "    var attempts = 0;\n",
       "    var timer = setInterval(function(root) {\n",
       "      if (root.Bokeh !== undefined) {\n",
       "        clearInterval(timer);\n",
       "        embed_document(root);\n",
       "      } else {\n",
       "        attempts++;\n",
       "        if (attempts > 100) {\n",
       "          clearInterval(timer);\n",
       "          console.log(\"Bokeh: ERROR: Unable to run BokehJS code because BokehJS library is missing\");\n",
       "        }\n",
       "      }\n",
       "    }, 10, root)\n",
       "  }\n",
       "})(window);"
      ],
      "application/vnd.bokehjs_exec.v0+json": ""
     },
     "metadata": {
      "application/vnd.bokehjs_exec.v0+json": {
       "id": "3585"
      }
     },
     "output_type": "display_data"
    }
   ],
   "source": [
    "p = figure(plot_width=400, plot_height=400, title = \"CPI Time Series\")\n",
    "p.line(cpi_train.index,cpi_train.CPI, line_color=\"navy\", line_width=2, legend_label =\"Original Data\")\n",
    "p.line(cpi_train.index,final_training, line_color=\"orange\",line_width=2.5,legend_label =\"Linear Trend\")\n",
    "\n",
    "p.xaxis.axis_label ='t'\n",
    "p.yaxis.axis_label ='CPI'\n",
    "p.legend.location='bottom_right'\n",
    "show(p)"
   ]
  },
  {
   "cell_type": "markdown",
   "metadata": {},
   "source": [
    "We will skip the final model predictions plot until after the written report is due. "
   ]
  },
  {
   "cell_type": "markdown",
   "metadata": {},
   "source": [
    "We see that the AR(2) Model does predict pretty well and the mean squared prediction error is small. We can also reaffirm this conclusion by plotting the residuals after the AR(2) predictions are subtracted from the detrended data "
   ]
  },
  {
   "cell_type": "code",
   "execution_count": 12,
   "metadata": {},
   "outputs": [
    {
     "data": {
      "image/png": "[encoded data removed]",
      "text/plain": [
       "<Figure size 432x288 with 1 Axes>"
      ]
     },
     "metadata": {
      "needs_background": "light"
     },
     "output_type": "display_data"
    }
   ],
   "source": [
    "residuals = (remaining - training_predictions)[2:]\n",
    "plot_pacf(residuals)\n",
    "plt.show()"
   ]
  },
  {
   "cell_type": "code",
   "execution_count": 13,
   "metadata": {},
   "outputs": [
    {
     "name": "stdout",
     "output_type": "stream",
     "text": [
      "The rmse of the final fit is 0.39328060138088855\n"
     ]
    }
   ],
   "source": [
    "rmse = mean_squared_error(cpi_test.dropna().CPI,final_test[:-2])**0.5\n",
    "print(\"The rmse of the final fit is \" + str(rmse))"
   ]
  },
  {
   "cell_type": "markdown",
   "metadata": {},
   "source": [
    "We see that the fit has a low rmse, considering that the order of the data is $10^2$."
   ]
  },
  {
   "cell_type": "markdown",
   "metadata": {},
   "source": [
    "**Inflation Rate**\n",
    "In the next part of the question, since we will be working with external regressors that have different units(such as BER), we must first convert all the data into an equivalent form, i.e monthly inflation rates. We will first do so for CPI from which inflation rates can be simply calculated as\n",
    "> $IR_t = \\frac{CPI_t -CPI_{t-1}}{CPI_{t-1}}$"
   ]
  },
  {
   "cell_type": "code",
   "execution_count": 14,
   "metadata": {},
   "outputs": [],
   "source": [
    "def calc_inflation_rate(data):\n",
    "    ir = []\n",
    "    for i in range(1,len(data)):\n",
    "        ir_temp = (data[i]-data[i-1])/data[i-1] *100      \n",
    "        ir.append(ir_temp)\n",
    "#         print(i)\n",
    "    return ir"
   ]
  },
  {
   "cell_type": "code",
   "execution_count": 34,
   "metadata": {},
   "outputs": [
    {
     "name": "stdout",
     "output_type": "stream",
     "text": [
      "0           NaN\n",
      "1      0.523726\n",
      "2     -0.400003\n",
      "3     -0.138344\n",
      "4     -1.015274\n",
      "         ...   \n",
      "132    0.019906\n",
      "133    0.166955\n",
      "134   -0.005117\n",
      "135         NaN\n",
      "136         NaN\n",
      "Name: diff_log, Length: 137, dtype: float64\n",
      "The inflation rate from CPI for the month of February in 2013 was 0.295722930 %\n",
      "The inflation rate from CPI for the month of February in 2013 was 0.295286530 %\n"
     ]
    }
   ],
   "source": [
    "#calculate monthly inflation from CPI\n",
    "val = calc_inflation_rate(cpi.CPI.values)\n",
    "val2=np.log(cpi.CPI).diff().values*100\n",
    "\n",
    "cpi.loc[1:, 'IR_cpi'] = val\n",
    "cpi['diff_log'] = val2\n",
    "print(cpi['diff_log'])\n",
    "cpi_ir_train = (cpi[cpi.YearMonth<'2013-09'].copy())\n",
    "cpi_ir_test = (cpi[cpi.YearMonth >='2013-09'].copy())\n",
    "print(\"The inflation rate from CPI for the month of February in 2013 was %0.9f\" % cpi[cpi.YearMonth =='2013-02']['IR_cpi'] + \" %\")\n",
    "print(\"The inflation rate from CPI for the month of February in 2013 was %0.9f\" % cpi[cpi.YearMonth =='2013-02']['diff_log'] + \" %\")\n"
   ]
  },
  {
   "cell_type": "code",
   "execution_count": 30,
   "metadata": {},
   "outputs": [
    {
     "data": {
      "text/html": [
       "\n",
       "\n",
       "\n",
       "\n",
       "\n",
       "\n",
       "  <div class=\"bk-root\" id=\"4417a0af-61bc-4a63-9a04-4a202b81b598\" data-root-id=\"3363\"></div>\n"
      ]
     },
     "metadata": {},
     "output_type": "display_data"
    },
    {
     "data": {
      "application/javascript": [
       "(function(root) {\n",
       "  function embed_document(root) {\n",
       "    \n",
       "  var docs_json = {\"2be69eeb-c939-4f25-a8d6-d44d00e53f7e\":{\"roots\":{\"references\":[{\"attributes\":{\"below\":[{\"id\":\"3374\"}],\"center\":[{\"id\":\"3377\"},{\"id\":\"3381\"}],\"left\":[{\"id\":\"3378\"}],\"plot_height\":400,\"plot_width\":400,\"renderers\":[{\"id\":\"3399\"}],\"title\":{\"id\":\"3364\"},\"toolbar\":{\"id\":\"3389\"},\"x_range\":{\"id\":\"3366\"},\"x_scale\":{\"id\":\"3370\"},\"y_range\":{\"id\":\"3368\"},\"y_scale\":{\"id\":\"3372\"}},\"id\":\"3363\",\"subtype\":\"Figure\",\"type\":\"Plot\"},{\"attributes\":{\"source\":{\"id\":\"3396\"}},\"id\":\"3400\",\"type\":\"CDSView\"},{\"attributes\":{\"axis_label\":\"Diff Ratio CPI\",\"formatter\":{\"id\":\"3532\"},\"ticker\":{\"id\":\"3379\"}},\"id\":\"3378\",\"type\":\"LinearAxis\"},{\"attributes\":{\"data\":{\"x\":[0,1,2,3,4,5,6,7,8,9,10,11,12,13,14,15,16,17,18,19,20,21,22,23,24,25,26,27,28,29,30,31,32,33,34,35,36,37,38,39,40,41,42,43,44,45,46,47,48,49,50,51,52,53,54,55,56,57,58,59,60,61,62,63,64,65,66,67,68,69,70,71,72,73,74,75,76,77,78,79,80,81,82,83,84,85,86,87,88,89,90,91,92,93,94,95,96,97,98,99,100,101,102,103,104,105,106,107,108,109,110,111,112,113,114,115,116,117,118,119,120,121,122,123,124,125,126,127,128,129,130,131,132,133,134,135,136],\"y\":{\"__ndarray__\":\"AAAAAAAA+H8Az6lbXcLgP8CX3Qilmdm/gIckx0W1wb+A3d0mkD7wvwA+Ybga8f6/cC7sG1Gi8L9ASzpfgMvbP0ABmagqv98/gHFk/9MWzz+Ab5+o4enPP8BC5mcwdtI/YCbYysVe6z+AdR/t5E/EvwB1pOtTrcw/AKhaOyMCsD8A6pIE6aS4PwBCog7kG7I/gNnHYNyPxr+AreVrn9XVPwAgF7tvhJk/wDCNSwU62j+AEgPrhzbGPwBu35Zu1bM/AA7Cxa4Bub8A6NRKb6CVP4Aw26cRqcE/AIpwtrrGrT8ATGTbudu/PwA09kG6h6U/AGBWIaP7xT+AjiRoS2neP8AWz2OIe98/YNtBDDYN7z9gMLITAYrkP0DtM+qkCt4/AFlXNbhuu78Ak9YSIKy2P8B1p9qRn9E/gKnQbJdrwz8A+tfzoW7KvwBywFdvm7W/gLQYGPObz7+Airv/VBncP4CRY2cbHtw/QFfOfzo26D+AtTKGGU7TPwCSjXWID76/gCUaX0LIwr+AXfH2MODEv8COrfp1wuE/wMls+pF+3D8AwvDsTvOjvwDyy1SlZd6/wON6r5NB0b9ACM94+eXSP2BMu9vTGeo/ALlQZPi10D8A2yS+MKG6vwCE0C7TxMY/gLvLlPWuzj8ADmlq+zGkPwDEQuOfxb4/AHAVFhLBvT+A6zgEKoHQv4BD50SxK8q/APj/BG1/gb+AxAEtjsPXPwBOAKdOn9c/4MaK3c6K5D+AFQ9uYxDVP0BcwxZLUNY/gFkmtIXRxz8AFktWJfujv4BW2xraZsW/AEAOsutBsz+Ap0PScBnQvwCxq4lQU+G/ALWxnOox4r/AiSBecDDevwAg8ONIu9s/gMnBvKn94j8AHmjyqf/JP6AQj4qpROA/QGhk5kRh1j8AcGAVhWp7PwDOrtkXJcK/AOEWxajvw78AClFucgenvwB9Q6INC8u/AL6OjCzp1b8AXCH5uCTFPwB3m4znDrU/wKrc0r1/2z+A12bF/kXeP0CAdlGB19k/QJ3etZr81D8ALqiumrzEvwBkur5YgLc/AB0Zy7+7zj8AJ6naBui/P4Bh9PXe68O/AEQHsCPBoD+gu5QCJpjiP8BCDfG3GdQ/AMgbT1TNtD8AOtR6TfPSPwBnE5RD3rU/AHf57b84tz8ANWBrCKmxv8AR5rGEIdM/QKQn5BPm4D8Aq6aKDCqwvwBgWmv6nmM/AMhtPg0frr8Ayw2T92LhP4BDiIsv9dw/ADdSvQjpzD+AIFSCJWPZP8CQQMXRj9o/AGwl88tjxD8AII7J3GJ7PwBcdxG/caw/AHZBT9q6vT8ApM1IWJrGPwAEalD+eNW/QOENdH551L+AvcJLZ2HIPwAPsMc3/to/QG1Nf3gA4j+Aj13Ys+bgP4DwS1nEN8s/AECqj1pilD+A1mkszF7FPwDAiNTD9XS/AAAAAAAA+H8AAAAAAAD4fw==\",\"dtype\":\"float64\",\"order\":\"little\",\"shape\":[137]}},\"selected\":{\"id\":\"3536\"},\"selection_policy\":{\"id\":\"3535\"}},\"id\":\"3396\",\"type\":\"ColumnDataSource\"},{\"attributes\":{},\"id\":\"3386\",\"type\":\"ResetTool\"},{\"attributes\":{\"line_color\":\"navy\",\"line_width\":2.5,\"x\":{\"field\":\"x\"},\"y\":{\"field\":\"y\"}},\"id\":\"3397\",\"type\":\"Line\"},{\"attributes\":{\"bottom_units\":\"screen\",\"fill_alpha\":0.5,\"fill_color\":\"lightgrey\",\"left_units\":\"screen\",\"level\":\"overlay\",\"line_alpha\":1.0,\"line_color\":\"black\",\"line_dash\":[4,4],\"line_width\":2,\"right_units\":\"screen\",\"top_units\":\"screen\"},\"id\":\"3388\",\"type\":\"BoxAnnotation\"},{\"attributes\":{},\"id\":\"3387\",\"type\":\"HelpTool\"},{\"attributes\":{},\"id\":\"3530\",\"type\":\"BasicTickFormatter\"},{\"attributes\":{\"axis\":{\"id\":\"3378\"},\"dimension\":1,\"ticker\":null},\"id\":\"3381\",\"type\":\"Grid\"},{\"attributes\":{\"active_drag\":\"auto\",\"active_inspect\":\"auto\",\"active_multi\":null,\"active_scroll\":\"auto\",\"active_tap\":\"auto\",\"tools\":[{\"id\":\"3382\"},{\"id\":\"3383\"},{\"id\":\"3384\"},{\"id\":\"3385\"},{\"id\":\"3386\"},{\"id\":\"3387\"}]},\"id\":\"3389\",\"type\":\"Toolbar\"},{\"attributes\":{},\"id\":\"3372\",\"type\":\"LinearScale\"},{\"attributes\":{\"line_alpha\":0.1,\"line_color\":\"navy\",\"line_width\":2.5,\"x\":{\"field\":\"x\"},\"y\":{\"field\":\"y\"}},\"id\":\"3398\",\"type\":\"Line\"},{\"attributes\":{\"data_source\":{\"id\":\"3396\"},\"glyph\":{\"id\":\"3397\"},\"hover_glyph\":null,\"muted_glyph\":null,\"nonselection_glyph\":{\"id\":\"3398\"},\"selection_glyph\":null,\"view\":{\"id\":\"3400\"}},\"id\":\"3399\",\"type\":\"GlyphRenderer\"},{\"attributes\":{},\"id\":\"3385\",\"type\":\"SaveTool\"},{\"attributes\":{\"text\":\"Monthly IR from CPI (in %)\"},\"id\":\"3364\",\"type\":\"Title\"},{\"attributes\":{},\"id\":\"3382\",\"type\":\"PanTool\"},{\"attributes\":{},\"id\":\"3383\",\"type\":\"WheelZoomTool\"},{\"attributes\":{\"overlay\":{\"id\":\"3388\"}},\"id\":\"3384\",\"type\":\"BoxZoomTool\"},{\"attributes\":{},\"id\":\"3366\",\"type\":\"DataRange1d\"},{\"attributes\":{},\"id\":\"3536\",\"type\":\"Selection\"},{\"attributes\":{},\"id\":\"3370\",\"type\":\"LinearScale\"},{\"attributes\":{},\"id\":\"3379\",\"type\":\"BasicTicker\"},{\"attributes\":{},\"id\":\"3368\",\"type\":\"DataRange1d\"},{\"attributes\":{},\"id\":\"3532\",\"type\":\"BasicTickFormatter\"},{\"attributes\":{},\"id\":\"3535\",\"type\":\"UnionRenderers\"},{\"attributes\":{\"axis\":{\"id\":\"3374\"},\"ticker\":null},\"id\":\"3377\",\"type\":\"Grid\"},{\"attributes\":{\"axis_label\":\"t\",\"formatter\":{\"id\":\"3530\"},\"ticker\":{\"id\":\"3375\"}},\"id\":\"3374\",\"type\":\"LinearAxis\"},{\"attributes\":{},\"id\":\"3375\",\"type\":\"BasicTicker\"}],\"root_ids\":[\"3363\"]},\"title\":\"Bokeh Application\",\"version\":\"2.1.1\"}};\n",
       "  var render_items = [{\"docid\":\"2be69eeb-c939-4f25-a8d6-d44d00e53f7e\",\"root_ids\":[\"3363\"],\"roots\":{\"3363\":\"4417a0af-61bc-4a63-9a04-4a202b81b598\"}}];\n",
       "  root.Bokeh.embed.embed_items_notebook(docs_json, render_items);\n",
       "\n",
       "  }\n",
       "  if (root.Bokeh !== undefined) {\n",
       "    embed_document(root);\n",
       "  } else {\n",
       "    var attempts = 0;\n",
       "    var timer = setInterval(function(root) {\n",
       "      if (root.Bokeh !== undefined) {\n",
       "        clearInterval(timer);\n",
       "        embed_document(root);\n",
       "      } else {\n",
       "        attempts++;\n",
       "        if (attempts > 100) {\n",
       "          clearInterval(timer);\n",
       "          console.log(\"Bokeh: ERROR: Unable to run BokehJS code because BokehJS library is missing\");\n",
       "        }\n",
       "      }\n",
       "    }, 10, root)\n",
       "  }\n",
       "})(window);"
      ],
      "application/vnd.bokehjs_exec.v0+json": ""
     },
     "metadata": {
      "application/vnd.bokehjs_exec.v0+json": {
       "id": "3363"
      }
     },
     "output_type": "display_data"
    }
   ],
   "source": [
    "p = figure(plot_width=400, plot_height=400, title = \"Monthly IR from CPI (in %)\")\n",
    "p.line(cpi['diff_log'].index,cpi['diff_log'],line_color=\"navy\",line_width =2.5)\n",
    "# p.line(cpi['IR_cpi'].index,cpi['IR_cpi'],line_color=\"orange\",line_width =2.5)\n",
    "# p.line(cpi_diff.index,cpi_diff,line_color=\"green\",line_width =2.5)\n",
    "p.xaxis.axis_label ='t'\n",
    "p.yaxis.axis_label ='Diff Ratio CPI'\n",
    "show(p)\n",
    "\n"
   ]
  },
  {
   "cell_type": "markdown",
   "metadata": {},
   "source": [
    "As PriceStats varies daily, the \"monthly\" inflation rate can be calculated in different ways. First, we calculate the average PriceStat of the month to represent the monthly PriceStats value and then proceed to calculate monthly inflation rate using this monthly PriceStats value. To convert it to inflation rate, we use the same formula that we did for CPI\n",
    "> $PS_t = \\frac{PS_t -PS_{t-1}}{PS_{t-1}}$"
   ]
  },
  {
   "cell_type": "code",
   "execution_count": 18,
   "metadata": {},
   "outputs": [
    {
     "name": "stdout",
     "output_type": "stream",
     "text": [
      "The inflation rate from Avg PriceStats for the month of February in 2013 was 1.03587\n"
     ]
    }
   ],
   "source": [
    "ps_monthly = pd.DataFrame(columns =['YearMonth','PS'])\n",
    "ps_monthly['PS'] =ps_cpi.groupby('YearMonth').PriceStats.mean().values\n",
    "ps_monthly['YearMonth'] = cpi.YearMonth\n",
    "val = calc_inflation_rate(ps_monthly.PS.values)\n",
    "ps_monthly.loc[1:, 'IR_ps'] = val\n",
    "\n",
    "ps_ir_train = (ps_monthly[ps_monthly.YearMonth<'2013-09'].copy())\n",
    "ps_ir_test = (ps_monthly[ps_monthly.YearMonth >='2013-09'].copy())\n",
    "\n",
    "print(\"The inflation rate from Avg PriceStats for the month of February in 2013 was %0.5f\" % ps_monthly[ps_monthly.YearMonth == '2013-02'].IR_ps)\n"
   ]
  },
  {
   "cell_type": "code",
   "execution_count": 19,
   "metadata": {},
   "outputs": [
    {
     "data": {
      "text/html": [
       "\n",
       "\n",
       "\n",
       "\n",
       "\n",
       "\n",
       "  <div class=\"bk-root\" id=\"fe22b1dd-7b55-4b8c-9da2-2e8ea06df12f\" data-root-id=\"1816\"></div>\n"
      ]
     },
     "metadata": {},
     "output_type": "display_data"
    },
    {
     "data": {
      "application/javascript": [
       "(function(root) {\n",
       "  function embed_document(root) {\n",
       "    \n",
       "  var docs_json = {\"1ad5093c-da5b-4c0d-ab09-6dc094bf8463\":{\"roots\":{\"references\":[{\"attributes\":{\"below\":[{\"id\":\"1827\"}],\"center\":[{\"id\":\"1830\"},{\"id\":\"1834\"},{\"id\":\"1862\"}],\"left\":[{\"id\":\"1831\"}],\"plot_height\":400,\"plot_width\":400,\"renderers\":[{\"id\":\"1852\"},{\"id\":\"1867\"}],\"title\":{\"id\":\"1817\"},\"toolbar\":{\"id\":\"1842\"},\"x_range\":{\"id\":\"1819\"},\"x_scale\":{\"id\":\"1823\"},\"y_range\":{\"id\":\"1821\"},\"y_scale\":{\"id\":\"1825\"}},\"id\":\"1816\",\"subtype\":\"Figure\",\"type\":\"Plot\"},{\"attributes\":{\"data\":{\"x\":[0,1,2,3,4,5,6,7,8,9,10,11,12,13,14,15,16,17,18,19,20,21,22,23,24,25,26,27,28,29,30,31,32,33,34,35,36,37,38,39,40,41,42,43,44,45,46,47,48,49,50,51,52,53,54,55,56,57,58,59,60,61,62,63,64,65,66,67,68,69,70,71,72,73,74,75,76,77,78,79,80,81,82,83,84,85,86,87,88,89,90,91,92,93,94,95,96,97,98,99,100,101,102,103,104,105,106,107,108,109,110,111,112,113,114,115,116,117,118,119,120,121,122,123,124,125,126,127,128,129,130,131,132,133,134,135,136],\"y\":{\"__ndarray__\":\"8DhFR/L6WEDfn0dgiu5YQDI19hJQ8VhAwuCD7bjAWEAjb5NkME5YQDwQDEHLDVhAWNBb2AogWEBoUdwyYklYQJ5EbTHQVlhA9NVVgVpnWEB/g53+I39YQO8w7Zv7kFhAA+dJxqylWEBGomB47a1YQAtlziArsVhAhDDYyni0WEA0I5anhsZYQGr/k3FUvVhATi4qcjrbWECRsZnB29RYQLfoQ1o2/FhAFu5v4ykcWUAGvUJLQDZZQEvAwlxlHllAhtmfotQ1WUCfAH/M5TxZQNFcp5GWQFlAdvPaS11dWUAHbPRXtXNZQGsJ+aBnf1lA0oYcv4CQWUCivqp2DKFZQFuDRX05t1lAPCZ4ME/mWUA6c8HhXgVaQHub/uxH7FlAq1v6xHzzWUCj+kkvi/pZQCPzyB8MCFpAL8WMPh75WUDXf4rQ9fpZQGhHXMh86FlA6yJjn28AWkDtTtxaWyhaQAUEMJK4ZVpAHD1+b9N/WkAh5a2Zv21aQKbH7236U1pAXLJLEQ1NWkA7sYYy8INaQGAn4pooqVpAmqGXlI6rWkCuV2s7gI5aQIwhezc3e1pA9MuMoEeBWkB1JJf/kMdaQEh438EB3VpA1g/EjAPWWkBC0c0JBuFaQCxFBWGB5lpAu919VvLpWkD5qGWu3/FaQA4tsp3v91pAYaHWNO/sWkA0366E2+laQCLwnu1A7lpAjtylOZv8WkAzav+FIghbQP8UpW7WGVtA+/IC7KMtW0BXp6mozT1bQD6+l9VOR1tAp5jRxyNMW0C48ZagWk9bQPPVexfcVFtAVfR8oV5OW0BmuuoUvkFbQNmjIVLIIVtAvs5vrvLzWkAtRAVKyQRbQBKQGFNBKFtA8oj3CY0zW0D7tyRrnVZbQFK5Y8QYaVtAA6DuzLZvW0DHMYd4Am9bQAuVkvjvYFtAKbFgtntjW0ALou4DkFpbQMrfWfLGUVtArmd3PWxEW0A41IukdjBbQCj3cu1DTVtAndoG23VwW0CgheJ4rZFbQNE0TjCJqFtAhHhRNl+mW0BXOQO0uKdbQBBwCFVqtFtAraKYILPBW0DD8BExJcBbQImasFZRzFtAXVYIRwDpW0CH6mhZOO9bQE6kVCbF/VtA9t4FNz8NXEDKpcQz7hRcQFCqfToeGVxAA6F68SQcXEBAD+JF2TBcQDo2AvG6XlxAOYKAnhxqXEA0iyrWg3pcQBZqTfOOe1xAN+kDqOyPXEBtVn2utqBcQOK0WoHeqFxAgKSIDKvGXEDkQyNdueVcQKPC2EKQ9VxAGDUSwmD/XEApaedKlQddQC+BW3fzEl1AaFgzzhYmXUBR9wFIbR5dQGo0z6KCB11AVIdi0bcAXUC55ebalRNdQGODWLtzO11ARGZBO7piXUCtYAVn5XZdQG8qUmFsc11ApQm6AAd6XUCaZ6CsOXldQGT+5AKqgF1A/n2PrMSNXUCO5PIf0pNdQA==\",\"dtype\":\"float64\",\"order\":\"little\",\"shape\":[137]}},\"selected\":{\"id\":\"1878\"},\"selection_policy\":{\"id\":\"1877\"}},\"id\":\"1864\",\"type\":\"ColumnDataSource\"},{\"attributes\":{},\"id\":\"1828\",\"type\":\"BasicTicker\"},{\"attributes\":{},\"id\":\"1835\",\"type\":\"PanTool\"},{\"attributes\":{\"line_color\":\"green\",\"line_width\":2.5,\"x\":{\"field\":\"x\"},\"y\":{\"field\":\"y\"}},\"id\":\"1865\",\"type\":\"Line\"},{\"attributes\":{},\"id\":\"1823\",\"type\":\"LinearScale\"},{\"attributes\":{},\"id\":\"1839\",\"type\":\"ResetTool\"},{\"attributes\":{\"source\":{\"id\":\"1864\"}},\"id\":\"1868\",\"type\":\"CDSView\"},{\"attributes\":{\"line_alpha\":0.1,\"line_color\":\"green\",\"line_width\":2.5,\"x\":{\"field\":\"x\"},\"y\":{\"field\":\"y\"}},\"id\":\"1866\",\"type\":\"Line\"},{\"attributes\":{},\"id\":\"1821\",\"type\":\"DataRange1d\"},{\"attributes\":{\"active_drag\":\"auto\",\"active_inspect\":\"auto\",\"active_multi\":null,\"active_scroll\":\"auto\",\"active_tap\":\"auto\",\"tools\":[{\"id\":\"1835\"},{\"id\":\"1836\"},{\"id\":\"1837\"},{\"id\":\"1838\"},{\"id\":\"1839\"},{\"id\":\"1840\"}]},\"id\":\"1842\",\"type\":\"Toolbar\"},{\"attributes\":{\"label\":{\"value\":\"pricestats\"},\"renderers\":[{\"id\":\"1867\"}]},\"id\":\"1879\",\"type\":\"LegendItem\"},{\"attributes\":{},\"id\":\"1832\",\"type\":\"BasicTicker\"},{\"attributes\":{\"line_alpha\":0.1,\"line_color\":\"navy\",\"line_width\":2.5,\"x\":{\"field\":\"x\"},\"y\":{\"field\":\"y\"}},\"id\":\"1851\",\"type\":\"Line\"},{\"attributes\":{\"line_color\":\"navy\",\"line_width\":2.5,\"x\":{\"field\":\"x\"},\"y\":{\"field\":\"y\"}},\"id\":\"1850\",\"type\":\"Line\"},{\"attributes\":{},\"id\":\"1819\",\"type\":\"DataRange1d\"},{\"attributes\":{\"source\":{\"id\":\"1849\"}},\"id\":\"1853\",\"type\":\"CDSView\"},{\"attributes\":{\"data_source\":{\"id\":\"1849\"},\"glyph\":{\"id\":\"1850\"},\"hover_glyph\":null,\"muted_glyph\":null,\"nonselection_glyph\":{\"id\":\"1851\"},\"selection_glyph\":null,\"view\":{\"id\":\"1853\"}},\"id\":\"1852\",\"type\":\"GlyphRenderer\"},{\"attributes\":{},\"id\":\"1877\",\"type\":\"UnionRenderers\"},{\"attributes\":{\"axis\":{\"id\":\"1831\"},\"dimension\":1,\"ticker\":null},\"id\":\"1834\",\"type\":\"Grid\"},{\"attributes\":{},\"id\":\"1825\",\"type\":\"LinearScale\"},{\"attributes\":{},\"id\":\"1878\",\"type\":\"Selection\"},{\"attributes\":{\"items\":[{\"id\":\"1863\"},{\"id\":\"1879\"}],\"location\":\"bottom_right\"},\"id\":\"1862\",\"type\":\"Legend\"},{\"attributes\":{\"axis\":{\"id\":\"1827\"},\"ticker\":null},\"id\":\"1830\",\"type\":\"Grid\"},{\"attributes\":{\"bottom_units\":\"screen\",\"fill_alpha\":0.5,\"fill_color\":\"lightgrey\",\"left_units\":\"screen\",\"level\":\"overlay\",\"line_alpha\":1.0,\"line_color\":\"black\",\"line_dash\":[4,4],\"line_width\":2,\"right_units\":\"screen\",\"top_units\":\"screen\"},\"id\":\"1841\",\"type\":\"BoxAnnotation\"},{\"attributes\":{},\"id\":\"1836\",\"type\":\"WheelZoomTool\"},{\"attributes\":{},\"id\":\"1840\",\"type\":\"HelpTool\"},{\"attributes\":{},\"id\":\"1860\",\"type\":\"UnionRenderers\"},{\"attributes\":{\"data\":{\"x\":[0,1,2,3,4,5,6,7,8,9,10,11,12,13,14,15,16,17,18,19,20,21,22,23,24,25,26,27,28,29,30,31,32,33,34,35,36,37,38,39,40,41,42,43,44,45,46,47,48,49,50,51,52,53,54,55,56,57,58,59,60,61,62,63,64,65,66,67,68,69,70,71,72,73,74,75,76,77,78,79,80,81,82,83,84,85,86,87,88,89,90,91,92,93,94,95,96,97,98,99,100,101,102,103,104,105,106,107,108,109,110,111,112,113,114,115,116,117,118,119,120,121,122,123,124,125,126,127,128,129,130,131,132,133,134,135,136],\"y\":{\"__ndarray__\":\"AAAAAAAAWUBLyAc9myFZQKvP1VbsB1lAe4hGdxD/WEActi3KbL5YQKWg20saRVhAl6jeGtgEWEBLyAc9mx9YQE6c3O9QPlhA1ouhnGhNWEDw+WGE8FxYQNBE2PD0blhAcVrwoq+kWEAYQznRrppYQOl942vPqFhAWwhyUMKsWEB00vvG17JYQOi8xi5Rt1hA48KBkCysWEDkvWplwsFYQEX11sBWw1hArHMMyF7dWEA/jBAebehYQHYyOEpe7VhAd6G5TiPnWECRm+EGfOhYQMjqVs9J8VhA0GG+vAD1WEAFhqxu9fxYQPLNNjem/1hAe4MvTKYKWUB3vp8aLylZQMX+snvySFlA8tJNYhCIWUBSSZ2AJrJZQHBfB84Z0VlAbqMBvAXKWUAdWmQ7389ZQBKlvcEX4llAqmBUUifsWUBYObTIdt5ZQCL99nXg2FlAat5xio7IWUCamZmZmeVZQMKGp1fKAlpA6Nms+lw1WkASg8DKoUlaQC9uowG8QVpAzojS3uA3WkAU0ETY8CxaQFioNc07UlpAo5I6AU1wWkCLbOf7qW1aQEvIBz2bTVpADwu1pnk7WkDIBz2bVU9aQNEi2/l+hlpAFR3J5T+YWkATYcPTK5FaQOF6FK5HnVpAEoPAyqGtWkBqTfOOU7BaQAaBlUOLuFpAKjqSy3/AWkBmiGNd3K5aQJvmHafooFpAak3zjlOgWkCh+DHmrrlaQJf/kH770lpA5WGh1jT/WkD1udqK/RVbQJHtfD81LltAukkMAis7W0CcxCCwcjhbQH/7OnDOLFtAgy9MpgoyW0C4rwPnjCBbQDsBTYQN+1pAMuauJeTTWkB6xyk6krNaQBrAWyBB0VpA2V92Tx76WkBcj8L1KAhbQDPEsS5uK1tAxyk6kstDW0B4eqUsQ0RbQJ+rrdhfOltAnYAmwoYvW0AOT6+UZSxbQBniWBe3HVtA9bnaiv0FW0DarPpcbRFbQJAxdy0hF1tAokW28/00W0C8dJMYBFZbQMNkqmBUcltAxSCwcmiJW0Cn6Egu/31bQP8h/fZ1hFtAYcPTK2WVW0Dgvg6cM55bQOVhodY0k1tAkzoBTYSVW0CRD3o2q75bQLfRAN4C1VtAJuSDns3aW0Byio7k8u9bQJm7lpAP9ltAat5xio78W0BWDi2ynfdbQOLplbIMDVxAUI2XbhIzXEDmriXkgy5cQKabxCCwLlxAQ61p3nEqXEB9PzVeulFcQJ88LNSaclxAUI2XbhKDXEAHX5hMFaBcQMP1KFyPvlxAmEwVjErKXEAQWDm0yMpcQHsUrkfhzlxASFD8GHPXXEAqOpLLf+RcQCQofoy5y1xAcRsN4C20XEB8YTJVMMJcQKg1zTtO4VxAEOm3rwMLXUADCYofYzJdQEp7gy9MQl1AFvvL7slDXUBVwaikTlBdQKvP1VbsT11AAAAAAAAA+H8AAAAAAAD4fw==\",\"dtype\":\"float64\",\"order\":\"little\",\"shape\":[137]}},\"selected\":{\"id\":\"1861\"},\"selection_policy\":{\"id\":\"1860\"}},\"id\":\"1849\",\"type\":\"ColumnDataSource\"},{\"attributes\":{},\"id\":\"1861\",\"type\":\"Selection\"},{\"attributes\":{},\"id\":\"1838\",\"type\":\"SaveTool\"},{\"attributes\":{},\"id\":\"1855\",\"type\":\"BasicTickFormatter\"},{\"attributes\":{\"text\":\"Monthly CPI/PS\"},\"id\":\"1817\",\"type\":\"Title\"},{\"attributes\":{\"axis_label\":\"CPI\",\"formatter\":{\"id\":\"1857\"},\"ticker\":{\"id\":\"1832\"}},\"id\":\"1831\",\"type\":\"LinearAxis\"},{\"attributes\":{},\"id\":\"1857\",\"type\":\"BasicTickFormatter\"},{\"attributes\":{\"overlay\":{\"id\":\"1841\"}},\"id\":\"1837\",\"type\":\"BoxZoomTool\"},{\"attributes\":{\"data_source\":{\"id\":\"1864\"},\"glyph\":{\"id\":\"1865\"},\"hover_glyph\":null,\"muted_glyph\":null,\"nonselection_glyph\":{\"id\":\"1866\"},\"selection_glyph\":null,\"view\":{\"id\":\"1868\"}},\"id\":\"1867\",\"type\":\"GlyphRenderer\"},{\"attributes\":{\"label\":{\"value\":\"CPI\"},\"renderers\":[{\"id\":\"1852\"}]},\"id\":\"1863\",\"type\":\"LegendItem\"},{\"attributes\":{\"axis_label\":\"t\",\"formatter\":{\"id\":\"1855\"},\"ticker\":{\"id\":\"1828\"}},\"id\":\"1827\",\"type\":\"LinearAxis\"}],\"root_ids\":[\"1816\"]},\"title\":\"Bokeh Application\",\"version\":\"2.1.1\"}};\n",
       "  var render_items = [{\"docid\":\"1ad5093c-da5b-4c0d-ab09-6dc094bf8463\",\"root_ids\":[\"1816\"],\"roots\":{\"1816\":\"fe22b1dd-7b55-4b8c-9da2-2e8ea06df12f\"}}];\n",
       "  root.Bokeh.embed.embed_items_notebook(docs_json, render_items);\n",
       "\n",
       "  }\n",
       "  if (root.Bokeh !== undefined) {\n",
       "    embed_document(root);\n",
       "  } else {\n",
       "    var attempts = 0;\n",
       "    var timer = setInterval(function(root) {\n",
       "      if (root.Bokeh !== undefined) {\n",
       "        clearInterval(timer);\n",
       "        embed_document(root);\n",
       "      } else {\n",
       "        attempts++;\n",
       "        if (attempts > 100) {\n",
       "          clearInterval(timer);\n",
       "          console.log(\"Bokeh: ERROR: Unable to run BokehJS code because BokehJS library is missing\");\n",
       "        }\n",
       "      }\n",
       "    }, 10, root)\n",
       "  }\n",
       "})(window);"
      ],
      "application/vnd.bokehjs_exec.v0+json": ""
     },
     "metadata": {
      "application/vnd.bokehjs_exec.v0+json": {
       "id": "1816"
      }
     },
     "output_type": "display_data"
    }
   ],
   "source": [
    "# \n",
    "p = figure(plot_width=400, plot_height=400, title = \"Monthly CPI/PS\")\n",
    "p.line(cpi.index,cpi.CPI,line_color=\"navy\",line_width =2.5,legend_label =\"CPI\")\n",
    "p.line(ps_monthly.index,ps_monthly.PS,line_color=\"green\",line_width =2.5,legend_label =\"pricestats\")\n",
    "\n",
    "p.xaxis.axis_label ='t'\n",
    "p.yaxis.axis_label ='CPI'\n",
    "p.legend.location='bottom_right'\n",
    "\n",
    "\n",
    "show(p)"
   ]
  },
  {
   "cell_type": "code",
   "execution_count": 35,
   "metadata": {},
   "outputs": [
    {
     "data": {
      "text/html": [
       "\n",
       "\n",
       "\n",
       "\n",
       "\n",
       "\n",
       "  <div class=\"bk-root\" id=\"b85f61b8-5a59-4b32-9b4f-de8db625e5f5\" data-root-id=\"3855\"></div>\n"
      ]
     },
     "metadata": {},
     "output_type": "display_data"
    },
    {
     "data": {
      "application/javascript": [
       "(function(root) {\n",
       "  function embed_document(root) {\n",
       "    \n",
       "  var docs_json = {\"6082cdb2-8b9f-45d4-8aa1-4d4e219f834f\":{\"roots\":{\"references\":[{\"attributes\":{\"below\":[{\"id\":\"3866\"}],\"center\":[{\"id\":\"3869\"},{\"id\":\"3873\"}],\"left\":[{\"id\":\"3870\"}],\"plot_height\":400,\"plot_width\":400,\"renderers\":[{\"id\":\"3891\"},{\"id\":\"3896\"}],\"title\":{\"id\":\"3856\"},\"toolbar\":{\"id\":\"3881\"},\"x_range\":{\"id\":\"3858\"},\"x_scale\":{\"id\":\"3862\"},\"y_range\":{\"id\":\"3860\"},\"y_scale\":{\"id\":\"3864\"}},\"id\":\"3855\",\"subtype\":\"Figure\",\"type\":\"Plot\"},{\"attributes\":{\"axis\":{\"id\":\"3870\"},\"dimension\":1,\"ticker\":null},\"id\":\"3873\",\"type\":\"Grid\"},{\"attributes\":{\"axis_label\":\"t\",\"formatter\":{\"id\":\"4045\"},\"ticker\":{\"id\":\"3867\"}},\"id\":\"3866\",\"type\":\"LinearAxis\"},{\"attributes\":{},\"id\":\"4045\",\"type\":\"BasicTickFormatter\"},{\"attributes\":{},\"id\":\"4050\",\"type\":\"UnionRenderers\"},{\"attributes\":{},\"id\":\"3879\",\"type\":\"HelpTool\"},{\"attributes\":{\"data_source\":{\"id\":\"3893\"},\"glyph\":{\"id\":\"3894\"},\"hover_glyph\":null,\"muted_glyph\":null,\"nonselection_glyph\":{\"id\":\"3895\"},\"selection_glyph\":null,\"view\":{\"id\":\"3897\"}},\"id\":\"3896\",\"type\":\"GlyphRenderer\"},{\"attributes\":{},\"id\":\"4051\",\"type\":\"Selection\"},{\"attributes\":{\"line_alpha\":0.1,\"line_color\":\"navy\",\"line_width\":2.5,\"x\":{\"field\":\"x\"},\"y\":{\"field\":\"y\"}},\"id\":\"3890\",\"type\":\"Line\"},{\"attributes\":{},\"id\":\"3878\",\"type\":\"ResetTool\"},{\"attributes\":{\"text\":\"Monthly IR\"},\"id\":\"3856\",\"type\":\"Title\"},{\"attributes\":{\"data\":{\"x\":[0,1,2,3,4,5,6,7,8,9,10,11,12,13,14,15,16,17,18,19,20,21,22,23,24,25,26,27,28,29,30,31,32,33,34,35,36,37,38,39,40,41,42,43,44,45,46,47,48,49,50,51,52,53,54,55,56,57,58,59,60,61,62,63,64,65,66,67,68,69,70,71,72,73,74,75,76,77,78,79,80,81,82,83,84,85,86,87,88,89,90,91,92,93,94,95,96,97,98,99,100,101,102,103,104,105,106,107,108,109,110,111,112,113,114,115,116,117,118,119,120,121,122,123,124,125,126,127,128,129,130,131,132,133,134,135,136],\"y\":{\"__ndarray__\":\"AAAAAAAA+H+AJeSDns3gP2qi5gOOjNm/DchGZCOywb/LOlMhhinwv/Ff0QkBpf6/SWkQDUKM8L80TvGZ+drbPwFLVGxb098/Bqj8VYAgzz/jU1MhE/TPP2l3CCcDfdI/bpg+yNJ86z8SABdHxUvEv+vlS8WOtcw/ajGFUmsDsD/b6jCo8qe4P6ZJZemHHbI/9M0E/8WKxr/t8sQgK9/VP8bdbRxAhZk/oL/L1ctH2j91Nn3MdzvGP1wSvz1m17M/vubAnI7+uL8dbqr4BKGVPys+inYwrME/tWqcQ/LIrT8al7qIzeC/P40EdvjiiKU/6g269XgAxj+Rh7Ui0nvePwzq/Wljj98/yYMNfucz7z/LTM8d6prkP49Fau+4HN4/SNdyTPVqu78MH+07sq62PxRZzH3JpdE/UbcVaV1vwz8cZa6dpmfKv3Lm6+oZmbW/0jxIZveRz79vmXFsJSncP++8gjXxLdw/DBRUfLxN6D+D/7eYj1XTP9h9Rj8EC76/USSStrvEwr+ViVfu1dvEv4bkn7IZz+E/41CqPtWO3D/OKeo5UPKjv3AmpQcyU96/6+tQcqA70b/N+dvdH+3SPyGX8e0mNeo/zY6vZ4+70D93PUVcpZ26v9R+WyADysY/dY/2rWG4zj88+vt4ADOkP/5Fd2xcyr4/toVVuX/FvT9M4LOGuHvQv07X3RvZJMq/69qSCDx/gb9sn+oi3c7XP5glMDJ7qtc/q93nOrmb5D/Hc6ehRRnVP2z2wktDWtY/Dwyn8DLXxz/rYQLbJfqjv1zk5S9GYsW/TE0fgcZDsz9zXHrhQhTQv1+QPFNUR+G/4KTF/7Ik4r/+wNdiPR7ev4j9ShKwyts/IhCAJB4M4z8oRxeBbQbKP2V9NDRET+A/rZfHTkxr1j8UJVo3wWp7PyeRsmbNIcK/b4rj0q/rw7+fnZoQHwanvz1x9by+A8u/gHhhUZXf1b+krioKMinFPw32tlEfEbU/KScsF+OO2z9VejaOWljeP56z6A7h5Nk/zXP0PmwF1T+luP1xTrjEv8gXQuwbg7c/BdKYwTPFzj/L4Jh0Hu2/P4LL/oXn58O/mYDWXNfBoD+MmjZZAabiP6AuRrzOIdQ/CncvWX7PtD/OgYH6ffrSPwPFgN+n4LU/Uk2pX3I7tz+cPC5Meaexvyc99nHYKNM/tLySQYXx4D8EwmsrviiwvyDWnNEJn2M/yhfHsMgcrr9SQ4asFG/hP2gCjWn7Bd0/clUBA2bxzD94FY/KDXDZP8iiyRTzndo/Rrqm0vRnxD/jAfTJGGN7PzK+l/nEc6w/ptnNGEa/vT+QpdbvdJ/GPyrQ/EDIb9W/BE9ZZB5x1L+3YmLyWWfIP1r7+5XPDNs/YKekKnUN4j9c9pwOJvLgP+YJXisuP8s/s83xiN9ilD96KU7zXWPFP/BrXK+g9XS/AAAAAAAA+H8AAAAAAAD4fw==\",\"dtype\":\"float64\",\"order\":\"little\",\"shape\":[137]}},\"selected\":{\"id\":\"4051\"},\"selection_policy\":{\"id\":\"4050\"}},\"id\":\"3888\",\"type\":\"ColumnDataSource\"},{\"attributes\":{},\"id\":\"3877\",\"type\":\"SaveTool\"},{\"attributes\":{},\"id\":\"4052\",\"type\":\"UnionRenderers\"},{\"attributes\":{\"source\":{\"id\":\"3888\"}},\"id\":\"3892\",\"type\":\"CDSView\"},{\"attributes\":{},\"id\":\"3874\",\"type\":\"PanTool\"},{\"attributes\":{},\"id\":\"3860\",\"type\":\"DataRange1d\"},{\"attributes\":{},\"id\":\"4053\",\"type\":\"Selection\"},{\"attributes\":{\"line_color\":\"green\",\"line_width\":2.5,\"x\":{\"field\":\"x\"},\"y\":{\"field\":\"y\"}},\"id\":\"3894\",\"type\":\"Line\"},{\"attributes\":{\"line_color\":\"navy\",\"line_width\":2.5,\"x\":{\"field\":\"x\"},\"y\":{\"field\":\"y\"}},\"id\":\"3889\",\"type\":\"Line\"},{\"attributes\":{},\"id\":\"3875\",\"type\":\"WheelZoomTool\"},{\"attributes\":{\"source\":{\"id\":\"3893\"}},\"id\":\"3897\",\"type\":\"CDSView\"},{\"attributes\":{},\"id\":\"3864\",\"type\":\"LinearScale\"},{\"attributes\":{},\"id\":\"3858\",\"type\":\"DataRange1d\"},{\"attributes\":{\"axis_label\":\"CPI\",\"formatter\":{\"id\":\"4047\"},\"ticker\":{\"id\":\"3871\"}},\"id\":\"3870\",\"type\":\"LinearAxis\"},{\"attributes\":{\"overlay\":{\"id\":\"3880\"}},\"id\":\"3876\",\"type\":\"BoxZoomTool\"},{\"attributes\":{},\"id\":\"3867\",\"type\":\"BasicTicker\"},{\"attributes\":{\"axis\":{\"id\":\"3866\"},\"ticker\":null},\"id\":\"3869\",\"type\":\"Grid\"},{\"attributes\":{\"line_alpha\":0.1,\"line_color\":\"green\",\"line_width\":2.5,\"x\":{\"field\":\"x\"},\"y\":{\"field\":\"y\"}},\"id\":\"3895\",\"type\":\"Line\"},{\"attributes\":{},\"id\":\"4047\",\"type\":\"BasicTickFormatter\"},{\"attributes\":{},\"id\":\"3871\",\"type\":\"BasicTicker\"},{\"attributes\":{},\"id\":\"3862\",\"type\":\"LinearScale\"},{\"attributes\":{\"bottom_units\":\"screen\",\"fill_alpha\":0.5,\"fill_color\":\"lightgrey\",\"left_units\":\"screen\",\"level\":\"overlay\",\"line_alpha\":1.0,\"line_color\":\"black\",\"line_dash\":[4,4],\"line_width\":2,\"right_units\":\"screen\",\"top_units\":\"screen\"},\"id\":\"3880\",\"type\":\"BoxAnnotation\"},{\"attributes\":{\"data_source\":{\"id\":\"3888\"},\"glyph\":{\"id\":\"3889\"},\"hover_glyph\":null,\"muted_glyph\":null,\"nonselection_glyph\":{\"id\":\"3890\"},\"selection_glyph\":null,\"view\":{\"id\":\"3892\"}},\"id\":\"3891\",\"type\":\"GlyphRenderer\"},{\"attributes\":{\"active_drag\":\"auto\",\"active_inspect\":\"auto\",\"active_multi\":null,\"active_scroll\":\"auto\",\"active_tap\":\"auto\",\"tools\":[{\"id\":\"3874\"},{\"id\":\"3875\"},{\"id\":\"3876\"},{\"id\":\"3877\"},{\"id\":\"3878\"},{\"id\":\"3879\"}]},\"id\":\"3881\",\"type\":\"Toolbar\"},{\"attributes\":{\"data\":{\"x\":[0,1,2,3,4,5,6,7,8,9,10,11,12,13,14,15,16,17,18,19,20,21,22,23,24,25,26,27,28,29,30,31,32,33,34,35,36,37,38,39,40,41,42,43,44,45,46,47,48,49,50,51,52,53,54,55,56,57,58,59,60,61,62,63,64,65,66,67,68,69,70,71,72,73,74,75,76,77,78,79,80,81,82,83,84,85,86,87,88,89,90,91,92,93,94,95,96,97,98,99,100,101,102,103,104,105,106,107,108,109,110,111,112,113,114,115,116,117,118,119,120,121,122,123,124,125,126,127,128,129,130,131,132,133,134,135,136],\"y\":{\"__ndarray__\":\"AAAAAAAA+H9wbZ/50tTIvzCH9WcdPaY/WYAdDuFZ6L+lVB/YVOv8v5fekuwOj/C/D5pzBFf30j9UIhK0kGvlP3Cjlx/zpcs/I0ZzlEn90D8ZPLBTR17YP+o0Xkd4NdI/+Oeyp6wO1T9x8IAT4b3AP6Jzlex7Q6o/N6FNJq/Bqj9HqhK5DkXSP76UV5QWj8K/G7DzMZM23j8jTeHQc6C5v1uEgAF8z+M/eQGEKmH43z+r4udCJfnZP+707ZGZp9e/EJQFM+pS1z/WYuVQSwi8P48DFNPrPq0/Fv/kNyB93D/z94BKzQXWP0WMECM5+sY/0kun5a7D0D9TLJUzMS7QP/PVBS+todU/s0eTRxzj5j+x3Rjde/vdP+6BIqnwGti/abwk6KLMuz/Q0DE11jC7P1VqTCZq/ck/781/uuSszL/DjWCsb16cP4VCU3uXxtG/VTkoyu8b1z9A7ufQAjHjP1PwZrv9Uu0/2e8VJRu52D+6eeaK/g3Rv5lW8xiJYNi/EDd6uqNPur/AlOtsCxbqP9cxD5vsi+E/KBMqSdX9oT/endTQijzbv19EK5egJ9K/LKkXbknmtj/baI1R65LwP9xy6AgFBNQ/kd774CIIur9u9ndRUoPEP+FvEL/0ZLQ/9784pMeVqT8zf6bkJHS9P8hSFYCtf7Y/yMOJT6plxL/D3sWH3dqmvyWD+JuUVbA/ga41tMSlyj/2/dNDDVzFP3vSJG9HX9A/1lNCqH1E0j//mDRANrzNP9mnrM/yccE/htBSd4C2sT/6NXU9wIynP64qAsH8KLQ/29ECUO2+t7+LSuoXFx/Hv/kHxwJUUN2/9oDGx9Ed5b93KN/OjDzPP8fALazPaOA/2oR1CwXMxD9cTitw9xzgPy42pxqp5tA/i04zPTokuD9EoAdsHoqEv8jrS4DYpcm/9XGJwvGYoj+YzA1hEEnAv+tmr+YTD8C/vla8VOlwyL84kUfdu0zSv0PviZ6Ue9o/SCo9dyYd4D+udiGJqUPeP4H0xe5qutQ/cFpLkbVLn7+WeoLKFIaTP3okxz1E88Y/C18ZSZH5xz8LX30ko2aWv7rUvXqQ7sU/i9xKTc/L2T8dWx7sRUi2P+ZH0VwJC8o/m2Kob1Glyz+odJT3/mO7P5+BaUUJ060/rGEUj1qKpT8ZD1u17WnSP9vZWA4cWOQ/h+SAqCEPxD/fyGhLN93MP1tVM5qST40/+r6UTDbg0T+h42ol+WPNP1TB8Tz/fLw/GYXD+23+2T+4ZKE5D/vaP4wSKMQIaMs/lLRnVP3xwD+Q4G5R1Eu8P212zL5rlMM/FhdketB00D9GMGnyWUm6v3oYfUvPrNO/xxERaN1lt78V+RYnbEPQP9FI9JGCI+E/USGS8GfL4D/mTexJmCjRPy49X1GLkqe/3/ao83tstj/AsWZfo8SFvyUh+/4sPbk//qDGfl41xj/6f0Mq0Xq0Pw==\",\"dtype\":\"float64\",\"order\":\"little\",\"shape\":[137]}},\"selected\":{\"id\":\"4053\"},\"selection_policy\":{\"id\":\"4052\"}},\"id\":\"3893\",\"type\":\"ColumnDataSource\"}],\"root_ids\":[\"3855\"]},\"title\":\"Bokeh Application\",\"version\":\"2.1.1\"}};\n",
       "  var render_items = [{\"docid\":\"6082cdb2-8b9f-45d4-8aa1-4d4e219f834f\",\"root_ids\":[\"3855\"],\"roots\":{\"3855\":\"b85f61b8-5a59-4b32-9b4f-de8db625e5f5\"}}];\n",
       "  root.Bokeh.embed.embed_items_notebook(docs_json, render_items);\n",
       "\n",
       "  }\n",
       "  if (root.Bokeh !== undefined) {\n",
       "    embed_document(root);\n",
       "  } else {\n",
       "    var attempts = 0;\n",
       "    var timer = setInterval(function(root) {\n",
       "      if (root.Bokeh !== undefined) {\n",
       "        clearInterval(timer);\n",
       "        embed_document(root);\n",
       "      } else {\n",
       "        attempts++;\n",
       "        if (attempts > 100) {\n",
       "          clearInterval(timer);\n",
       "          console.log(\"Bokeh: ERROR: Unable to run BokehJS code because BokehJS library is missing\");\n",
       "        }\n",
       "      }\n",
       "    }, 10, root)\n",
       "  }\n",
       "})(window);"
      ],
      "application/vnd.bokehjs_exec.v0+json": ""
     },
     "metadata": {
      "application/vnd.bokehjs_exec.v0+json": {
       "id": "3855"
      }
     },
     "output_type": "display_data"
    }
   ],
   "source": [
    "p = figure(plot_width=400, plot_height=400, title = \"Monthly IR\")\n",
    "p.line(cpi.index,cpi['IR_cpi'],line_color=\"navy\",line_width =2.5)\n",
    "p.line(ps_monthly.index,ps_monthly.IR_ps,line_color=\"green\",line_width =2.5)\n",
    "\n",
    "\n",
    "p.xaxis.axis_label ='t'\n",
    "p.yaxis.axis_label ='CPI'\n",
    "show(p)"
   ]
  },
  {
   "cell_type": "markdown",
   "metadata": {},
   "source": [
    "Next, we use the PriceStat from the last day of the month to represent the monthly PriceStats value and then proceed to calculate monthly inflation rate using this monthly PriceStats value"
   ]
  },
  {
   "cell_type": "code",
   "execution_count": 21,
   "metadata": {},
   "outputs": [
    {
     "name": "stdout",
     "output_type": "stream",
     "text": [
      "The inflation rate from Avg PriceStats for the month of February in 2013 was 1.159452992 %\n"
     ]
    }
   ],
   "source": [
    "# Inflation rate from pricestat last day\n",
    "ps_monthly_last = pd.DataFrame(columns =['YearMonth','PS'])\n",
    "ps_monthly_last =ps_cpi.drop_duplicates('YearMonth', keep='last').copy().reset_index().drop(['index','CPI'],axis=1)\n",
    "val = calc_inflation_rate(ps_monthly_last.PriceStats.values)\n",
    "\n",
    "\n",
    "ps_monthly_last.loc[1:, 'IR_ps_last'] = val\n",
    "print(\"The inflation rate from Avg PriceStats for the month of February in 2013 was %0.9f\" % ps_monthly_last[ps_monthly_last.YearMonth == '2013-02']['IR_ps_last']  + \" %\")\n"
   ]
  },
  {
   "cell_type": "markdown",
   "metadata": {},
   "source": [
    "Lastly, we first calculate daily inflation rates and use the average of these rates across a month to represent the monthly inflation rate"
   ]
  },
  {
   "cell_type": "code",
   "execution_count": 22,
   "metadata": {},
   "outputs": [
    {
     "name": "stdout",
     "output_type": "stream",
     "text": [
      "The inflation rate from last day PriceStats for the month of February in 2013 was 1.235507066 %\n"
     ]
    }
   ],
   "source": [
    "ps_cpi_temp = ps_cpi.copy()\n",
    "ps_monthly_daily = pd.DataFrame(columns =['YearMonth','IR'])\n",
    "val = calc_inflation_rate(ps_cpi.PriceStats.values)\n",
    "ps_cpi_temp = ps_cpi_temp.drop([0])\n",
    "ps_cpi_temp['Daily_PS_IR'] = [i for i in val]\n",
    "\n",
    "ps_monthly_daily['IR'] =ps_cpi_temp.groupby('YearMonth').Daily_PS_IR.mean().values*30\n",
    "ps_monthly_daily['YearMonth'] = cpi.YearMonth\n",
    "\n",
    "ps_ir_train3 = (ps_monthly[ps_monthly.YearMonth<'2013-09'].copy())\n",
    "ps_ir_test3 = (ps_monthly[ps_monthly.YearMonth >='2013-09'].copy())\n",
    "\n",
    "print(\"The inflation rate from last day PriceStats for the month of February in 2013 was %0.9f\" % ps_monthly_daily[ps_monthly_daily.YearMonth == '2013-02']['IR'] + \" %\")"
   ]
  },
  {
   "cell_type": "code",
   "execution_count": 23,
   "metadata": {},
   "outputs": [
    {
     "data": {
      "text/html": [
       "\n",
       "\n",
       "\n",
       "\n",
       "\n",
       "\n",
       "  <div class=\"bk-root\" id=\"d2e1e6c7-470a-492f-b91f-cbff29b4b806\" data-root-id=\"2177\"></div>\n"
      ]
     },
     "metadata": {},
     "output_type": "display_data"
    },
    {
     "data": {
      "application/javascript": [
       "(function(root) {\n",
       "  function embed_document(root) {\n",
       "    \n",
       "  var docs_json = {\"2d3f9505-796f-41fe-8125-0422c63c6868\":{\"roots\":{\"references\":[{\"attributes\":{\"below\":[{\"id\":\"2188\"}],\"center\":[{\"id\":\"2191\"},{\"id\":\"2195\"}],\"left\":[{\"id\":\"2192\"}],\"plot_height\":400,\"plot_width\":400,\"renderers\":[{\"id\":\"2213\"},{\"id\":\"2218\"},{\"id\":\"2223\"},{\"id\":\"2228\"}],\"title\":{\"id\":\"2178\"},\"toolbar\":{\"id\":\"2203\"},\"x_range\":{\"id\":\"2180\"},\"x_scale\":{\"id\":\"2184\"},\"y_range\":{\"id\":\"2182\"},\"y_scale\":{\"id\":\"2186\"}},\"id\":\"2177\",\"subtype\":\"Figure\",\"type\":\"Plot\"},{\"attributes\":{\"line_color\":\"red\",\"line_width\":2.5,\"x\":{\"field\":\"x\"},\"y\":{\"field\":\"y\"}},\"id\":\"2221\",\"type\":\"Line\"},{\"attributes\":{},\"id\":\"2315\",\"type\":\"Selection\"},{\"attributes\":{},\"id\":\"2193\",\"type\":\"BasicTicker\"},{\"attributes\":{\"source\":{\"id\":\"2220\"}},\"id\":\"2224\",\"type\":\"CDSView\"},{\"attributes\":{},\"id\":\"2182\",\"type\":\"DataRange1d\"},{\"attributes\":{\"data_source\":{\"id\":\"2225\"},\"glyph\":{\"id\":\"2226\"},\"hover_glyph\":null,\"muted_glyph\":null,\"nonselection_glyph\":{\"id\":\"2227\"},\"selection_glyph\":null,\"view\":{\"id\":\"2229\"}},\"id\":\"2228\",\"type\":\"GlyphRenderer\"},{\"attributes\":{\"axis_label\":\"t\",\"formatter\":{\"id\":\"2303\"},\"ticker\":{\"id\":\"2189\"}},\"id\":\"2188\",\"type\":\"LinearAxis\"},{\"attributes\":{\"data\":{\"x\":[0,1,2,3,4,5,6,7,8,9,10,11,12,13,14,15,16,17,18,19,20,21,22,23,24,25,26,27,28,29,30,31,32,33,34,35,36,37,38,39,40,41,42,43,44,45,46,47,48,49,50,51,52,53,54,55,56,57,58,59,60,61,62,63,64,65,66,67,68,69,70,71,72,73,74,75,76,77,78,79,80,81,82,83,84,85,86,87,88,89,90,91,92,93,94,95,96,97,98,99,100,101,102,103,104,105,106,107,108,109,110,111,112,113,114,115,116,117,118,119,120,121,122,123,124,125,126,127,128,129,130,131,132,133,134,135,136],\"y\":{\"__ndarray__\":\"4GJXrAQx4r9h7N5SPn3Kv76+Eu7AyKs/ldDKrs/z+r+6PEg5LZL3v8J5OpRtreC/pybcn/y55j81k6JJ1lnYPyNcbkFOdNs/4JieevaW0j+qaYcG7QTVPxFTY+b82tA/sJ0hYXl71T/SsxKNOSaXvx/XPFgPg6i//3xqUPMr4T+Jp1ZKtlzEv15tcN5RvLW/6hZpBQpI1D87wrrXBrLYP7CSaDaqCds/F6wVPOsm6D+sU8KEu+fTv+7HieXoV8o/iP6uPrG70D/sijJf77rMv/be4uTuctU/djFspBiR3D90z9+GubDZP2FqkmwCRME//najng/AzT+VStAQ4r/OP0dfbAuFz98/iHK3VvD26j9IcGQe3tjEv79vQO4sPtS/Zqf7Oy424D9IWnqUjfZcP87VyUNGpL6/5bDlWRRBrj+Odf3jf2/Lv+D37lwC3rK/PguUZjKJ4T8cpKoSlSrrP2ZBa3W9v+c/2FmmGG4Wm7+IKeat20bTv7mvG6UC+eG/Z4Y7SxLd2z+MZtwvBX7vPyL2JXeZjLk/AJmUOlmryr+vFNkSsILJv6TlieRdCtC/99xwlhy82T/qf5IOo8TzPxEwrDp/VMq/X0Qkf1QzxL+weOmJv3TcP5S/Xha0X9C/hcp0224+1T/4mVptq4e5PyBcn/OIkrW/JJ4laz7bw7+wZWFCJm6fP2QV1Ax1kMo/Uki7bKUppj9ndYB4d/jVPxCiQtHzidE/PW36QG5Uzz92A2PXTRrGPxVxK/7VN7s/3fv3+HTWdT8alDk6GxqzPwQ9mYzdhbE/+YyDfaityb9ogKmAn5vIvy9Xbtvw1eW/ztChFzCJ2b/w+FsZUh/oP4LCNXtBd8o/FP4IQOcs1z8oND2rOK/YP7aWpS9ssMQ/rO65z1VboT+I8Prutgu0v6I4jkSrJ76/aIXrLTvchb+R1dGe2u7Mv7QWuocRa4y/xGJBhVnA1b9wwGSTw9WWvyvYJmfw/OM/FrsMv5Rr4D/Ct7NophbWP/h3exshxrs/jD6rUYockL/ISjqBONzAP7tnsbS9L8k/pAYkZYDWvj8I3WH88Nqxv/pW7BIAHtc/RM4zc3OCxT/cOAajQeHMPwjy9IC3hsQ/h+nW4Hhxzj+o1JuAAJG1PzOUYxupDb+/UxHoX2Zm0z/ArqRH61/SPywtlqywX+E/6HHIqr8Pwj/sEcYZ43XGP2qqUXZedK8/+UdjrpM+2j8YOHcpWaqTP96Iw8v3ntA/ltIPGfYC3z9ZX2EM2mHXP2SCiR/57Zw/EC1Xq3Q5yj9YU9o5j0WIPw3yTtbZxNE/JrBrtZ0FyD9m7tjLdyzTv4MUCi8E7tG/I5y6lLGovj9J7wn/9P3bP4xWsXuzUOE/4KZnFhlJ3D9beCK5Iwe8Pwv5q8Z10ry/wODCTNHAwj+D8sVmLdG2v34Vj/zVxtE/O/d2wpOnuT8hPs9Km4q4Pw==\",\"dtype\":\"float64\",\"order\":\"little\",\"shape\":[137]}},\"selected\":{\"id\":\"2315\"},\"selection_policy\":{\"id\":\"2314\"}},\"id\":\"2225\",\"type\":\"ColumnDataSource\"},{\"attributes\":{},\"id\":\"2184\",\"type\":\"LinearScale\"},{\"attributes\":{},\"id\":\"2186\",\"type\":\"LinearScale\"},{\"attributes\":{},\"id\":\"2189\",\"type\":\"BasicTicker\"},{\"attributes\":{},\"id\":\"2308\",\"type\":\"UnionRenderers\"},{\"attributes\":{\"data\":{\"x\":[0,1,2,3,4,5,6,7,8,9,10,11,12,13,14,15,16,17,18,19,20,21,22,23,24,25,26,27,28,29,30,31,32,33,34,35,36,37,38,39,40,41,42,43,44,45,46,47,48,49,50,51,52,53,54,55,56,57,58,59,60,61,62,63,64,65,66,67,68,69,70,71,72,73,74,75,76,77,78,79,80,81,82,83,84,85,86,87,88,89,90,91,92,93,94,95,96,97,98,99,100,101,102,103,104,105,106,107,108,109,110,111,112,113,114,115,116,117,118,119,120,121,122,123,124,125,126,127,128,129,130,131,132,133,134,135,136],\"y\":{\"__ndarray__\":\"AAAAAAAA+H+Byv6jqVjLv1mHFkZcras/oVFqPG2f+7+od5nfzmf3v4+YJEkNMeG/vLls6S6Q5z+cdgqe5b/WP7k98GoJbdw/mKOjMP+c0j87bi8Y3b/VPzOAG6Dc3tA/spIEa5w71j/wV1tprCeYv/D5Ms4Qiqi/8/c1QY/J4T8Rd1gqmFrEv++ClNghfLa/QS0udKv41D+8vqc7jRPXP07TDOOp/ds/Okr1Rk486D/KgXfZM4vUv2UkeJi4WMo/yzpLQJpL0T8lf74cNqvNv55DdGzTd9U/E+cRUTOT3T+bjoaUhKjZP5MiCOFR2cE/654+XXjCzj8AbTWGA7nMP7V3GgPXeOA/D4VNRGAS6z8yTCrFLIrFvxWbwcDnRNS/M1b6WN/H4D8YPLkrF1lcP4oOz55pr76/9/GVQKwwrz+EjecVlGrLv1yC6S+ChLO/oocoSkQq4j+muB5xoVzqP7IarJ5koeg/5hoVkgYqm7+BhasaIuXTvzivpr8c7eG/0XXuUjHZ3D+MRbtrP1nwP3muSKFPhbk/eUQiJVePy792SIXYkYDJvz3bQgOzj9C/7Oj3T/2j2j/m57qUHo3yPydrpRcKL8u/Azl1iSk1xL+Y9K0UwHbdPxMsy1vvWtC/EDFY7mf81T/JCnwkSWO6P2tFtVRckbW/kCdkWWmBxL/JpsI9dGWfP+8U8gWpecs/VSVMxWjfpj9lxgd8SIjUP/s3Nr3eJNI/rlGegVpdzz/+vo57htvGPy596InaOrs/ABbwQtqCdj8SSNNjOb6zP7ZPVgyEhrE/hQutFxuEyr/z+bn3qJbIv2Mj42DjfOa/Me3m309W2r9UMt/SypbmP9KpkHO7Xss/akoo8o821z8StUnybo3ZPyWHJM0bs8Q/ksPtEIjsoT8OHyQEore0v7pG08HRJL6/3hWE+vCghr/i4Q4FlejMvxx7/cZObo2/t1P2EYlw1r/5WVUEYxuWvxyFBlHPt+Q/fIh9zKh14D8qXqUS3dzWP3guQ6C5x7s/xb9y8fapkL+NVrPSNm7BP+vymCpsNck/CsNvB3/cvz9CqwRiotuxvyCM7cvW7dc/Rlux3NE8xj9lmAfdAvvKPyyjsq65OcU/Oik7vkB6zj9xS21DgUq2P9mi7gIDCr+/Vib+1l0T1D8LcBPBRgPTP8VVuI9dauE/k3hjkm6swj/DZX6673jGP7WYDyZSPrA/2yvF9VAs2z+cwI0UTFWSP8gwzS0KMtE/C0bDbToV3z/Yp8XqbjTYP1u+7QTq6Jw/0QuYLXgfyz9KX5e0TQyJP8lD3H6pytE/ipyNr/nXyD+BvUKdlCbTv4frD5n/gNK/4PjEdD+yvz9GrOUWXizaP7KH8SG/8OE/4/he0UhY3D9U8mr2qPm8Py9Yfn3sz7y/9koEU6Fjwz+ELYMcBpK3v2jO/c0azNE/v/5BQCuEuj9iq8S0WlyQPw==\",\"dtype\":\"float64\",\"order\":\"little\",\"shape\":[137]}},\"selected\":{\"id\":\"2313\"},\"selection_policy\":{\"id\":\"2312\"}},\"id\":\"2220\",\"type\":\"ColumnDataSource\"},{\"attributes\":{},\"id\":\"2303\",\"type\":\"BasicTickFormatter\"},{\"attributes\":{\"axis_label\":\"CPI\",\"formatter\":{\"id\":\"2305\"},\"ticker\":{\"id\":\"2193\"}},\"id\":\"2192\",\"type\":\"LinearAxis\"},{\"attributes\":{\"data_source\":{\"id\":\"2210\"},\"glyph\":{\"id\":\"2211\"},\"hover_glyph\":null,\"muted_glyph\":null,\"nonselection_glyph\":{\"id\":\"2212\"},\"selection_glyph\":null,\"view\":{\"id\":\"2214\"}},\"id\":\"2213\",\"type\":\"GlyphRenderer\"},{\"attributes\":{},\"id\":\"2309\",\"type\":\"Selection\"},{\"attributes\":{},\"id\":\"2305\",\"type\":\"BasicTickFormatter\"},{\"attributes\":{\"overlay\":{\"id\":\"2202\"}},\"id\":\"2198\",\"type\":\"BoxZoomTool\"},{\"attributes\":{\"data\":{\"x\":[0,1,2,3,4,5,6,7,8,9,10,11,12,13,14,15,16,17,18,19,20,21,22,23,24,25,26,27,28,29,30,31,32,33,34,35,36,37,38,39,40,41,42,43,44,45,46,47,48,49,50,51,52,53,54,55,56,57,58,59,60,61,62,63,64,65,66,67,68,69,70,71,72,73,74,75,76,77,78,79,80,81,82,83,84,85,86,87,88,89,90,91,92,93,94,95,96,97,98,99,100,101,102,103,104,105,106,107,108,109,110,111,112,113,114,115,116,117,118,119,120,121,122,123,124,125,126,127,128,129,130,131,132,133,134,135,136],\"y\":{\"__ndarray__\":\"AAAAAAAA+H+AJeSDns3gP2qi5gOOjNm/DchGZCOywb/LOlMhhinwv/Ff0QkBpf6/SWkQDUKM8L80TvGZ+drbPwFLVGxb098/Bqj8VYAgzz/jU1MhE/TPP2l3CCcDfdI/bpg+yNJ86z8SABdHxUvEv+vlS8WOtcw/ajGFUmsDsD/b6jCo8qe4P6ZJZemHHbI/9M0E/8WKxr/t8sQgK9/VP8bdbRxAhZk/oL/L1ctH2j91Nn3MdzvGP1wSvz1m17M/vubAnI7+uL8dbqr4BKGVPys+inYwrME/tWqcQ/LIrT8al7qIzeC/P40EdvjiiKU/6g269XgAxj+Rh7Ui0nvePwzq/Wljj98/yYMNfucz7z/LTM8d6prkP49Fau+4HN4/SNdyTPVqu78MH+07sq62PxRZzH3JpdE/UbcVaV1vwz8cZa6dpmfKv3Lm6+oZmbW/0jxIZveRz79vmXFsJSncP++8gjXxLdw/DBRUfLxN6D+D/7eYj1XTP9h9Rj8EC76/USSStrvEwr+ViVfu1dvEv4bkn7IZz+E/41CqPtWO3D/OKeo5UPKjv3AmpQcyU96/6+tQcqA70b/N+dvdH+3SPyGX8e0mNeo/zY6vZ4+70D93PUVcpZ26v9R+WyADysY/dY/2rWG4zj88+vt4ADOkP/5Fd2xcyr4/toVVuX/FvT9M4LOGuHvQv07X3RvZJMq/69qSCDx/gb9sn+oi3c7XP5glMDJ7qtc/q93nOrmb5D/Hc6ehRRnVP2z2wktDWtY/Dwyn8DLXxz/rYQLbJfqjv1zk5S9GYsW/TE0fgcZDsz9zXHrhQhTQv1+QPFNUR+G/4KTF/7Ik4r/+wNdiPR7ev4j9ShKwyts/IhCAJB4M4z8oRxeBbQbKP2V9NDRET+A/rZfHTkxr1j8UJVo3wWp7PyeRsmbNIcK/b4rj0q/rw7+fnZoQHwanvz1x9by+A8u/gHhhUZXf1b+krioKMinFPw32tlEfEbU/KScsF+OO2z9VejaOWljeP56z6A7h5Nk/zXP0PmwF1T+luP1xTrjEv8gXQuwbg7c/BdKYwTPFzj/L4Jh0Hu2/P4LL/oXn58O/mYDWXNfBoD+MmjZZAabiP6AuRrzOIdQ/CncvWX7PtD/OgYH6ffrSPwPFgN+n4LU/Uk2pX3I7tz+cPC5Meaexvyc99nHYKNM/tLySQYXx4D8EwmsrviiwvyDWnNEJn2M/yhfHsMgcrr9SQ4asFG/hP2gCjWn7Bd0/clUBA2bxzD94FY/KDXDZP8iiyRTzndo/Rrqm0vRnxD/jAfTJGGN7PzK+l/nEc6w/ptnNGEa/vT+QpdbvdJ/GPyrQ/EDIb9W/BE9ZZB5x1L+3YmLyWWfIP1r7+5XPDNs/YKekKnUN4j9c9pwOJvLgP+YJXisuP8s/s83xiN9ilD96KU7zXWPFP/BrXK+g9XS/AAAAAAAA+H8AAAAAAAD4fw==\",\"dtype\":\"float64\",\"order\":\"little\",\"shape\":[137]}},\"selected\":{\"id\":\"2309\"},\"selection_policy\":{\"id\":\"2308\"}},\"id\":\"2210\",\"type\":\"ColumnDataSource\"},{\"attributes\":{\"data_source\":{\"id\":\"2215\"},\"glyph\":{\"id\":\"2216\"},\"hover_glyph\":null,\"muted_glyph\":null,\"nonselection_glyph\":{\"id\":\"2217\"},\"selection_glyph\":null,\"view\":{\"id\":\"2219\"}},\"id\":\"2218\",\"type\":\"GlyphRenderer\"},{\"attributes\":{},\"id\":\"2200\",\"type\":\"ResetTool\"},{\"attributes\":{},\"id\":\"2310\",\"type\":\"UnionRenderers\"},{\"attributes\":{},\"id\":\"2197\",\"type\":\"WheelZoomTool\"},{\"attributes\":{\"source\":{\"id\":\"2215\"}},\"id\":\"2219\",\"type\":\"CDSView\"},{\"attributes\":{},\"id\":\"2311\",\"type\":\"Selection\"},{\"attributes\":{\"text\":\"Monthly Inflation Rate in %\"},\"id\":\"2178\",\"type\":\"Title\"},{\"attributes\":{},\"id\":\"2314\",\"type\":\"UnionRenderers\"},{\"attributes\":{\"line_color\":\"orange\",\"line_width\":2.5,\"x\":{\"field\":\"x\"},\"y\":{\"field\":\"y\"}},\"id\":\"2226\",\"type\":\"Line\"},{\"attributes\":{\"data\":{\"x\":[0,1,2,3,4,5,6,7,8,9,10,11,12,13,14,15,16,17,18,19,20,21,22,23,24,25,26,27,28,29,30,31,32,33,34,35,36,37,38,39,40,41,42,43,44,45,46,47,48,49,50,51,52,53,54,55,56,57,58,59,60,61,62,63,64,65,66,67,68,69,70,71,72,73,74,75,76,77,78,79,80,81,82,83,84,85,86,87,88,89,90,91,92,93,94,95,96,97,98,99,100,101,102,103,104,105,106,107,108,109,110,111,112,113,114,115,116,117,118,119,120,121,122,123,124,125,126,127,128,129,130,131,132,133,134,135,136],\"y\":{\"__ndarray__\":\"AAAAAAAA+H9wbZ/50tTIvzCH9WcdPaY/WYAdDuFZ6L+lVB/YVOv8v5fekuwOj/C/D5pzBFf30j9UIhK0kGvlP3Cjlx/zpcs/I0ZzlEn90D8ZPLBTR17YP+o0Xkd4NdI/+Oeyp6wO1T9x8IAT4b3AP6Jzlex7Q6o/N6FNJq/Bqj9HqhK5DkXSP76UV5QWj8K/G7DzMZM23j8jTeHQc6C5v1uEgAF8z+M/eQGEKmH43z+r4udCJfnZP+707ZGZp9e/EJQFM+pS1z/WYuVQSwi8P48DFNPrPq0/Fv/kNyB93D/z94BKzQXWP0WMECM5+sY/0kun5a7D0D9TLJUzMS7QP/PVBS+todU/s0eTRxzj5j+x3Rjde/vdP+6BIqnwGti/abwk6KLMuz/Q0DE11jC7P1VqTCZq/ck/781/uuSszL/DjWCsb16cP4VCU3uXxtG/VTkoyu8b1z9A7ufQAjHjP1PwZrv9Uu0/2e8VJRu52D+6eeaK/g3Rv5lW8xiJYNi/EDd6uqNPur/AlOtsCxbqP9cxD5vsi+E/KBMqSdX9oT/endTQijzbv19EK5egJ9K/LKkXbknmtj/baI1R65LwP9xy6AgFBNQ/kd774CIIur9u9ndRUoPEP+FvEL/0ZLQ/9784pMeVqT8zf6bkJHS9P8hSFYCtf7Y/yMOJT6plxL/D3sWH3dqmvyWD+JuUVbA/ga41tMSlyj/2/dNDDVzFP3vSJG9HX9A/1lNCqH1E0j//mDRANrzNP9mnrM/yccE/htBSd4C2sT/6NXU9wIynP64qAsH8KLQ/29ECUO2+t7+LSuoXFx/Hv/kHxwJUUN2/9oDGx9Ed5b93KN/OjDzPP8fALazPaOA/2oR1CwXMxD9cTitw9xzgPy42pxqp5tA/i04zPTokuD9EoAdsHoqEv8jrS4DYpcm/9XGJwvGYoj+YzA1hEEnAv+tmr+YTD8C/vla8VOlwyL84kUfdu0zSv0PviZ6Ue9o/SCo9dyYd4D+udiGJqUPeP4H0xe5qutQ/cFpLkbVLn7+WeoLKFIaTP3okxz1E88Y/C18ZSZH5xz8LX30ko2aWv7rUvXqQ7sU/i9xKTc/L2T8dWx7sRUi2P+ZH0VwJC8o/m2Kob1Glyz+odJT3/mO7P5+BaUUJ060/rGEUj1qKpT8ZD1u17WnSP9vZWA4cWOQ/h+SAqCEPxD/fyGhLN93MP1tVM5qST40/+r6UTDbg0T+h42ol+WPNP1TB8Tz/fLw/GYXD+23+2T+4ZKE5D/vaP4wSKMQIaMs/lLRnVP3xwD+Q4G5R1Eu8P212zL5rlMM/FhdketB00D9GMGnyWUm6v3oYfUvPrNO/xxERaN1lt78V+RYnbEPQP9FI9JGCI+E/USGS8GfL4D/mTexJmCjRPy49X1GLkqe/3/ao83tstj/AsWZfo8SFvyUh+/4sPbk//qDGfl41xj/6f0Mq0Xq0Pw==\",\"dtype\":\"float64\",\"order\":\"little\",\"shape\":[137]}},\"selected\":{\"id\":\"2311\"},\"selection_policy\":{\"id\":\"2310\"}},\"id\":\"2215\",\"type\":\"ColumnDataSource\"},{\"attributes\":{\"line_alpha\":0.1,\"line_color\":\"green\",\"line_width\":2.5,\"x\":{\"field\":\"x\"},\"y\":{\"field\":\"y\"}},\"id\":\"2217\",\"type\":\"Line\"},{\"attributes\":{\"line_alpha\":0.1,\"line_color\":\"navy\",\"line_width\":2.5,\"x\":{\"field\":\"x\"},\"y\":{\"field\":\"y\"}},\"id\":\"2212\",\"type\":\"Line\"},{\"attributes\":{\"line_alpha\":0.1,\"line_color\":\"red\",\"line_width\":2.5,\"x\":{\"field\":\"x\"},\"y\":{\"field\":\"y\"}},\"id\":\"2222\",\"type\":\"Line\"},{\"attributes\":{\"line_color\":\"navy\",\"line_width\":2.5,\"x\":{\"field\":\"x\"},\"y\":{\"field\":\"y\"}},\"id\":\"2211\",\"type\":\"Line\"},{\"attributes\":{},\"id\":\"2312\",\"type\":\"UnionRenderers\"},{\"attributes\":{},\"id\":\"2196\",\"type\":\"PanTool\"},{\"attributes\":{\"data_source\":{\"id\":\"2220\"},\"glyph\":{\"id\":\"2221\"},\"hover_glyph\":null,\"muted_glyph\":null,\"nonselection_glyph\":{\"id\":\"2222\"},\"selection_glyph\":null,\"view\":{\"id\":\"2224\"}},\"id\":\"2223\",\"type\":\"GlyphRenderer\"},{\"attributes\":{\"source\":{\"id\":\"2210\"}},\"id\":\"2214\",\"type\":\"CDSView\"},{\"attributes\":{},\"id\":\"2313\",\"type\":\"Selection\"},{\"attributes\":{\"source\":{\"id\":\"2225\"}},\"id\":\"2229\",\"type\":\"CDSView\"},{\"attributes\":{\"line_alpha\":0.1,\"line_color\":\"orange\",\"line_width\":2.5,\"x\":{\"field\":\"x\"},\"y\":{\"field\":\"y\"}},\"id\":\"2227\",\"type\":\"Line\"},{\"attributes\":{},\"id\":\"2201\",\"type\":\"HelpTool\"},{\"attributes\":{\"line_color\":\"green\",\"line_width\":2.5,\"x\":{\"field\":\"x\"},\"y\":{\"field\":\"y\"}},\"id\":\"2216\",\"type\":\"Line\"},{\"attributes\":{\"axis\":{\"id\":\"2192\"},\"dimension\":1,\"ticker\":null},\"id\":\"2195\",\"type\":\"Grid\"},{\"attributes\":{},\"id\":\"2199\",\"type\":\"SaveTool\"},{\"attributes\":{\"bottom_units\":\"screen\",\"fill_alpha\":0.5,\"fill_color\":\"lightgrey\",\"left_units\":\"screen\",\"level\":\"overlay\",\"line_alpha\":1.0,\"line_color\":\"black\",\"line_dash\":[4,4],\"line_width\":2,\"right_units\":\"screen\",\"top_units\":\"screen\"},\"id\":\"2202\",\"type\":\"BoxAnnotation\"},{\"attributes\":{},\"id\":\"2180\",\"type\":\"DataRange1d\"},{\"attributes\":{\"active_drag\":\"auto\",\"active_inspect\":\"auto\",\"active_multi\":null,\"active_scroll\":\"auto\",\"active_tap\":\"auto\",\"tools\":[{\"id\":\"2196\"},{\"id\":\"2197\"},{\"id\":\"2198\"},{\"id\":\"2199\"},{\"id\":\"2200\"},{\"id\":\"2201\"}]},\"id\":\"2203\",\"type\":\"Toolbar\"},{\"attributes\":{\"axis\":{\"id\":\"2188\"},\"ticker\":null},\"id\":\"2191\",\"type\":\"Grid\"}],\"root_ids\":[\"2177\"]},\"title\":\"Bokeh Application\",\"version\":\"2.1.1\"}};\n",
       "  var render_items = [{\"docid\":\"2d3f9505-796f-41fe-8125-0422c63c6868\",\"root_ids\":[\"2177\"],\"roots\":{\"2177\":\"d2e1e6c7-470a-492f-b91f-cbff29b4b806\"}}];\n",
       "  root.Bokeh.embed.embed_items_notebook(docs_json, render_items);\n",
       "\n",
       "  }\n",
       "  if (root.Bokeh !== undefined) {\n",
       "    embed_document(root);\n",
       "  } else {\n",
       "    var attempts = 0;\n",
       "    var timer = setInterval(function(root) {\n",
       "      if (root.Bokeh !== undefined) {\n",
       "        clearInterval(timer);\n",
       "        embed_document(root);\n",
       "      } else {\n",
       "        attempts++;\n",
       "        if (attempts > 100) {\n",
       "          clearInterval(timer);\n",
       "          console.log(\"Bokeh: ERROR: Unable to run BokehJS code because BokehJS library is missing\");\n",
       "        }\n",
       "      }\n",
       "    }, 10, root)\n",
       "  }\n",
       "})(window);"
      ],
      "application/vnd.bokehjs_exec.v0+json": ""
     },
     "metadata": {
      "application/vnd.bokehjs_exec.v0+json": {
       "id": "2177"
      }
     },
     "output_type": "display_data"
    }
   ],
   "source": [
    "#plotting the monthly inflation rates computed from CPI, and Pricestats\n",
    "p = figure(plot_width=400, plot_height=400, title = \"Monthly Inflation Rate in %\")\n",
    "p.line(cpi.index,cpi['IR_cpi'],line_color=\"navy\",line_width =2.5)\n",
    "p.line(ps_monthly.index,ps_monthly.IR_ps,line_color=\"green\",line_width =2.5)\n",
    "p.line(ps_monthly_last.index,ps_monthly_last.IR_ps_last,line_color=\"red\",line_width =2.5)\n",
    "p.line(ps_monthly_last.index,ps_monthly_daily.IR,line_color=\"orange\",line_width =2.5)\n",
    "# p.line(cpi_train.index[1:],ber_ir_train.IR_ber,line_color=\"red\",line_width=2.5,legend_label =\"BER (Avg)\")\n",
    "\n",
    "\n",
    "p.xaxis.axis_label ='t'\n",
    "p.yaxis.axis_label ='CPI'\n",
    "\n",
    "\n",
    "show(p)"
   ]
  },
  {
   "cell_type": "code",
   "execution_count": 28,
   "metadata": {},
   "outputs": [
    {
     "name": "stderr",
     "output_type": "stream",
     "text": [
      "BokehUserWarning: ColumnDataSource's columns must be of the same length. Current lengths: ('x', 61), ('y', 62)\n",
      "BokehUserWarning: ColumnDataSource's columns must be of the same length. Current lengths: ('x', 61), ('y', 62)\n"
     ]
    },
    {
     "data": {
      "text/html": [
       "\n",
       "\n",
       "\n",
       "\n",
       "\n",
       "\n",
       "  <div class=\"bk-root\" id=\"3fab73a0-5fbb-4515-8263-b47bfb8b9fb2\" data-root-id=\"3050\"></div>\n"
      ]
     },
     "metadata": {},
     "output_type": "display_data"
    },
    {
     "data": {
      "application/javascript": [
       "(function(root) {\n",
       "  function embed_document(root) {\n",
       "    \n",
       "  var docs_json = {\"2ffe0aa3-1ac1-48f6-8449-9ad708176b46\":{\"roots\":{\"references\":[{\"attributes\":{\"below\":[{\"id\":\"3061\"}],\"center\":[{\"id\":\"3064\"},{\"id\":\"3068\"},{\"id\":\"3096\"}],\"left\":[{\"id\":\"3065\"}],\"plot_height\":300,\"plot_width\":800,\"renderers\":[{\"id\":\"3086\"},{\"id\":\"3101\"},{\"id\":\"3117\"},{\"id\":\"3135\"}],\"title\":{\"id\":\"3051\"},\"toolbar\":{\"id\":\"3076\"},\"x_range\":{\"id\":\"3053\"},\"x_scale\":{\"id\":\"3057\"},\"y_range\":{\"id\":\"3055\"},\"y_scale\":{\"id\":\"3059\"}},\"id\":\"3050\",\"subtype\":\"Figure\",\"type\":\"Plot\"},{\"attributes\":{\"data\":{\"x\":[1,2,3,4,5,6,7,8,9,10,11,12,13,14,15,16,17,18,19,20,21,22,23,24,25,26,27,28,29,30,31,32,33,34,35,36,37,38,39,40,41,42,43,44,45,46,47,48,49,50,51,52,53,54,55,56,57,58,59,60,61],\"y\":[\"YearMonth\",\"PS\",\"IR_ps\"]},\"selected\":{\"id\":\"3095\"},\"selection_policy\":{\"id\":\"3094\"}},\"id\":\"3083\",\"type\":\"ColumnDataSource\"},{\"attributes\":{},\"id\":\"3150\",\"type\":\"Selection\"},{\"attributes\":{},\"id\":\"3091\",\"type\":\"BasicTickFormatter\"},{\"attributes\":{},\"id\":\"3112\",\"type\":\"Selection\"},{\"attributes\":{\"overlay\":{\"id\":\"3075\"}},\"id\":\"3071\",\"type\":\"BoxZoomTool\"},{\"attributes\":{},\"id\":\"3074\",\"type\":\"HelpTool\"},{\"attributes\":{\"line_alpha\":0.1,\"line_width\":2.5,\"x\":{\"field\":\"x\"},\"y\":{\"field\":\"y\"}},\"id\":\"3085\",\"type\":\"Line\"},{\"attributes\":{\"active_drag\":\"auto\",\"active_inspect\":\"auto\",\"active_multi\":null,\"active_scroll\":\"auto\",\"active_tap\":\"auto\",\"tools\":[{\"id\":\"3069\"},{\"id\":\"3070\"},{\"id\":\"3071\"},{\"id\":\"3072\"},{\"id\":\"3073\"},{\"id\":\"3074\"}]},\"id\":\"3076\",\"type\":\"Toolbar\"},{\"attributes\":{},\"id\":\"3095\",\"type\":\"Selection\"},{\"attributes\":{\"line_width\":2.5,\"x\":{\"field\":\"x\"},\"y\":{\"field\":\"y\"}},\"id\":\"3084\",\"type\":\"Line\"},{\"attributes\":{},\"id\":\"3129\",\"type\":\"UnionRenderers\"},{\"attributes\":{\"bottom_units\":\"screen\",\"fill_alpha\":0.5,\"fill_color\":\"lightgrey\",\"left_units\":\"screen\",\"level\":\"overlay\",\"line_alpha\":1.0,\"line_color\":\"black\",\"line_dash\":[4,4],\"line_width\":2,\"right_units\":\"screen\",\"top_units\":\"screen\"},\"id\":\"3075\",\"type\":\"BoxAnnotation\"},{\"attributes\":{},\"id\":\"3059\",\"type\":\"LinearScale\"},{\"attributes\":{\"line_color\":\"red\",\"line_width\":2.5,\"x\":{\"field\":\"x\"},\"y\":{\"field\":\"y\"}},\"id\":\"3115\",\"type\":\"Line\"},{\"attributes\":{\"data\":{\"x\":[0,1,2,3,4,5,6,7,8,9,10,11,12,13,14,15,16,17,18,19,20,21,22,23,24,25,26,27,28,29,30,31,32,33,34,35,36,37,38,39,40,41,42,43,44,45,46,47,48,49,50,51,52,53,54,55,56,57,58,59,60,61],\"y\":{\"__ndarray__\":\"8DhFR/L6WEDfn0dgiu5YQDI19hJQ8VhAwuCD7bjAWEAjb5NkME5YQDwQDEHLDVhAWNBb2AogWEBoUdwyYklYQJ5EbTHQVlhA9NVVgVpnWEB/g53+I39YQO8w7Zv7kFhAA+dJxqylWEBGomB47a1YQAtlziArsVhAhDDYyni0WEA0I5anhsZYQGr/k3FUvVhATi4qcjrbWECRsZnB29RYQLfoQ1o2/FhAFu5v4ykcWUAGvUJLQDZZQEvAwlxlHllAhtmfotQ1WUCfAH/M5TxZQNFcp5GWQFlAdvPaS11dWUAHbPRXtXNZQGsJ+aBnf1lA0oYcv4CQWUCivqp2DKFZQFuDRX05t1lAPCZ4ME/mWUA6c8HhXgVaQHub/uxH7FlAq1v6xHzzWUCj+kkvi/pZQCPzyB8MCFpAL8WMPh75WUDXf4rQ9fpZQGhHXMh86FlA6yJjn28AWkDtTtxaWyhaQAUEMJK4ZVpAHD1+b9N/WkAh5a2Zv21aQKbH7236U1pAXLJLEQ1NWkA7sYYy8INaQGAn4pooqVpAmqGXlI6rWkCuV2s7gI5aQIwhezc3e1pA9MuMoEeBWkB1JJf/kMdaQEh438EB3VpA1g/EjAPWWkBC0c0JBuFaQCxFBWGB5lpAu919VvLpWkD5qGWu3/FaQA==\",\"dtype\":\"float64\",\"order\":\"little\",\"shape\":[62]}},\"selected\":{\"id\":\"3150\"},\"selection_policy\":{\"id\":\"3149\"}},\"id\":\"3132\",\"type\":\"ColumnDataSource\"},{\"attributes\":{},\"id\":\"3066\",\"type\":\"BasicTicker\"},{\"attributes\":{},\"id\":\"3130\",\"type\":\"Selection\"},{\"attributes\":{\"source\":{\"id\":\"3098\"}},\"id\":\"3102\",\"type\":\"CDSView\"},{\"attributes\":{\"data\":{\"x\":[1,2,3,4,5,6,7,8,9,10,11,12,13,14,15,16,17,18,19,20,21,22,23,24,25,26,27,28,29,30,31,32,33,34,35,36,37,38,39,40,41,42,43,44,45,46,47,48,49,50,51,52,53,54,55,56,57,58,59,60,61],\"y\":{\"__ndarray__\":\"AAAAAAAA+H9wbZ/50tTIvzCH9WcdPaY/WYAdDuFZ6L+lVB/YVOv8v5fekuwOj/C/D5pzBFf30j9UIhK0kGvlP3Cjlx/zpcs/I0ZzlEn90D8ZPLBTR17YP+o0Xkd4NdI/+Oeyp6wO1T9x8IAT4b3AP6Jzlex7Q6o/N6FNJq/Bqj9HqhK5DkXSP76UV5QWj8K/G7DzMZM23j8jTeHQc6C5v1uEgAF8z+M/eQGEKmH43z+r4udCJfnZP+707ZGZp9e/EJQFM+pS1z/WYuVQSwi8P48DFNPrPq0/Fv/kNyB93D/z94BKzQXWP0WMECM5+sY/0kun5a7D0D9TLJUzMS7QP/PVBS+todU/s0eTRxzj5j+x3Rjde/vdP+6BIqnwGti/abwk6KLMuz/Q0DE11jC7P1VqTCZq/ck/781/uuSszL/DjWCsb16cP4VCU3uXxtG/VTkoyu8b1z9A7ufQAjHjP1PwZrv9Uu0/2e8VJRu52D+6eeaK/g3Rv5lW8xiJYNi/EDd6uqNPur/AlOtsCxbqP9cxD5vsi+E/KBMqSdX9oT/endTQijzbv19EK5egJ9K/LKkXbknmtj/baI1R65LwP9xy6AgFBNQ/kd774CIIur9u9ndRUoPEP+FvEL/0ZLQ/9784pMeVqT8zf6bkJHS9Pw==\",\"dtype\":\"float64\",\"order\":\"little\",\"shape\":[62]}},\"selected\":{\"id\":\"3112\"},\"selection_policy\":{\"id\":\"3111\"}},\"id\":\"3098\",\"type\":\"ColumnDataSource\"},{\"attributes\":{},\"id\":\"3073\",\"type\":\"ResetTool\"},{\"attributes\":{},\"id\":\"3072\",\"type\":\"SaveTool\"},{\"attributes\":{\"source\":{\"id\":\"3114\"}},\"id\":\"3118\",\"type\":\"CDSView\"},{\"attributes\":{},\"id\":\"3094\",\"type\":\"UnionRenderers\"},{\"attributes\":{\"line_alpha\":0.1,\"line_color\":\"red\",\"line_width\":2.5,\"x\":{\"field\":\"x\"},\"y\":{\"field\":\"y\"}},\"id\":\"3116\",\"type\":\"Line\"},{\"attributes\":{\"axis\":{\"id\":\"3065\"},\"dimension\":1,\"ticker\":null},\"id\":\"3068\",\"type\":\"Grid\"},{\"attributes\":{},\"id\":\"3057\",\"type\":\"LinearScale\"},{\"attributes\":{\"label\":{\"value\":\"PriceStats (Avg of IR)\"},\"renderers\":[{\"id\":\"3117\"},{\"id\":\"3135\"}]},\"id\":\"3131\",\"type\":\"LegendItem\"},{\"attributes\":{\"line_color\":\"red\",\"line_width\":2.5,\"x\":{\"field\":\"x\"},\"y\":{\"field\":\"y\"}},\"id\":\"3133\",\"type\":\"Line\"},{\"attributes\":{\"items\":[{\"id\":\"3097\"},{\"id\":\"3113\"},{\"id\":\"3131\"}]},\"id\":\"3096\",\"type\":\"Legend\"},{\"attributes\":{},\"id\":\"3069\",\"type\":\"PanTool\"},{\"attributes\":{},\"id\":\"3062\",\"type\":\"BasicTicker\"},{\"attributes\":{\"data_source\":{\"id\":\"3132\"},\"glyph\":{\"id\":\"3133\"},\"hover_glyph\":null,\"muted_glyph\":null,\"nonselection_glyph\":{\"id\":\"3134\"},\"selection_glyph\":null,\"view\":{\"id\":\"3136\"}},\"id\":\"3135\",\"type\":\"GlyphRenderer\"},{\"attributes\":{\"line_alpha\":0.1,\"line_color\":\"green\",\"line_width\":2.5,\"x\":{\"field\":\"x\"},\"y\":{\"field\":\"y\"}},\"id\":\"3100\",\"type\":\"Line\"},{\"attributes\":{\"text\":\"Inflation Rates\"},\"id\":\"3051\",\"type\":\"Title\"},{\"attributes\":{\"label\":{\"value\":\"PriceStats (Last Day)\"},\"renderers\":[{\"id\":\"3086\"}]},\"id\":\"3097\",\"type\":\"LegendItem\"},{\"attributes\":{\"label\":{\"value\":\"PriceStats (Avg)\"},\"renderers\":[{\"id\":\"3101\"}]},\"id\":\"3113\",\"type\":\"LegendItem\"},{\"attributes\":{\"formatter\":{\"id\":\"3091\"},\"ticker\":{\"id\":\"3066\"}},\"id\":\"3065\",\"type\":\"LinearAxis\"},{\"attributes\":{\"line_color\":\"green\",\"line_width\":2.5,\"x\":{\"field\":\"x\"},\"y\":{\"field\":\"y\"}},\"id\":\"3099\",\"type\":\"Line\"},{\"attributes\":{\"formatter\":{\"id\":\"3089\"},\"ticker\":{\"id\":\"3062\"}},\"id\":\"3061\",\"type\":\"LinearAxis\"},{\"attributes\":{},\"id\":\"3053\",\"type\":\"DataRange1d\"},{\"attributes\":{},\"id\":\"3089\",\"type\":\"BasicTickFormatter\"},{\"attributes\":{\"data_source\":{\"id\":\"3083\"},\"glyph\":{\"id\":\"3084\"},\"hover_glyph\":null,\"muted_glyph\":null,\"nonselection_glyph\":{\"id\":\"3085\"},\"selection_glyph\":null,\"view\":{\"id\":\"3087\"}},\"id\":\"3086\",\"type\":\"GlyphRenderer\"},{\"attributes\":{},\"id\":\"3055\",\"type\":\"DataRange1d\"},{\"attributes\":{},\"id\":\"3070\",\"type\":\"WheelZoomTool\"},{\"attributes\":{\"data\":{\"x\":[0,1,2,3,4,5,6,7,8,9,10,11,12,13,14,15,16,17,18,19,20,21,22,23,24,25,26,27,28,29,30,31,32,33,34,35,36,37,38,39,40,41,42,43,44,45,46,47,48,49,50,51,52,53,54,55,56,57,58,59,60,61],\"y\":{\"__ndarray__\":\"8DhFR/L6WEDfn0dgiu5YQDI19hJQ8VhAwuCD7bjAWEAjb5NkME5YQDwQDEHLDVhAWNBb2AogWEBoUdwyYklYQJ5EbTHQVlhA9NVVgVpnWEB/g53+I39YQO8w7Zv7kFhAA+dJxqylWEBGomB47a1YQAtlziArsVhAhDDYyni0WEA0I5anhsZYQGr/k3FUvVhATi4qcjrbWECRsZnB29RYQLfoQ1o2/FhAFu5v4ykcWUAGvUJLQDZZQEvAwlxlHllAhtmfotQ1WUCfAH/M5TxZQNFcp5GWQFlAdvPaS11dWUAHbPRXtXNZQGsJ+aBnf1lA0oYcv4CQWUCivqp2DKFZQFuDRX05t1lAPCZ4ME/mWUA6c8HhXgVaQHub/uxH7FlAq1v6xHzzWUCj+kkvi/pZQCPzyB8MCFpAL8WMPh75WUDXf4rQ9fpZQGhHXMh86FlA6yJjn28AWkDtTtxaWyhaQAUEMJK4ZVpAHD1+b9N/WkAh5a2Zv21aQKbH7236U1pAXLJLEQ1NWkA7sYYy8INaQGAn4pooqVpAmqGXlI6rWkCuV2s7gI5aQIwhezc3e1pA9MuMoEeBWkB1JJf/kMdaQEh438EB3VpA1g/EjAPWWkBC0c0JBuFaQCxFBWGB5lpAu919VvLpWkD5qGWu3/FaQA==\",\"dtype\":\"float64\",\"order\":\"little\",\"shape\":[62]}},\"selected\":{\"id\":\"3130\"},\"selection_policy\":{\"id\":\"3129\"}},\"id\":\"3114\",\"type\":\"ColumnDataSource\"},{\"attributes\":{\"source\":{\"id\":\"3132\"}},\"id\":\"3136\",\"type\":\"CDSView\"},{\"attributes\":{\"line_alpha\":0.1,\"line_color\":\"red\",\"line_width\":2.5,\"x\":{\"field\":\"x\"},\"y\":{\"field\":\"y\"}},\"id\":\"3134\",\"type\":\"Line\"},{\"attributes\":{\"data_source\":{\"id\":\"3098\"},\"glyph\":{\"id\":\"3099\"},\"hover_glyph\":null,\"muted_glyph\":null,\"nonselection_glyph\":{\"id\":\"3100\"},\"selection_glyph\":null,\"view\":{\"id\":\"3102\"}},\"id\":\"3101\",\"type\":\"GlyphRenderer\"},{\"attributes\":{},\"id\":\"3111\",\"type\":\"UnionRenderers\"},{\"attributes\":{\"axis\":{\"id\":\"3061\"},\"ticker\":null},\"id\":\"3064\",\"type\":\"Grid\"},{\"attributes\":{\"source\":{\"id\":\"3083\"}},\"id\":\"3087\",\"type\":\"CDSView\"},{\"attributes\":{\"data_source\":{\"id\":\"3114\"},\"glyph\":{\"id\":\"3115\"},\"hover_glyph\":null,\"muted_glyph\":null,\"nonselection_glyph\":{\"id\":\"3116\"},\"selection_glyph\":null,\"view\":{\"id\":\"3118\"}},\"id\":\"3117\",\"type\":\"GlyphRenderer\"},{\"attributes\":{},\"id\":\"3149\",\"type\":\"UnionRenderers\"}],\"root_ids\":[\"3050\"]},\"title\":\"Bokeh Application\",\"version\":\"2.1.1\"}};\n",
       "  var render_items = [{\"docid\":\"2ffe0aa3-1ac1-48f6-8449-9ad708176b46\",\"root_ids\":[\"3050\"],\"roots\":{\"3050\":\"3fab73a0-5fbb-4515-8263-b47bfb8b9fb2\"}}];\n",
       "  root.Bokeh.embed.embed_items_notebook(docs_json, render_items);\n",
       "\n",
       "  }\n",
       "  if (root.Bokeh !== undefined) {\n",
       "    embed_document(root);\n",
       "  } else {\n",
       "    var attempts = 0;\n",
       "    var timer = setInterval(function(root) {\n",
       "      if (root.Bokeh !== undefined) {\n",
       "        clearInterval(timer);\n",
       "        embed_document(root);\n",
       "      } else {\n",
       "        attempts++;\n",
       "        if (attempts > 100) {\n",
       "          clearInterval(timer);\n",
       "          console.log(\"Bokeh: ERROR: Unable to run BokehJS code because BokehJS library is missing\");\n",
       "        }\n",
       "      }\n",
       "    }, 10, root)\n",
       "  }\n",
       "})(window);"
      ],
      "application/vnd.bokehjs_exec.v0+json": ""
     },
     "metadata": {
      "application/vnd.bokehjs_exec.v0+json": {
       "id": "3050"
      }
     },
     "output_type": "display_data"
    }
   ],
   "source": [
    "p = figure(plot_width=800, plot_height=300, title = \"Inflation Rates\")\n",
    "p.line(cpi_train.index[1:],ps_ir_train,line_width =2.5, line_color=\"black\", legend_label =\"PriceStats (Last Day)\")\n",
    "p.line(cpi_train.index[1:],ps_ir_train.IR_ps,line_width =2.5, line_color=\"green\", legend_label =\"PriceStats (Avg)\")\n",
    "p.line(cpi_train.index[0:],ps_ir_train3.PS,line_width =2.5, line_color=\"red\", legend_label =\"PriceStats (Avg of IR)\")\n",
    "p.line(cpi_train.index[0:],ps_ir_train3.PS,line_width =2.5, line_color=\"red\", legend_label =\"PriceStats (Avg of IR)\")\n",
    "\n",
    "\n",
    "show(p)"
   ]
  },
  {
   "cell_type": "markdown",
   "metadata": {},
   "source": [
    "Now we move on to converting BER to monthly inflation rates. Just like in PriceStats, BER is reported on a daily basis. We first choose a monthly representative value by averaging the BER across all days of the month. BER is already a rate, however it is reported across a 10 year period. In order to convert this to a monthly value, we must then deannualize it using the following formula.\n",
    "> $BER_t = (BER_t +1)^\\frac{1}{12} -1$"
   ]
  },
  {
   "cell_type": "code",
   "execution_count": 29,
   "metadata": {},
   "outputs": [
    {
     "name": "stdout",
     "output_type": "stream",
     "text": [
      "The inflation rate from BER for the month of February in 2013 was 0.210441852 %\n"
     ]
    }
   ],
   "source": [
    "ber = pd.read_csv('T10YIE.csv')\n",
    "ber['DATE'] =pd.to_datetime(ber['DATE'])\n",
    "ber['YearMonth'] = ber['DATE'].dt.strftime('%Y-%m')\n",
    "ber = ber.drop(ber[ber.YearMonth< '2008-07'].index)\n",
    "ber = ber.dropna()\n",
    "# print(ber)\n",
    "\n",
    "ber_monthly = pd.DataFrame(columns =['YearMonth','BER'])\n",
    "ber_monthly['BER'] =ber.groupby('YearMonth').T10YIE.mean().values\n",
    "ber_monthly['YearMonth'] = cpi.YearMonth\n",
    "ber_monthly.drop([0])\n",
    "\n",
    "# print(ber_monthly)\n",
    "ber_ir_train = (ber_monthly[ber_monthly.YearMonth<'2013-09'].copy())\n",
    "ber_ir_test = (ber_monthly[ber_monthly.YearMonth >='2013-09'].copy())\n",
    "\n",
    "\n",
    "ber_ir_train['IR_ber'] = ((ber_ir_train.BER.values/100+1)**(1/12)-1)*100\n",
    "ber_ir_test['IR_ber'] = ((ber_ir_test.BER.values/100+1)**(1/12)-1)*100\n",
    "print(\"The inflation rate from BER for the month of February in 2013 was %0.9f\" % ber_ir_train[ber_ir_train.YearMonth == '2013-02']['IR_ber'] + \" %\")"
   ]
  },
  {
   "cell_type": "code",
   "execution_count": null,
   "metadata": {},
   "outputs": [],
   "source": []
  }
 ],
 "metadata": {
  "kernelspec": {
   "display_name": "Python 3",
   "language": "python",
   "name": "python3"
  },
  "language_info": {
   "codemirror_mode": {
    "name": "ipython",
    "version": 3
   },
   "file_extension": ".py",
   "mimetype": "text/x-python",
   "name": "python",
   "nbconvert_exporter": "python",
   "pygments_lexer": "ipython3",
   "version": "3.8.3"
  }
 },
 "nbformat": 4,
 "nbformat_minor": 4
}
