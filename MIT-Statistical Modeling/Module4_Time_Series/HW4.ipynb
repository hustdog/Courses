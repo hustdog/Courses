{
 "cells": [
  {
   "cell_type": "markdown",
   "metadata": {},
   "source": [
    "**MITx 6.419x  Data Analysis: Statistical Modeling and Computation in Applications**  \n",
    "Written report -- Homework 4  \n",
    "Xing Zhang  \n",
    "5/14/21  \n",
    "---"
   ]
  },
  {
   "cell_type": "markdown",
   "metadata": {
    "tags": []
   },
   "source": [
    "## Module 4: Time Series"
   ]
  },
  {
   "cell_type": "markdown",
   "metadata": {
    "tags": []
   },
   "source": [
    "### Problem 2: The Mauna Loa CO<sub>2</sub> Concentration\n",
    "### The final model"
   ]
  },
  {
   "cell_type": "markdown",
   "metadata": {
    "tags": [
     "question:2.1",
     "points:3"
    ]
   },
   "source": [
    "**1.** (3 points) Plot the periodic signal $P_i$. (Your plot should have 1 data point for each month, so 12 in total.) Clearly state the definition the $P_i$, and make sure your plot is clearly labeled.\n",
    ">Python tip: For interpolation, you may use interp1d from Scikit-learn. See Documentation on interp1d."
   ]
  },
  {
   "cell_type": "markdown",
   "metadata": {},
   "source": [
    "### Solution:\n",
    "In this problem, it has been assumed that the time period is 12 (which seems to be valid as CO2 concentration is linked to seasonal variation.) First we extract the periodic monthly trend by taking the average of the periodic trend over all months. Next, we interpolate between this values to get a continuous periodic signal."
   ]
  },
  {
   "cell_type": "code",
   "execution_count": 21,
   "metadata": {},
   "outputs": [
    {
     "data": {
      "text/html": [
       "\n",
       "    <div class=\"bk-root\">\n",
       "        <a href=\"https://bokeh.org\" target=\"_blank\" class=\"bk-logo bk-logo-small bk-logo-notebook\"></a>\n",
       "        <span id=\"6504\">Loading BokehJS ...</span>\n",
       "    </div>"
      ]
     },
     "metadata": {},
     "output_type": "display_data"
    },
    {
     "data": {
      "application/javascript": [
       "\n",
       "(function(root) {\n",
       "  function now() {\n",
       "    return new Date();\n",
       "  }\n",
       "\n",
       "  var force = true;\n",
       "\n",
       "  if (typeof root._bokeh_onload_callbacks === \"undefined\" || force === true) {\n",
       "    root._bokeh_onload_callbacks = [];\n",
       "    root._bokeh_is_loading = undefined;\n",
       "  }\n",
       "\n",
       "  var JS_MIME_TYPE = 'application/javascript';\n",
       "  var HTML_MIME_TYPE = 'text/html';\n",
       "  var EXEC_MIME_TYPE = 'application/vnd.bokehjs_exec.v0+json';\n",
       "  var CLASS_NAME = 'output_bokeh rendered_html';\n",
       "\n",
       "  /**\n",
       "   * Render data to the DOM node\n",
       "   */\n",
       "  function render(props, node) {\n",
       "    var script = document.createElement(\"script\");\n",
       "    node.appendChild(script);\n",
       "  }\n",
       "\n",
       "  /**\n",
       "   * Handle when an output is cleared or removed\n",
       "   */\n",
       "  function handleClearOutput(event, handle) {\n",
       "    var cell = handle.cell;\n",
       "\n",
       "    var id = cell.output_area._bokeh_element_id;\n",
       "    var server_id = cell.output_area._bokeh_server_id;\n",
       "    // Clean up Bokeh references\n",
       "    if (id != null && id in Bokeh.index) {\n",
       "      Bokeh.index[id].model.document.clear();\n",
       "      delete Bokeh.index[id];\n",
       "    }\n",
       "\n",
       "    if (server_id !== undefined) {\n",
       "      // Clean up Bokeh references\n",
       "      var cmd = \"from bokeh.io.state import curstate; print(curstate().uuid_to_server['\" + server_id + \"'].get_sessions()[0].document.roots[0]._id)\";\n",
       "      cell.notebook.kernel.execute(cmd, {\n",
       "        iopub: {\n",
       "          output: function(msg) {\n",
       "            var id = msg.content.text.trim();\n",
       "            if (id in Bokeh.index) {\n",
       "              Bokeh.index[id].model.document.clear();\n",
       "              delete Bokeh.index[id];\n",
       "            }\n",
       "          }\n",
       "        }\n",
       "      });\n",
       "      // Destroy server and session\n",
       "      var cmd = \"import bokeh.io.notebook as ion; ion.destroy_server('\" + server_id + \"')\";\n",
       "      cell.notebook.kernel.execute(cmd);\n",
       "    }\n",
       "  }\n",
       "\n",
       "  /**\n",
       "   * Handle when a new output is added\n",
       "   */\n",
       "  function handleAddOutput(event, handle) {\n",
       "    var output_area = handle.output_area;\n",
       "    var output = handle.output;\n",
       "\n",
       "    // limit handleAddOutput to display_data with EXEC_MIME_TYPE content only\n",
       "    if ((output.output_type != \"display_data\") || (!output.data.hasOwnProperty(EXEC_MIME_TYPE))) {\n",
       "      return\n",
       "    }\n",
       "\n",
       "    var toinsert = output_area.element.find(\".\" + CLASS_NAME.split(' ')[0]);\n",
       "\n",
       "    if (output.metadata[EXEC_MIME_TYPE][\"id\"] !== undefined) {\n",
       "      toinsert[toinsert.length - 1].firstChild.textContent = output.data[JS_MIME_TYPE];\n",
       "      // store reference to embed id on output_area\n",
       "      output_area._bokeh_element_id = output.metadata[EXEC_MIME_TYPE][\"id\"];\n",
       "    }\n",
       "    if (output.metadata[EXEC_MIME_TYPE][\"server_id\"] !== undefined) {\n",
       "      var bk_div = document.createElement(\"div\");\n",
       "      bk_div.innerHTML = output.data[HTML_MIME_TYPE];\n",
       "      var script_attrs = bk_div.children[0].attributes;\n",
       "      for (var i = 0; i < script_attrs.length; i++) {\n",
       "        toinsert[toinsert.length - 1].firstChild.setAttribute(script_attrs[i].name, script_attrs[i].value);\n",
       "        toinsert[toinsert.length - 1].firstChild.textContent = bk_div.children[0].textContent\n",
       "      }\n",
       "      // store reference to server id on output_area\n",
       "      output_area._bokeh_server_id = output.metadata[EXEC_MIME_TYPE][\"server_id\"];\n",
       "    }\n",
       "  }\n",
       "\n",
       "  function register_renderer(events, OutputArea) {\n",
       "\n",
       "    function append_mime(data, metadata, element) {\n",
       "      // create a DOM node to render to\n",
       "      var toinsert = this.create_output_subarea(\n",
       "        metadata,\n",
       "        CLASS_NAME,\n",
       "        EXEC_MIME_TYPE\n",
       "      );\n",
       "      this.keyboard_manager.register_events(toinsert);\n",
       "      // Render to node\n",
       "      var props = {data: data, metadata: metadata[EXEC_MIME_TYPE]};\n",
       "      render(props, toinsert[toinsert.length - 1]);\n",
       "      element.append(toinsert);\n",
       "      return toinsert\n",
       "    }\n",
       "\n",
       "    /* Handle when an output is cleared or removed */\n",
       "    events.on('clear_output.CodeCell', handleClearOutput);\n",
       "    events.on('delete.Cell', handleClearOutput);\n",
       "\n",
       "    /* Handle when a new output is added */\n",
       "    events.on('output_added.OutputArea', handleAddOutput);\n",
       "\n",
       "    /**\n",
       "     * Register the mime type and append_mime function with output_area\n",
       "     */\n",
       "    OutputArea.prototype.register_mime_type(EXEC_MIME_TYPE, append_mime, {\n",
       "      /* Is output safe? */\n",
       "      safe: true,\n",
       "      /* Index of renderer in `output_area.display_order` */\n",
       "      index: 0\n",
       "    });\n",
       "  }\n",
       "\n",
       "  // register the mime type if in Jupyter Notebook environment and previously unregistered\n",
       "  if (root.Jupyter !== undefined) {\n",
       "    var events = require('base/js/events');\n",
       "    var OutputArea = require('notebook/js/outputarea').OutputArea;\n",
       "\n",
       "    if (OutputArea.prototype.mime_types().indexOf(EXEC_MIME_TYPE) == -1) {\n",
       "      register_renderer(events, OutputArea);\n",
       "    }\n",
       "  }\n",
       "\n",
       "  \n",
       "  if (typeof (root._bokeh_timeout) === \"undefined\" || force === true) {\n",
       "    root._bokeh_timeout = Date.now() + 5000;\n",
       "    root._bokeh_failed_load = false;\n",
       "  }\n",
       "\n",
       "  var NB_LOAD_WARNING = {'data': {'text/html':\n",
       "     \"<div style='background-color: #fdd'>\\n\"+\n",
       "     \"<p>\\n\"+\n",
       "     \"BokehJS does not appear to have successfully loaded. If loading BokehJS from CDN, this \\n\"+\n",
       "     \"may be due to a slow or bad network connection. Possible fixes:\\n\"+\n",
       "     \"</p>\\n\"+\n",
       "     \"<ul>\\n\"+\n",
       "     \"<li>re-rerun `output_notebook()` to attempt to load from CDN again, or</li>\\n\"+\n",
       "     \"<li>use INLINE resources instead, as so:</li>\\n\"+\n",
       "     \"</ul>\\n\"+\n",
       "     \"<code>\\n\"+\n",
       "     \"from bokeh.resources import INLINE\\n\"+\n",
       "     \"output_notebook(resources=INLINE)\\n\"+\n",
       "     \"</code>\\n\"+\n",
       "     \"</div>\"}};\n",
       "\n",
       "  function display_loaded() {\n",
       "    var el = document.getElementById(\"6504\");\n",
       "    if (el != null) {\n",
       "      el.textContent = \"BokehJS is loading...\";\n",
       "    }\n",
       "    if (root.Bokeh !== undefined) {\n",
       "      if (el != null) {\n",
       "        el.textContent = \"BokehJS \" + root.Bokeh.version + \" successfully loaded.\";\n",
       "      }\n",
       "    } else if (Date.now() < root._bokeh_timeout) {\n",
       "      setTimeout(display_loaded, 100)\n",
       "    }\n",
       "  }\n",
       "\n",
       "\n",
       "  function run_callbacks() {\n",
       "    try {\n",
       "      root._bokeh_onload_callbacks.forEach(function(callback) {\n",
       "        if (callback != null)\n",
       "          callback();\n",
       "      });\n",
       "    } finally {\n",
       "      delete root._bokeh_onload_callbacks\n",
       "    }\n",
       "    console.debug(\"Bokeh: all callbacks have finished\");\n",
       "  }\n",
       "\n",
       "  function load_libs(css_urls, js_urls, callback) {\n",
       "    if (css_urls == null) css_urls = [];\n",
       "    if (js_urls == null) js_urls = [];\n",
       "\n",
       "    root._bokeh_onload_callbacks.push(callback);\n",
       "    if (root._bokeh_is_loading > 0) {\n",
       "      console.debug(\"Bokeh: BokehJS is being loaded, scheduling callback at\", now());\n",
       "      return null;\n",
       "    }\n",
       "    if (js_urls == null || js_urls.length === 0) {\n",
       "      run_callbacks();\n",
       "      return null;\n",
       "    }\n",
       "    console.debug(\"Bokeh: BokehJS not loaded, scheduling load and callback at\", now());\n",
       "    root._bokeh_is_loading = css_urls.length + js_urls.length;\n",
       "\n",
       "    function on_load() {\n",
       "      root._bokeh_is_loading--;\n",
       "      if (root._bokeh_is_loading === 0) {\n",
       "        console.debug(\"Bokeh: all BokehJS libraries/stylesheets loaded\");\n",
       "        run_callbacks()\n",
       "      }\n",
       "    }\n",
       "\n",
       "    function on_error() {\n",
       "      console.error(\"failed to load \" + url);\n",
       "    }\n",
       "\n",
       "    for (var i = 0; i < css_urls.length; i++) {\n",
       "      var url = css_urls[i];\n",
       "      const element = document.createElement(\"link\");\n",
       "      element.onload = on_load;\n",
       "      element.onerror = on_error;\n",
       "      element.rel = \"stylesheet\";\n",
       "      element.type = \"text/css\";\n",
       "      element.href = url;\n",
       "      console.debug(\"Bokeh: injecting link tag for BokehJS stylesheet: \", url);\n",
       "      document.body.appendChild(element);\n",
       "    }\n",
       "\n",
       "    const hashes = {\"https://cdn.bokeh.org/bokeh/release/bokeh-2.1.1.min.js\": \"kLr4fYcqcSpbuI95brIH3vnnYCquzzSxHPU6XGQCIkQRGJwhg0StNbj1eegrHs12\", \"https://cdn.bokeh.org/bokeh/release/bokeh-widgets-2.1.1.min.js\": \"xIGPmVtaOm+z0BqfSOMn4lOR6ciex448GIKG4eE61LsAvmGj48XcMQZtKcE/UXZe\", \"https://cdn.bokeh.org/bokeh/release/bokeh-tables-2.1.1.min.js\": \"Dc9u1wF/0zApGIWoBbH77iWEHtdmkuYWG839Uzmv8y8yBLXebjO9ZnERsde5Ln/P\", \"https://cdn.bokeh.org/bokeh/release/bokeh-gl-2.1.1.min.js\": \"cT9JaBz7GiRXdENrJLZNSC6eMNF3nh3fa5fTF51Svp+ukxPdwcU5kGXGPBgDCa2j\"};\n",
       "\n",
       "    for (var i = 0; i < js_urls.length; i++) {\n",
       "      var url = js_urls[i];\n",
       "      var element = document.createElement('script');\n",
       "      element.onload = on_load;\n",
       "      element.onerror = on_error;\n",
       "      element.async = false;\n",
       "      element.src = url;\n",
       "      if (url in hashes) {\n",
       "        element.crossOrigin = \"anonymous\";\n",
       "        element.integrity = \"sha384-\" + hashes[url];\n",
       "      }\n",
       "      console.debug(\"Bokeh: injecting script tag for BokehJS library: \", url);\n",
       "      document.head.appendChild(element);\n",
       "    }\n",
       "  };\n",
       "\n",
       "  function inject_raw_css(css) {\n",
       "    const element = document.createElement(\"style\");\n",
       "    element.appendChild(document.createTextNode(css));\n",
       "    document.body.appendChild(element);\n",
       "  }\n",
       "\n",
       "  \n",
       "  var js_urls = [\"https://cdn.bokeh.org/bokeh/release/bokeh-2.1.1.min.js\", \"https://cdn.bokeh.org/bokeh/release/bokeh-widgets-2.1.1.min.js\", \"https://cdn.bokeh.org/bokeh/release/bokeh-tables-2.1.1.min.js\", \"https://cdn.bokeh.org/bokeh/release/bokeh-gl-2.1.1.min.js\"];\n",
       "  var css_urls = [];\n",
       "  \n",
       "\n",
       "  var inline_js = [\n",
       "    function(Bokeh) {\n",
       "      Bokeh.set_log_level(\"info\");\n",
       "    },\n",
       "    function(Bokeh) {\n",
       "    \n",
       "    \n",
       "    }\n",
       "  ];\n",
       "\n",
       "  function run_inline_js() {\n",
       "    \n",
       "    if (root.Bokeh !== undefined || force === true) {\n",
       "      \n",
       "    for (var i = 0; i < inline_js.length; i++) {\n",
       "      inline_js[i].call(root, root.Bokeh);\n",
       "    }\n",
       "    if (force === true) {\n",
       "        display_loaded();\n",
       "      }} else if (Date.now() < root._bokeh_timeout) {\n",
       "      setTimeout(run_inline_js, 100);\n",
       "    } else if (!root._bokeh_failed_load) {\n",
       "      console.log(\"Bokeh: BokehJS failed to load within specified timeout.\");\n",
       "      root._bokeh_failed_load = true;\n",
       "    } else if (force !== true) {\n",
       "      var cell = $(document.getElementById(\"6504\")).parents('.cell').data().cell;\n",
       "      cell.output_area.append_execute_result(NB_LOAD_WARNING)\n",
       "    }\n",
       "\n",
       "  }\n",
       "\n",
       "  if (root._bokeh_is_loading === 0) {\n",
       "    console.debug(\"Bokeh: BokehJS loaded, going straight to plotting\");\n",
       "    run_inline_js();\n",
       "  } else {\n",
       "    load_libs(css_urls, js_urls, function() {\n",
       "      console.debug(\"Bokeh: BokehJS plotting callback run at\", now());\n",
       "      run_inline_js();\n",
       "    });\n",
       "  }\n",
       "}(window));"
      ],
      "application/vnd.bokehjs_load.v0+json": "\n(function(root) {\n  function now() {\n    return new Date();\n  }\n\n  var force = true;\n\n  if (typeof root._bokeh_onload_callbacks === \"undefined\" || force === true) {\n    root._bokeh_onload_callbacks = [];\n    root._bokeh_is_loading = undefined;\n  }\n\n  \n\n  \n  if (typeof (root._bokeh_timeout) === \"undefined\" || force === true) {\n    root._bokeh_timeout = Date.now() + 5000;\n    root._bokeh_failed_load = false;\n  }\n\n  var NB_LOAD_WARNING = {'data': {'text/html':\n     \"<div style='background-color: #fdd'>\\n\"+\n     \"<p>\\n\"+\n     \"BokehJS does not appear to have successfully loaded. If loading BokehJS from CDN, this \\n\"+\n     \"may be due to a slow or bad network connection. Possible fixes:\\n\"+\n     \"</p>\\n\"+\n     \"<ul>\\n\"+\n     \"<li>re-rerun `output_notebook()` to attempt to load from CDN again, or</li>\\n\"+\n     \"<li>use INLINE resources instead, as so:</li>\\n\"+\n     \"</ul>\\n\"+\n     \"<code>\\n\"+\n     \"from bokeh.resources import INLINE\\n\"+\n     \"output_notebook(resources=INLINE)\\n\"+\n     \"</code>\\n\"+\n     \"</div>\"}};\n\n  function display_loaded() {\n    var el = document.getElementById(\"6504\");\n    if (el != null) {\n      el.textContent = \"BokehJS is loading...\";\n    }\n    if (root.Bokeh !== undefined) {\n      if (el != null) {\n        el.textContent = \"BokehJS \" + root.Bokeh.version + \" successfully loaded.\";\n      }\n    } else if (Date.now() < root._bokeh_timeout) {\n      setTimeout(display_loaded, 100)\n    }\n  }\n\n\n  function run_callbacks() {\n    try {\n      root._bokeh_onload_callbacks.forEach(function(callback) {\n        if (callback != null)\n          callback();\n      });\n    } finally {\n      delete root._bokeh_onload_callbacks\n    }\n    console.debug(\"Bokeh: all callbacks have finished\");\n  }\n\n  function load_libs(css_urls, js_urls, callback) {\n    if (css_urls == null) css_urls = [];\n    if (js_urls == null) js_urls = [];\n\n    root._bokeh_onload_callbacks.push(callback);\n    if (root._bokeh_is_loading > 0) {\n      console.debug(\"Bokeh: BokehJS is being loaded, scheduling callback at\", now());\n      return null;\n    }\n    if (js_urls == null || js_urls.length === 0) {\n      run_callbacks();\n      return null;\n    }\n    console.debug(\"Bokeh: BokehJS not loaded, scheduling load and callback at\", now());\n    root._bokeh_is_loading = css_urls.length + js_urls.length;\n\n    function on_load() {\n      root._bokeh_is_loading--;\n      if (root._bokeh_is_loading === 0) {\n        console.debug(\"Bokeh: all BokehJS libraries/stylesheets loaded\");\n        run_callbacks()\n      }\n    }\n\n    function on_error() {\n      console.error(\"failed to load \" + url);\n    }\n\n    for (var i = 0; i < css_urls.length; i++) {\n      var url = css_urls[i];\n      const element = document.createElement(\"link\");\n      element.onload = on_load;\n      element.onerror = on_error;\n      element.rel = \"stylesheet\";\n      element.type = \"text/css\";\n      element.href = url;\n      console.debug(\"Bokeh: injecting link tag for BokehJS stylesheet: \", url);\n      document.body.appendChild(element);\n    }\n\n    const hashes = {\"https://cdn.bokeh.org/bokeh/release/bokeh-2.1.1.min.js\": \"kLr4fYcqcSpbuI95brIH3vnnYCquzzSxHPU6XGQCIkQRGJwhg0StNbj1eegrHs12\", \"https://cdn.bokeh.org/bokeh/release/bokeh-widgets-2.1.1.min.js\": \"xIGPmVtaOm+z0BqfSOMn4lOR6ciex448GIKG4eE61LsAvmGj48XcMQZtKcE/UXZe\", \"https://cdn.bokeh.org/bokeh/release/bokeh-tables-2.1.1.min.js\": \"Dc9u1wF/0zApGIWoBbH77iWEHtdmkuYWG839Uzmv8y8yBLXebjO9ZnERsde5Ln/P\", \"https://cdn.bokeh.org/bokeh/release/bokeh-gl-2.1.1.min.js\": \"cT9JaBz7GiRXdENrJLZNSC6eMNF3nh3fa5fTF51Svp+ukxPdwcU5kGXGPBgDCa2j\"};\n\n    for (var i = 0; i < js_urls.length; i++) {\n      var url = js_urls[i];\n      var element = document.createElement('script');\n      element.onload = on_load;\n      element.onerror = on_error;\n      element.async = false;\n      element.src = url;\n      if (url in hashes) {\n        element.crossOrigin = \"anonymous\";\n        element.integrity = \"sha384-\" + hashes[url];\n      }\n      console.debug(\"Bokeh: injecting script tag for BokehJS library: \", url);\n      document.head.appendChild(element);\n    }\n  };\n\n  function inject_raw_css(css) {\n    const element = document.createElement(\"style\");\n    element.appendChild(document.createTextNode(css));\n    document.body.appendChild(element);\n  }\n\n  \n  var js_urls = [\"https://cdn.bokeh.org/bokeh/release/bokeh-2.1.1.min.js\", \"https://cdn.bokeh.org/bokeh/release/bokeh-widgets-2.1.1.min.js\", \"https://cdn.bokeh.org/bokeh/release/bokeh-tables-2.1.1.min.js\", \"https://cdn.bokeh.org/bokeh/release/bokeh-gl-2.1.1.min.js\"];\n  var css_urls = [];\n  \n\n  var inline_js = [\n    function(Bokeh) {\n      Bokeh.set_log_level(\"info\");\n    },\n    function(Bokeh) {\n    \n    \n    }\n  ];\n\n  function run_inline_js() {\n    \n    if (root.Bokeh !== undefined || force === true) {\n      \n    for (var i = 0; i < inline_js.length; i++) {\n      inline_js[i].call(root, root.Bokeh);\n    }\n    if (force === true) {\n        display_loaded();\n      }} else if (Date.now() < root._bokeh_timeout) {\n      setTimeout(run_inline_js, 100);\n    } else if (!root._bokeh_failed_load) {\n      console.log(\"Bokeh: BokehJS failed to load within specified timeout.\");\n      root._bokeh_failed_load = true;\n    } else if (force !== true) {\n      var cell = $(document.getElementById(\"6504\")).parents('.cell').data().cell;\n      cell.output_area.append_execute_result(NB_LOAD_WARNING)\n    }\n\n  }\n\n  if (root._bokeh_is_loading === 0) {\n    console.debug(\"Bokeh: BokehJS loaded, going straight to plotting\");\n    run_inline_js();\n  } else {\n    load_libs(css_urls, js_urls, function() {\n      console.debug(\"Bokeh: BokehJS plotting callback run at\", now());\n      run_inline_js();\n    });\n  }\n}(window));"
     },
     "metadata": {},
     "output_type": "display_data"
    },
    {
     "data": {
      "text/html": [
       "\n",
       "\n",
       "\n",
       "\n",
       "\n",
       "\n",
       "  <div class=\"bk-root\" id=\"edeab730-4ede-4abb-a050-e5ee7f4f41ec\" data-root-id=\"6505\"></div>\n"
      ]
     },
     "metadata": {},
     "output_type": "display_data"
    },
    {
     "data": {
      "application/javascript": [
       "(function(root) {\n",
       "  function embed_document(root) {\n",
       "    \n",
       "  var docs_json = {\"751815f2-0be7-481f-b4c3-68e282fe8f5c\":{\"roots\":{\"references\":[{\"attributes\":{\"below\":[{\"id\":\"6516\"}],\"center\":[{\"id\":\"6519\"},{\"id\":\"6523\"},{\"id\":\"6551\"}],\"left\":[{\"id\":\"6520\"}],\"plot_height\":400,\"plot_width\":400,\"renderers\":[{\"id\":\"6541\"},{\"id\":\"6556\"}],\"title\":{\"id\":\"6506\"},\"toolbar\":{\"id\":\"6531\"},\"x_range\":{\"id\":\"6508\"},\"x_scale\":{\"id\":\"6512\"},\"y_range\":{\"id\":\"6510\"},\"y_scale\":{\"id\":\"6514\"}},\"id\":\"6505\",\"subtype\":\"Figure\",\"type\":\"Plot\"},{\"attributes\":{},\"id\":\"6529\",\"type\":\"HelpTool\"},{\"attributes\":{},\"id\":\"6517\",\"type\":\"BasicTicker\"},{\"attributes\":{},\"id\":\"6524\",\"type\":\"PanTool\"},{\"attributes\":{\"data\":{\"x\":{\"__ndarray__\":\"AAAAAAAA8D9yHMdxHMfxP+Q4juM4jvM/VVVVVVVV9T/HcRzHcRz3PzmO4ziO4/g/qqqqqqqq+j8cx3Ecx3H8P47jOI7jOP4/AAAAAAAAAEA5juM4juMAQHIcx3EcxwFAqqqqqqqqAkDkOI7jOI4DQBzHcRzHcQRAVVVVVVVVBUCO4ziO4zgGQMdxHMdxHAdAAAAAAAAACEA5juM4juMIQHIcx3EcxwlAqqqqqqqqCkDjOI7jOI4LQBzHcRzHcQxAVVVVVVVVDUCO4ziO4zgOQMdxHMdxHA9AAAAAAAAAEEAcx3Ecx3EQQDiO4ziO4xBAVVVVVVVVEUByHMdxHMcRQI7jOI7jOBJAqqqqqqqqEkDHcRzHcRwTQOQ4juM4jhNAAAAAAAAAFEAcx3Ecx3EUQDmO4ziO4xRAVVVVVVVVFUByHMdxHMcVQI7jOI7jOBZAqqqqqqqqFkDHcRzHcRwXQOM4juM4jhdAAAAAAAAAGEAcx3Ecx3EYQDmO4ziO4xhAVVVVVVVVGUBxHMdxHMcZQI7jOI7jOBpAqqqqqqqqGkDHcRzHcRwbQOM4juM4jhtAAAAAAAAAHEAcx3Ecx3EcQDiO4ziO4xxAVVVVVVVVHUBxHMdxHMcdQI7jOI7jOB5AqqqqqqqqHkDHcRzHcRwfQOM4juM4jh9AAAAAAAAAIECO4ziO4zggQBzHcRzHcSBAqqqqqqqqIEA4juM4juMgQMdxHMdxHCFAVVVVVVVVIUDkOI7jOI4hQHIcx3EcxyFAAAAAAAAAIkCO4ziO4zgiQBzHcRzHcSJAqqqqqqqqIkA5juM4juMiQMdxHMdxHCNAVVVVVVVVI0DjOI7jOI4jQHIcx3EcxyNAAAAAAAAAJECO4ziO4zgkQBzHcRzHcSRAqqqqqqqqJEA5juM4juMkQMdxHMdxHCVAVVVVVVVVJUDjOI7jOI4lQHEcx3EcxyVAAAAAAAAAJkCO4ziO4zgmQBzHcRzHcSZAqqqqqqqqJkA5juM4juMmQMdxHMdxHCdAVVVVVVVVJ0DjOI7jOI4nQHEcx3EcxydAAAAAAAAAKEA=\",\"dtype\":\"float64\",\"order\":\"little\",\"shape\":[100]},\"y\":{\"__ndarray__\":\"68OKNWR1ir9PyzQU3Yy2P0LOuun96sY/7AZ72AG50D9e0pzalYPVP52J+eUQ69k/yOxH5UgF3j8HXp/hCfTgP8VbSrWj1OI/tU8A41yv5D/qmRxgII/mP3Sa+iHZfug/ZbH1HXKJ6j/WPmlJ1rnsP9CisJnwGu8/t54TAtbb8D9gNxS/eU3yP23Lh/7Y5/M/5gocO2mw9T8Z+LvTran3P2LeR7hhyvk/XFvdvE0G/D+oDJq1OlH+P/THTbt4TwBAW8H/aZ1xAUBZwfHQ74gCQL6WMlpUjwNAWRDRb69+BEBJQ8C97VEFQOtdhPccCAZA7tSFElOhBkD9HC0Eph0HQMiq4sErfQdA+fIOQfq/B0BAahp3J+YHQEaFbVnJ7wdAv7hw3fXcB0BD4lTv260HQCyDbFYOYwdAvYXS0Dj9BkBB1KEcB30GQPtY9fck4wVAOP7nID4wBUA4rpRV/mQEQEZTFlQRggNApdeH2iKIAkB//UeP5XcBQHDmxLknUgBA6xdhE30v/j8Zz3ld/pL7P1zlN7F90Pg/t03/baXp9T8a+zPzH+DyPxTBc0Ava+8/4eHpqG3X6D+oPcWO3gjiPz5qmUNAC9Y/gj/RD/qivj8nUMSFuSG8v0kCo6zs+tW/kt3WTrGQ4r+yv046Ozfqv9GjX5wz9fC/5koXNcTR9L9ok+ukmqz4v8t04t+Ie/y/XgrOQ4EZAMBxTNyeveMBwH0T7FGzlgPASXLNLZwsBcC3e1ADsp8GwJBCRaMu6gfAstl73ksGCcC++v9xb+8JwIf6y8uupQrAqdQVRksqC8C/hBM7hn4LwGkG+wShowvARVUC/tyaC8DxbF+Ae2ULwAdJSOa9BAvAKeXyieV5CsAl+6AGyMYJwJ89w/uL7wjAah3WSez4B8BYC1bRo+cGwEd4v3JtwAXAB9WODgSIBMBtkkCFIkMDwFAhUbeD9gHAffI8heKmAMCs7QCf87H+v1Q+MO0II/y/n7gAtnqq+b8pPmu6vlH3v7SwaLtKIvW/3vHxeZQl879R4/+2EWXxv3XNFmdw1O+/eLsaYft87b8=\",\"dtype\":\"float64\",\"order\":\"little\",\"shape\":[100]}},\"selected\":{\"id\":\"6565\"},\"selection_policy\":{\"id\":\"6566\"}},\"id\":\"6553\",\"type\":\"ColumnDataSource\"},{\"attributes\":{\"items\":[{\"id\":\"6552\"},{\"id\":\"6568\"}]},\"id\":\"6551\",\"type\":\"Legend\"},{\"attributes\":{\"bottom_units\":\"screen\",\"fill_alpha\":0.5,\"fill_color\":\"lightgrey\",\"left_units\":\"screen\",\"level\":\"overlay\",\"line_alpha\":1.0,\"line_color\":\"black\",\"line_dash\":[4,4],\"line_width\":2,\"right_units\":\"screen\",\"top_units\":\"screen\"},\"id\":\"6530\",\"type\":\"BoxAnnotation\"},{\"attributes\":{\"text\":\"Periodic Signal\"},\"id\":\"6506\",\"type\":\"Title\"},{\"attributes\":{\"formatter\":{\"id\":\"6544\"},\"ticker\":{\"id\":\"6517\"}},\"id\":\"6516\",\"type\":\"LinearAxis\"},{\"attributes\":{\"data_source\":{\"id\":\"6538\"},\"glyph\":{\"id\":\"6539\"},\"hover_glyph\":null,\"muted_glyph\":null,\"nonselection_glyph\":{\"id\":\"6540\"},\"selection_glyph\":null,\"view\":{\"id\":\"6542\"}},\"id\":\"6541\",\"type\":\"GlyphRenderer\"},{\"attributes\":{\"fill_alpha\":{\"value\":0.1},\"fill_color\":{\"value\":\"green\"},\"line_alpha\":{\"value\":0.1},\"line_color\":{\"value\":\"navy\"},\"size\":{\"units\":\"screen\",\"value\":6},\"x\":{\"field\":\"x\"},\"y\":{\"field\":\"y\"}},\"id\":\"6540\",\"type\":\"Scatter\"},{\"attributes\":{\"fill_alpha\":{\"value\":0.5},\"fill_color\":{\"value\":\"green\"},\"line_color\":{\"value\":\"navy\"},\"size\":{\"units\":\"screen\",\"value\":6},\"x\":{\"field\":\"x\"},\"y\":{\"field\":\"y\"}},\"id\":\"6539\",\"type\":\"Scatter\"},{\"attributes\":{\"source\":{\"id\":\"6538\"}},\"id\":\"6542\",\"type\":\"CDSView\"},{\"attributes\":{},\"id\":\"6512\",\"type\":\"LinearScale\"},{\"attributes\":{\"active_drag\":\"auto\",\"active_inspect\":\"auto\",\"active_multi\":null,\"active_scroll\":\"auto\",\"active_tap\":\"auto\",\"tools\":[{\"id\":\"6524\"},{\"id\":\"6525\"},{\"id\":\"6526\"},{\"id\":\"6527\"},{\"id\":\"6528\"},{\"id\":\"6529\"}]},\"id\":\"6531\",\"type\":\"Toolbar\"},{\"attributes\":{\"formatter\":{\"id\":\"6546\"},\"ticker\":{\"id\":\"6521\"}},\"id\":\"6520\",\"type\":\"LinearAxis\"},{\"attributes\":{},\"id\":\"6548\",\"type\":\"Selection\"},{\"attributes\":{\"data\":{\"x\":[1,2,3,4,5,6,7,8,9,10,11,12],\"y\":{\"__ndarray__\":\"68OKNWR1ir+1TwDjXK/kP+YKHDtpsPU/WRDRb69+BEDAuHDd9dwHQKXXh9oiiAJA4eHpqG3X6D/mShc1xNH0v7LZe95LBgnAKOXyieV5CsB98jyF4qYAwHi7GmH7fO2/\",\"dtype\":\"float64\",\"order\":\"little\",\"shape\":[12]}},\"selected\":{\"id\":\"6548\"},\"selection_policy\":{\"id\":\"6549\"}},\"id\":\"6538\",\"type\":\"ColumnDataSource\"},{\"attributes\":{},\"id\":\"6521\",\"type\":\"BasicTicker\"},{\"attributes\":{},\"id\":\"6549\",\"type\":\"UnionRenderers\"},{\"attributes\":{\"axis\":{\"id\":\"6516\"},\"ticker\":null},\"id\":\"6519\",\"type\":\"Grid\"},{\"attributes\":{},\"id\":\"6514\",\"type\":\"LinearScale\"},{\"attributes\":{\"label\":{\"value\":\"Periodic Values\"},\"renderers\":[{\"id\":\"6541\"}]},\"id\":\"6552\",\"type\":\"LegendItem\"},{\"attributes\":{},\"id\":\"6508\",\"type\":\"DataRange1d\"},{\"attributes\":{\"line_color\":\"navy\",\"line_width\":2.5,\"x\":{\"field\":\"x\"},\"y\":{\"field\":\"y\"}},\"id\":\"6554\",\"type\":\"Line\"},{\"attributes\":{},\"id\":\"6527\",\"type\":\"SaveTool\"},{\"attributes\":{},\"id\":\"6528\",\"type\":\"ResetTool\"},{\"attributes\":{},\"id\":\"6544\",\"type\":\"BasicTickFormatter\"},{\"attributes\":{\"source\":{\"id\":\"6553\"}},\"id\":\"6557\",\"type\":\"CDSView\"},{\"attributes\":{\"line_alpha\":0.1,\"line_color\":\"navy\",\"line_width\":2.5,\"x\":{\"field\":\"x\"},\"y\":{\"field\":\"y\"}},\"id\":\"6555\",\"type\":\"Line\"},{\"attributes\":{\"label\":{\"value\":\"Periodic Signal\"},\"renderers\":[{\"id\":\"6556\"}]},\"id\":\"6568\",\"type\":\"LegendItem\"},{\"attributes\":{\"axis\":{\"id\":\"6520\"},\"dimension\":1,\"ticker\":null},\"id\":\"6523\",\"type\":\"Grid\"},{\"attributes\":{},\"id\":\"6565\",\"type\":\"Selection\"},{\"attributes\":{},\"id\":\"6546\",\"type\":\"BasicTickFormatter\"},{\"attributes\":{},\"id\":\"6510\",\"type\":\"DataRange1d\"},{\"attributes\":{},\"id\":\"6566\",\"type\":\"UnionRenderers\"},{\"attributes\":{\"overlay\":{\"id\":\"6530\"}},\"id\":\"6526\",\"type\":\"BoxZoomTool\"},{\"attributes\":{},\"id\":\"6525\",\"type\":\"WheelZoomTool\"},{\"attributes\":{\"data_source\":{\"id\":\"6553\"},\"glyph\":{\"id\":\"6554\"},\"hover_glyph\":null,\"muted_glyph\":null,\"nonselection_glyph\":{\"id\":\"6555\"},\"selection_glyph\":null,\"view\":{\"id\":\"6557\"}},\"id\":\"6556\",\"type\":\"GlyphRenderer\"}],\"root_ids\":[\"6505\"]},\"title\":\"Bokeh Application\",\"version\":\"2.1.1\"}};\n",
       "  var render_items = [{\"docid\":\"751815f2-0be7-481f-b4c3-68e282fe8f5c\",\"root_ids\":[\"6505\"],\"roots\":{\"6505\":\"edeab730-4ede-4abb-a050-e5ee7f4f41ec\"}}];\n",
       "  root.Bokeh.embed.embed_items_notebook(docs_json, render_items);\n",
       "\n",
       "  }\n",
       "  if (root.Bokeh !== undefined) {\n",
       "    embed_document(root);\n",
       "  } else {\n",
       "    var attempts = 0;\n",
       "    var timer = setInterval(function(root) {\n",
       "      if (root.Bokeh !== undefined) {\n",
       "        clearInterval(timer);\n",
       "        embed_document(root);\n",
       "      } else {\n",
       "        attempts++;\n",
       "        if (attempts > 100) {\n",
       "          clearInterval(timer);\n",
       "          console.log(\"Bokeh: ERROR: Unable to run BokehJS code because BokehJS library is missing\");\n",
       "        }\n",
       "      }\n",
       "    }, 10, root)\n",
       "  }\n",
       "})(window);"
      ],
      "application/vnd.bokehjs_exec.v0+json": ""
     },
     "metadata": {
      "application/vnd.bokehjs_exec.v0+json": {
       "id": "6505"
      }
     },
     "output_type": "display_data"
    }
   ],
   "source": [
    "from sklearn.preprocessing import PolynomialFeatures\n",
    "from sklearn.pipeline import make_pipeline\n",
    "from sklearn.linear_model import LinearRegression\n",
    "from scipy.interpolate import interp1d\n",
    "import pandas as pd\n",
    "import numpy as np\n",
    "import matplotlib.pyplot as plt\n",
    "from bokeh.io import output_notebook, show, export_png\n",
    "# from bokeh.io import output_file\n",
    "from bokeh.plotting import figure\n",
    "from itertools import chain \n",
    "from sklearn.metrics import mean_squared_error\n",
    "import datetime as dt\n",
    "import statsmodels.api as sm\n",
    "from statsmodels.graphics.tsaplots import plot_acf,plot_pacf\n",
    "from statsmodels.tsa.ar_model import AutoReg\n",
    "# import pmdarima as pm\n",
    "\n",
    "import math\n",
    "# import pmdarima as pm\n",
    "import statsmodels.api as sm\n",
    "def mean_absolute_percentage_error(y_true, y_pred): \n",
    "     return np.mean(np.abs((y_true - y_pred) / y_true)) *100\n",
    "output_notebook()\n",
    "\n",
    "# Initialize columns of dataframe\n",
    "cols = [\n",
    "    \"year\", \"month\", \"date1\", \"date2\", \"co2\", \"co2_season_adj\", \"co2_spline_season_adj\", \"co2_spline\", \"co2_fill_7\", \"co2_fill_8\"\n",
    "]\n",
    "keep_cols = [\"year\", \"month\", \"co2\"]\n",
    "co2 = (\n",
    "    pd.read_csv(\"CO2.csv\", skiprows=57, header=None, names=cols)\n",
    "    .drop(columns=[col for col in cols if col not in keep_cols]) # Only keep column 5 and date columns\n",
    "    .assign(co2=lambda df: df.co2.replace({-99.99: np.nan})) # -99.99 indicates a homogeneity - replace it with null\n",
    "    .assign(time=lambda df: (df.index.values + 0.5) / 12) # Convert to time notation that question specifies\n",
    ")\n",
    "\n",
    "co2 = co2.dropna() # drop missing values from the dataframe\n",
    "x = list(chain.from_iterable(co2.time.values[..., None])) \n",
    "y = list(chain.from_iterable(co2.co2.values[..., None])) \n",
    "\n",
    "train_size = int(len(x)*0.8)\n",
    "gap = 0 # int(len(x)*0.1)\n",
    "test_size = len(x) - train_size - gap\n",
    "x_train = x[0:train_size]\n",
    "y_train = y[0:train_size]\n",
    "x_test = x[train_size + gap: None]\n",
    "y_test = y[train_size + gap: None]\n",
    "co2_test = co2.iloc[train_size + gap: None,:].copy()\n",
    "co2_train = co2.iloc[0:train_size,:].copy()\n",
    "\n",
    "degree=2\n",
    "model_2=make_pipeline(PolynomialFeatures(degree),LinearRegression())\n",
    "model_2.fit(np.array(x_train).reshape(-1, 1),y_train)\n",
    "quadratic = model_2.predict(np.array(x_train).reshape(-1, 1))\n",
    "\n",
    "co2_train[\"R_quad\"] = y_train - quadratic\n",
    "co2_train.head(5)\n",
    "\n",
    "month_mean_res = co2_train.groupby(\"month\").R_quad.mean()\n",
    "month_continuous = np.linspace(1,12,num = 100, endpoint =True)\n",
    "periodic= interp1d(month_mean_res.index,month_mean_res.values,kind = 'cubic')\n",
    "p = figure(plot_width=400, plot_height=400, title = \"Periodic Signal\")\n",
    "p.scatter(month_mean_res.index,month_mean_res.values,size=6, line_color=\"navy\", fill_color=\"green\", fill_alpha=0.5,legend_label ='Periodic Values')\n",
    "p.line(month_continuous,periodic(month_continuous),line_color=\"navy\",line_width =2.5,legend_label ='Periodic Signal')\n",
    "show(p)\n",
    "# print(month_mean_res)\n",
    "\n",
    "\n"
   ]
  },
  {
   "cell_type": "markdown",
   "metadata": {},
   "source": [
    " "
   ]
  },
  {
   "cell_type": "markdown",
   "metadata": {
    "tags": [
     "question:2.2",
     "points:2"
    ]
   },
   "source": [
    "**2.** (2 points) Plot the final fit $F_n(t_i)+P_i$. Your plot should clearly show the final model on top of the entire time series, while indicating the split between the training and testing data."
   ]
  },
  {
   "cell_type": "markdown",
   "metadata": {},
   "source": [
    "### Solution:\n",
    "First, time of P_i  need to be normalized to the global time to match the time of F; then we modify P_i into a continuous function in the interval[0,1], and finally we superimpose P_i and F to get the final fit."
   ]
  },
  {
   "cell_type": "code",
   "execution_count": 22,
   "metadata": {},
   "outputs": [
    {
     "data": {
      "text/html": [
       "\n",
       "\n",
       "\n",
       "\n",
       "\n",
       "\n",
       "  <div class=\"bk-root\" id=\"2b593604-ca10-4a12-a6e2-01962414cae2\" data-root-id=\"6853\"></div>\n"
      ]
     },
     "metadata": {},
     "output_type": "display_data"
    },
    {
     "data": {
      "application/javascript": [
       "(function(root) {\n",
       "  function embed_document(root) {\n",
       "    \n",
       "  var docs_json = {\"48d7fee7-fbf3-4d97-af3a-82725a9876ef\":{\"roots\":{\"references\":[{\"attributes\":{\"below\":[{\"id\":\"6864\"}],\"center\":[{\"id\":\"6867\"},{\"id\":\"6871\"},{\"id\":\"6899\"}],\"left\":[{\"id\":\"6868\"}],\"plot_height\":400,\"plot_width\":400,\"renderers\":[{\"id\":\"6889\"},{\"id\":\"6904\"}],\"title\":{\"id\":\"6854\"},\"toolbar\":{\"id\":\"6879\"},\"x_range\":{\"id\":\"6856\"},\"x_scale\":{\"id\":\"6860\"},\"y_range\":{\"id\":\"6858\"},\"y_scale\":{\"id\":\"6862\"}},\"id\":\"6853\",\"subtype\":\"Figure\",\"type\":\"Plot\"},{\"attributes\":{\"data\":{\"x\":[-0.041666666666666664,0.041666666666666664,0.125,0.20833333333333334,0.2916666666666667,0.375,0.4583333333333333,0.5416666666666666,0.625,0.7083333333333334,0.7916666666666666,0.875,0.9583333333333334,1.0416666666666667],\"y\":[-0.921507,-0.012919,0.646407,1.355569,2.561858,2.982891,2.316473,0.776297,-1.301213,-3.128074,-3.30952,-2.081487,-0.921507,-0.012919]},\"selected\":{\"id\":\"6896\"},\"selection_policy\":{\"id\":\"6897\"}},\"id\":\"6886\",\"type\":\"ColumnDataSource\"},{\"attributes\":{},\"id\":\"6873\",\"type\":\"WheelZoomTool\"},{\"attributes\":{},\"id\":\"6856\",\"type\":\"DataRange1d\"},{\"attributes\":{\"axis\":{\"id\":\"6868\"},\"dimension\":1,\"ticker\":null},\"id\":\"6871\",\"type\":\"Grid\"},{\"attributes\":{\"data_source\":{\"id\":\"6901\"},\"glyph\":{\"id\":\"6902\"},\"hover_glyph\":null,\"muted_glyph\":null,\"nonselection_glyph\":{\"id\":\"6903\"},\"selection_glyph\":null,\"view\":{\"id\":\"6905\"}},\"id\":\"6904\",\"type\":\"GlyphRenderer\"},{\"attributes\":{\"fill_alpha\":{\"value\":0.1},\"fill_color\":{\"value\":\"green\"},\"line_alpha\":{\"value\":0.1},\"line_color\":{\"value\":\"navy\"},\"size\":{\"units\":\"screen\",\"value\":6},\"x\":{\"field\":\"x\"},\"y\":{\"field\":\"y\"}},\"id\":\"6888\",\"type\":\"Scatter\"},{\"attributes\":{\"source\":{\"id\":\"6901\"}},\"id\":\"6905\",\"type\":\"CDSView\"},{\"attributes\":{\"items\":[{\"id\":\"6900\"},{\"id\":\"6916\"}]},\"id\":\"6899\",\"type\":\"Legend\"},{\"attributes\":{},\"id\":\"6894\",\"type\":\"BasicTickFormatter\"},{\"attributes\":{},\"id\":\"6865\",\"type\":\"BasicTicker\"},{\"attributes\":{},\"id\":\"6860\",\"type\":\"LinearScale\"},{\"attributes\":{},\"id\":\"6892\",\"type\":\"BasicTickFormatter\"},{\"attributes\":{\"line_color\":\"navy\",\"line_width\":2.5,\"x\":{\"field\":\"x\"},\"y\":{\"field\":\"y\"}},\"id\":\"6902\",\"type\":\"Line\"},{\"attributes\":{\"overlay\":{\"id\":\"6878\"}},\"id\":\"6874\",\"type\":\"BoxZoomTool\"},{\"attributes\":{\"bottom_units\":\"screen\",\"fill_alpha\":0.5,\"fill_color\":\"lightgrey\",\"left_units\":\"screen\",\"level\":\"overlay\",\"line_alpha\":1.0,\"line_color\":\"black\",\"line_dash\":[4,4],\"line_width\":2,\"right_units\":\"screen\",\"top_units\":\"screen\"},\"id\":\"6878\",\"type\":\"BoxAnnotation\"},{\"attributes\":{\"line_alpha\":0.1,\"line_color\":\"navy\",\"line_width\":2.5,\"x\":{\"field\":\"x\"},\"y\":{\"field\":\"y\"}},\"id\":\"6903\",\"type\":\"Line\"},{\"attributes\":{},\"id\":\"6896\",\"type\":\"Selection\"},{\"attributes\":{},\"id\":\"6869\",\"type\":\"BasicTicker\"},{\"attributes\":{\"data_source\":{\"id\":\"6886\"},\"glyph\":{\"id\":\"6887\"},\"hover_glyph\":null,\"muted_glyph\":null,\"nonselection_glyph\":{\"id\":\"6888\"},\"selection_glyph\":null,\"view\":{\"id\":\"6890\"}},\"id\":\"6889\",\"type\":\"GlyphRenderer\"},{\"attributes\":{\"formatter\":{\"id\":\"6894\"},\"ticker\":{\"id\":\"6869\"}},\"id\":\"6868\",\"type\":\"LinearAxis\"},{\"attributes\":{},\"id\":\"6872\",\"type\":\"PanTool\"},{\"attributes\":{},\"id\":\"6897\",\"type\":\"UnionRenderers\"},{\"attributes\":{},\"id\":\"6875\",\"type\":\"SaveTool\"},{\"attributes\":{\"label\":{\"value\":\"Periodic Values\"},\"renderers\":[{\"id\":\"6889\"}]},\"id\":\"6900\",\"type\":\"LegendItem\"},{\"attributes\":{},\"id\":\"6914\",\"type\":\"UnionRenderers\"},{\"attributes\":{\"formatter\":{\"id\":\"6892\"},\"ticker\":{\"id\":\"6865\"}},\"id\":\"6864\",\"type\":\"LinearAxis\"},{\"attributes\":{\"label\":{\"value\":\"Periodic Signal\"},\"renderers\":[{\"id\":\"6904\"}]},\"id\":\"6916\",\"type\":\"LegendItem\"},{\"attributes\":{},\"id\":\"6862\",\"type\":\"LinearScale\"},{\"attributes\":{\"text\":\"Periodic Signal\"},\"id\":\"6854\",\"type\":\"Title\"},{\"attributes\":{\"axis\":{\"id\":\"6864\"},\"ticker\":null},\"id\":\"6867\",\"type\":\"Grid\"},{\"attributes\":{},\"id\":\"6913\",\"type\":\"Selection\"},{\"attributes\":{\"source\":{\"id\":\"6886\"}},\"id\":\"6890\",\"type\":\"CDSView\"},{\"attributes\":{},\"id\":\"6876\",\"type\":\"ResetTool\"},{\"attributes\":{\"data\":{\"x\":{\"__ndarray__\":\"VVVVVVVVpb8DgyhpFnafv1xbpieCQZS/bGdIzNsZgr+Qn+/aMj1hPzQ3wDl1uIo/PkNi3s6QmD9zNfKPseKhP0dJs7D7fKc/G1100UUXrT94uBr5x1ixP2BCewntJbQ/SszbGRLztj80VjwqN8C5Px7gnDpcjbw/CGr9SoFavz/5+a4t0xPBP+4+37VlesI/44MPPvjgwz/YyD/GikfFP80NcE4drsY/wVKg1q8UyD+2l9BeQnvJP6vcAOfU4co/nyExb2dIzD+VZmH3+a7NP4mrkX+MFc8/P/jggw8+0D+5GvnHWPHQPzQ9EQyipNE/rl8pUOtX0j8pgkGUNAvTP6OkWdh9vtM/HcdxHMdx1D+Y6YlgECXVPxIMoqRZ2NU/jS666KKL1j8HUdIs7D7XP4Jz6nA18tc//JUCtX6l2D93uBr5x1jZP/HaMj0RDNo/a/1KgVq/2j/mH2PFo3LbP2BCewntJdw/22STTTbZ3D9Vh6uRf4zdP8+pw9XIP94/SczbGRLz3j/F7vNdW6bfP6AIBlHSLOA/3RkS83aG4D8aKx6VG+DgP1g8KjfAOeE/lU022WST4T/SXkJ7Ce3hPw9wTh2uRuI/TIFav1Kg4j+KkmZh9/niP8ejcgOcU+M/BLV+pUCt4z9BxopH5QbkP3/XlumJYOQ/vOiiiy665D/5+a4t0xPlPzYLu893beU/cxzHcRzH5T+xLdMTwSDmP+4+37VleuY/K1DrVwrU5j9oYff5ri3nP6ZyA5xTh+c/44MPPvjg5z8glRvgnDroP12mJ4JBlOg/mrczJObt6D/YyD/GikfpPxXaS2gvoek/UutXCtT66T+P/GOseFTqP80NcE4druo/Ch988MEH6z9HMIiSZmHrP4RBlDQLu+s/wVKg1q8U7D//Y6x4VG7sPzx1uBr5x+w/eYbEvJ0h7T+2l9BeQnvtP/Oo3ADn1O0/Mbrooosu7j9uy/REMIjuP6vcAOfU4e4/6e0MiXk77z8l/xgrHpXvP2MQJc3C7u8/z5CYtzMk8D9umZ4IBlHwPw2ipFnYffA/q6qqqqqq8D8=\",\"dtype\":\"float64\",\"order\":\"little\",\"shape\":[100]},\"y\":{\"__ndarray__\":\"Tx+BP/x87b/D3UDshxTpvx+7ba7g3eS/ncW53tHW4L/1Fq6rTfrZv+4179hVndK/RAk27aUkx780flbYblOzv2TNzXOT95k/NFDhf1Q8vz8zU3GlwnzLP/7AGR7HcdM/w3230K/t2D9swy25hDbeP746DJNXqOE/vLsJM0wg5D8SEk9V2obmP1zroqco7Og/OVc08W5m6z9nIQd97wvuP9CKD0t2efA/z/+/Q9QY8j+S1RbOMu/zPxj8aByuB/Y/nIwH8E1l+D/7KynEjvb6P3U0rIm1pv0/K4C3mIMwAEDx9CdWZIgBQLallnWf0AJAlr9yb9f+A0CoAok59QgFQGITWecz6gVAFiy0k56iBkCE70O9bDIHQHEAsuLVmQdAogGoghHZB0Dclc8bV/AHQOFf0ize3wdAjgE/hPunB0AJUx69l0kHQO+AAu3JxQZAC2jVLakdBkAj5YCZTFIFQP/U7knLZARAYxQJWTxWA0DYBhA5tycCQAM0PHhs2gBAtzI3qmzf/j8Rluv45dH7P3u6JDYBj/g/Vchxu3oZ9T/152HiDnTxP1iDCAn0Qus/aV4N/UFJ4z8NcJxxWQjWP6p5U2/39rM/IGUCVNbtyL+Q/aoCPj/ev1bedohrIui/oarjrVSc8L+BohIVkyv1v/96j1mdtvm/k5zVx3Is/r9FTAsXLT0BwBMAQi3NRgPATrKnDb0pBcCeK1UfoNwGwJg0Y8kZVgjAozg3wfqMCcD3abcu/XwKwMaswHFJJwvAS17b20+NC8C524++gLALwEyCZmtMkgvAN6/nMyM0C8Cxv5tpdZcKwNNJzhaVvgnA5gZyxXWxCMDxqk7uQXoHwDDofGUlIwbA63AV/0u2BMBe9zCP4T0DwMkt6OkRxAHApJnjBQNTAMCQdKEj8eL9v/kjPF6QPvu/eJzPjNy2+L8VOZSAzkn2v9hUwgpf9fO/v0qS/Ia38b+z63hOfhzvv1Bi8rcA7+q/Va8B2Ibi5r/viBdRAvPiv/1JSYvJON6/gXMzsD+11r8D9J2rlKbOv66T+oGZFcC/uOf500Z1ir8=\",\"dtype\":\"float64\",\"order\":\"little\",\"shape\":[100]}},\"selected\":{\"id\":\"6913\"},\"selection_policy\":{\"id\":\"6914\"}},\"id\":\"6901\",\"type\":\"ColumnDataSource\"},{\"attributes\":{},\"id\":\"6877\",\"type\":\"HelpTool\"},{\"attributes\":{\"fill_alpha\":{\"value\":0.5},\"fill_color\":{\"value\":\"green\"},\"line_color\":{\"value\":\"navy\"},\"size\":{\"units\":\"screen\",\"value\":6},\"x\":{\"field\":\"x\"},\"y\":{\"field\":\"y\"}},\"id\":\"6887\",\"type\":\"Scatter\"},{\"attributes\":{},\"id\":\"6858\",\"type\":\"DataRange1d\"},{\"attributes\":{\"active_drag\":\"auto\",\"active_inspect\":\"auto\",\"active_multi\":null,\"active_scroll\":\"auto\",\"active_tap\":\"auto\",\"tools\":[{\"id\":\"6872\"},{\"id\":\"6873\"},{\"id\":\"6874\"},{\"id\":\"6875\"},{\"id\":\"6876\"},{\"id\":\"6877\"}]},\"id\":\"6879\",\"type\":\"Toolbar\"}],\"root_ids\":[\"6853\"]},\"title\":\"Bokeh Application\",\"version\":\"2.1.1\"}};\n",
       "  var render_items = [{\"docid\":\"48d7fee7-fbf3-4d97-af3a-82725a9876ef\",\"root_ids\":[\"6853\"],\"roots\":{\"6853\":\"2b593604-ca10-4a12-a6e2-01962414cae2\"}}];\n",
       "  root.Bokeh.embed.embed_items_notebook(docs_json, render_items);\n",
       "\n",
       "  }\n",
       "  if (root.Bokeh !== undefined) {\n",
       "    embed_document(root);\n",
       "  } else {\n",
       "    var attempts = 0;\n",
       "    var timer = setInterval(function(root) {\n",
       "      if (root.Bokeh !== undefined) {\n",
       "        clearInterval(timer);\n",
       "        embed_document(root);\n",
       "      } else {\n",
       "        attempts++;\n",
       "        if (attempts > 100) {\n",
       "          clearInterval(timer);\n",
       "          console.log(\"Bokeh: ERROR: Unable to run BokehJS code because BokehJS library is missing\");\n",
       "        }\n",
       "      }\n",
       "    }, 10, root)\n",
       "  }\n",
       "})(window);"
      ],
      "application/vnd.bokehjs_exec.v0+json": ""
     },
     "metadata": {
      "application/vnd.bokehjs_exec.v0+json": {
       "id": "6853"
      }
     },
     "output_type": "display_data"
    }
   ],
   "source": [
    "month_mean_res = co2_train.groupby(\"month\").R_quad.mean()\n",
    "month_mean_res_smooth = [-0.921507, -0.012919, 0.646407, 1.355569, 2.561858, 2.982891, 2.316473, 0.776297, -1.301213, -3.128074, -3.309520,\\\n",
    "                         -2.081487, -0.921507, -0.012919]\n",
    "time_month = [-0.5/12, 0.5/12,1.5/12, 2.5/12, 3.5/ 12, 4.5/12, 5.5/12, 6.5/12, 7.5/12, 8.5/12, 9.5/12, 10.5/12, 11.5/12,12.5/12]\n",
    "month_continuous1 = np.linspace(-0.5/12,12.5/12,num = 100, endpoint =True)\n",
    "periodic1= interp1d(time_month,month_mean_res_smooth,kind = 'cubic')\n",
    "p1 = figure(plot_width=400, plot_height=400, title = \"Periodic Signal\")\n",
    "p1.scatter(time_month,month_mean_res_smooth,size=6, line_color=\"navy\", fill_color=\"green\", fill_alpha=0.5,legend_label ='Periodic Values')\n",
    "p1.line(month_continuous1,periodic1(month_continuous1),line_color=\"navy\",line_width =2.5,legend_label ='Periodic Signal')\n",
    "show(p1)"
   ]
  },
  {
   "cell_type": "code",
   "execution_count": 23,
   "metadata": {},
   "outputs": [
    {
     "data": {
      "text/html": [
       "\n",
       "\n",
       "\n",
       "\n",
       "\n",
       "\n",
       "  <div class=\"bk-root\" id=\"203ced50-0271-4af0-870f-b267f57a3bfe\" data-root-id=\"7211\"></div>\n"
      ]
     },
     "metadata": {},
     "output_type": "display_data"
    },
    {
     "data": {
      "application/javascript": [
       "(function(root) {\n",
       "  function embed_document(root) {\n",
       "    \n",
       "  var docs_json = {\"fbdd1ae4-0ba4-4b1e-94f7-d2ff94ef6c85\":{\"roots\":{\"references\":[{\"attributes\":{\"below\":[{\"id\":\"7222\"}],\"center\":[{\"id\":\"7225\"},{\"id\":\"7229\"},{\"id\":\"7257\"}],\"left\":[{\"id\":\"7226\"}],\"plot_height\":400,\"plot_width\":400,\"renderers\":[{\"id\":\"7247\"},{\"id\":\"7262\"}],\"title\":{\"id\":\"7212\"},\"toolbar\":{\"id\":\"7237\"},\"x_range\":{\"id\":\"7214\"},\"x_scale\":{\"id\":\"7218\"},\"y_range\":{\"id\":\"7216\"},\"y_scale\":{\"id\":\"7220\"}},\"id\":\"7211\",\"subtype\":\"Figure\",\"type\":\"Plot\"},{\"attributes\":{},\"id\":\"7255\",\"type\":\"UnionRenderers\"},{\"attributes\":{},\"id\":\"7220\",\"type\":\"LinearScale\"},{\"attributes\":{},\"id\":\"7214\",\"type\":\"DataRange1d\"},{\"attributes\":{\"bottom_units\":\"screen\",\"fill_alpha\":0.5,\"fill_color\":\"lightgrey\",\"left_units\":\"screen\",\"level\":\"overlay\",\"line_alpha\":1.0,\"line_color\":\"black\",\"line_dash\":[4,4],\"line_width\":2,\"right_units\":\"screen\",\"top_units\":\"screen\"},\"id\":\"7236\",\"type\":\"BoxAnnotation\"},{\"attributes\":{\"data\":{\"x\":[0.20833333333333334,0.2916666666666667,0.375,0.5416666666666666,0.625,0.7083333333333334,0.875,0.9583333333333334,1.0416666666666667,1.125,1.2083333333333333,1.2916666666666667,1.375,1.4583333333333333,1.5416666666666667,1.625,1.7083333333333333,1.7916666666666667,1.875,1.9583333333333333,2.0416666666666665,2.125,2.2083333333333335,2.2916666666666665,2.375,2.4583333333333335,2.5416666666666665,2.625,2.7083333333333335,2.7916666666666665,2.875,2.9583333333333335,3.0416666666666665,3.125,3.2083333333333335,3.2916666666666665,3.375,3.4583333333333335,3.5416666666666665,3.625,3.7083333333333335,3.7916666666666665,3.875,3.9583333333333335,4.041666666666667,4.125,4.208333333333333,4.291666666666667,4.375,4.458333333333333,4.541666666666667,4.625,4.708333333333333,4.791666666666667,4.875,4.958333333333333,5.041666666666667,5.125,5.208333333333333,5.291666666666667,5.375,5.458333333333333,5.541666666666667,5.625,5.708333333333333,5.791666666666667,5.875,5.958333333333333,6.041666666666667,6.375,6.458333333333333,6.541666666666667,6.625,6.708333333333333,6.791666666666667,6.875,6.958333333333333,7.041666666666667,7.125,7.208333333333333,7.291666666666667,7.375,7.458333333333333,7.541666666666667,7.625,7.708333333333333,7.791666666666667,7.875,7.958333333333333,8.041666666666666,8.125,8.208333333333334,8.291666666666666,8.375,8.458333333333334,8.541666666666666,8.625,8.708333333333334,8.791666666666666,8.875,8.958333333333334,9.041666666666666,9.125,9.208333333333334,9.291666666666666,9.375,9.458333333333334,9.541666666666666,9.625,9.708333333333334,9.791666666666666,9.875,9.958333333333334,10.041666666666666,10.125,10.208333333333334,10.291666666666666,10.375,10.458333333333334,10.541666666666666,10.625,10.708333333333334,10.791666666666666,10.875,10.958333333333334,11.041666666666666,11.125,11.208333333333334,11.291666666666666,11.375,11.458333333333334,11.541666666666666,11.625,11.708333333333334,11.791666666666666,11.875,11.958333333333334,12.041666666666666,12.125,12.208333333333334,12.291666666666666,12.375,12.458333333333334,12.541666666666666,12.625,12.708333333333334,12.791666666666666,12.875,12.958333333333334,13.041666666666666,13.125,13.208333333333334,13.291666666666666,13.375,13.458333333333334,13.541666666666666,13.625,13.708333333333334,13.791666666666666,13.875,13.958333333333334,14.041666666666666,14.125,14.208333333333334,14.291666666666666,14.375,14.458333333333334,14.541666666666666,14.625,14.708333333333334,14.791666666666666,14.875,14.958333333333334,15.041666666666666,15.125,15.208333333333334,15.291666666666666,15.375,15.458333333333334,15.541666666666666,15.625,15.708333333333334,15.791666666666666,15.875,15.958333333333334,16.041666666666668,16.125,16.208333333333332,16.291666666666668,16.375,16.458333333333332,16.541666666666668,16.625,16.708333333333332,16.791666666666668,16.875,16.958333333333332,17.041666666666668,17.125,17.208333333333332,17.291666666666668,17.375,17.458333333333332,17.541666666666668,17.625,17.708333333333332,17.791666666666668,17.875,17.958333333333332,18.041666666666668,18.125,18.208333333333332,18.291666666666668,18.375,18.458333333333332,18.541666666666668,18.625,18.708333333333332,18.791666666666668,18.875,18.958333333333332,19.041666666666668,19.125,19.208333333333332,19.291666666666668,19.375,19.458333333333332,19.541666666666668,19.625,19.708333333333332,19.791666666666668,19.875,19.958333333333332,20.041666666666668,20.125,20.208333333333332,20.291666666666668,20.375,20.458333333333332,20.541666666666668,20.625,20.708333333333332,20.791666666666668,20.875,20.958333333333332,21.041666666666668,21.125,21.208333333333332,21.291666666666668,21.375,21.458333333333332,21.541666666666668,21.625,21.708333333333332,21.791666666666668,21.875,21.958333333333332,22.041666666666668,22.125,22.208333333333332,22.291666666666668,22.375,22.458333333333332,22.541666666666668,22.625,22.708333333333332,22.791666666666668,22.875,22.958333333333332,23.041666666666668,23.125,23.208333333333332,23.291666666666668,23.375,23.458333333333332,23.541666666666668,23.625,23.708333333333332,23.791666666666668,23.875,23.958333333333332,24.041666666666668,24.125,24.208333333333332,24.291666666666668,24.375,24.458333333333332,24.541666666666668,24.625,24.708333333333332,24.791666666666668,24.875,24.958333333333332,25.041666666666668,25.125,25.208333333333332,25.291666666666668,25.375,25.458333333333332,25.541666666666668,25.625,25.708333333333332,25.791666666666668,25.875,25.958333333333332,26.041666666666668,26.125,26.208333333333332,26.291666666666668,26.375,26.458333333333332,26.541666666666668,26.625,26.708333333333332,26.791666666666668,26.875,26.958333333333332,27.041666666666668,27.125,27.208333333333332,27.291666666666668,27.375,27.458333333333332,27.541666666666668,27.625,27.708333333333332,27.791666666666668,27.875,27.958333333333332,28.041666666666668,28.125,28.208333333333332,28.291666666666668,28.375,28.458333333333332,28.541666666666668,28.625,28.708333333333332,28.791666666666668,28.875,28.958333333333332,29.041666666666668,29.125,29.208333333333332,29.291666666666668,29.375,29.458333333333332,29.541666666666668,29.625,29.708333333333332,29.791666666666668,29.875,29.958333333333332,30.041666666666668,30.125,30.208333333333332,30.291666666666668,30.375,30.458333333333332,30.541666666666668,30.625,30.708333333333332,30.791666666666668,30.875,30.958333333333332,31.041666666666668,31.125,31.208333333333332,31.291666666666668,31.375,31.458333333333332,31.541666666666668,31.625,31.708333333333332,31.791666666666668,31.875,31.958333333333332,32.041666666666664,32.125,32.208333333333336,32.291666666666664,32.375,32.458333333333336,32.541666666666664,32.625,32.708333333333336,32.791666666666664,32.875,32.958333333333336,33.041666666666664,33.125,33.208333333333336,33.291666666666664,33.375,33.458333333333336,33.541666666666664,33.625,33.708333333333336,33.791666666666664,33.875,33.958333333333336,34.041666666666664,34.125,34.208333333333336,34.291666666666664,34.375,34.458333333333336,34.541666666666664,34.625,34.708333333333336,34.791666666666664,34.875,34.958333333333336,35.041666666666664,35.125,35.208333333333336,35.291666666666664,35.375,35.458333333333336,35.541666666666664,35.625,35.708333333333336,35.791666666666664,35.875,35.958333333333336,36.041666666666664,36.125,36.208333333333336,36.291666666666664,36.375,36.458333333333336,36.541666666666664,36.625,36.708333333333336,36.791666666666664,36.875,36.958333333333336,37.041666666666664,37.125,37.208333333333336,37.291666666666664,37.375,37.458333333333336,37.541666666666664,37.625,37.708333333333336,37.791666666666664,37.875,37.958333333333336,38.041666666666664,38.125,38.208333333333336,38.291666666666664,38.375,38.458333333333336,38.541666666666664,38.625,38.708333333333336,38.791666666666664,38.875,38.958333333333336,39.041666666666664,39.125,39.208333333333336,39.291666666666664,39.375,39.458333333333336,39.541666666666664,39.625,39.708333333333336,39.791666666666664,39.875,39.958333333333336,40.041666666666664,40.125,40.208333333333336,40.291666666666664,40.375,40.458333333333336,40.541666666666664,40.625,40.708333333333336,40.791666666666664,40.875,40.958333333333336,41.041666666666664,41.125,41.208333333333336,41.291666666666664,41.375,41.458333333333336,41.541666666666664,41.625,41.708333333333336,41.791666666666664,41.875,41.958333333333336,42.041666666666664,42.125,42.208333333333336,42.291666666666664,42.375,42.458333333333336,42.541666666666664,42.625,42.708333333333336,42.791666666666664,42.875,42.958333333333336,43.041666666666664,43.125,43.208333333333336,43.291666666666664,43.375,43.458333333333336,43.541666666666664,43.625,43.708333333333336,43.791666666666664,43.875,43.958333333333336,44.041666666666664,44.125,44.208333333333336,44.291666666666664,44.375,44.458333333333336,44.541666666666664,44.625,44.708333333333336,44.791666666666664,44.875,44.958333333333336,45.041666666666664,45.125,45.208333333333336,45.291666666666664,45.375,45.458333333333336,45.541666666666664,45.625,45.708333333333336,45.791666666666664,45.875,45.958333333333336,46.041666666666664,46.125,46.208333333333336,46.291666666666664,46.375,46.458333333333336,46.541666666666664,46.625,46.708333333333336,46.791666666666664,46.875,46.958333333333336,47.041666666666664,47.125,47.208333333333336,47.291666666666664,47.375,47.458333333333336,47.541666666666664,47.625,47.708333333333336,47.791666666666664,47.875,47.958333333333336,48.041666666666664,48.125,48.208333333333336,48.291666666666664,48.375,48.458333333333336,48.541666666666664,48.625,48.708333333333336,48.791666666666664,48.875,48.958333333333336,49.041666666666664,49.125,49.208333333333336,49.291666666666664,49.375,49.458333333333336],\"y\":[315.7,317.45,317.51,315.86,314.93,313.21,313.33,314.67,315.58,316.48,316.65,317.72,318.29,318.15,316.54,314.8,313.84,313.33,314.81,315.58,316.43,316.98,317.58,319.03,320.04,319.59,318.18,315.9,314.17,313.83,315.0,316.19,316.89,317.7,318.54,319.48,320.58,319.77,318.57,316.79,314.99,315.31,316.1,317.01,317.94,318.55,319.68,320.57,321.02,320.62,319.61,317.4,316.25,315.42,316.69,317.7,318.74,319.07,319.86,321.38,322.25,321.48,319.74,317.77,316.21,315.99,317.07,318.35,319.57,322.25,321.89,320.44,318.69,316.7,316.87,317.68,318.71,319.44,320.44,320.89,322.14,322.17,321.87,321.21,318.87,317.82,317.3,318.87,319.42,320.62,321.6,322.39,323.7,324.08,323.75,322.38,320.36,318.64,318.1,319.78,321.03,322.33,322.5,323.04,324.42,325.0,324.09,322.54,320.92,319.25,319.39,320.73,321.96,322.57,323.15,323.89,325.02,325.57,325.36,324.14,322.11,320.33,320.25,321.32,322.89,324.0,324.42,325.63,326.66,327.38,326.71,325.88,323.66,322.38,321.78,322.85,324.12,325.06,325.98,326.93,328.13,328.08,327.67,326.34,324.69,323.1,323.06,324.01,325.13,326.17,326.68,327.18,327.79,328.93,328.57,327.36,325.43,323.36,323.56,324.8,326.01,326.77,327.63,327.75,329.72,330.07,329.09,328.04,326.32,324.84,325.2,326.5,327.55,328.55,329.56,330.3,331.5,332.48,332.07,330.87,329.31,327.51,327.18,328.16,328.64,329.35,330.71,331.48,332.65,333.09,332.25,331.18,329.39,327.43,327.37,328.46,329.57,330.4,331.4,332.04,333.31,333.97,333.6,331.9,330.06,328.56,328.34,329.49,330.76,331.75,332.56,333.5,334.58,334.88,334.33,333.05,330.94,329.3,328.94,330.31,331.68,332.93,333.42,334.7,336.07,336.75,336.27,334.92,332.75,331.59,331.16,332.4,333.85,334.97,335.39,336.64,337.76,338.01,337.9,336.54,334.68,332.76,332.55,333.92,334.95,336.23,336.76,337.96,338.88,339.47,339.29,337.73,336.09,333.92,333.86,335.29,336.73,338.01,338.36,340.07,340.76,341.47,341.17,339.56,337.6,335.88,336.02,337.1,338.21,339.24,340.48,341.38,342.5,342.91,342.25,340.49,338.43,336.69,336.86,338.36,339.61,340.75,341.61,342.7,343.57,344.14,343.35,342.06,339.81,337.98,337.86,339.26,340.49,341.38,342.52,343.1,344.94,345.76,345.32,343.98,342.38,339.87,339.99,341.15,342.99,343.7,344.5,345.28,347.05,347.43,346.8,345.39,343.28,341.07,341.35,342.98,344.22,344.97,345.99,347.42,348.35,348.93,348.25,346.56,344.67,343.09,342.8,344.24,345.56,346.3,346.95,347.85,349.55,350.21,349.55,347.94,345.9,344.85,344.17,345.66,346.9,348.02,348.48,349.42,350.98,351.85,351.26,349.51,348.1,346.45,346.36,347.81,348.96,350.43,351.73,352.22,353.59,354.22,353.8,352.38,350.43,348.73,348.88,350.07,351.34,352.76,353.07,353.68,355.42,355.67,355.12,353.9,351.67,349.81,349.99,351.3,352.52,353.66,354.7,355.38,356.2,357.16,356.23,354.81,352.91,350.96,351.18,352.83,354.21,354.72,355.75,357.16,358.6,359.34,358.24,356.17,354.01,352.15,352.21,353.75,354.99,355.99,356.72,357.81,359.15,359.66,359.25,357.02,355.0,353.01,353.31,354.16,355.4,356.7,357.17,358.38,359.46,360.28,359.6,357.57,355.52,353.69,353.99,355.34,356.8,358.37,358.91,359.97,361.26,361.69,360.94,359.55,357.48,355.84,356.0,357.58,359.04,359.97,361.0,361.63,363.45,363.8,363.26,361.89,359.45,358.05,357.75,359.56,360.7,362.05,363.24,364.02,364.71,365.42,364.97,363.65,361.48,359.45,359.61,360.76,362.33,363.18,363.99,364.56,366.35,366.8,365.63,364.47,362.5,360.19,360.77,362.43,364.28,365.33,366.15,367.31,368.61,369.3,368.88,367.64,365.78,363.9,364.23,365.46,366.97,368.15,368.87,369.59,371.14,371.0,370.35,369.27,366.93,364.64,365.13,366.68,368.0,369.14,369.46,370.51,371.66,371.83,371.69,370.12,368.12,366.62,366.73,368.29,369.53,370.28,371.5,372.12,372.86,374.02,373.31,371.62,369.55,367.96,368.09,369.68,371.24,372.44,373.08,373.52,374.85,375.55,375.4,374.02,371.48,370.7,370.25,372.08,373.78,374.68,375.62,376.11,377.65,378.35,378.13,376.6,374.48,372.98,373.0,374.35,375.69,376.79,377.37,378.39,380.5,380.62,379.55,377.76,375.83,374.05,374.22,375.84,377.44,378.34,379.61,380.08,382.05,382.24,382.08,380.66,378.67,376.42,376.8,378.31,379.96,381.37,382.02,382.56,384.36,384.92,384.03,382.28,380.48,378.81,379.06,380.14,381.66,382.58,383.71,384.34,386.23,386.41,385.87]},\"selected\":{\"id\":\"7254\"},\"selection_policy\":{\"id\":\"7255\"}},\"id\":\"7244\",\"type\":\"ColumnDataSource\"},{\"attributes\":{},\"id\":\"7250\",\"type\":\"BasicTickFormatter\"},{\"attributes\":{\"items\":[{\"id\":\"7258\"},{\"id\":\"7274\"}],\"location\":\"top_left\"},\"id\":\"7257\",\"type\":\"Legend\"},{\"attributes\":{\"fill_alpha\":{\"value\":0.5},\"fill_color\":{\"value\":\"orange\"},\"line_color\":{\"value\":\"red\"},\"size\":{\"units\":\"screen\",\"value\":2},\"x\":{\"field\":\"x\"},\"y\":{\"field\":\"y\"}},\"id\":\"7245\",\"type\":\"Scatter\"},{\"attributes\":{\"label\":{\"value\":\"Final Fit\"},\"renderers\":[{\"id\":\"7262\"}]},\"id\":\"7274\",\"type\":\"LegendItem\"},{\"attributes\":{},\"id\":\"7216\",\"type\":\"DataRange1d\"},{\"attributes\":{\"data\":{\"x\":[0.20833333333333334,0.2916666666666667,0.375,0.5416666666666666,0.625,0.7083333333333334,0.875,0.9583333333333334,1.0416666666666667,1.125,1.2083333333333333,1.2916666666666667,1.375,1.4583333333333333,1.5416666666666667,1.625,1.7083333333333333,1.7916666666666667,1.875,1.9583333333333333,2.0416666666666665,2.125,2.2083333333333335,2.2916666666666665,2.375,2.4583333333333335,2.5416666666666665,2.625,2.7083333333333335,2.7916666666666665,2.875,2.9583333333333335,3.0416666666666665,3.125,3.2083333333333335,3.2916666666666665,3.375,3.4583333333333335,3.5416666666666665,3.625,3.7083333333333335,3.7916666666666665,3.875,3.9583333333333335,4.041666666666667,4.125,4.208333333333333,4.291666666666667,4.375,4.458333333333333,4.541666666666667,4.625,4.708333333333333,4.791666666666667,4.875,4.958333333333333,5.041666666666667,5.125,5.208333333333333,5.291666666666667,5.375,5.458333333333333,5.541666666666667,5.625,5.708333333333333,5.791666666666667,5.875,5.958333333333333,6.041666666666667,6.375,6.458333333333333,6.541666666666667,6.625,6.708333333333333,6.791666666666667,6.875,6.958333333333333,7.041666666666667,7.125,7.208333333333333,7.291666666666667,7.375,7.458333333333333,7.541666666666667,7.625,7.708333333333333,7.791666666666667,7.875,7.958333333333333,8.041666666666666,8.125,8.208333333333334,8.291666666666666,8.375,8.458333333333334,8.541666666666666,8.625,8.708333333333334,8.791666666666666,8.875,8.958333333333334,9.041666666666666,9.125,9.208333333333334,9.291666666666666,9.375,9.458333333333334,9.541666666666666,9.625,9.708333333333334,9.791666666666666,9.875,9.958333333333334,10.041666666666666,10.125,10.208333333333334,10.291666666666666,10.375,10.458333333333334,10.541666666666666,10.625,10.708333333333334,10.791666666666666,10.875,10.958333333333334,11.041666666666666,11.125,11.208333333333334,11.291666666666666,11.375,11.458333333333334,11.541666666666666,11.625,11.708333333333334,11.791666666666666,11.875,11.958333333333334,12.041666666666666,12.125,12.208333333333334,12.291666666666666,12.375,12.458333333333334,12.541666666666666,12.625,12.708333333333334,12.791666666666666,12.875,12.958333333333334,13.041666666666666,13.125,13.208333333333334,13.291666666666666,13.375,13.458333333333334,13.541666666666666,13.625,13.708333333333334,13.791666666666666,13.875,13.958333333333334,14.041666666666666,14.125,14.208333333333334,14.291666666666666,14.375,14.458333333333334,14.541666666666666,14.625,14.708333333333334,14.791666666666666,14.875,14.958333333333334,15.041666666666666,15.125,15.208333333333334,15.291666666666666,15.375,15.458333333333334,15.541666666666666,15.625,15.708333333333334,15.791666666666666,15.875,15.958333333333334,16.041666666666668,16.125,16.208333333333332,16.291666666666668,16.375,16.458333333333332,16.541666666666668,16.625,16.708333333333332,16.791666666666668,16.875,16.958333333333332,17.041666666666668,17.125,17.208333333333332,17.291666666666668,17.375,17.458333333333332,17.541666666666668,17.625,17.708333333333332,17.791666666666668,17.875,17.958333333333332,18.041666666666668,18.125,18.208333333333332,18.291666666666668,18.375,18.458333333333332,18.541666666666668,18.625,18.708333333333332,18.791666666666668,18.875,18.958333333333332,19.041666666666668,19.125,19.208333333333332,19.291666666666668,19.375,19.458333333333332,19.541666666666668,19.625,19.708333333333332,19.791666666666668,19.875,19.958333333333332,20.041666666666668,20.125,20.208333333333332,20.291666666666668,20.375,20.458333333333332,20.541666666666668,20.625,20.708333333333332,20.791666666666668,20.875,20.958333333333332,21.041666666666668,21.125,21.208333333333332,21.291666666666668,21.375,21.458333333333332,21.541666666666668,21.625,21.708333333333332,21.791666666666668,21.875,21.958333333333332,22.041666666666668,22.125,22.208333333333332,22.291666666666668,22.375,22.458333333333332,22.541666666666668,22.625,22.708333333333332,22.791666666666668,22.875,22.958333333333332,23.041666666666668,23.125,23.208333333333332,23.291666666666668,23.375,23.458333333333332,23.541666666666668,23.625,23.708333333333332,23.791666666666668,23.875,23.958333333333332,24.041666666666668,24.125,24.208333333333332,24.291666666666668,24.375,24.458333333333332,24.541666666666668,24.625,24.708333333333332,24.791666666666668,24.875,24.958333333333332,25.041666666666668,25.125,25.208333333333332,25.291666666666668,25.375,25.458333333333332,25.541666666666668,25.625,25.708333333333332,25.791666666666668,25.875,25.958333333333332,26.041666666666668,26.125,26.208333333333332,26.291666666666668,26.375,26.458333333333332,26.541666666666668,26.625,26.708333333333332,26.791666666666668,26.875,26.958333333333332,27.041666666666668,27.125,27.208333333333332,27.291666666666668,27.375,27.458333333333332,27.541666666666668,27.625,27.708333333333332,27.791666666666668,27.875,27.958333333333332,28.041666666666668,28.125,28.208333333333332,28.291666666666668,28.375,28.458333333333332,28.541666666666668,28.625,28.708333333333332,28.791666666666668,28.875,28.958333333333332,29.041666666666668,29.125,29.208333333333332,29.291666666666668,29.375,29.458333333333332,29.541666666666668,29.625,29.708333333333332,29.791666666666668,29.875,29.958333333333332,30.041666666666668,30.125,30.208333333333332,30.291666666666668,30.375,30.458333333333332,30.541666666666668,30.625,30.708333333333332,30.791666666666668,30.875,30.958333333333332,31.041666666666668,31.125,31.208333333333332,31.291666666666668,31.375,31.458333333333332,31.541666666666668,31.625,31.708333333333332,31.791666666666668,31.875,31.958333333333332,32.041666666666664,32.125,32.208333333333336,32.291666666666664,32.375,32.458333333333336,32.541666666666664,32.625,32.708333333333336,32.791666666666664,32.875,32.958333333333336,33.041666666666664,33.125,33.208333333333336,33.291666666666664,33.375,33.458333333333336,33.541666666666664,33.625,33.708333333333336,33.791666666666664,33.875,33.958333333333336,34.041666666666664,34.125,34.208333333333336,34.291666666666664,34.375,34.458333333333336,34.541666666666664,34.625,34.708333333333336,34.791666666666664,34.875,34.958333333333336,35.041666666666664,35.125,35.208333333333336,35.291666666666664,35.375,35.458333333333336,35.541666666666664,35.625,35.708333333333336,35.791666666666664,35.875,35.958333333333336,36.041666666666664,36.125,36.208333333333336,36.291666666666664,36.375,36.458333333333336,36.541666666666664,36.625,36.708333333333336,36.791666666666664,36.875,36.958333333333336,37.041666666666664,37.125,37.208333333333336,37.291666666666664,37.375,37.458333333333336,37.541666666666664,37.625,37.708333333333336,37.791666666666664,37.875,37.958333333333336,38.041666666666664,38.125,38.208333333333336,38.291666666666664,38.375,38.458333333333336,38.541666666666664,38.625,38.708333333333336,38.791666666666664,38.875,38.958333333333336,39.041666666666664,39.125,39.208333333333336,39.291666666666664,39.375,39.458333333333336,39.541666666666664,39.625,39.708333333333336,39.791666666666664,39.875,39.958333333333336,40.041666666666664,40.125,40.208333333333336,40.291666666666664,40.375,40.458333333333336,40.541666666666664,40.625,40.708333333333336,40.791666666666664,40.875,40.958333333333336,41.041666666666664,41.125,41.208333333333336,41.291666666666664,41.375,41.458333333333336,41.541666666666664,41.625,41.708333333333336,41.791666666666664,41.875,41.958333333333336,42.041666666666664,42.125,42.208333333333336,42.291666666666664,42.375,42.458333333333336,42.541666666666664,42.625,42.708333333333336,42.791666666666664,42.875,42.958333333333336,43.041666666666664,43.125,43.208333333333336,43.291666666666664,43.375,43.458333333333336,43.541666666666664,43.625,43.708333333333336,43.791666666666664,43.875,43.958333333333336,44.041666666666664,44.125,44.208333333333336,44.291666666666664,44.375,44.458333333333336,44.541666666666664,44.625,44.708333333333336,44.791666666666664,44.875,44.958333333333336,45.041666666666664,45.125,45.208333333333336,45.291666666666664,45.375,45.458333333333336,45.541666666666664,45.625,45.708333333333336,45.791666666666664,45.875,45.958333333333336,46.041666666666664,46.125,46.208333333333336,46.291666666666664,46.375,46.458333333333336,46.541666666666664,46.625,46.708333333333336,46.791666666666664,46.875,46.958333333333336,47.041666666666664,47.125,47.208333333333336,47.291666666666664,47.375,47.458333333333336,47.541666666666664,47.625,47.708333333333336,47.791666666666664,47.875,47.958333333333336,48.041666666666664,48.125,48.208333333333336,48.291666666666664,48.375,48.458333333333336,48.541666666666664,48.625,48.708333333333336,48.791666666666664,48.875,48.958333333333336,49.041666666666664,49.125,49.208333333333336,49.291666666666664,49.375,49.458333333333336],\"y\":{\"__ndarray__\":\"h3mIA/u5c0BV1fTSW85zQIkRQuos1nNAlDCT2gm1c0D+0hL74pRzQANiknS/eHNALTIz8K6Lc0Bvh+iUV59zQEgFeTb7rnNAKTFcjqK6c0DcD463FsdzQBguqsx/23NAvCynKVnjc0CIaxgEzdlzQKXQV6VGwnNAfjWHCyiic0DzhrbKDIZzQCv+DNlFhHNA+tu20QyZc0Cr8xu8vaxzQPMzXKNpvHNARCLvQBnIc0Blw9CvldRzQBGknAoH6XNAI2VJrejwc0BfZmrNZOdzQOqNWbTmz3NAM7U4YNCvc0AWyRdlvZNzQL4CHrn+kXNA/KJ3982mc0AcfYwnh7pzQNN/fFQ7ynNAkzC/N/PVc0AklFDsd+JzQD43zIzx9nNAwLooddv+c0BqfvnaX/VzQGVomAfq3XNAHFIn+du9c0BvKLZD0aFzQIYkbN0aoHNAM4d1YfK0c0DCIzrXs8hzQOjo2Ulw2HNAF1zMcjDkc0AXgg1tvfBzQKLnOFM/BXRAkS1FgTENdECss8UsvgN0QBVgFJ9Q7HNAOwxT1krMc0D+pJFmSLBzQINj90WarnNAn4iwD3rDc0Cd5yTLQ9dzQDJvdIMI53NA0KQW8tDyc0A/jQcyZv9zQDm14l3wE3RAmL2e0eobdEAiBs/CfxJ0QPl0zXoa+3NAj+O79xzbc0DAPqrNIr9zQLW/v/J8vXNAQKcoAmXSc0CtyEwDN+ZzQLISTAEE9nNA1Go1ZgcrdEDMdRWdpCF0QBOnw5pHCnRAGNhhXVLqc0C49f94YM5zQBw5xePCzHNAFuPdOLPhc0DzxrF/jfVzQGbTYMNiBXRA4o1ivTsRdEAv+7KI4R10QAeo7T98MnRARDUJP4c6dECsApm7LDF0QGL29v7XGXRA1ulEB+v5c0DlyZJoAd5zQLjPBxls3HNAITzQs2Txc0Bt4lNARwV0QE+xsskkFXRAOi5kCQYhdED3XWQatC10QD3NThdXQnRA6hwaXGpKdEDArFkeGEF0QOZiZ6fLKXRAyBhl9eYJdEBGu2KcBe5zQImDh5J47HNAYbL/cnkBdEAcGzNFZBV0QG2sQRRKJXRAyOuimTMxdEDz3VLw6T10QKgP7TKVUnRAxCFovbBadEAJdFfFZlF0QJ7sFJQiOnRA8GTCJ0YadEDdyW8Ubf5zQI9URFDo/HNA1kVsdvERdEAAcU+O5CV0QMDEDaPSNXRAisYebsRBdEAke34Kg050QElvyJI2Y3RA1EPzYlprdECIWJKwGGJ0QIyT/8TcSnRATc5cnggrdECp9bnQNw90QMpCPlK7DXRAgPYVvswidEAZ5KgbyDZ0QEn6Fna+RnRAgb7XhrhSdECLNedof190QB7s4DY7dHRAGIO7TGd8dEA8WgrgLXN0QK9XJzr6W3RA31Q0WS48dECqPkHRZSB0QDpOdZjxHnRAYMT8SQs0dEBndD/tDkh0QAZNXY0NWHRArtPN4w9kdEAmDY0L33B0QCmGNh+jhXRAkt/AeteNdEAkeb9TpoR0QAY5jPN6bXRApvhIWLdNdEDgpAUW9zF0QN926SKLMHRAdK8gGq1FdEDqIRMDuVl0QPi84Oi/aXRADwYBhcp1dED3AXDyoYJ0QGg9yUtul3RAQFkD7aqfdEBCtbELgpZ0QJM3LvFef3RAobmam6NfdEBLKAef60N0QLm8mvGHQnRAvbeBLrJXdECj7CNdxmt0QB9KoYjVe3RApVVxauiHdED8E5AdyJR0QN0RmbycqXRAJPCCo+GxdECVDuEHwah0QFVTDTOmkXRA0pcpI/NxdEDryEVsQ1Z0QMgfiQToVHRAO90fhxpqdECQ1HH7Nn50QHz0nmxOjnRAccIelGmadEA2Q+2MUad0QIYDpnEuvHRAPaQ/nnvEdEAchU1IY7t0QEyMKblQpHRAOJP17qWEdEC/hsF9/mh0QAygtFurZ3RA7h/7I+Z8dECy2fzdCpF0QA282ZQqoXRAcUwJAk6tdECmj4dAPrp0QGYS8Gojz3RAinU53XjXdEDaGPfMaM50QHfigoNet3RA06v+/ruXdEDKYXrTHHx0QIY9HffRenRA1n8TBRWQdEAJ/MQEQqR0QNOgUQFqtHRApvMwtJXAdEBK+V44js10QHk+d6h74nRADWRwYNnqdEDLyd2V0eF0QNhVGZLPynRAo+FEUzWrdEAJWnBtno90QDT4wtZbjnRA8/xoKqejdECVO8pv3Ld0QM6iBrIMyHRAEbiVqkDUdEAjgHN0QeF0QMKHOyo39nRAxG/kJ53+dEDylwGjnfV0QG7m7OSj3nRApzTI6xG/dEB9b6NLg6N0QBfQpfpIonRARZf7k5y3dEBWmAwf2st0QP/B+KYS3HRAsJk35U7odEAyJMX0V/V0QD/uPPBVCnVAsZiVM8QSdUBOg2L0zAl1QDmU/Xvb8nRA4aSIyFHTdEAmohNuy7d0QC/FxWKZtnRAzE7LQfXLdEBMEowSO+B0QGT+J+B78HRAhJgWZMD8dEB15VO50Ql1QPJxe/rXHnVA0t6Dg04ndUDeiwCKXx51QDhfS1d2B3VAUDKG6fTndEAE8sDUdsx0QHzXIg9Ny3RAiCPYM7HgdEB4qUhK//R0QP5XlF1IBXVAjbQyJ5URdUDuwx/Crh51QNkS90i9M3VAKUKvFzw8dUCksdtjVTN1QG1H1nZ0HHVA9NzATvv8dEAXX6t/heF0QP4Gvf9j4HRAeRUiatD1dEDYXULGJgp1QM3OPR94GnVAzO2LLs0mdUCbvygP7zN1QPbQr9sFSXVAtcIX8IxRdUCf9POBrkh1QNdMntrVMXVAzaQ4+GQSdUBf6dJu9/Z0QLVTlDTe9XRAnySp5FILdUBtL3mGsR91QNJiJCULMHVAP0Qiemg8dUB+2G6gkkl1QEespbKxXnVAdWC9DEFndUDOVEnkal51QHZvo4KaR3VA24nt5TEodUDckDeizAx1QKG9qK27C3VA+lBtozghdUA3Hu2KnzV1QAsUSG8BRnVA57f1CWdSdUCVDvJ1mV91QM6k2M3AdHVAaxugbVh9dUAz0tuKinR1QEmv5W7CXXVAHYzfF2I+dUCOVdkZBSN1QMJE+mr8IXVAi5pupoE3dUA2Kp7T8Et1QHniqP1aXHVAxUgG3shodUDhYbKPA3Z1QIm6SC0zi3VAlfO/EtOTdUDNbKt1DYt1QFIMZZ9NdHVAlasOjvVUdUB0N7jVoDl1QBjpiGygOHVAUAGt7S1OdUBqU4xgpWJ1QBzORtAXc3VA1/ZT9o1/dUBj0q/t0Ix1QHrt9dAIonVA9egc/LCqdUCbJLik86F1QJCGIRQ8i3VAQuh6SOxrdUCQNtTVn1B1QKOqVLKnT3VASoUoeT1ldUDUmbcxvXl1QPXWIec3inVAH8LeUraWdUAZYOqPAaR1QJ894LhBuXVAivu2KfLBdUCf+QEYPbl1QAMeG82NonVAJEIkR0aDdUDhUi0aAmh1QGOJXTwSZ3VAeSbhSLB8dUBy/R9HOJF1QAL9OUK7oXVAm6qm80GudUAFC2J2lbt1QPqqB+Xd0HVAUyuOm5bZdUDY64jP6dB1QKrSUcpCunVAO7kKigObdUBnjMOix391QFiFowrgfnVA3eTWXIaUdUBFfsWgFql1QERAj+GhuXVATLCr2DDGdUAl0xahjNN1QIk1bFXd6HVAUniiUZ7xdUBF+0zL+eh1QIekxQtb0nVAh00uESSzdUAi45Zv8Jd1QIKeJh0Rl3VAdsAJtb+sdUBNHKg+WMF1QLugIcXr0XVAM9PtAYPedUB7uAgQ5+t1QE7dDQpAAXZAheLzSwkKdkDoJ04LbQF2QJmTdpHW6nVAB/+O3KfLdUASV6eAfLB1QOHU5nOlr3VARLl5UVzFdUCK18cg/dl1QGge8eyY6nVAThNtbzj3dUAFuzfDpAR2QEei7AIGGnZA7mmCitcidkDAcYyPQxp2QOCfZFu1A3ZAvc0s7I7kdUA36PTVa8l1QHUo5A6dyHVAR88mMlzedUD8ryRHBfN1QEm5/VipA3ZAnnApIVEQdkDF2qO6xR12QHWECEAvM3ZAjA5ODQk8dkDM2AdYfTN2QFzJj2n3HHZAqLkHQNn9dUCQln9vvuJ1QD2ZHu734XVAfwIRV7/3dUClpb6xcAx2QF9xRwkdHXZAI+siF80pdkC5F032STd2QNiDYcG7THZAXtBW1J1VdkANXcBkGk12QA0Q+LucNnZAyMIf2IYXdkAfYkdNdPx1QDsnlhG2+3VA7FI4wIURdkCBuJVgPyZ2QKpGzv3zNnZA3oJZUaxDdkDicTN2MVF2QHGg94arZnZAZq+c35VvdkCE/rW1Gmd2QPNznVKlUHZAHel0tJcxdkDjSkxvjRZ2QG7SSnnXFXZAj8Ccba8rdkCS6KlTcUB2QCs5kjYuUXZAzTfNz+5ddkBB6VY6fGt2QD7aypD+gHZAoqsfL/GJdkAwvehKfoF2QA71fy0Ra3ZApywH1QtMdkDcUI7VCTF2QNaaPCVcMHZAZUs+XzxGdkDYNfuKBlt2QOBIk7PLa3ZA8gl+kpR4dkDUfbdCKoZ2QEEx2960m3ZAFMXfwq+kdkAQmVgkRZx2QF2Tn0zghXZAZo3WOeNmdkAKdA2A6Ut2QHOAaxVES3ZAcvMclSxhdkBUoIkG/3V2QMp10XTMhnZAS/lrmZ2TdkCdL1WPO6F2QHilKHHOtnZAuvvcmtG/dkAmkgVCb7d2QOJO/K8SoXZAWQvj4h2CdkBttMluLGd2QEWD10mPZnZAs7g4D4B8dkAEKFXGWpF2QOq/THowonZA2QWX5AmvdkCa/i8gsLx2QOU2s0dL0nZAlk8Xt1bbdkBxqO+j/NJ2QJwnlleovHZAgqYs0LuddkAFEsOh0oJ2QEyjgMI9gnZAKZuRzTaYdkDpzF3KGa12QD4nBcT3vXZAnS//c9nKdkDN6kf1h9h2QIblemIr7nZAp8COFz/3dkDw2xZK7e52QIsdbUOh2HZA4F6zAb25dkDSjPkY3J52QIjgZn9PnnZA1Jon0FC0dkADj6MSPMl2QMer+lEi2nZAlXakRwzndkA09JwOw/R2QF2xf8FuCndA7E5DvIoTd0ClLHs0QQt3QK8wgXP99HZAczR3dyHWdkDTJG3USLt2QPk6ioDEunZAtLf6Fs7QdkBSbiafweV2QIVNLSSw9nZAwtqGX6IDd0DRGi9sYRF3QGiawWQVJ3dAZ/o0pTkwd0CPmhxj+Cd3QAdh0ue8EXdAOyd4MenydkAL2h3UGNh2QJ+y6sWc13ZAyfEKoq7tdkDXauZvqgJ3QHgMnTqhE3dAJVymu5sgd0CiXv4NYy53QKmgQEwfRHdAF8Nj0ktNd0CuJfvVEkV3QJWuYKDfLndAODe2LxQQd0B3rAsYTPV2QHpHiE/Y9HZAE0lYcfIKd0CQhOOE9h93QKHoSZX1MHdAvPoCXPg9d0Covwr0x0t3QB7E/HeMYXdA+6jPQ8Fqd0ABzhaNkGJ3QFgZLJ1lTHdAamQxcqItd0AXnDag4hJ3QIr5Yh13EndAk73ihJkod0B+ux3epT13QP7hMzStTndAibacQLhbd0DkPVQekGl3QMkE9udcf3dAFax4+ZmId0CKk2+IcYB3QFChNN5OandA0a7p+JNLd0DtqJ5s3DB3QM/Iei95MHdAR0+q3KNGd0ChD5V7uFt3QJD4WhfIbHdAio9zadt5d0BU2dqMu4d3QKhiLJyQnXdAZMxe89Wmd0BIdgXItZ53QH1GemObiHdAbBbfw+hpd0D40kN9OU93QEm1z4XeTndAMP6ueBFld0D5gEldLnp3QFgsvz5Gi3dAwIWH1mGYd0D6kZ4/SqZ3QL3dn5QnvHdA5wmCMXXFd0A6dthLXb13QN4I/SxLp3dAPZsR06CId0A4GibS+W13QPi+YSCnbXdATsrwWOKDd0CHDzuDB5l3QFR9YKonqndAK5nYh0u3d0DUZ582PMV3QAd2UNEh23dAoGTis3fkd0Bik+gTaNx3QHXovDpexndAQz2BJrynd0CtfkVrHY13QNzlMP/SjHdAobNvfRajd0BJu2ntQ7h3QIXrPlpsyXdAzMlmfZjWd0DjWt1xkeR3QIUrPlJ/+ndAjtx/et0DeEC/zTUg1vt3QEHluYzU5XdAfvwtvjrHd0BXAKJIpKx3QPUpPSJirHdAKbor5q3Cd0BAhNWb49d3QOx2Wk4U6XdAoRcyt0j2d0Aoa1jxSQR4QDn+aBdAGnhAsHFahaYjeEBQJcBwpxt4QA==\",\"dtype\":\"float64\",\"order\":\"little\",\"shape\":[587]}},\"selected\":{\"id\":\"7271\"},\"selection_policy\":{\"id\":\"7272\"}},\"id\":\"7259\",\"type\":\"ColumnDataSource\"},{\"attributes\":{\"text\":\"C02 Variation with time\"},\"id\":\"7212\",\"type\":\"Title\"},{\"attributes\":{\"line_color\":\"blue\",\"line_width\":2.5,\"x\":{\"field\":\"x\"},\"y\":{\"field\":\"y\"}},\"id\":\"7260\",\"type\":\"Line\"},{\"attributes\":{},\"id\":\"7223\",\"type\":\"BasicTicker\"},{\"attributes\":{\"axis_label\":\"t_i\",\"formatter\":{\"id\":\"7250\"},\"ticker\":{\"id\":\"7223\"}},\"id\":\"7222\",\"type\":\"LinearAxis\"},{\"attributes\":{},\"id\":\"7252\",\"type\":\"BasicTickFormatter\"},{\"attributes\":{},\"id\":\"7230\",\"type\":\"PanTool\"},{\"attributes\":{\"axis\":{\"id\":\"7222\"},\"ticker\":null},\"id\":\"7225\",\"type\":\"Grid\"},{\"attributes\":{\"data_source\":{\"id\":\"7259\"},\"glyph\":{\"id\":\"7260\"},\"hover_glyph\":null,\"muted_glyph\":null,\"nonselection_glyph\":{\"id\":\"7261\"},\"selection_glyph\":null,\"view\":{\"id\":\"7263\"}},\"id\":\"7262\",\"type\":\"GlyphRenderer\"},{\"attributes\":{\"source\":{\"id\":\"7259\"}},\"id\":\"7263\",\"type\":\"CDSView\"},{\"attributes\":{},\"id\":\"7218\",\"type\":\"LinearScale\"},{\"attributes\":{\"axis_label\":\"CO2 Concentration\",\"formatter\":{\"id\":\"7252\"},\"ticker\":{\"id\":\"7227\"}},\"id\":\"7226\",\"type\":\"LinearAxis\"},{\"attributes\":{\"line_alpha\":0.1,\"line_color\":\"blue\",\"line_width\":2.5,\"x\":{\"field\":\"x\"},\"y\":{\"field\":\"y\"}},\"id\":\"7261\",\"type\":\"Line\"},{\"attributes\":{},\"id\":\"7227\",\"type\":\"BasicTicker\"},{\"attributes\":{\"axis\":{\"id\":\"7226\"},\"dimension\":1,\"ticker\":null},\"id\":\"7229\",\"type\":\"Grid\"},{\"attributes\":{},\"id\":\"7231\",\"type\":\"WheelZoomTool\"},{\"attributes\":{\"active_drag\":\"auto\",\"active_inspect\":\"auto\",\"active_multi\":null,\"active_scroll\":\"auto\",\"active_tap\":\"auto\",\"tools\":[{\"id\":\"7230\"},{\"id\":\"7231\"},{\"id\":\"7232\"},{\"id\":\"7233\"},{\"id\":\"7234\"},{\"id\":\"7235\"}]},\"id\":\"7237\",\"type\":\"Toolbar\"},{\"attributes\":{},\"id\":\"7271\",\"type\":\"Selection\"},{\"attributes\":{},\"id\":\"7235\",\"type\":\"HelpTool\"},{\"attributes\":{\"overlay\":{\"id\":\"7236\"}},\"id\":\"7232\",\"type\":\"BoxZoomTool\"},{\"attributes\":{},\"id\":\"7272\",\"type\":\"UnionRenderers\"},{\"attributes\":{},\"id\":\"7233\",\"type\":\"SaveTool\"},{\"attributes\":{},\"id\":\"7234\",\"type\":\"ResetTool\"},{\"attributes\":{\"data_source\":{\"id\":\"7244\"},\"glyph\":{\"id\":\"7245\"},\"hover_glyph\":null,\"muted_glyph\":null,\"nonselection_glyph\":{\"id\":\"7246\"},\"selection_glyph\":null,\"view\":{\"id\":\"7248\"}},\"id\":\"7247\",\"type\":\"GlyphRenderer\"},{\"attributes\":{\"fill_alpha\":{\"value\":0.1},\"fill_color\":{\"value\":\"orange\"},\"line_alpha\":{\"value\":0.1},\"line_color\":{\"value\":\"red\"},\"size\":{\"units\":\"screen\",\"value\":2},\"x\":{\"field\":\"x\"},\"y\":{\"field\":\"y\"}},\"id\":\"7246\",\"type\":\"Scatter\"},{\"attributes\":{\"source\":{\"id\":\"7244\"}},\"id\":\"7248\",\"type\":\"CDSView\"},{\"attributes\":{\"label\":{\"value\":\"Train Data\"},\"renderers\":[{\"id\":\"7247\"}]},\"id\":\"7258\",\"type\":\"LegendItem\"},{\"attributes\":{},\"id\":\"7254\",\"type\":\"Selection\"}],\"root_ids\":[\"7211\"]},\"title\":\"Bokeh Application\",\"version\":\"2.1.1\"}};\n",
       "  var render_items = [{\"docid\":\"fbdd1ae4-0ba4-4b1e-94f7-d2ff94ef6c85\",\"root_ids\":[\"7211\"],\"roots\":{\"7211\":\"203ced50-0271-4af0-870f-b267f57a3bfe\"}}];\n",
       "  root.Bokeh.embed.embed_items_notebook(docs_json, render_items);\n",
       "\n",
       "  }\n",
       "  if (root.Bokeh !== undefined) {\n",
       "    embed_document(root);\n",
       "  } else {\n",
       "    var attempts = 0;\n",
       "    var timer = setInterval(function(root) {\n",
       "      if (root.Bokeh !== undefined) {\n",
       "        clearInterval(timer);\n",
       "        embed_document(root);\n",
       "      } else {\n",
       "        attempts++;\n",
       "        if (attempts > 100) {\n",
       "          clearInterval(timer);\n",
       "          console.log(\"Bokeh: ERROR: Unable to run BokehJS code because BokehJS library is missing\");\n",
       "        }\n",
       "      }\n",
       "    }, 10, root)\n",
       "  }\n",
       "})(window);"
      ],
      "application/vnd.bokehjs_exec.v0+json": ""
     },
     "metadata": {
      "application/vnd.bokehjs_exec.v0+json": {
       "id": "7211"
      }
     },
     "output_type": "display_data"
    },
    {
     "data": {
      "text/html": [
       "\n",
       "\n",
       "\n",
       "\n",
       "\n",
       "\n",
       "  <div class=\"bk-root\" id=\"db2fcfa1-d7d4-45be-9ad9-4dceb81761aa\" data-root-id=\"7579\"></div>\n"
      ]
     },
     "metadata": {},
     "output_type": "display_data"
    },
    {
     "data": {
      "application/javascript": [
       "(function(root) {\n",
       "  function embed_document(root) {\n",
       "    \n",
       "  var docs_json = {\"32d90313-a121-483a-9c45-817c6b2ed14e\":{\"roots\":{\"references\":[{\"attributes\":{\"below\":[{\"id\":\"7590\"}],\"center\":[{\"id\":\"7593\"},{\"id\":\"7597\"},{\"id\":\"7625\"}],\"left\":[{\"id\":\"7594\"}],\"plot_height\":400,\"plot_width\":400,\"renderers\":[{\"id\":\"7615\"},{\"id\":\"7630\"}],\"title\":{\"id\":\"7580\"},\"toolbar\":{\"id\":\"7605\"},\"x_range\":{\"id\":\"7582\"},\"x_scale\":{\"id\":\"7586\"},\"y_range\":{\"id\":\"7584\"},\"y_scale\":{\"id\":\"7588\"}},\"id\":\"7579\",\"subtype\":\"Figure\",\"type\":\"Plot\"},{\"attributes\":{},\"id\":\"7586\",\"type\":\"LinearScale\"},{\"attributes\":{},\"id\":\"7584\",\"type\":\"DataRange1d\"},{\"attributes\":{\"line_color\":\"orange\",\"line_width\":2.5,\"x\":{\"field\":\"x\"},\"y\":{\"field\":\"y\"}},\"id\":\"7628\",\"type\":\"Line\"},{\"attributes\":{},\"id\":\"7598\",\"type\":\"PanTool\"},{\"attributes\":{\"text\":\"C02 Variation with time\"},\"id\":\"7580\",\"type\":\"Title\"},{\"attributes\":{\"axis\":{\"id\":\"7590\"},\"ticker\":null},\"id\":\"7593\",\"type\":\"Grid\"},{\"attributes\":{},\"id\":\"7620\",\"type\":\"BasicTickFormatter\"},{\"attributes\":{},\"id\":\"7591\",\"type\":\"BasicTicker\"},{\"attributes\":{\"formatter\":{\"id\":\"7618\"},\"ticker\":{\"id\":\"7591\"}},\"id\":\"7590\",\"type\":\"LinearAxis\"},{\"attributes\":{\"source\":{\"id\":\"7627\"}},\"id\":\"7631\",\"type\":\"CDSView\"},{\"attributes\":{},\"id\":\"7582\",\"type\":\"DataRange1d\"},{\"attributes\":{\"line_alpha\":0.1,\"line_color\":\"orange\",\"line_width\":2.5,\"x\":{\"field\":\"x\"},\"y\":{\"field\":\"y\"}},\"id\":\"7629\",\"type\":\"Line\"},{\"attributes\":{\"formatter\":{\"id\":\"7620\"},\"ticker\":{\"id\":\"7595\"}},\"id\":\"7594\",\"type\":\"LinearAxis\"},{\"attributes\":{},\"id\":\"7595\",\"type\":\"BasicTicker\"},{\"attributes\":{\"axis\":{\"id\":\"7594\"},\"dimension\":1,\"ticker\":null},\"id\":\"7597\",\"type\":\"Grid\"},{\"attributes\":{\"label\":{\"value\":\"Final Fit Model Predictions\"},\"renderers\":[{\"id\":\"7630\"}]},\"id\":\"7642\",\"type\":\"LegendItem\"},{\"attributes\":{\"active_drag\":\"auto\",\"active_inspect\":\"auto\",\"active_multi\":null,\"active_scroll\":\"auto\",\"active_tap\":\"auto\",\"tools\":[{\"id\":\"7598\"},{\"id\":\"7599\"},{\"id\":\"7600\"},{\"id\":\"7601\"},{\"id\":\"7602\"},{\"id\":\"7603\"}]},\"id\":\"7605\",\"type\":\"Toolbar\"},{\"attributes\":{\"fill_alpha\":{\"value\":0.5},\"fill_color\":{\"value\":\"orange\"},\"line_color\":{\"value\":\"navy\"},\"size\":{\"units\":\"screen\",\"value\":2},\"x\":{\"field\":\"x\"},\"y\":{\"field\":\"y\"}},\"id\":\"7613\",\"type\":\"Scatter\"},{\"attributes\":{},\"id\":\"7599\",\"type\":\"WheelZoomTool\"},{\"attributes\":{},\"id\":\"7603\",\"type\":\"HelpTool\"},{\"attributes\":{},\"id\":\"7639\",\"type\":\"Selection\"},{\"attributes\":{\"overlay\":{\"id\":\"7604\"}},\"id\":\"7600\",\"type\":\"BoxZoomTool\"},{\"attributes\":{},\"id\":\"7601\",\"type\":\"SaveTool\"},{\"attributes\":{},\"id\":\"7640\",\"type\":\"UnionRenderers\"},{\"attributes\":{},\"id\":\"7602\",\"type\":\"ResetTool\"},{\"attributes\":{\"data_source\":{\"id\":\"7612\"},\"glyph\":{\"id\":\"7613\"},\"hover_glyph\":null,\"muted_glyph\":null,\"nonselection_glyph\":{\"id\":\"7614\"},\"selection_glyph\":null,\"view\":{\"id\":\"7616\"}},\"id\":\"7615\",\"type\":\"GlyphRenderer\"},{\"attributes\":{\"fill_alpha\":{\"value\":0.1},\"fill_color\":{\"value\":\"orange\"},\"line_alpha\":{\"value\":0.1},\"line_color\":{\"value\":\"navy\"},\"size\":{\"units\":\"screen\",\"value\":2},\"x\":{\"field\":\"x\"},\"y\":{\"field\":\"y\"}},\"id\":\"7614\",\"type\":\"Scatter\"},{\"attributes\":{\"data\":{\"x\":[49.541666666666664,49.625,49.708333333333336,49.791666666666664,49.875,49.958333333333336,50.041666666666664,50.125,50.208333333333336,50.291666666666664,50.375,50.458333333333336,50.541666666666664,50.625,50.708333333333336,50.791666666666664,50.875,50.958333333333336,51.041666666666664,51.125,51.208333333333336,51.291666666666664,51.375,51.458333333333336,51.541666666666664,51.625,51.708333333333336,51.791666666666664,51.875,51.958333333333336,52.041666666666664,52.125,52.208333333333336,52.291666666666664,52.375,52.458333333333336,52.541666666666664,52.625,52.708333333333336,52.791666666666664,52.875,52.958333333333336,53.041666666666664,53.125,53.208333333333336,53.291666666666664,53.375,53.458333333333336,53.541666666666664,53.625,53.708333333333336,53.791666666666664,53.875,53.958333333333336,54.041666666666664,54.125,54.208333333333336,54.291666666666664,54.375,54.458333333333336,54.541666666666664,54.625,54.708333333333336,54.791666666666664,54.875,54.958333333333336,55.041666666666664,55.125,55.208333333333336,55.291666666666664,55.375,55.458333333333336,55.541666666666664,55.625,55.708333333333336,55.791666666666664,55.875,55.958333333333336,56.041666666666664,56.125,56.208333333333336,56.291666666666664,56.375,56.458333333333336,56.541666666666664,56.625,56.708333333333336,56.791666666666664,56.875,56.958333333333336,57.041666666666664,57.125,57.208333333333336,57.291666666666664,57.375,57.458333333333336,57.541666666666664,57.625,57.708333333333336,57.791666666666664,57.875,57.958333333333336,58.041666666666664,58.125,58.208333333333336,58.291666666666664,58.375,58.458333333333336,58.541666666666664,58.625,58.708333333333336,58.791666666666664,58.875,58.958333333333336,59.041666666666664,59.125,59.208333333333336,59.291666666666664,59.375,59.458333333333336,59.541666666666664,59.625,59.708333333333336,59.791666666666664,59.875,59.958333333333336,60.041666666666664,60.125,60.208333333333336,60.291666666666664,60.375,60.458333333333336,60.541666666666664,60.625,60.708333333333336,60.791666666666664,60.875,60.958333333333336,61.041666666666664,61.125,61.208333333333336,61.291666666666664,61.375,61.458333333333336,61.541666666666664,61.625,61.708333333333336],\"y\":[384.44,381.84,380.86,380.86,382.36,383.61,385.07,385.84,385.83,386.77,388.51,388.05,386.25,384.08,383.09,382.78,384.01,385.11,386.65,387.12,388.52,389.57,390.17,389.62,388.07,386.08,384.65,384.33,386.05,387.49,388.55,390.07,391.01,392.38,393.22,392.24,390.33,388.52,386.84,387.16,388.67,389.81,391.3,391.92,392.45,393.37,394.28,393.69,392.59,390.21,389.0,388.93,390.24,391.8,393.07,393.35,394.36,396.43,396.87,395.88,394.52,392.54,391.13,391.01,392.95,394.33,395.61,396.85,397.26,398.35,399.98,398.87,397.37,395.41,393.39,393.7,395.19,396.82,397.92,398.1,399.47,401.33,401.88,401.31,399.07,397.21,395.4,395.65,397.23,398.79,399.85,400.31,401.51,403.45,404.1,402.88,401.61,399.0,397.5,398.28,400.24,401.89,402.65,404.16,404.85,407.57,407.66,407.0,404.5,402.24,401.01,401.5,403.64,404.55,406.07,406.64,407.06,408.95,409.91,409.12,407.2,405.24,403.27,403.64,405.17,406.75,408.05,408.34,409.25,410.3,411.3,410.88,408.9,407.1,405.59,405.99,408.12,409.23,410.92,411.66,412.0,413.52,414.83,413.96,411.85,410.08,408.55]},\"selected\":{\"id\":\"7622\"},\"selection_policy\":{\"id\":\"7623\"}},\"id\":\"7612\",\"type\":\"ColumnDataSource\"},{\"attributes\":{\"source\":{\"id\":\"7612\"}},\"id\":\"7616\",\"type\":\"CDSView\"},{\"attributes\":{},\"id\":\"7622\",\"type\":\"Selection\"},{\"attributes\":{\"label\":{\"value\":\"Test Data\"},\"renderers\":[{\"id\":\"7615\"}]},\"id\":\"7626\",\"type\":\"LegendItem\"},{\"attributes\":{\"items\":[{\"id\":\"7626\"},{\"id\":\"7642\"}],\"location\":\"top_left\"},\"id\":\"7625\",\"type\":\"Legend\"},{\"attributes\":{},\"id\":\"7623\",\"type\":\"UnionRenderers\"},{\"attributes\":{\"bottom_units\":\"screen\",\"fill_alpha\":0.5,\"fill_color\":\"lightgrey\",\"left_units\":\"screen\",\"level\":\"overlay\",\"line_alpha\":1.0,\"line_color\":\"black\",\"line_dash\":[4,4],\"line_width\":2,\"right_units\":\"screen\",\"top_units\":\"screen\"},\"id\":\"7604\",\"type\":\"BoxAnnotation\"},{\"attributes\":{},\"id\":\"7618\",\"type\":\"BasicTickFormatter\"},{\"attributes\":{\"data_source\":{\"id\":\"7627\"},\"glyph\":{\"id\":\"7628\"},\"hover_glyph\":null,\"muted_glyph\":null,\"nonselection_glyph\":{\"id\":\"7629\"},\"selection_glyph\":null,\"view\":{\"id\":\"7631\"}},\"id\":\"7630\",\"type\":\"GlyphRenderer\"},{\"attributes\":{\"data\":{\"x\":[49.541666666666664,49.625,49.708333333333336,49.791666666666664,49.875,49.958333333333336,50.041666666666664,50.125,50.208333333333336,50.291666666666664,50.375,50.458333333333336,50.541666666666664,50.625,50.708333333333336,50.791666666666664,50.875,50.958333333333336,51.041666666666664,51.125,51.208333333333336,51.291666666666664,51.375,51.458333333333336,51.541666666666664,51.625,51.708333333333336,51.791666666666664,51.875,51.958333333333336,52.041666666666664,52.125,52.208333333333336,52.291666666666664,52.375,52.458333333333336,52.541666666666664,52.625,52.708333333333336,52.791666666666664,52.875,52.958333333333336,53.041666666666664,53.125,53.208333333333336,53.291666666666664,53.375,53.458333333333336,53.541666666666664,53.625,53.708333333333336,53.791666666666664,53.875,53.958333333333336,54.041666666666664,54.125,54.208333333333336,54.291666666666664,54.375,54.458333333333336,54.541666666666664,54.625,54.708333333333336,54.791666666666664,54.875,54.958333333333336,55.041666666666664,55.125,55.208333333333336,55.291666666666664,55.375,55.458333333333336,55.541666666666664,55.625,55.708333333333336,55.791666666666664,55.875,55.958333333333336,56.041666666666664,56.125,56.208333333333336,56.291666666666664,56.375,56.458333333333336,56.541666666666664,56.625,56.708333333333336,56.791666666666664,56.875,56.958333333333336,57.041666666666664,57.125,57.208333333333336,57.291666666666664,57.375,57.458333333333336,57.541666666666664,57.625,57.708333333333336,57.791666666666664,57.875,57.958333333333336,58.041666666666664,58.125,58.208333333333336,58.291666666666664,58.375,58.458333333333336,58.541666666666664,58.625,58.708333333333336,58.791666666666664,58.875,58.958333333333336,59.041666666666664,59.125,59.208333333333336,59.291666666666664,59.375,59.458333333333336,59.541666666666664,59.625,59.708333333333336,59.791666666666664,59.875,59.958333333333336,60.041666666666664,60.125,60.208333333333336,60.291666666666664,60.375,60.458333333333336,60.541666666666664,60.625,60.708333333333336,60.791666666666664,60.875,60.958333333333336,61.041666666666664,61.125,61.208333333333336,61.291666666666664,61.375,61.458333333333336,61.541666666666664,61.625,61.708333333333336],\"y\":{\"__ndarray__\":\"Qf/zIq4FeEDu2BeaHOd3QDafO2qOzHdAQ4uGiVTMd0Dm3SSTqOJ3QGxqfo7m93dAhx+zhh8JeECsgjo1XBZ4QKGYELVlJHhAIe7QIGQ6eEAIJHLU0kN4QBeahwXcO3hAdzZr/eoleECT0j66YQd4QEpbEtDb7HdAxgkNNarsd0DYHluEBgN4QM1tZMVMGHhAV+VIA44peEDrCoD30jZ4QFDjBb3kRHhAP/t1butaeECU88ZnYmR4QBMsjN5zXHhA4oofHItGeEBt6aIeCih4QJM0JnqMDXhAfqXQJGMNeED/fM65xyN4QGOOh0AWOXhAXMgbxF9KeEBfsAL+rFd4QDNLOAnHZXhAkSVYANZ7eEBW4Fg/VYV4QETbzftufXhAgvwQf45neEB7HUTHFUl4QBErd2igLnhAa17RWH8ueEBb+H4z7ER4QC/M5/9CWnhAl8gryZRreEAJc8JI6nh4QEzQp5kMh3hAGW131iOdeEBM6idbq6Z4QKmnTF3NnnhAV4s/JvWIeEC/biK0hGp4QMQ+BZsXUHhAjTQP0f5PeEDtkGzxc2Z4QC8nhQPTe3hABuZ4Ei2NeEDnUr/Xipp4QJlyVG61qHhA1dHT8NS+eEB4ETS7ZMh4QESRCAOPwHhAYTerEb+qeEA43T3lVox4QKxv0BHycXhA5CeKjeFxeECzRpfzXoh4QGSfX0vGnXhAqiADoCiveED7T/mqjrx4QBwyPofBynhAx1NtT+ngeEDZVX1fgep4QBSYAe2z4nhAnwBUQezMeEDmaJZajK54QMm92MwvlHhAcDhCjieUeECuGf85rap4QM80d9ccwHhAhHjKcYfReEBDanDC9d54QNMOZeQw7XhA7fJD8mADeUButwNIAQ15QBi8Nxs8BXlAE+c5tXzveEDJESwUJdF4QBspHszQtnhAMmY309C2eEDeCaTEXs14QG3ny6fW4nhAku3Oh0n0eEDBoSQewAF5QMAIyYUDEHlASa9X2TsmeUA5Nsd05C95QFL9qo0nKHlAvOpcbXASeUDh1/4RIfR4QKKxoA/V2XhAKLFpXN3ZeEBDF4aTc/B4QEK3XbzzBXlA1X8Q4m4XeUBz9hW+7SR5QOEfams5M3lA2YioBHpJeUA40sflKlN5QMFbW0R2S3lAmgu9acc1eUAuuw5UgBd5QF5XYJc8/XhAUhnZKU39eEDdQaWm6xN5QEukLBV0KXlATi+PgPc6eUBaaESifkh5QDhUSJXSVnlAn382dBtteUBuiwWb1HZ5QGTXSD8ob3lArUlaqoFZeUCwu1vaQjt5QE8aXWMHIXlAsp6FOyAheUCtiQH+xjd5QImuOLJXTXlA+/tKY+NeeUB396/Kcmx5QMOlYwPPenlAmZMBKCCReUDXYYCU4Zp5QD5wc349k3lA9aQ0L599eUBn2eWkaF95QHX6lnM1RXlASEFvkVZFeUCx7pqZBVx5QP3VgZOecXlA3eVDijKDeUDIo1g3ypB5QIQUvLUun3lAycQJIIi1eUB2VTjSUb95QEsm2wG2t3lAcR1M+B+ieUBTFK2z8YN5QND3DcjGaXlA\",\"dtype\":\"float64\",\"order\":\"little\",\"shape\":[147]}},\"selected\":{\"id\":\"7639\"},\"selection_policy\":{\"id\":\"7640\"}},\"id\":\"7627\",\"type\":\"ColumnDataSource\"},{\"attributes\":{},\"id\":\"7588\",\"type\":\"LinearScale\"}],\"root_ids\":[\"7579\"]},\"title\":\"Bokeh Application\",\"version\":\"2.1.1\"}};\n",
       "  var render_items = [{\"docid\":\"32d90313-a121-483a-9c45-817c6b2ed14e\",\"root_ids\":[\"7579\"],\"roots\":{\"7579\":\"db2fcfa1-d7d4-45be-9ad9-4dceb81761aa\"}}];\n",
       "  root.Bokeh.embed.embed_items_notebook(docs_json, render_items);\n",
       "\n",
       "  }\n",
       "  if (root.Bokeh !== undefined) {\n",
       "    embed_document(root);\n",
       "  } else {\n",
       "    var attempts = 0;\n",
       "    var timer = setInterval(function(root) {\n",
       "      if (root.Bokeh !== undefined) {\n",
       "        clearInterval(timer);\n",
       "        embed_document(root);\n",
       "      } else {\n",
       "        attempts++;\n",
       "        if (attempts > 100) {\n",
       "          clearInterval(timer);\n",
       "          console.log(\"Bokeh: ERROR: Unable to run BokehJS code because BokehJS library is missing\");\n",
       "        }\n",
       "      }\n",
       "    }, 10, root)\n",
       "  }\n",
       "})(window);"
      ],
      "application/vnd.bokehjs_exec.v0+json": ""
     },
     "metadata": {
      "application/vnd.bokehjs_exec.v0+json": {
       "id": "7579"
      }
     },
     "output_type": "display_data"
    },
    {
     "data": {
      "text/html": [
       "\n",
       "\n",
       "\n",
       "\n",
       "\n",
       "\n",
       "  <div class=\"bk-root\" id=\"7f399382-3c90-425e-aae5-172ed4096a15\" data-root-id=\"7957\"></div>\n"
      ]
     },
     "metadata": {},
     "output_type": "display_data"
    },
    {
     "data": {
      "application/javascript": [
       "(function(root) {\n",
       "  function embed_document(root) {\n",
       "    \n",
       "  var docs_json = {\"85c327ef-f060-4437-8dba-972fda48e3b9\":{\"roots\":{\"references\":[{\"attributes\":{\"below\":[{\"id\":\"7968\"}],\"center\":[{\"id\":\"7971\"},{\"id\":\"7975\"},{\"id\":\"8003\"}],\"left\":[{\"id\":\"7972\"}],\"plot_height\":400,\"plot_width\":400,\"renderers\":[{\"id\":\"7993\"}],\"title\":{\"id\":\"7958\"},\"toolbar\":{\"id\":\"7983\"},\"x_range\":{\"id\":\"7960\"},\"x_scale\":{\"id\":\"7964\"},\"y_range\":{\"id\":\"7962\"},\"y_scale\":{\"id\":\"7966\"}},\"id\":\"7957\",\"subtype\":\"Figure\",\"type\":\"Plot\"},{\"attributes\":{\"fill_alpha\":{\"value\":0.5},\"fill_color\":{\"value\":\"blue\"},\"line_color\":{\"value\":\"navy\"},\"size\":{\"units\":\"screen\",\"value\":2},\"x\":{\"field\":\"x\"},\"y\":{\"field\":\"y\"}},\"id\":\"7991\",\"type\":\"Scatter\"},{\"attributes\":{\"formatter\":{\"id\":\"7996\"},\"ticker\":{\"id\":\"7969\"}},\"id\":\"7968\",\"type\":\"LinearAxis\"},{\"attributes\":{},\"id\":\"7981\",\"type\":\"HelpTool\"},{\"attributes\":{\"data_source\":{\"id\":\"7990\"},\"glyph\":{\"id\":\"7991\"},\"hover_glyph\":null,\"muted_glyph\":null,\"nonselection_glyph\":{\"id\":\"7992\"},\"selection_glyph\":null,\"view\":{\"id\":\"7994\"}},\"id\":\"7993\",\"type\":\"GlyphRenderer\"},{\"attributes\":{},\"id\":\"7969\",\"type\":\"BasicTicker\"},{\"attributes\":{\"fill_alpha\":{\"value\":0.1},\"fill_color\":{\"value\":\"blue\"},\"line_alpha\":{\"value\":0.1},\"line_color\":{\"value\":\"navy\"},\"size\":{\"units\":\"screen\",\"value\":2},\"x\":{\"field\":\"x\"},\"y\":{\"field\":\"y\"}},\"id\":\"7992\",\"type\":\"Scatter\"},{\"attributes\":{},\"id\":\"7976\",\"type\":\"PanTool\"},{\"attributes\":{\"source\":{\"id\":\"7990\"}},\"id\":\"7994\",\"type\":\"CDSView\"},{\"attributes\":{},\"id\":\"8000\",\"type\":\"Selection\"},{\"attributes\":{\"label\":{\"value\":\"R_train\"},\"renderers\":[{\"id\":\"7993\"}]},\"id\":\"8004\",\"type\":\"LegendItem\"},{\"attributes\":{\"items\":[{\"id\":\"8004\"}],\"location\":\"top_left\"},\"id\":\"8003\",\"type\":\"Legend\"},{\"attributes\":{},\"id\":\"8001\",\"type\":\"UnionRenderers\"},{\"attributes\":{\"bottom_units\":\"screen\",\"fill_alpha\":0.5,\"fill_color\":\"lightgrey\",\"left_units\":\"screen\",\"level\":\"overlay\",\"line_alpha\":1.0,\"line_color\":\"black\",\"line_dash\":[4,4],\"line_width\":2,\"right_units\":\"screen\",\"top_units\":\"screen\"},\"id\":\"7982\",\"type\":\"BoxAnnotation\"},{\"attributes\":{},\"id\":\"7996\",\"type\":\"BasicTickFormatter\"},{\"attributes\":{\"data\":{\"x\":[0.20833333333333334,0.2916666666666667,0.375,0.5416666666666666,0.625,0.7083333333333334,0.875,0.9583333333333334,1.0416666666666667,1.125,1.2083333333333333,1.2916666666666667,1.375,1.4583333333333333,1.5416666666666667,1.625,1.7083333333333333,1.7916666666666667,1.875,1.9583333333333333,2.0416666666666665,2.125,2.2083333333333335,2.2916666666666665,2.375,2.4583333333333335,2.5416666666666665,2.625,2.7083333333333335,2.7916666666666665,2.875,2.9583333333333335,3.0416666666666665,3.125,3.2083333333333335,3.2916666666666665,3.375,3.4583333333333335,3.5416666666666665,3.625,3.7083333333333335,3.7916666666666665,3.875,3.9583333333333335,4.041666666666667,4.125,4.208333333333333,4.291666666666667,4.375,4.458333333333333,4.541666666666667,4.625,4.708333333333333,4.791666666666667,4.875,4.958333333333333,5.041666666666667,5.125,5.208333333333333,5.291666666666667,5.375,5.458333333333333,5.541666666666667,5.625,5.708333333333333,5.791666666666667,5.875,5.958333333333333,6.041666666666667,6.375,6.458333333333333,6.541666666666667,6.625,6.708333333333333,6.791666666666667,6.875,6.958333333333333,7.041666666666667,7.125,7.208333333333333,7.291666666666667,7.375,7.458333333333333,7.541666666666667,7.625,7.708333333333333,7.791666666666667,7.875,7.958333333333333,8.041666666666666,8.125,8.208333333333334,8.291666666666666,8.375,8.458333333333334,8.541666666666666,8.625,8.708333333333334,8.791666666666666,8.875,8.958333333333334,9.041666666666666,9.125,9.208333333333334,9.291666666666666,9.375,9.458333333333334,9.541666666666666,9.625,9.708333333333334,9.791666666666666,9.875,9.958333333333334,10.041666666666666,10.125,10.208333333333334,10.291666666666666,10.375,10.458333333333334,10.541666666666666,10.625,10.708333333333334,10.791666666666666,10.875,10.958333333333334,11.041666666666666,11.125,11.208333333333334,11.291666666666666,11.375,11.458333333333334,11.541666666666666,11.625,11.708333333333334,11.791666666666666,11.875,11.958333333333334,12.041666666666666,12.125,12.208333333333334,12.291666666666666,12.375,12.458333333333334,12.541666666666666,12.625,12.708333333333334,12.791666666666666,12.875,12.958333333333334,13.041666666666666,13.125,13.208333333333334,13.291666666666666,13.375,13.458333333333334,13.541666666666666,13.625,13.708333333333334,13.791666666666666,13.875,13.958333333333334,14.041666666666666,14.125,14.208333333333334,14.291666666666666,14.375,14.458333333333334,14.541666666666666,14.625,14.708333333333334,14.791666666666666,14.875,14.958333333333334,15.041666666666666,15.125,15.208333333333334,15.291666666666666,15.375,15.458333333333334,15.541666666666666,15.625,15.708333333333334,15.791666666666666,15.875,15.958333333333334,16.041666666666668,16.125,16.208333333333332,16.291666666666668,16.375,16.458333333333332,16.541666666666668,16.625,16.708333333333332,16.791666666666668,16.875,16.958333333333332,17.041666666666668,17.125,17.208333333333332,17.291666666666668,17.375,17.458333333333332,17.541666666666668,17.625,17.708333333333332,17.791666666666668,17.875,17.958333333333332,18.041666666666668,18.125,18.208333333333332,18.291666666666668,18.375,18.458333333333332,18.541666666666668,18.625,18.708333333333332,18.791666666666668,18.875,18.958333333333332,19.041666666666668,19.125,19.208333333333332,19.291666666666668,19.375,19.458333333333332,19.541666666666668,19.625,19.708333333333332,19.791666666666668,19.875,19.958333333333332,20.041666666666668,20.125,20.208333333333332,20.291666666666668,20.375,20.458333333333332,20.541666666666668,20.625,20.708333333333332,20.791666666666668,20.875,20.958333333333332,21.041666666666668,21.125,21.208333333333332,21.291666666666668,21.375,21.458333333333332,21.541666666666668,21.625,21.708333333333332,21.791666666666668,21.875,21.958333333333332,22.041666666666668,22.125,22.208333333333332,22.291666666666668,22.375,22.458333333333332,22.541666666666668,22.625,22.708333333333332,22.791666666666668,22.875,22.958333333333332,23.041666666666668,23.125,23.208333333333332,23.291666666666668,23.375,23.458333333333332,23.541666666666668,23.625,23.708333333333332,23.791666666666668,23.875,23.958333333333332,24.041666666666668,24.125,24.208333333333332,24.291666666666668,24.375,24.458333333333332,24.541666666666668,24.625,24.708333333333332,24.791666666666668,24.875,24.958333333333332,25.041666666666668,25.125,25.208333333333332,25.291666666666668,25.375,25.458333333333332,25.541666666666668,25.625,25.708333333333332,25.791666666666668,25.875,25.958333333333332,26.041666666666668,26.125,26.208333333333332,26.291666666666668,26.375,26.458333333333332,26.541666666666668,26.625,26.708333333333332,26.791666666666668,26.875,26.958333333333332,27.041666666666668,27.125,27.208333333333332,27.291666666666668,27.375,27.458333333333332,27.541666666666668,27.625,27.708333333333332,27.791666666666668,27.875,27.958333333333332,28.041666666666668,28.125,28.208333333333332,28.291666666666668,28.375,28.458333333333332,28.541666666666668,28.625,28.708333333333332,28.791666666666668,28.875,28.958333333333332,29.041666666666668,29.125,29.208333333333332,29.291666666666668,29.375,29.458333333333332,29.541666666666668,29.625,29.708333333333332,29.791666666666668,29.875,29.958333333333332,30.041666666666668,30.125,30.208333333333332,30.291666666666668,30.375,30.458333333333332,30.541666666666668,30.625,30.708333333333332,30.791666666666668,30.875,30.958333333333332,31.041666666666668,31.125,31.208333333333332,31.291666666666668,31.375,31.458333333333332,31.541666666666668,31.625,31.708333333333332,31.791666666666668,31.875,31.958333333333332,32.041666666666664,32.125,32.208333333333336,32.291666666666664,32.375,32.458333333333336,32.541666666666664,32.625,32.708333333333336,32.791666666666664,32.875,32.958333333333336,33.041666666666664,33.125,33.208333333333336,33.291666666666664,33.375,33.458333333333336,33.541666666666664,33.625,33.708333333333336,33.791666666666664,33.875,33.958333333333336,34.041666666666664,34.125,34.208333333333336,34.291666666666664,34.375,34.458333333333336,34.541666666666664,34.625,34.708333333333336,34.791666666666664,34.875,34.958333333333336,35.041666666666664,35.125,35.208333333333336,35.291666666666664,35.375,35.458333333333336,35.541666666666664,35.625,35.708333333333336,35.791666666666664,35.875,35.958333333333336,36.041666666666664,36.125,36.208333333333336,36.291666666666664,36.375,36.458333333333336,36.541666666666664,36.625,36.708333333333336,36.791666666666664,36.875,36.958333333333336,37.041666666666664,37.125,37.208333333333336,37.291666666666664,37.375,37.458333333333336,37.541666666666664,37.625,37.708333333333336,37.791666666666664,37.875,37.958333333333336,38.041666666666664,38.125,38.208333333333336,38.291666666666664,38.375,38.458333333333336,38.541666666666664,38.625,38.708333333333336,38.791666666666664,38.875,38.958333333333336,39.041666666666664,39.125,39.208333333333336,39.291666666666664,39.375,39.458333333333336,39.541666666666664,39.625,39.708333333333336,39.791666666666664,39.875,39.958333333333336,40.041666666666664,40.125,40.208333333333336,40.291666666666664,40.375,40.458333333333336,40.541666666666664,40.625,40.708333333333336,40.791666666666664,40.875,40.958333333333336,41.041666666666664,41.125,41.208333333333336,41.291666666666664,41.375,41.458333333333336,41.541666666666664,41.625,41.708333333333336,41.791666666666664,41.875,41.958333333333336,42.041666666666664,42.125,42.208333333333336,42.291666666666664,42.375,42.458333333333336,42.541666666666664,42.625,42.708333333333336,42.791666666666664,42.875,42.958333333333336,43.041666666666664,43.125,43.208333333333336,43.291666666666664,43.375,43.458333333333336,43.541666666666664,43.625,43.708333333333336,43.791666666666664,43.875,43.958333333333336,44.041666666666664,44.125,44.208333333333336,44.291666666666664,44.375,44.458333333333336,44.541666666666664,44.625,44.708333333333336,44.791666666666664,44.875,44.958333333333336,45.041666666666664,45.125,45.208333333333336,45.291666666666664,45.375,45.458333333333336,45.541666666666664,45.625,45.708333333333336,45.791666666666664,45.875,45.958333333333336,46.041666666666664,46.125,46.208333333333336,46.291666666666664,46.375,46.458333333333336,46.541666666666664,46.625,46.708333333333336,46.791666666666664,46.875,46.958333333333336,47.041666666666664,47.125,47.208333333333336,47.291666666666664,47.375,47.458333333333336,47.541666666666664,47.625,47.708333333333336,47.791666666666664,47.875,47.958333333333336,48.041666666666664,48.125,48.208333333333336,48.291666666666664,48.375,48.458333333333336,48.541666666666664,48.625,48.708333333333336,48.791666666666664,48.875,48.958333333333336,49.041666666666664,49.125,49.208333333333336,49.291666666666664,49.375,49.458333333333336],\"y\":{\"__ndarray__\":\"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\",\"dtype\":\"float64\",\"order\":\"little\",\"shape\":[587]}},\"selected\":{\"id\":\"8000\"},\"selection_policy\":{\"id\":\"8001\"}},\"id\":\"7990\",\"type\":\"ColumnDataSource\"},{\"attributes\":{},\"id\":\"7960\",\"type\":\"DataRange1d\"},{\"attributes\":{},\"id\":\"7964\",\"type\":\"LinearScale\"},{\"attributes\":{},\"id\":\"7966\",\"type\":\"LinearScale\"},{\"attributes\":{\"text\":\"Residuals\"},\"id\":\"7958\",\"type\":\"Title\"},{\"attributes\":{},\"id\":\"7998\",\"type\":\"BasicTickFormatter\"},{\"attributes\":{\"axis\":{\"id\":\"7968\"},\"ticker\":null},\"id\":\"7971\",\"type\":\"Grid\"},{\"attributes\":{\"axis_label\":\"Residual\",\"formatter\":{\"id\":\"7998\"},\"ticker\":{\"id\":\"7973\"}},\"id\":\"7972\",\"type\":\"LinearAxis\"},{\"attributes\":{},\"id\":\"7973\",\"type\":\"BasicTicker\"},{\"attributes\":{},\"id\":\"7962\",\"type\":\"DataRange1d\"},{\"attributes\":{\"axis\":{\"id\":\"7972\"},\"dimension\":1,\"ticker\":null},\"id\":\"7975\",\"type\":\"Grid\"},{\"attributes\":{},\"id\":\"7979\",\"type\":\"SaveTool\"},{\"attributes\":{},\"id\":\"7977\",\"type\":\"WheelZoomTool\"},{\"attributes\":{},\"id\":\"7980\",\"type\":\"ResetTool\"},{\"attributes\":{\"active_drag\":\"auto\",\"active_inspect\":\"auto\",\"active_multi\":null,\"active_scroll\":\"auto\",\"active_tap\":\"auto\",\"tools\":[{\"id\":\"7976\"},{\"id\":\"7977\"},{\"id\":\"7978\"},{\"id\":\"7979\"},{\"id\":\"7980\"},{\"id\":\"7981\"}]},\"id\":\"7983\",\"type\":\"Toolbar\"},{\"attributes\":{\"overlay\":{\"id\":\"7982\"}},\"id\":\"7978\",\"type\":\"BoxZoomTool\"}],\"root_ids\":[\"7957\"]},\"title\":\"Bokeh Application\",\"version\":\"2.1.1\"}};\n",
       "  var render_items = [{\"docid\":\"85c327ef-f060-4437-8dba-972fda48e3b9\",\"root_ids\":[\"7957\"],\"roots\":{\"7957\":\"7f399382-3c90-425e-aae5-172ed4096a15\"}}];\n",
       "  root.Bokeh.embed.embed_items_notebook(docs_json, render_items);\n",
       "\n",
       "  }\n",
       "  if (root.Bokeh !== undefined) {\n",
       "    embed_document(root);\n",
       "  } else {\n",
       "    var attempts = 0;\n",
       "    var timer = setInterval(function(root) {\n",
       "      if (root.Bokeh !== undefined) {\n",
       "        clearInterval(timer);\n",
       "        embed_document(root);\n",
       "      } else {\n",
       "        attempts++;\n",
       "        if (attempts > 100) {\n",
       "          clearInterval(timer);\n",
       "          console.log(\"Bokeh: ERROR: Unable to run BokehJS code because BokehJS library is missing\");\n",
       "        }\n",
       "      }\n",
       "    }, 10, root)\n",
       "  }\n",
       "})(window);"
      ],
      "application/vnd.bokehjs_exec.v0+json": ""
     },
     "metadata": {
      "application/vnd.bokehjs_exec.v0+json": {
       "id": "7957"
      }
     },
     "output_type": "display_data"
    },
    {
     "data": {
      "text/html": [
       "\n",
       "\n",
       "\n",
       "\n",
       "\n",
       "\n",
       "  <div class=\"bk-root\" id=\"336db7b5-6525-4103-bfe9-37cb93067f93\" data-root-id=\"8315\"></div>\n"
      ]
     },
     "metadata": {},
     "output_type": "display_data"
    },
    {
     "data": {
      "application/javascript": [
       "(function(root) {\n",
       "  function embed_document(root) {\n",
       "    \n",
       "  var docs_json = {\"53695b49-3206-4873-8453-552d606f013d\":{\"roots\":{\"references\":[{\"attributes\":{\"below\":[{\"id\":\"8326\"}],\"center\":[{\"id\":\"8329\"},{\"id\":\"8333\"},{\"id\":\"8361\"}],\"left\":[{\"id\":\"8330\"}],\"plot_height\":400,\"plot_width\":400,\"renderers\":[{\"id\":\"8351\"}],\"title\":{\"id\":\"8316\"},\"toolbar\":{\"id\":\"8341\"},\"x_range\":{\"id\":\"8318\"},\"x_scale\":{\"id\":\"8322\"},\"y_range\":{\"id\":\"8320\"},\"y_scale\":{\"id\":\"8324\"}},\"id\":\"8315\",\"subtype\":\"Figure\",\"type\":\"Plot\"},{\"attributes\":{},\"id\":\"8358\",\"type\":\"Selection\"},{\"attributes\":{},\"id\":\"8359\",\"type\":\"UnionRenderers\"},{\"attributes\":{\"items\":[{\"id\":\"8362\"}],\"location\":\"top_left\"},\"id\":\"8361\",\"type\":\"Legend\"},{\"attributes\":{\"text\":\"Residuals\"},\"id\":\"8316\",\"type\":\"Title\"},{\"attributes\":{\"fill_alpha\":{\"value\":0.5},\"fill_color\":{\"value\":\"blue\"},\"line_color\":{\"value\":\"navy\"},\"size\":{\"units\":\"screen\",\"value\":2},\"x\":{\"field\":\"x\"},\"y\":{\"field\":\"y\"}},\"id\":\"8349\",\"type\":\"Scatter\"},{\"attributes\":{\"data\":{\"x\":[49.541666666666664,49.625,49.708333333333336,49.791666666666664,49.875,49.958333333333336,50.041666666666664,50.125,50.208333333333336,50.291666666666664,50.375,50.458333333333336,50.541666666666664,50.625,50.708333333333336,50.791666666666664,50.875,50.958333333333336,51.041666666666664,51.125,51.208333333333336,51.291666666666664,51.375,51.458333333333336,51.541666666666664,51.625,51.708333333333336,51.791666666666664,51.875,51.958333333333336,52.041666666666664,52.125,52.208333333333336,52.291666666666664,52.375,52.458333333333336,52.541666666666664,52.625,52.708333333333336,52.791666666666664,52.875,52.958333333333336,53.041666666666664,53.125,53.208333333333336,53.291666666666664,53.375,53.458333333333336,53.541666666666664,53.625,53.708333333333336,53.791666666666664,53.875,53.958333333333336,54.041666666666664,54.125,54.208333333333336,54.291666666666664,54.375,54.458333333333336,54.541666666666664,54.625,54.708333333333336,54.791666666666664,54.875,54.958333333333336,55.041666666666664,55.125,55.208333333333336,55.291666666666664,55.375,55.458333333333336,55.541666666666664,55.625,55.708333333333336,55.791666666666664,55.875,55.958333333333336,56.041666666666664,56.125,56.208333333333336,56.291666666666664,56.375,56.458333333333336,56.541666666666664,56.625,56.708333333333336,56.791666666666664,56.875,56.958333333333336,57.041666666666664,57.125,57.208333333333336,57.291666666666664,57.375,57.458333333333336,57.541666666666664,57.625,57.708333333333336,57.791666666666664,57.875,57.958333333333336,58.041666666666664,58.125,58.208333333333336,58.291666666666664,58.375,58.458333333333336,58.541666666666664,58.625,58.708333333333336,58.791666666666664,58.875,58.958333333333336,59.041666666666664,59.125,59.208333333333336,59.291666666666664,59.375,59.458333333333336,59.541666666666664,59.625,59.708333333333336,59.791666666666664,59.875,59.958333333333336,60.041666666666664,60.125,60.208333333333336,60.291666666666664,60.375,60.458333333333336,60.541666666666664,60.625,60.708333333333336,60.791666666666664,60.875,60.958333333333336,61.041666666666664,61.125,61.208333333333336,61.291666666666664,61.375,61.458333333333336,61.541666666666664,61.625,61.708333333333336],\"y\":{\"__ndarray__\":\"AGBJyqfBtT8AYp2B7FfjvwAAnAhSQrM/ADDbWV3gtj8AgFi64c/IPwCg6NsNwL0/APgve8b83z8ARB5yulHcPwAAd/AbeNy/ANKel2ok7L8AUK1BhVjRPwDYyhQdw9M/AHBns9avvr8AyF6pMGjYvwDMuxJPU9I/AADZreKph78A4HvEdOzGvwBcEyHYKNq/AOAhsGMMqz8AZEqFyZ3TvwBA2/lzacs/AKD7QGLLvL8AUOe2XaG6vwAInmvLQsS/AHR9No+x1b8AMLo5wgnbvwBocf6dMMm/ADpVeO024L8AkIENaNfHvwDw26Fk87O/APC473Qvub8ATHaedOPiPwBSiBTZw+Q/ADpEEvV85D8ALOO+vl/sPwCAVb45oNk/AAgN5Ic2wr8AYNjfd3uovwBADQJK/LK/AGBdXg1A0D8AEDOyeTDXPwDQfzwVlsU/AGwIQgdw4j8AWEikJDjXPwCAc7HFTIM/ABzTYkXh3L8AwOEBz4PBvwCQHuD+GM6/AIC532Xfnj8AwLCyLKLcvwAAxD4Fm3e/ACABEpbYsb8ASAJ5OefEvwDAs/QoOa8/APgryC6Nzz8ANOWW+MTTvwAYTcL3lse/AEyFtK0Y4D8AaJuqJxvWPwCwTDpB1MO/AEjFMDFpw78AOP6ccZjNvwAAAWyINIE/AICIeXyJu78AALJv/lDbPwD0bdOKBd4/AJgQst4z5T8An0mg7grxPwCAugjdzuI/AEwXsSjB0j8Ab4v9tCz1PwB8QDowb+Y/AGZvlYf+4T8AuhklAwbgPwAIylgebcA/AAzrw5Mu3D8AUhTjBrrgPwBsbbXBA+o/ADYZQsBh6j8AuHpJuR7FPwAyhqZ0qOQ/APSH0Lvm8T8AQJDdMhPxPwAiQK9Oc+8/ACBHgDEguj8AMIZNprjBPwBArfBtmZq/AKABeJmszD8AqF1bPz3ZPwAIrHxemuM/ABBYlSOg4j8AQNNVI63JPwA4DfPfSuA/AOqD21n38D8AYWPSJLXxPwBwKdm0s9c/AOj4/IdI3T8AhF/7R4TQvwAgGgv6UL2/ANj5uwk75T8AYVm3dmPzPwDIH0a0Sfg/AJHmVYT38j8AUP8SnqH9PwC5eS8uYPo/AFax1FnSB0CAxZEwO7IDQIAfUtLdRAJAAGb0QpY48j8A7GpdbK3oPwD+N2Je7PI/AK7mJtay+j+Alkr/5CgDQACCKKC3WP8/gBte4ZsTA0AAWLcvZ98AQADxB0ctI/o/AMpZft8LAUCAKrWRYN0DQAB38OqiYQFAAIbp2Iix+T8A9LThL5T4PwBpBCiISvM/AFg4HjUd+T8AcvvpU/H6PwB3UcdNqP4/AGnowLT0AEAAxhIn2f34PwA9Wpz8MPk/ADQ5y6Ss8z8A9mpMOOv5PwBw12381vo/AHHBMTfH8D8AM8Cz9DDyPwDID0AwO/Q/AFwvzniA+j+A0OTB9fICQIClhXzABwFAAKHP0+PCBUCA/ShokuIEQAC+9SGlaABAgPesveVkAUCAtRLu7foGQAAiTo0T0wNAACl8TaF5+z8AjmZn+lX9PwD91L4EBv8/\",\"dtype\":\"float64\",\"order\":\"little\",\"shape\":[147]}},\"selected\":{\"id\":\"8358\"},\"selection_policy\":{\"id\":\"8359\"}},\"id\":\"8348\",\"type\":\"ColumnDataSource\"},{\"attributes\":{},\"id\":\"8322\",\"type\":\"LinearScale\"},{\"attributes\":{},\"id\":\"8318\",\"type\":\"DataRange1d\"},{\"attributes\":{\"bottom_units\":\"screen\",\"fill_alpha\":0.5,\"fill_color\":\"lightgrey\",\"left_units\":\"screen\",\"level\":\"overlay\",\"line_alpha\":1.0,\"line_color\":\"black\",\"line_dash\":[4,4],\"line_width\":2,\"right_units\":\"screen\",\"top_units\":\"screen\"},\"id\":\"8340\",\"type\":\"BoxAnnotation\"},{\"attributes\":{},\"id\":\"8354\",\"type\":\"BasicTickFormatter\"},{\"attributes\":{\"source\":{\"id\":\"8348\"}},\"id\":\"8352\",\"type\":\"CDSView\"},{\"attributes\":{},\"id\":\"8320\",\"type\":\"DataRange1d\"},{\"attributes\":{\"axis\":{\"id\":\"8326\"},\"ticker\":null},\"id\":\"8329\",\"type\":\"Grid\"},{\"attributes\":{\"label\":{\"value\":\"R_test\"},\"renderers\":[{\"id\":\"8351\"}]},\"id\":\"8362\",\"type\":\"LegendItem\"},{\"attributes\":{\"formatter\":{\"id\":\"8354\"},\"ticker\":{\"id\":\"8327\"}},\"id\":\"8326\",\"type\":\"LinearAxis\"},{\"attributes\":{},\"id\":\"8356\",\"type\":\"BasicTickFormatter\"},{\"attributes\":{},\"id\":\"8339\",\"type\":\"HelpTool\"},{\"attributes\":{},\"id\":\"8331\",\"type\":\"BasicTicker\"},{\"attributes\":{},\"id\":\"8327\",\"type\":\"BasicTicker\"},{\"attributes\":{},\"id\":\"8334\",\"type\":\"PanTool\"},{\"attributes\":{\"axis_label\":\"Residual\",\"formatter\":{\"id\":\"8356\"},\"ticker\":{\"id\":\"8331\"}},\"id\":\"8330\",\"type\":\"LinearAxis\"},{\"attributes\":{},\"id\":\"8324\",\"type\":\"LinearScale\"},{\"attributes\":{\"fill_alpha\":{\"value\":0.1},\"fill_color\":{\"value\":\"blue\"},\"line_alpha\":{\"value\":0.1},\"line_color\":{\"value\":\"navy\"},\"size\":{\"units\":\"screen\",\"value\":2},\"x\":{\"field\":\"x\"},\"y\":{\"field\":\"y\"}},\"id\":\"8350\",\"type\":\"Scatter\"},{\"attributes\":{\"overlay\":{\"id\":\"8340\"}},\"id\":\"8336\",\"type\":\"BoxZoomTool\"},{\"attributes\":{\"axis\":{\"id\":\"8330\"},\"dimension\":1,\"ticker\":null},\"id\":\"8333\",\"type\":\"Grid\"},{\"attributes\":{\"active_drag\":\"auto\",\"active_inspect\":\"auto\",\"active_multi\":null,\"active_scroll\":\"auto\",\"active_tap\":\"auto\",\"tools\":[{\"id\":\"8334\"},{\"id\":\"8335\"},{\"id\":\"8336\"},{\"id\":\"8337\"},{\"id\":\"8338\"},{\"id\":\"8339\"}]},\"id\":\"8341\",\"type\":\"Toolbar\"},{\"attributes\":{},\"id\":\"8337\",\"type\":\"SaveTool\"},{\"attributes\":{},\"id\":\"8338\",\"type\":\"ResetTool\"},{\"attributes\":{\"data_source\":{\"id\":\"8348\"},\"glyph\":{\"id\":\"8349\"},\"hover_glyph\":null,\"muted_glyph\":null,\"nonselection_glyph\":{\"id\":\"8350\"},\"selection_glyph\":null,\"view\":{\"id\":\"8352\"}},\"id\":\"8351\",\"type\":\"GlyphRenderer\"},{\"attributes\":{},\"id\":\"8335\",\"type\":\"WheelZoomTool\"}],\"root_ids\":[\"8315\"]},\"title\":\"Bokeh Application\",\"version\":\"2.1.1\"}};\n",
       "  var render_items = [{\"docid\":\"53695b49-3206-4873-8453-552d606f013d\",\"root_ids\":[\"8315\"],\"roots\":{\"8315\":\"336db7b5-6525-4103-bfe9-37cb93067f93\"}}];\n",
       "  root.Bokeh.embed.embed_items_notebook(docs_json, render_items);\n",
       "\n",
       "  }\n",
       "  if (root.Bokeh !== undefined) {\n",
       "    embed_document(root);\n",
       "  } else {\n",
       "    var attempts = 0;\n",
       "    var timer = setInterval(function(root) {\n",
       "      if (root.Bokeh !== undefined) {\n",
       "        clearInterval(timer);\n",
       "        embed_document(root);\n",
       "      } else {\n",
       "        attempts++;\n",
       "        if (attempts > 100) {\n",
       "          clearInterval(timer);\n",
       "          console.log(\"Bokeh: ERROR: Unable to run BokehJS code because BokehJS library is missing\");\n",
       "        }\n",
       "      }\n",
       "    }, 10, root)\n",
       "  }\n",
       "})(window);"
      ],
      "application/vnd.bokehjs_exec.v0+json": ""
     },
     "metadata": {
      "application/vnd.bokehjs_exec.v0+json": {
       "id": "8315"
      }
     },
     "output_type": "display_data"
    }
   ],
   "source": [
    "month_mean_res = co2_train.groupby(\"month\").R_quad.mean()\n",
    "month_mean_res_smooth = [-0.921507, -0.012919, 0.646407, 1.355569, 2.561858, 2.982891, 2.316473, 0.776297, -1.301213, -3.128074, -3.309520,\\\n",
    "                         -2.081487, -0.921507, -0.012919]\n",
    "time_month = [-0.5/12, 0.5/12,1.5/12, 2.5/12, 3.5/ 12, 4.5/12, 5.5/12, 6.5/12, 7.5/12, 8.5/12, 9.5/12, 10.5/12, 11.5/12,12.5/12]\n",
    "month_continuous = np.linspace(-0.5/12,12.5/12,num = 100, endpoint =True)\n",
    "periodic= interp1d(time_month,month_mean_res_smooth,kind = 'cubic')\n",
    "\n",
    "periodic_total = periodic((np.array(x_train)%1))\n",
    "final = quadratic + periodic_total\n",
    "p = figure(plot_width=400, plot_height=400, title = \"C02 Variation with time\")\n",
    "p.scatter(x_train,y_train,size=2, line_color=\"red\", fill_color=\"orange\", fill_alpha=0.5, legend_label =\"Train Data\")\n",
    "p.line(x_train,final, line_color=\"blue\",line_width=2.5,legend_label =\"Final Fit\")\n",
    "p.xaxis.axis_label ='t_i'\n",
    "p.yaxis.axis_label ='CO2 Concentration'\n",
    "p.legend.location = \"top_left\"\n",
    "show(p)\n",
    "quadratic_test = model_2.predict(np.array(x_test).reshape(-1, 1))\n",
    "periodic_total_test = periodic((np.array(x_test)%1))\n",
    "final_test = quadratic_test + periodic_total_test\n",
    "p2 = figure(plot_width=400, plot_height=400, title = \"C02 Variation with time\")\n",
    "p2.scatter(x_test,y_test,size=2, line_color=\"navy\", fill_color=\"orange\", fill_alpha=0.5, legend_label =\"Test Data\")\n",
    "p2.line(x_test,final_test, line_color=\"orange\",line_width=2.5,legend_label =\"Final Fit Model Predictions\")\n",
    "p2.legend.location = \"top_left\"\n",
    "show(p2)\n",
    "\n",
    "p3 = figure(plot_width=400, plot_height=400, title = \"Residuals\")\n",
    "p3.scatter(x_train,y_train - final ,size=2, line_color=\"navy\", fill_color=\"blue\", fill_alpha=0.5, legend_label =\"R_train\")\n",
    "p3.yaxis.axis_label ='Residual'\n",
    "p3.legend.location = \"top_left\"\n",
    "show(p3)\n",
    "\n",
    "p4 = figure(plot_width=400, plot_height=400, title = \"Residuals\")\n",
    "p4.scatter(x_test,y_test - final_test ,size=2, line_color=\"navy\", fill_color=\"blue\", fill_alpha=0.5, legend_label =\"R_test\")\n",
    "p4.yaxis.axis_label ='Residual'\n",
    "p4.legend.location = \"top_left\"\n",
    "show(p4)"
   ]
  },
  {
   "cell_type": "markdown",
   "metadata": {},
   "source": [
    "In train data fit, R value is vibration within a certain range. In test data fit, R value shows an increasing trend with time growth. This means that the growth rate of CO2 concentration began to increase after 2000."
   ]
  },
  {
   "cell_type": "markdown",
   "metadata": {},
   "source": [
    " "
   ]
  },
  {
   "cell_type": "markdown",
   "metadata": {
    "tags": [
     "question:2.3",
     "points:4"
    ]
   },
   "source": [
    "**3.** (4 points) Report the root mean squared prediction error RMSE and the mean absolute percentage error MAPE with respect to the test set for this final model. Is this an improvement over the previous model $F_n(t_i)$ without the periodic signal? (Maximum 200 words.)"
   ]
  },
  {
   "cell_type": "code",
   "execution_count": 17,
   "metadata": {},
   "outputs": [
    {
     "name": "stdout",
     "output_type": "stream",
     "text": [
      "The mean squared prediction error of the Final Fit model is 1.1493602596634225\n",
      "The mean absolute percentage error of the Final Fit model is 0.20859165685936393\n"
     ]
    }
   ],
   "source": [
    "rmse_final_test = (mean_squared_error(y_test, final_test))**0.5\n",
    "mape_final_test = mean_absolute_percentage_error(y_test, final_test)\n",
    "\n",
    "print(\"The mean squared prediction error of the Final Fit model is \" + str(rmse_final_test))\n",
    "print(\"The mean absolute percentage error of the Final Fit model is \" + str(mape_final_test))"
   ]
  },
  {
   "cell_type": "markdown",
   "metadata": {},
   "source": [
    "### Solution:\n",
    "The mean squared prediction error of the Final Fit model is 1.1493602596634225\\\n",
    "The mean absolute percentage error of the Final Fit model is 0.20859165685936393\n",
    "\n",
    "Compare to the previous analysis：\n",
    ">The mean squared prediction error of the trend model is 2.5013322194898326 \\\n",
    ">The mean absolute percentage error of the trend model is 0.5320319129740952\n",
    "\n",
    "So that the final model improved a lot over the previous model $F_n(t_i)$ without the periodic signal."
   ]
  },
  {
   "cell_type": "markdown",
   "metadata": {
    "tags": [
     "word-limit:200"
    ]
   },
   "source": [
    " "
   ]
  },
  {
   "cell_type": "markdown",
   "metadata": {
    "tags": [
     "question:2.4",
     "points:3"
    ]
   },
   "source": [
    "**4.** (3 points) What is the ratio of the range of values of $F$ to the amplitude of $P_i$ and the ratio of the amplitude of $P$ to the range of the residual $R_i$ (from removing both the trend and the periodic signal)? Is this decomposition of the variation of the CO2 concentration meaningful? (Maximum 200 words.)"
   ]
  },
  {
   "cell_type": "code",
   "execution_count": 8,
   "metadata": {},
   "outputs": [
    {
     "name": "stdout",
     "output_type": "stream",
     "text": [
      "The ratio of the range of values of $F$ to the amplitude of $P_i$ is 15.95743409659297\n",
      "The ratio of the amplitude of $P$ to the range of the residual $R_i$ is 1.3341427263860355\n"
     ]
    }
   ],
   "source": [
    "F = model_2.predict(np.array(x).reshape(-1, 1))\n",
    "periodic_total = periodic((np.array(x)%1))\n",
    "final_total = F + periodic_total\n",
    "R = y - final_total\n",
    "final_total_range = final_total.max() - final_total.min()\n",
    "periodic_total_range = periodic_total.max() - periodic_total.min()\n",
    "R_range = R.max() - R.min()\n",
    "ratio_F = final_total_range/periodic_total_range\n",
    "ratio_P = periodic_total_range/R_range\n",
    "\n",
    "mape_final_test = mean_absolute_percentage_error(y_test, final_test)\n",
    "\n",
    "print(\"The ratio of the range of values of $F$ to the amplitude of $P_i$ is \" + str(ratio_F))\n",
    "print(\"The ratio of the amplitude of $P$ to the range of the residual $R_i$ is \" + str(ratio_P))"
   ]
  },
  {
   "cell_type": "markdown",
   "metadata": {},
   "source": [
    "### Solution:\n",
    "The ratio of the range of values of $F$ to the amplitude of $P_i$ is 15.95743409659297\\\n",
    "The ratio of the amplitude of $P$ to the range of the residual $R_i$ is 1.3341427263860355\n",
    "\n",
    "We know that:\n",
    ">The decomposition is meaningful only if the range of $F$ is much larger than the amplitude of the $P_i$ and this amplitude in turn is substantially larger than that of $R_i$.\n",
    "\n",
    "So in this case, the decomposition is meaningful."
   ]
  },
  {
   "cell_type": "markdown",
   "metadata": {
    "tags": [
     "word-limit:200"
    ]
   },
   "source": [
    " "
   ]
  },
  {
   "cell_type": "markdown",
   "metadata": {
    "tags": []
   },
   "source": [
    "### Problem 3: Autocovariance Functions"
   ]
  },
  {
   "cell_type": "markdown",
   "metadata": {
    "tags": [
     "question:3.1",
     "points:4"
    ]
   },
   "source": [
    "**1.** (4 points) Consider the MA(1) model,\n",
    "\n",
    "$$X_t = W_t + \\theta W_{t-1},$$\n",
    "\n",
    "where $W_t\\sim W\\sim\\mathcal{N}(0,\\sigma^2)$. Find the autocovariance function of $X_t$.\n",
    "Include all important steps of your computations in your report."
   ]
  },
  {
   "cell_type": "markdown",
   "metadata": {},
   "source": [
    "### Solution\n",
    "\n",
    "Suppose that $\\left\\{X_{t}\\right\\}$ is a time series with $\\mathrm{E}\\left[X_{t}^{2}\\right]<\\infty$ Its mean function is\n",
    "$$\n",
    "\\mu_{t}=\\mathrm{E}\\left[X_{t}\\right]\n",
    "$$\n",
    "Its autocovariance function is\n",
    "$$\n",
    "\\begin{aligned}\n",
    "\\gamma_{X}(s, t) &=\\operatorname{Cov}\\left(X_{s}, X_{t}\\right) \\\\\n",
    "&=\\mathrm{E}\\left[\\left(X_{s}-\\mu_{s}\\right)\\left(X_{t}-\\mu_{t}\\right)\\right]\n",
    "\\end{aligned}\n",
    "$$\n",
    "\n",
    "In this case\n",
    "\n",
    "$$X_t = W_t + \\theta W_{t-1},$$\n",
    "\n",
    "where $W_t\\sim W\\sim\\mathcal{N}(0,\\sigma^2)$. So that,\n",
    "\n",
    "We have $\\mathrm{E}\\left[X_{t}\\right]=0$,   $\\mathrm{E}\\left[W_{t}^{2}\\right]=\\sigma^{2}$,  $\\mathrm{E}\\left[\\theta^{2}W_{t-1}^{2}\\right]=\\theta^{2} \\sigma^{2}$,   $\\mathrm{E}\\left[W_{t}W_{t-1}\\right]=0$\n",
    "\n",
    "so we got autocovariance function:\n",
    "$$\n",
    "\\begin{aligned}\n",
    "\\gamma_{X}(t+h, t) &=\\mathrm{E}\\left(X_{t+h} X_{t}\\right) \\\\\n",
    "&=\\mathrm{E}\\left[\\left(W_{t+h}+\\theta W_{t+h-1}\\right)\\left(W_{t}+\\theta W_{t-1}\\right)\\right] \\\\\n",
    "&=\\left\\{\\begin{array}{ll}\n",
    "\\sigma^{2}\\left(1+\\theta^{2}\\right) & \\text { if } h=0, \\\\\n",
    "\\sigma^{2} \\theta & \\text { if } h=\\pm 1 \\\\\n",
    "0 & \\text { otherwise }\n",
    "\\end{array}\\right.\n",
    "\\end{aligned}\n",
    "$$"
   ]
  },
  {
   "cell_type": "markdown",
   "metadata": {
    "tags": [
     "question:3.2",
     "points:4"
    ]
   },
   "source": [
    "**2.** (4 points) Consider the AR(1) model,\n",
    "\n",
    "$$X_t=\\phi X_{t-1}+W_t,$$\n",
    "\n",
    "where $W\\sim W_t\\sim\\mathcal{N}(0,\\sigma^2)$. Suppose $|\\phi|<1$. Find the autocovariance function of ${X_t}$. (You may use, without proving, the fact that ${X_t}$ is stationary if $|\\phi|<1$.)  \n",
    "Include all important steps of your computations in your report."
   ]
  },
  {
   "cell_type": "markdown",
   "metadata": {},
   "source": [
    "### Solution\n",
    "\n",
    "Suppose that $\\left\\{X_{t}\\right\\}$ is a time series with $\\mathrm{E}\\left[X_{t}^{2}\\right]<\\infty$ Its mean function is\n",
    "$$\n",
    "\\mu_{t}=\\mathrm{E}\\left[X_{t}\\right]\n",
    "$$\n",
    "Its autocovariance function is\n",
    "$$\n",
    "\\begin{aligned}\n",
    "\\gamma_{X}(s, t) &=\\operatorname{Cov}\\left(X_{s}, X_{t}\\right) \\\\\n",
    "&=\\mathrm{E}\\left[\\left(X_{s}-\\mu_{s}\\right)\\left(X_{t}-\\mu_{t}\\right)\\right]\n",
    "\\end{aligned}\n",
    "$$\n",
    "\n",
    "In this case\n",
    "\n",
    "$$X_t=\\phi X_{t-1}+W_t,$$\n",
    "\n",
    "where $W\\sim W_t\\sim\\mathcal{N}(0,\\sigma^2)$. Suppose $|\\phi|<1$.  Then we have\n",
    "$$\n",
    "\\begin{aligned}\n",
    "\\mathrm{E}\\left[X_{t}\\right] &=\\phi \\mathrm{E}\\left[X_{t-1}\\right]\\\\\n",
    "&=0 \\quad \n",
    "\\end{aligned}\n",
    "$$\n",
    "\n",
    "$$\n",
    "\\begin{aligned}\n",
    "\\mathrm{E}\\left[X_{t}^{2}\\right] &=\\phi^{2} \\mathrm{E}\\left[X_{t-1}^{2}\\right]+\\sigma^{2} \\\\\n",
    "&=\\frac{\\sigma^{2}}{1-\\phi^{2}}\n",
    "\\end{aligned}\n",
    "$$\n",
    "\n",
    "so we got autocovariance function:\n",
    "$$\n",
    "\\begin{array}{l}\n",
    "\\begin{aligned}\n",
    "\\gamma_{X}(h) &=\\operatorname{Cov}\\left(\\phi X_{t+h-1}+W_{t+h}, X_{t}\\right) \\\\\n",
    "&=\\phi \\operatorname{Cov}\\left(X_{t+h-1}, X_{t}\\right) \\\\\n",
    "&=\\phi \\gamma_{X}(h-1)\\\\ \n",
    "&=\\phi^{|h|} \\gamma_{X}(0) \\quad \\text { (check for } h>0 \\text { and } h<0) \\\\\n",
    "&=\\frac{\\phi^{|h|} \\sigma^{2}}{1-\\phi^{2}} \n",
    "\\end{aligned}\\\\\n",
    "\\end{array}\n",
    "$$"
   ]
  },
  {
   "cell_type": "markdown",
   "metadata": {},
   "source": [
    " "
   ]
  },
  {
   "cell_type": "markdown",
   "metadata": {
    "tags": []
   },
   "source": [
    "### Problem 5: Converting to Inflation Rates\n",
    "### Inflation Rate from CPI"
   ]
  },
  {
   "cell_type": "markdown",
   "metadata": {
    "tags": [
     "question:5.1",
     "points:9"
    ]
   },
   "source": [
    "**1.** Repeat the model fitting and evaluation procedure from the previous page for the monthly inflation rate computed from CPI.  Your response should include:\n",
    "\n",
    "- (1 point) Description of how you compute the monthly inflation rate from CPI and a plot of the monthly inflation rate.  \n",
    "- (2 points) Description of how the data has been detrended and a plot of the detrended data. (You may choose to work with log of the CPI for later convenience.)  \n",
    "- (3 points) Statement of and justification for the chosen AR($p$) model. Include plots and reasoning.  \n",
    "- (3 points) Description of the final model; computation and plots of the 1 month-ahead forecasts for the validation data. In your plot, overlay predictions on top of the data."
   ]
  },
  {
   "cell_type": "markdown",
   "metadata": {},
   "source": [
    "### Solution:\n",
    "I compute the monthly inflation rate from CPI by:\n",
    "$$\n",
    "\\mathrm{IR}_{t}=\\ln \\left(\\mathrm{CPI}_{t}\\right)-\\ln \\left(\\mathrm{CPI}_{t-1}\\right)\n",
    "$$\n",
    "where $t$ indexes the months.\n",
    "\n",
    "Subtract the linear growth trend from CPI_IR to get the detrended data plot.\n",
    "\n",
    "From the above PACF plot, we can see that the highest lag at which the plot extends beyond the statistically significant boundary is at lag 2. This indicates that an AR Model of lag 2 should be sufficient to fit the data."
   ]
  },
  {
   "cell_type": "code",
   "execution_count": 169,
   "metadata": {},
   "outputs": [
    {
     "data": {
      "text/html": [
       "\n",
       "    <div class=\"bk-root\">\n",
       "        <a href=\"https://bokeh.org\" target=\"_blank\" class=\"bk-logo bk-logo-small bk-logo-notebook\"></a>\n",
       "        <span id=\"114072\">Loading BokehJS ...</span>\n",
       "    </div>"
      ]
     },
     "metadata": {},
     "output_type": "display_data"
    },
    {
     "data": {
      "application/javascript": [
       "\n",
       "(function(root) {\n",
       "  function now() {\n",
       "    return new Date();\n",
       "  }\n",
       "\n",
       "  var force = true;\n",
       "\n",
       "  if (typeof root._bokeh_onload_callbacks === \"undefined\" || force === true) {\n",
       "    root._bokeh_onload_callbacks = [];\n",
       "    root._bokeh_is_loading = undefined;\n",
       "  }\n",
       "\n",
       "  var JS_MIME_TYPE = 'application/javascript';\n",
       "  var HTML_MIME_TYPE = 'text/html';\n",
       "  var EXEC_MIME_TYPE = 'application/vnd.bokehjs_exec.v0+json';\n",
       "  var CLASS_NAME = 'output_bokeh rendered_html';\n",
       "\n",
       "  /**\n",
       "   * Render data to the DOM node\n",
       "   */\n",
       "  function render(props, node) {\n",
       "    var script = document.createElement(\"script\");\n",
       "    node.appendChild(script);\n",
       "  }\n",
       "\n",
       "  /**\n",
       "   * Handle when an output is cleared or removed\n",
       "   */\n",
       "  function handleClearOutput(event, handle) {\n",
       "    var cell = handle.cell;\n",
       "\n",
       "    var id = cell.output_area._bokeh_element_id;\n",
       "    var server_id = cell.output_area._bokeh_server_id;\n",
       "    // Clean up Bokeh references\n",
       "    if (id != null && id in Bokeh.index) {\n",
       "      Bokeh.index[id].model.document.clear();\n",
       "      delete Bokeh.index[id];\n",
       "    }\n",
       "\n",
       "    if (server_id !== undefined) {\n",
       "      // Clean up Bokeh references\n",
       "      var cmd = \"from bokeh.io.state import curstate; print(curstate().uuid_to_server['\" + server_id + \"'].get_sessions()[0].document.roots[0]._id)\";\n",
       "      cell.notebook.kernel.execute(cmd, {\n",
       "        iopub: {\n",
       "          output: function(msg) {\n",
       "            var id = msg.content.text.trim();\n",
       "            if (id in Bokeh.index) {\n",
       "              Bokeh.index[id].model.document.clear();\n",
       "              delete Bokeh.index[id];\n",
       "            }\n",
       "          }\n",
       "        }\n",
       "      });\n",
       "      // Destroy server and session\n",
       "      var cmd = \"import bokeh.io.notebook as ion; ion.destroy_server('\" + server_id + \"')\";\n",
       "      cell.notebook.kernel.execute(cmd);\n",
       "    }\n",
       "  }\n",
       "\n",
       "  /**\n",
       "   * Handle when a new output is added\n",
       "   */\n",
       "  function handleAddOutput(event, handle) {\n",
       "    var output_area = handle.output_area;\n",
       "    var output = handle.output;\n",
       "\n",
       "    // limit handleAddOutput to display_data with EXEC_MIME_TYPE content only\n",
       "    if ((output.output_type != \"display_data\") || (!output.data.hasOwnProperty(EXEC_MIME_TYPE))) {\n",
       "      return\n",
       "    }\n",
       "\n",
       "    var toinsert = output_area.element.find(\".\" + CLASS_NAME.split(' ')[0]);\n",
       "\n",
       "    if (output.metadata[EXEC_MIME_TYPE][\"id\"] !== undefined) {\n",
       "      toinsert[toinsert.length - 1].firstChild.textContent = output.data[JS_MIME_TYPE];\n",
       "      // store reference to embed id on output_area\n",
       "      output_area._bokeh_element_id = output.metadata[EXEC_MIME_TYPE][\"id\"];\n",
       "    }\n",
       "    if (output.metadata[EXEC_MIME_TYPE][\"server_id\"] !== undefined) {\n",
       "      var bk_div = document.createElement(\"div\");\n",
       "      bk_div.innerHTML = output.data[HTML_MIME_TYPE];\n",
       "      var script_attrs = bk_div.children[0].attributes;\n",
       "      for (var i = 0; i < script_attrs.length; i++) {\n",
       "        toinsert[toinsert.length - 1].firstChild.setAttribute(script_attrs[i].name, script_attrs[i].value);\n",
       "        toinsert[toinsert.length - 1].firstChild.textContent = bk_div.children[0].textContent\n",
       "      }\n",
       "      // store reference to server id on output_area\n",
       "      output_area._bokeh_server_id = output.metadata[EXEC_MIME_TYPE][\"server_id\"];\n",
       "    }\n",
       "  }\n",
       "\n",
       "  function register_renderer(events, OutputArea) {\n",
       "\n",
       "    function append_mime(data, metadata, element) {\n",
       "      // create a DOM node to render to\n",
       "      var toinsert = this.create_output_subarea(\n",
       "        metadata,\n",
       "        CLASS_NAME,\n",
       "        EXEC_MIME_TYPE\n",
       "      );\n",
       "      this.keyboard_manager.register_events(toinsert);\n",
       "      // Render to node\n",
       "      var props = {data: data, metadata: metadata[EXEC_MIME_TYPE]};\n",
       "      render(props, toinsert[toinsert.length - 1]);\n",
       "      element.append(toinsert);\n",
       "      return toinsert\n",
       "    }\n",
       "\n",
       "    /* Handle when an output is cleared or removed */\n",
       "    events.on('clear_output.CodeCell', handleClearOutput);\n",
       "    events.on('delete.Cell', handleClearOutput);\n",
       "\n",
       "    /* Handle when a new output is added */\n",
       "    events.on('output_added.OutputArea', handleAddOutput);\n",
       "\n",
       "    /**\n",
       "     * Register the mime type and append_mime function with output_area\n",
       "     */\n",
       "    OutputArea.prototype.register_mime_type(EXEC_MIME_TYPE, append_mime, {\n",
       "      /* Is output safe? */\n",
       "      safe: true,\n",
       "      /* Index of renderer in `output_area.display_order` */\n",
       "      index: 0\n",
       "    });\n",
       "  }\n",
       "\n",
       "  // register the mime type if in Jupyter Notebook environment and previously unregistered\n",
       "  if (root.Jupyter !== undefined) {\n",
       "    var events = require('base/js/events');\n",
       "    var OutputArea = require('notebook/js/outputarea').OutputArea;\n",
       "\n",
       "    if (OutputArea.prototype.mime_types().indexOf(EXEC_MIME_TYPE) == -1) {\n",
       "      register_renderer(events, OutputArea);\n",
       "    }\n",
       "  }\n",
       "\n",
       "  \n",
       "  if (typeof (root._bokeh_timeout) === \"undefined\" || force === true) {\n",
       "    root._bokeh_timeout = Date.now() + 5000;\n",
       "    root._bokeh_failed_load = false;\n",
       "  }\n",
       "\n",
       "  var NB_LOAD_WARNING = {'data': {'text/html':\n",
       "     \"<div style='background-color: #fdd'>\\n\"+\n",
       "     \"<p>\\n\"+\n",
       "     \"BokehJS does not appear to have successfully loaded. If loading BokehJS from CDN, this \\n\"+\n",
       "     \"may be due to a slow or bad network connection. Possible fixes:\\n\"+\n",
       "     \"</p>\\n\"+\n",
       "     \"<ul>\\n\"+\n",
       "     \"<li>re-rerun `output_notebook()` to attempt to load from CDN again, or</li>\\n\"+\n",
       "     \"<li>use INLINE resources instead, as so:</li>\\n\"+\n",
       "     \"</ul>\\n\"+\n",
       "     \"<code>\\n\"+\n",
       "     \"from bokeh.resources import INLINE\\n\"+\n",
       "     \"output_notebook(resources=INLINE)\\n\"+\n",
       "     \"</code>\\n\"+\n",
       "     \"</div>\"}};\n",
       "\n",
       "  function display_loaded() {\n",
       "    var el = document.getElementById(\"114072\");\n",
       "    if (el != null) {\n",
       "      el.textContent = \"BokehJS is loading...\";\n",
       "    }\n",
       "    if (root.Bokeh !== undefined) {\n",
       "      if (el != null) {\n",
       "        el.textContent = \"BokehJS \" + root.Bokeh.version + \" successfully loaded.\";\n",
       "      }\n",
       "    } else if (Date.now() < root._bokeh_timeout) {\n",
       "      setTimeout(display_loaded, 100)\n",
       "    }\n",
       "  }\n",
       "\n",
       "\n",
       "  function run_callbacks() {\n",
       "    try {\n",
       "      root._bokeh_onload_callbacks.forEach(function(callback) {\n",
       "        if (callback != null)\n",
       "          callback();\n",
       "      });\n",
       "    } finally {\n",
       "      delete root._bokeh_onload_callbacks\n",
       "    }\n",
       "    console.debug(\"Bokeh: all callbacks have finished\");\n",
       "  }\n",
       "\n",
       "  function load_libs(css_urls, js_urls, callback) {\n",
       "    if (css_urls == null) css_urls = [];\n",
       "    if (js_urls == null) js_urls = [];\n",
       "\n",
       "    root._bokeh_onload_callbacks.push(callback);\n",
       "    if (root._bokeh_is_loading > 0) {\n",
       "      console.debug(\"Bokeh: BokehJS is being loaded, scheduling callback at\", now());\n",
       "      return null;\n",
       "    }\n",
       "    if (js_urls == null || js_urls.length === 0) {\n",
       "      run_callbacks();\n",
       "      return null;\n",
       "    }\n",
       "    console.debug(\"Bokeh: BokehJS not loaded, scheduling load and callback at\", now());\n",
       "    root._bokeh_is_loading = css_urls.length + js_urls.length;\n",
       "\n",
       "    function on_load() {\n",
       "      root._bokeh_is_loading--;\n",
       "      if (root._bokeh_is_loading === 0) {\n",
       "        console.debug(\"Bokeh: all BokehJS libraries/stylesheets loaded\");\n",
       "        run_callbacks()\n",
       "      }\n",
       "    }\n",
       "\n",
       "    function on_error() {\n",
       "      console.error(\"failed to load \" + url);\n",
       "    }\n",
       "\n",
       "    for (var i = 0; i < css_urls.length; i++) {\n",
       "      var url = css_urls[i];\n",
       "      const element = document.createElement(\"link\");\n",
       "      element.onload = on_load;\n",
       "      element.onerror = on_error;\n",
       "      element.rel = \"stylesheet\";\n",
       "      element.type = \"text/css\";\n",
       "      element.href = url;\n",
       "      console.debug(\"Bokeh: injecting link tag for BokehJS stylesheet: \", url);\n",
       "      document.body.appendChild(element);\n",
       "    }\n",
       "\n",
       "    const hashes = {\"https://cdn.bokeh.org/bokeh/release/bokeh-2.1.1.min.js\": \"kLr4fYcqcSpbuI95brIH3vnnYCquzzSxHPU6XGQCIkQRGJwhg0StNbj1eegrHs12\", \"https://cdn.bokeh.org/bokeh/release/bokeh-widgets-2.1.1.min.js\": \"xIGPmVtaOm+z0BqfSOMn4lOR6ciex448GIKG4eE61LsAvmGj48XcMQZtKcE/UXZe\", \"https://cdn.bokeh.org/bokeh/release/bokeh-tables-2.1.1.min.js\": \"Dc9u1wF/0zApGIWoBbH77iWEHtdmkuYWG839Uzmv8y8yBLXebjO9ZnERsde5Ln/P\", \"https://cdn.bokeh.org/bokeh/release/bokeh-gl-2.1.1.min.js\": \"cT9JaBz7GiRXdENrJLZNSC6eMNF3nh3fa5fTF51Svp+ukxPdwcU5kGXGPBgDCa2j\"};\n",
       "\n",
       "    for (var i = 0; i < js_urls.length; i++) {\n",
       "      var url = js_urls[i];\n",
       "      var element = document.createElement('script');\n",
       "      element.onload = on_load;\n",
       "      element.onerror = on_error;\n",
       "      element.async = false;\n",
       "      element.src = url;\n",
       "      if (url in hashes) {\n",
       "        element.crossOrigin = \"anonymous\";\n",
       "        element.integrity = \"sha384-\" + hashes[url];\n",
       "      }\n",
       "      console.debug(\"Bokeh: injecting script tag for BokehJS library: \", url);\n",
       "      document.head.appendChild(element);\n",
       "    }\n",
       "  };\n",
       "\n",
       "  function inject_raw_css(css) {\n",
       "    const element = document.createElement(\"style\");\n",
       "    element.appendChild(document.createTextNode(css));\n",
       "    document.body.appendChild(element);\n",
       "  }\n",
       "\n",
       "  \n",
       "  var js_urls = [\"https://cdn.bokeh.org/bokeh/release/bokeh-2.1.1.min.js\", \"https://cdn.bokeh.org/bokeh/release/bokeh-widgets-2.1.1.min.js\", \"https://cdn.bokeh.org/bokeh/release/bokeh-tables-2.1.1.min.js\", \"https://cdn.bokeh.org/bokeh/release/bokeh-gl-2.1.1.min.js\"];\n",
       "  var css_urls = [];\n",
       "  \n",
       "\n",
       "  var inline_js = [\n",
       "    function(Bokeh) {\n",
       "      Bokeh.set_log_level(\"info\");\n",
       "    },\n",
       "    function(Bokeh) {\n",
       "    \n",
       "    \n",
       "    }\n",
       "  ];\n",
       "\n",
       "  function run_inline_js() {\n",
       "    \n",
       "    if (root.Bokeh !== undefined || force === true) {\n",
       "      \n",
       "    for (var i = 0; i < inline_js.length; i++) {\n",
       "      inline_js[i].call(root, root.Bokeh);\n",
       "    }\n",
       "    if (force === true) {\n",
       "        display_loaded();\n",
       "      }} else if (Date.now() < root._bokeh_timeout) {\n",
       "      setTimeout(run_inline_js, 100);\n",
       "    } else if (!root._bokeh_failed_load) {\n",
       "      console.log(\"Bokeh: BokehJS failed to load within specified timeout.\");\n",
       "      root._bokeh_failed_load = true;\n",
       "    } else if (force !== true) {\n",
       "      var cell = $(document.getElementById(\"114072\")).parents('.cell').data().cell;\n",
       "      cell.output_area.append_execute_result(NB_LOAD_WARNING)\n",
       "    }\n",
       "\n",
       "  }\n",
       "\n",
       "  if (root._bokeh_is_loading === 0) {\n",
       "    console.debug(\"Bokeh: BokehJS loaded, going straight to plotting\");\n",
       "    run_inline_js();\n",
       "  } else {\n",
       "    load_libs(css_urls, js_urls, function() {\n",
       "      console.debug(\"Bokeh: BokehJS plotting callback run at\", now());\n",
       "      run_inline_js();\n",
       "    });\n",
       "  }\n",
       "}(window));"
      ],
      "application/vnd.bokehjs_load.v0+json": "\n(function(root) {\n  function now() {\n    return new Date();\n  }\n\n  var force = true;\n\n  if (typeof root._bokeh_onload_callbacks === \"undefined\" || force === true) {\n    root._bokeh_onload_callbacks = [];\n    root._bokeh_is_loading = undefined;\n  }\n\n  \n\n  \n  if (typeof (root._bokeh_timeout) === \"undefined\" || force === true) {\n    root._bokeh_timeout = Date.now() + 5000;\n    root._bokeh_failed_load = false;\n  }\n\n  var NB_LOAD_WARNING = {'data': {'text/html':\n     \"<div style='background-color: #fdd'>\\n\"+\n     \"<p>\\n\"+\n     \"BokehJS does not appear to have successfully loaded. If loading BokehJS from CDN, this \\n\"+\n     \"may be due to a slow or bad network connection. Possible fixes:\\n\"+\n     \"</p>\\n\"+\n     \"<ul>\\n\"+\n     \"<li>re-rerun `output_notebook()` to attempt to load from CDN again, or</li>\\n\"+\n     \"<li>use INLINE resources instead, as so:</li>\\n\"+\n     \"</ul>\\n\"+\n     \"<code>\\n\"+\n     \"from bokeh.resources import INLINE\\n\"+\n     \"output_notebook(resources=INLINE)\\n\"+\n     \"</code>\\n\"+\n     \"</div>\"}};\n\n  function display_loaded() {\n    var el = document.getElementById(\"114072\");\n    if (el != null) {\n      el.textContent = \"BokehJS is loading...\";\n    }\n    if (root.Bokeh !== undefined) {\n      if (el != null) {\n        el.textContent = \"BokehJS \" + root.Bokeh.version + \" successfully loaded.\";\n      }\n    } else if (Date.now() < root._bokeh_timeout) {\n      setTimeout(display_loaded, 100)\n    }\n  }\n\n\n  function run_callbacks() {\n    try {\n      root._bokeh_onload_callbacks.forEach(function(callback) {\n        if (callback != null)\n          callback();\n      });\n    } finally {\n      delete root._bokeh_onload_callbacks\n    }\n    console.debug(\"Bokeh: all callbacks have finished\");\n  }\n\n  function load_libs(css_urls, js_urls, callback) {\n    if (css_urls == null) css_urls = [];\n    if (js_urls == null) js_urls = [];\n\n    root._bokeh_onload_callbacks.push(callback);\n    if (root._bokeh_is_loading > 0) {\n      console.debug(\"Bokeh: BokehJS is being loaded, scheduling callback at\", now());\n      return null;\n    }\n    if (js_urls == null || js_urls.length === 0) {\n      run_callbacks();\n      return null;\n    }\n    console.debug(\"Bokeh: BokehJS not loaded, scheduling load and callback at\", now());\n    root._bokeh_is_loading = css_urls.length + js_urls.length;\n\n    function on_load() {\n      root._bokeh_is_loading--;\n      if (root._bokeh_is_loading === 0) {\n        console.debug(\"Bokeh: all BokehJS libraries/stylesheets loaded\");\n        run_callbacks()\n      }\n    }\n\n    function on_error() {\n      console.error(\"failed to load \" + url);\n    }\n\n    for (var i = 0; i < css_urls.length; i++) {\n      var url = css_urls[i];\n      const element = document.createElement(\"link\");\n      element.onload = on_load;\n      element.onerror = on_error;\n      element.rel = \"stylesheet\";\n      element.type = \"text/css\";\n      element.href = url;\n      console.debug(\"Bokeh: injecting link tag for BokehJS stylesheet: \", url);\n      document.body.appendChild(element);\n    }\n\n    const hashes = {\"https://cdn.bokeh.org/bokeh/release/bokeh-2.1.1.min.js\": \"kLr4fYcqcSpbuI95brIH3vnnYCquzzSxHPU6XGQCIkQRGJwhg0StNbj1eegrHs12\", \"https://cdn.bokeh.org/bokeh/release/bokeh-widgets-2.1.1.min.js\": \"xIGPmVtaOm+z0BqfSOMn4lOR6ciex448GIKG4eE61LsAvmGj48XcMQZtKcE/UXZe\", \"https://cdn.bokeh.org/bokeh/release/bokeh-tables-2.1.1.min.js\": \"Dc9u1wF/0zApGIWoBbH77iWEHtdmkuYWG839Uzmv8y8yBLXebjO9ZnERsde5Ln/P\", \"https://cdn.bokeh.org/bokeh/release/bokeh-gl-2.1.1.min.js\": \"cT9JaBz7GiRXdENrJLZNSC6eMNF3nh3fa5fTF51Svp+ukxPdwcU5kGXGPBgDCa2j\"};\n\n    for (var i = 0; i < js_urls.length; i++) {\n      var url = js_urls[i];\n      var element = document.createElement('script');\n      element.onload = on_load;\n      element.onerror = on_error;\n      element.async = false;\n      element.src = url;\n      if (url in hashes) {\n        element.crossOrigin = \"anonymous\";\n        element.integrity = \"sha384-\" + hashes[url];\n      }\n      console.debug(\"Bokeh: injecting script tag for BokehJS library: \", url);\n      document.head.appendChild(element);\n    }\n  };\n\n  function inject_raw_css(css) {\n    const element = document.createElement(\"style\");\n    element.appendChild(document.createTextNode(css));\n    document.body.appendChild(element);\n  }\n\n  \n  var js_urls = [\"https://cdn.bokeh.org/bokeh/release/bokeh-2.1.1.min.js\", \"https://cdn.bokeh.org/bokeh/release/bokeh-widgets-2.1.1.min.js\", \"https://cdn.bokeh.org/bokeh/release/bokeh-tables-2.1.1.min.js\", \"https://cdn.bokeh.org/bokeh/release/bokeh-gl-2.1.1.min.js\"];\n  var css_urls = [];\n  \n\n  var inline_js = [\n    function(Bokeh) {\n      Bokeh.set_log_level(\"info\");\n    },\n    function(Bokeh) {\n    \n    \n    }\n  ];\n\n  function run_inline_js() {\n    \n    if (root.Bokeh !== undefined || force === true) {\n      \n    for (var i = 0; i < inline_js.length; i++) {\n      inline_js[i].call(root, root.Bokeh);\n    }\n    if (force === true) {\n        display_loaded();\n      }} else if (Date.now() < root._bokeh_timeout) {\n      setTimeout(run_inline_js, 100);\n    } else if (!root._bokeh_failed_load) {\n      console.log(\"Bokeh: BokehJS failed to load within specified timeout.\");\n      root._bokeh_failed_load = true;\n    } else if (force !== true) {\n      var cell = $(document.getElementById(\"114072\")).parents('.cell').data().cell;\n      cell.output_area.append_execute_result(NB_LOAD_WARNING)\n    }\n\n  }\n\n  if (root._bokeh_is_loading === 0) {\n    console.debug(\"Bokeh: BokehJS loaded, going straight to plotting\");\n    run_inline_js();\n  } else {\n    load_libs(css_urls, js_urls, function() {\n      console.debug(\"Bokeh: BokehJS plotting callback run at\", now());\n      run_inline_js();\n    });\n  }\n}(window));"
     },
     "metadata": {},
     "output_type": "display_data"
    },
    {
     "name": "stdout",
     "output_type": "stream",
     "text": [
      "The linear trend is given by F(t) = 0.0055300123366067*t + (-0.06427097234449808)\n"
     ]
    },
    {
     "data": {
      "text/html": [
       "\n",
       "\n",
       "\n",
       "\n",
       "\n",
       "\n",
       "  <div class=\"bk-root\" id=\"67c3577f-cadc-41e6-9f9f-04f8348d7f15\" data-root-id=\"114073\"></div>\n"
      ]
     },
     "metadata": {},
     "output_type": "display_data"
    },
    {
     "data": {
      "application/javascript": [
       "(function(root) {\n",
       "  function embed_document(root) {\n",
       "    \n",
       "  var docs_json = {\"33a6ecf8-79d0-4ded-a8c3-9b8923335352\":{\"roots\":{\"references\":[{\"attributes\":{\"below\":[{\"id\":\"114084\"}],\"center\":[{\"id\":\"114087\"},{\"id\":\"114091\"},{\"id\":\"114119\"}],\"left\":[{\"id\":\"114088\"}],\"plot_height\":400,\"plot_width\":400,\"renderers\":[{\"id\":\"114109\"},{\"id\":\"114124\"}],\"title\":{\"id\":\"114074\"},\"toolbar\":{\"id\":\"114099\"},\"x_range\":{\"id\":\"114076\"},\"x_scale\":{\"id\":\"114080\"},\"y_range\":{\"id\":\"114078\"},\"y_scale\":{\"id\":\"114082\"}},\"id\":\"114073\",\"subtype\":\"Figure\",\"type\":\"Plot\"},{\"attributes\":{},\"id\":\"114096\",\"type\":\"ResetTool\"},{\"attributes\":{},\"id\":\"114097\",\"type\":\"HelpTool\"},{\"attributes\":{\"overlay\":{\"id\":\"114098\"}},\"id\":\"114094\",\"type\":\"BoxZoomTool\"},{\"attributes\":{\"axis_label\":\"CPI_IR\",\"formatter\":{\"id\":\"114115\"},\"ticker\":{\"id\":\"114089\"}},\"id\":\"114088\",\"type\":\"LinearAxis\"},{\"attributes\":{\"items\":[{\"id\":\"114120\"},{\"id\":\"114136\"}],\"location\":\"bottom_right\"},\"id\":\"114119\",\"type\":\"Legend\"},{\"attributes\":{\"source\":{\"id\":\"114106\"}},\"id\":\"114110\",\"type\":\"CDSView\"},{\"attributes\":{\"axis_label\":\"t\",\"formatter\":{\"id\":\"114113\"},\"ticker\":{\"id\":\"114085\"}},\"id\":\"114084\",\"type\":\"LinearAxis\"},{\"attributes\":{\"data\":{\"x\":[1,2,3,4,5,6,7,8,9,10,11,12,13,14,15,16,17,18,19,20,21,22,23,24,25,26,27,28,29,30,31,32,33,34,35,36,37,38,39,40,41,42,43,44,45,46,47,48,49,50,51,52,53,54,55,56,57,58,59,60,61],\"y\":{\"__ndarray__\":\"AM+pW13C4D/Al90IpZnZv4CHJMdFtcG/gN3dJpA+8L8APmG4GvH+v3Au7BtRovC/QEs6X4DL2z9AAZmoKr/fP4BxZP/TFs8/gG+fqOHpzz/AQuZnMHbSP2Am2MrFXus/gHUf7eRPxL8AdaTrU63MPwCoWjsjArA/AOqSBOmkuD8AQqIO5BuyP4DZx2Dcj8a/gK3la5/V1T8AIBe7b4SZP8AwjUsFOto/gBID64c2xj8Abt+WbtWzPwAOwsWuAbm/AOjUSm+glT+AMNunEanBPwCKcLa6xq0/AExk27nbvz8ANPZBuoelPwBgViGj+8U/gI4kaEtp3j/AFs9jiHvfP2DbQQw2De8/YDCyEwGK5D9A7TPqpArePwBZVzW4bru/AJPWEiCstj/AdafakZ/RP4Cp0GyXa8M/APrX86Fuyr8AcsBXb5u1v4C0GBjzm8+/gIq7/1QZ3D+AkWNnGx7cP0BXzn86Nug/gLUyhhlO0z8Ako11iA++v4AlGl9CyMK/gF3x9jDgxL/Ajq36dcLhP8DJbPqRftw/AMLw7E7zo78A8stUpWXev8Djeq+TQdG/QAjPePnl0j9gTLvb0xnqPwC5UGT4tdA/ANskvjChur8AhNAu08TGP4C7y5T1rs4/AA5pavsxpD8=\",\"dtype\":\"float64\",\"order\":\"little\",\"shape\":[61]}},\"selected\":{\"id\":\"114118\"},\"selection_policy\":{\"id\":\"114117\"}},\"id\":\"114106\",\"type\":\"ColumnDataSource\"},{\"attributes\":{},\"id\":\"114076\",\"type\":\"DataRange1d\"},{\"attributes\":{},\"id\":\"114078\",\"type\":\"DataRange1d\"},{\"attributes\":{\"line_alpha\":0.1,\"line_color\":\"orange\",\"line_width\":2.5,\"x\":{\"field\":\"x\"},\"y\":{\"field\":\"y\"}},\"id\":\"114123\",\"type\":\"Line\"},{\"attributes\":{\"source\":{\"id\":\"114121\"}},\"id\":\"114125\",\"type\":\"CDSView\"},{\"attributes\":{\"label\":{\"value\":\"Original Data\"},\"renderers\":[{\"id\":\"114109\"}]},\"id\":\"114120\",\"type\":\"LegendItem\"},{\"attributes\":{\"data\":{\"x\":[1,2,3,4,5,6,7,8,9,10,11,12,13,14,15,16,17,18,19,20,21,22,23,24,25,26,27,28,29,30,31,32,33,34,35,36,37,38,39,40,41,42,43,44,45,46,47,48,49,50,51,52,53,54,55,56,57,58,59,60,61],\"y\":{\"__ndarray__\":\"ms1WjEsTrr+UHRMgdz6rv49tz7Oiaai/ib2LR86Upb+DDUjb+b+iv/y6CN5K1p+/8FqBBaIsmr/k+vks+YKUv7A15aigso2/mHXW905fgr8Q1h4b9S9sv0AqHKlRHWE/UJWrNkw1fz/AimTM9+2KP2ylub6kIJM/eAVBl03KmD+EZchv9nOeP8jiJ6TPDqI/zpJrEKTjpD/UQq98eLinP9jy8uhMjao/3qI2VSFirT9yKb3gehuwP3QB3xblhbE/eNkATU/wsj96sSKDuVq0P36JRLkjxbU/gGFm740vtz+EOYgl+Jm4P4YRqltiBLo/iunLkcxuuz+Mwe3HNtm8P46ZD/6gQ74/knExNAuuvz/KpCm1OozAP8yQOtBvQcE/zXxL66T2wT/PaFwG2qvCP9BUbSEPYcM/0kB+PEQWxD/TLI9XecvEP9QYoHKugMU/1gSxjeM1xj/X8MGoGOvGP9nc0sNNoMc/2sjj3oJVyD/ctPT5twrJP9ygBRXtv8k/3owWMCJ1yj/geCdLVyrLP+JkOGaM38s/4lBJgcGUzD/kPFqc9knNP+Yoa7cr/80/6BR80mC0zj/oAI3tlWnPP3X2ToRlD9A/dmzXEQBq0D924l+fmsTQP3dY6Cw1H9E/eM5wus950T8=\",\"dtype\":\"float64\",\"order\":\"little\",\"shape\":[61]}},\"selected\":{\"id\":\"114135\"},\"selection_policy\":{\"id\":\"114134\"}},\"id\":\"114121\",\"type\":\"ColumnDataSource\"},{\"attributes\":{},\"id\":\"114095\",\"type\":\"SaveTool\"},{\"attributes\":{\"line_color\":\"orange\",\"line_width\":2.5,\"x\":{\"field\":\"x\"},\"y\":{\"field\":\"y\"}},\"id\":\"114122\",\"type\":\"Line\"},{\"attributes\":{},\"id\":\"114113\",\"type\":\"BasicTickFormatter\"},{\"attributes\":{\"text\":\"CPI_IR Time Series\"},\"id\":\"114074\",\"type\":\"Title\"},{\"attributes\":{\"label\":{\"value\":\"Linear Trend\"},\"renderers\":[{\"id\":\"114124\"}]},\"id\":\"114136\",\"type\":\"LegendItem\"},{\"attributes\":{\"bottom_units\":\"screen\",\"fill_alpha\":0.5,\"fill_color\":\"lightgrey\",\"left_units\":\"screen\",\"level\":\"overlay\",\"line_alpha\":1.0,\"line_color\":\"black\",\"line_dash\":[4,4],\"line_width\":2,\"right_units\":\"screen\",\"top_units\":\"screen\"},\"id\":\"114098\",\"type\":\"BoxAnnotation\"},{\"attributes\":{\"line_alpha\":0.1,\"line_color\":\"navy\",\"line_width\":2,\"x\":{\"field\":\"x\"},\"y\":{\"field\":\"y\"}},\"id\":\"114108\",\"type\":\"Line\"},{\"attributes\":{\"axis\":{\"id\":\"114084\"},\"ticker\":null},\"id\":\"114087\",\"type\":\"Grid\"},{\"attributes\":{},\"id\":\"114115\",\"type\":\"BasicTickFormatter\"},{\"attributes\":{},\"id\":\"114134\",\"type\":\"UnionRenderers\"},{\"attributes\":{},\"id\":\"114082\",\"type\":\"LinearScale\"},{\"attributes\":{\"axis\":{\"id\":\"114088\"},\"dimension\":1,\"ticker\":null},\"id\":\"114091\",\"type\":\"Grid\"},{\"attributes\":{},\"id\":\"114085\",\"type\":\"BasicTicker\"},{\"attributes\":{},\"id\":\"114093\",\"type\":\"WheelZoomTool\"},{\"attributes\":{},\"id\":\"114135\",\"type\":\"Selection\"},{\"attributes\":{},\"id\":\"114089\",\"type\":\"BasicTicker\"},{\"attributes\":{},\"id\":\"114080\",\"type\":\"LinearScale\"},{\"attributes\":{},\"id\":\"114092\",\"type\":\"PanTool\"},{\"attributes\":{},\"id\":\"114117\",\"type\":\"UnionRenderers\"},{\"attributes\":{\"data_source\":{\"id\":\"114121\"},\"glyph\":{\"id\":\"114122\"},\"hover_glyph\":null,\"muted_glyph\":null,\"nonselection_glyph\":{\"id\":\"114123\"},\"selection_glyph\":null,\"view\":{\"id\":\"114125\"}},\"id\":\"114124\",\"type\":\"GlyphRenderer\"},{\"attributes\":{},\"id\":\"114118\",\"type\":\"Selection\"},{\"attributes\":{\"line_color\":\"navy\",\"line_width\":2,\"x\":{\"field\":\"x\"},\"y\":{\"field\":\"y\"}},\"id\":\"114107\",\"type\":\"Line\"},{\"attributes\":{\"data_source\":{\"id\":\"114106\"},\"glyph\":{\"id\":\"114107\"},\"hover_glyph\":null,\"muted_glyph\":null,\"nonselection_glyph\":{\"id\":\"114108\"},\"selection_glyph\":null,\"view\":{\"id\":\"114110\"}},\"id\":\"114109\",\"type\":\"GlyphRenderer\"},{\"attributes\":{\"active_drag\":\"auto\",\"active_inspect\":\"auto\",\"active_multi\":null,\"active_scroll\":\"auto\",\"active_tap\":\"auto\",\"tools\":[{\"id\":\"114092\"},{\"id\":\"114093\"},{\"id\":\"114094\"},{\"id\":\"114095\"},{\"id\":\"114096\"},{\"id\":\"114097\"}]},\"id\":\"114099\",\"type\":\"Toolbar\"}],\"root_ids\":[\"114073\"]},\"title\":\"Bokeh Application\",\"version\":\"2.1.1\"}};\n",
       "  var render_items = [{\"docid\":\"33a6ecf8-79d0-4ded-a8c3-9b8923335352\",\"root_ids\":[\"114073\"],\"roots\":{\"114073\":\"67c3577f-cadc-41e6-9f9f-04f8348d7f15\"}}];\n",
       "  root.Bokeh.embed.embed_items_notebook(docs_json, render_items);\n",
       "\n",
       "  }\n",
       "  if (root.Bokeh !== undefined) {\n",
       "    embed_document(root);\n",
       "  } else {\n",
       "    var attempts = 0;\n",
       "    var timer = setInterval(function(root) {\n",
       "      if (root.Bokeh !== undefined) {\n",
       "        clearInterval(timer);\n",
       "        embed_document(root);\n",
       "      } else {\n",
       "        attempts++;\n",
       "        if (attempts > 100) {\n",
       "          clearInterval(timer);\n",
       "          console.log(\"Bokeh: ERROR: Unable to run BokehJS code because BokehJS library is missing\");\n",
       "        }\n",
       "      }\n",
       "    }, 10, root)\n",
       "  }\n",
       "})(window);"
      ],
      "application/vnd.bokehjs_exec.v0+json": ""
     },
     "metadata": {
      "application/vnd.bokehjs_exec.v0+json": {
       "id": "114073"
      }
     },
     "output_type": "display_data"
    },
    {
     "data": {
      "text/html": [
       "\n",
       "\n",
       "\n",
       "\n",
       "\n",
       "\n",
       "  <div class=\"bk-root\" id=\"859e2ee4-2889-4627-91c7-bd3a56c1e0f5\" data-root-id=\"115561\"></div>\n"
      ]
     },
     "metadata": {},
     "output_type": "display_data"
    },
    {
     "data": {
      "application/javascript": [
       "(function(root) {\n",
       "  function embed_document(root) {\n",
       "    \n",
       "  var docs_json = {\"2af0fabb-26b6-4168-8ea0-6ed6fbcb4e8d\":{\"roots\":{\"references\":[{\"attributes\":{\"below\":[{\"id\":\"115572\"}],\"center\":[{\"id\":\"115575\"},{\"id\":\"115579\"},{\"id\":\"115607\"}],\"left\":[{\"id\":\"115576\"}],\"plot_height\":400,\"plot_width\":400,\"renderers\":[{\"id\":\"115597\"}],\"title\":{\"id\":\"115562\"},\"toolbar\":{\"id\":\"115587\"},\"x_range\":{\"id\":\"115564\"},\"x_scale\":{\"id\":\"115568\"},\"y_range\":{\"id\":\"115566\"},\"y_scale\":{\"id\":\"115570\"}},\"id\":\"115561\",\"subtype\":\"Figure\",\"type\":\"Plot\"},{\"attributes\":{\"formatter\":{\"id\":\"115601\"},\"ticker\":{\"id\":\"115573\"}},\"id\":\"115572\",\"type\":\"LinearAxis\"},{\"attributes\":{\"line_alpha\":0.1,\"line_color\":\"navy\",\"line_width\":2,\"x\":{\"field\":\"x\"},\"y\":{\"field\":\"y\"}},\"id\":\"115596\",\"type\":\"Line\"},{\"attributes\":{\"items\":[{\"id\":\"115608\"}],\"location\":\"bottom_right\"},\"id\":\"115607\",\"type\":\"Legend\"},{\"attributes\":{\"text\":\"CPI_IR Time Series\"},\"id\":\"115562\",\"type\":\"Title\"},{\"attributes\":{},\"id\":\"115601\",\"type\":\"BasicTickFormatter\"},{\"attributes\":{\"bottom_units\":\"screen\",\"fill_alpha\":0.5,\"fill_color\":\"lightgrey\",\"left_units\":\"screen\",\"level\":\"overlay\",\"line_alpha\":1.0,\"line_color\":\"black\",\"line_dash\":[4,4],\"line_width\":2,\"right_units\":\"screen\",\"top_units\":\"screen\"},\"id\":\"115586\",\"type\":\"BoxAnnotation\"},{\"attributes\":{\"label\":{\"value\":\"Detrended Data\"},\"renderers\":[{\"id\":\"115597\"}]},\"id\":\"115608\",\"type\":\"LegendItem\"},{\"attributes\":{},\"id\":\"115564\",\"type\":\"DataRange1d\"},{\"attributes\":{},\"id\":\"115580\",\"type\":\"PanTool\"},{\"attributes\":{\"data\":{\"x\":[1,2,3,4,5,6,7,8,9,10,11,12,13,14,15,16,17,18,19,20,21,22,23,24,25,26,27,28,29,30,31,32,33,34,35,36,37,38,39,40,41,42,43,44,45,46,47,48,49,50,51,52,53,54,55,56,57,58,59,60,61],\"y\":{\"__ndarray__\":\"2jtvFJKj4j8ONNsk1jHWvzhYYTS6Nbe/J/9CadMj77+U/YbpGlv+v4QLdPD3IvC/72CSf0pu3T93ULQdrYPgP25i+QT/eNA/bWsOTOuH0D9sgBxSkK7SPzYKL3moTes/KtLUTo9Jxb9ULN5udP7KP0p9WBf0c6Y/oqjCnlVysj8+UWDlzP2kPzLS0UmQE8u/JjvY6So50z+oZUc+geyVv2XSbq5b6NY/kdNqK/+7vT9wJBKxnc+NP7qHUO7JQ8W/8D6X9GYQq78MXyeZ0+6tP/gRMXgZh5u/ANX711dYoT8IPxoJNqyrv3quAufj8rE/HpSxQ5iN1z9dptOxOkXYPy7of+zBROs/LgIsrT+U4D/bGp+Ph8TVP0w95urL+M6/NM2Ah1OCqr+xgvKuSZPAPwBgqcaWEDU/aR0rGHNC17/TZW8DMZnPv6pmXMVQjtq/FQjjOGP+0D8UmQITj6jQPwqg2Q4nTuI/TEQDW2CNvD/uvl0aPgnUvy7jD7oXRNa/L/WDk6mq178QYcdPwO/VP54uoY6XHc0/scBCnsrI0L85iHxRUIXmvxo8mMWUIOC/YO6HfEherD8mDFhgbj/iP2BROABc0oQ/NqNgQUwS17/Ygd4fxIi1v3CrJyime5y/cFlHmiDnzb8=\",\"dtype\":\"float64\",\"order\":\"little\",\"shape\":[61]}},\"selected\":{\"id\":\"115606\"},\"selection_policy\":{\"id\":\"115605\"}},\"id\":\"115594\",\"type\":\"ColumnDataSource\"},{\"attributes\":{},\"id\":\"115566\",\"type\":\"DataRange1d\"},{\"attributes\":{},\"id\":\"115603\",\"type\":\"BasicTickFormatter\"},{\"attributes\":{},\"id\":\"115573\",\"type\":\"BasicTicker\"},{\"attributes\":{},\"id\":\"115570\",\"type\":\"LinearScale\"},{\"attributes\":{},\"id\":\"115568\",\"type\":\"LinearScale\"},{\"attributes\":{\"axis\":{\"id\":\"115572\"},\"ticker\":null},\"id\":\"115575\",\"type\":\"Grid\"},{\"attributes\":{\"formatter\":{\"id\":\"115603\"},\"ticker\":{\"id\":\"115577\"}},\"id\":\"115576\",\"type\":\"LinearAxis\"},{\"attributes\":{},\"id\":\"115577\",\"type\":\"BasicTicker\"},{\"attributes\":{\"axis\":{\"id\":\"115576\"},\"dimension\":1,\"ticker\":null},\"id\":\"115579\",\"type\":\"Grid\"},{\"attributes\":{\"active_drag\":\"auto\",\"active_inspect\":\"auto\",\"active_multi\":null,\"active_scroll\":\"auto\",\"active_tap\":\"auto\",\"tools\":[{\"id\":\"115580\"},{\"id\":\"115581\"},{\"id\":\"115582\"},{\"id\":\"115583\"},{\"id\":\"115584\"},{\"id\":\"115585\"}]},\"id\":\"115587\",\"type\":\"Toolbar\"},{\"attributes\":{\"data_source\":{\"id\":\"115594\"},\"glyph\":{\"id\":\"115595\"},\"hover_glyph\":null,\"muted_glyph\":null,\"nonselection_glyph\":{\"id\":\"115596\"},\"selection_glyph\":null,\"view\":{\"id\":\"115598\"}},\"id\":\"115597\",\"type\":\"GlyphRenderer\"},{\"attributes\":{},\"id\":\"115581\",\"type\":\"WheelZoomTool\"},{\"attributes\":{},\"id\":\"115605\",\"type\":\"UnionRenderers\"},{\"attributes\":{},\"id\":\"115585\",\"type\":\"HelpTool\"},{\"attributes\":{\"overlay\":{\"id\":\"115586\"}},\"id\":\"115582\",\"type\":\"BoxZoomTool\"},{\"attributes\":{},\"id\":\"115606\",\"type\":\"Selection\"},{\"attributes\":{},\"id\":\"115583\",\"type\":\"SaveTool\"},{\"attributes\":{},\"id\":\"115584\",\"type\":\"ResetTool\"},{\"attributes\":{\"line_color\":\"navy\",\"line_width\":2,\"x\":{\"field\":\"x\"},\"y\":{\"field\":\"y\"}},\"id\":\"115595\",\"type\":\"Line\"},{\"attributes\":{\"source\":{\"id\":\"115594\"}},\"id\":\"115598\",\"type\":\"CDSView\"}],\"root_ids\":[\"115561\"]},\"title\":\"Bokeh Application\",\"version\":\"2.1.1\"}};\n",
       "  var render_items = [{\"docid\":\"2af0fabb-26b6-4168-8ea0-6ed6fbcb4e8d\",\"root_ids\":[\"115561\"],\"roots\":{\"115561\":\"859e2ee4-2889-4627-91c7-bd3a56c1e0f5\"}}];\n",
       "  root.Bokeh.embed.embed_items_notebook(docs_json, render_items);\n",
       "\n",
       "  }\n",
       "  if (root.Bokeh !== undefined) {\n",
       "    embed_document(root);\n",
       "  } else {\n",
       "    var attempts = 0;\n",
       "    var timer = setInterval(function(root) {\n",
       "      if (root.Bokeh !== undefined) {\n",
       "        clearInterval(timer);\n",
       "        embed_document(root);\n",
       "      } else {\n",
       "        attempts++;\n",
       "        if (attempts > 100) {\n",
       "          clearInterval(timer);\n",
       "          console.log(\"Bokeh: ERROR: Unable to run BokehJS code because BokehJS library is missing\");\n",
       "        }\n",
       "      }\n",
       "    }, 10, root)\n",
       "  }\n",
       "})(window);"
      ],
      "application/vnd.bokehjs_exec.v0+json": ""
     },
     "metadata": {
      "application/vnd.bokehjs_exec.v0+json": {
       "id": "115561"
      }
     },
     "output_type": "display_data"
    },
    {
     "data": {
      "image/png": "[encoded data removed]",
      "text/plain": [
       "<Figure size 432x288 with 1 Axes>"
      ]
     },
     "metadata": {
      "needs_background": "light"
     },
     "output_type": "display_data"
    },
    {
     "data": {
      "image/png": "[encoded data removed]",
      "text/plain": [
       "<Figure size 432x288 with 1 Axes>"
      ]
     },
     "metadata": {
      "needs_background": "light"
     },
     "output_type": "display_data"
    }
   ],
   "source": [
    "from sklearn.preprocessing import PolynomialFeatures\n",
    "from sklearn.pipeline import make_pipeline\n",
    "from sklearn.linear_model import LinearRegression\n",
    "from scipy.interpolate import interp1d\n",
    "import pandas as pd\n",
    "import numpy as np\n",
    "import matplotlib.pyplot as plt\n",
    "from bokeh.io import output_notebook, show, export_png\n",
    "# from bokeh.io import output_file\n",
    "from bokeh.plotting import figure\n",
    "from itertools import chain \n",
    "from sklearn.metrics import mean_squared_error\n",
    "import datetime as dt\n",
    "import statsmodels.api as sm\n",
    "from statsmodels.graphics.tsaplots import plot_acf,plot_pacf\n",
    "from statsmodels.tsa.ar_model import AutoReg\n",
    "# import pmdarima as pm\n",
    "\n",
    "import math\n",
    "# import pmdarima as pm\n",
    "import statsmodels.api as sm\n",
    "def mean_absolute_percentage_error(y_true, y_pred): \n",
    "     return np.mean(np.abs((y_true - y_pred) / y_true)) *100\n",
    "output_notebook()\n",
    "\n",
    "ps_cpi = pd.read_csv(\"PriceStats_CPI.csv\")\n",
    "ps_cpi['date'] =pd.to_datetime(ps_cpi['date'])\n",
    "ps_cpi['YearMonth'] = ps_cpi['date'].dt.strftime('%Y-%m')\n",
    "cpi =ps_cpi.drop_duplicates('YearMonth', keep='last').copy().reset_index().drop(['index','PriceStats'],axis=1)\n",
    "\n",
    "#calculate monthly inflation from CPI\n",
    "\n",
    "val2=np.log(cpi.CPI).diff().values*100\n",
    "cpi['diff_log'] = val2\n",
    "cpi_ir_train = (cpi[cpi.YearMonth<'2013-09'].copy())\n",
    "cpi_ir_test = (cpi[cpi.YearMonth >='2013-09'].copy())\n",
    "model = LinearRegression().fit(np.array(cpi_ir_train['diff_log'].dropna().index).reshape(-1, 1),cpi_ir_train['diff_log'].dropna())\n",
    "coefficients = [model.coef_[0],model.intercept_]\n",
    "print(\"The linear trend is given by F(t) = \" +str(coefficients[0])+\"*t + (\" +str(coefficients[1])+\")\")\n",
    "linear_cpi_ir =model.predict(np.array(cpi_ir_train['diff_log'].dropna().index).reshape(-1, 1))\n",
    "p = figure(plot_width=400, plot_height=400, title = \"CPI_IR Time Series\")\n",
    "p.line(cpi_ir_train['diff_log'].dropna().index,cpi_ir_train['diff_log'].dropna(), line_color=\"navy\", line_width=2, legend_label =\"Original Data\")\n",
    "p.line(cpi_ir_train['diff_log'].dropna().index,linear_cpi_ir, line_color=\"orange\",line_width=2.5,legend_label =\"Linear Trend\")\n",
    "\n",
    "p.xaxis.axis_label ='t'\n",
    "p.yaxis.axis_label ='CPI_IR'\n",
    "p.legend.location='bottom_right'\n",
    "show(p)\n",
    "\n",
    "remaining = cpi_ir_train['diff_log'].dropna() - linear_cpi_ir\n",
    "linear_cpi_ir_test = model.predict(np.array(cpi_ir_test['diff_log'].dropna().index).reshape(-1, 1))\n",
    "train = cpi_ir_train['diff_log'].dropna().index\n",
    "remaining_test = cpi_ir_test['diff_log'].dropna() - linear_cpi_ir_test   \n",
    "\n",
    "p = figure(plot_width=400, plot_height=400, title = \"CPI_IR Time Series\")\n",
    "p.line(cpi_ir_train['diff_log'].dropna().index,remaining, line_color=\"navy\", line_width=2, legend_label =\"Detrended Data\")\n",
    "p.legend.location='bottom_right'\n",
    "show(p)\n",
    "\n",
    "plot_acf(remaining)\n",
    "plt.show()\n",
    "plot_pacf(remaining)\n",
    "plt.show()\n",
    "\n"
   ]
  },
  {
   "cell_type": "code",
   "execution_count": 106,
   "metadata": {},
   "outputs": [
    {
     "name": "stderr",
     "output_type": "stream",
     "text": [
      "C:\\ProgramData\\Anaconda3\\lib\\site-packages\\statsmodels\\tsa\\base\\tsa_model.py:213: ValueWarning: An unsupported index was provided and will be ignored when e.g. forecasting.\n",
      "  warnings.warn('An unsupported index was provided and will be'\n",
      "C:\\ProgramData\\Anaconda3\\lib\\site-packages\\statsmodels\\tsa\\base\\tsa_model.py:580: ValueWarning: No supported index is available. Prediction results will be given with an integer index beginning at `start`.\n",
      "  warnings.warn('No supported index is available.'\n"
     ]
    },
    {
     "data": {
      "text/html": [
       "\n",
       "\n",
       "\n",
       "\n",
       "\n",
       "\n",
       "  <div class=\"bk-root\" id=\"f6568a91-6bb0-458c-b45a-d7ee77d465ac\" data-root-id=\"46730\"></div>\n"
      ]
     },
     "metadata": {},
     "output_type": "display_data"
    },
    {
     "data": {
      "application/javascript": [
       "(function(root) {\n",
       "  function embed_document(root) {\n",
       "    \n",
       "  var docs_json = {\"a737a0a8-5da4-48b0-8bf2-068aaf15c9cf\":{\"roots\":{\"references\":[{\"attributes\":{\"below\":[{\"id\":\"46741\"}],\"center\":[{\"id\":\"46744\"},{\"id\":\"46748\"},{\"id\":\"46776\"}],\"left\":[{\"id\":\"46745\"}],\"plot_height\":400,\"plot_width\":400,\"renderers\":[{\"id\":\"46766\"},{\"id\":\"46781\"}],\"title\":{\"id\":\"46731\"},\"toolbar\":{\"id\":\"46756\"},\"x_range\":{\"id\":\"46733\"},\"x_scale\":{\"id\":\"46737\"},\"y_range\":{\"id\":\"46735\"},\"y_scale\":{\"id\":\"46739\"}},\"id\":\"46730\",\"subtype\":\"Figure\",\"type\":\"Plot\"},{\"attributes\":{},\"id\":\"46742\",\"type\":\"BasicTicker\"},{\"attributes\":{\"axis_label\":\"IR_t\",\"formatter\":{\"id\":\"46772\"},\"ticker\":{\"id\":\"46746\"}},\"id\":\"46745\",\"type\":\"LinearAxis\"},{\"attributes\":{\"source\":{\"id\":\"46778\"}},\"id\":\"46782\",\"type\":\"CDSView\"},{\"attributes\":{\"data_source\":{\"id\":\"46763\"},\"glyph\":{\"id\":\"46764\"},\"hover_glyph\":null,\"muted_glyph\":null,\"nonselection_glyph\":{\"id\":\"46765\"},\"selection_glyph\":null,\"view\":{\"id\":\"46767\"}},\"id\":\"46766\",\"type\":\"GlyphRenderer\"},{\"attributes\":{\"line_color\":\"orange\",\"line_width\":2.5,\"x\":{\"field\":\"x\"},\"y\":{\"field\":\"y\"}},\"id\":\"46779\",\"type\":\"Line\"},{\"attributes\":{\"data\":{\"x\":[1,2,3,4,5,6,7,8,9,10,11,12,13,14,15,16,17,18,19,20,21,22,23,24,25,26,27,28,29,30,31,32,33,34,35,36,37,38,39,40,41,42,43,44,45,46,47,48,49,50,51,52,53,54,55,56,57,58,59,60,61],\"y\":{\"__ndarray__\":\"AAAAAAAA+H92RWsSTZzbv/T95GEBSo2/xEcG6KPS5L/Jf1qbTjrwv6RIwI1i5ce/sAj6iTlM4T/CJDPCBA/JPwglMkAdhpI/UDRkOOOltz+SDP52Ypq+P9LtcDPp0t4/TmvMW5rD1L8Qx6kBxf7IP4w40u3s+n2/sKQfWcMErz/MsWeTh7GjPwLXKmMOury/onML1+7B0j9uQfw+2Gmnv3plOwFaqNI/LFxvrMNUpD96eGxQg+ulP0qVbtPqw6W/JzqZQv2YtT8pygwPUPbAP/TnNqZtN6s/eheW9gLovj8n1MgZTiSrP3o0GfLnzcQ/tPnni9gS1T8mMwu1697QP7maES2EXuI/uC2ZUoZmzj+m/nz0govLP7DCBm81fry/ZlsfduLwxT9NCnNfoFbPP+hka3KrVr4/arBdpq8mtL/uUR8YGDq5P/DQd52EdaK/NbmOAvU63T+OvvYvGeTRP/bxMVRNUt8/1lBDYRXuvD9QAky16LKiv2jeZsYYza0/4Owc8OUJrj88Wt9qABXhP/A1FjvYstE/oIcwFdX7eb980VU/X2DEv27m+XiXvbc/MGx4dZE52j9DsAwYIUzjP04pWQ89u7s/YGndzJmglD/CgBgZc2jTPxSE0RxuctE/LlxAAAaOwD8=\",\"dtype\":\"float64\",\"order\":\"little\",\"shape\":[61]}},\"selected\":{\"id\":\"46792\"},\"selection_policy\":{\"id\":\"46791\"}},\"id\":\"46778\",\"type\":\"ColumnDataSource\"},{\"attributes\":{},\"id\":\"46770\",\"type\":\"BasicTickFormatter\"},{\"attributes\":{\"text\":\"IR_t Time Series\"},\"id\":\"46731\",\"type\":\"Title\"},{\"attributes\":{\"items\":[{\"id\":\"46777\"},{\"id\":\"46793\"}],\"location\":\"bottom_right\"},\"id\":\"46776\",\"type\":\"Legend\"},{\"attributes\":{},\"id\":\"46752\",\"type\":\"SaveTool\"},{\"attributes\":{\"active_drag\":\"auto\",\"active_inspect\":\"auto\",\"active_multi\":null,\"active_scroll\":\"auto\",\"active_tap\":\"auto\",\"tools\":[{\"id\":\"46749\"},{\"id\":\"46750\"},{\"id\":\"46751\"},{\"id\":\"46752\"},{\"id\":\"46753\"},{\"id\":\"46754\"}]},\"id\":\"46756\",\"type\":\"Toolbar\"},{\"attributes\":{\"source\":{\"id\":\"46763\"}},\"id\":\"46767\",\"type\":\"CDSView\"},{\"attributes\":{},\"id\":\"46753\",\"type\":\"ResetTool\"},{\"attributes\":{\"data_source\":{\"id\":\"46778\"},\"glyph\":{\"id\":\"46779\"},\"hover_glyph\":null,\"muted_glyph\":null,\"nonselection_glyph\":{\"id\":\"46780\"},\"selection_glyph\":null,\"view\":{\"id\":\"46782\"}},\"id\":\"46781\",\"type\":\"GlyphRenderer\"},{\"attributes\":{},\"id\":\"46733\",\"type\":\"DataRange1d\"},{\"attributes\":{\"line_alpha\":0.1,\"line_color\":\"navy\",\"line_width\":2,\"x\":{\"field\":\"x\"},\"y\":{\"field\":\"y\"}},\"id\":\"46765\",\"type\":\"Line\"},{\"attributes\":{\"axis\":{\"id\":\"46741\"},\"ticker\":null},\"id\":\"46744\",\"type\":\"Grid\"},{\"attributes\":{},\"id\":\"46739\",\"type\":\"LinearScale\"},{\"attributes\":{},\"id\":\"46792\",\"type\":\"Selection\"},{\"attributes\":{},\"id\":\"46749\",\"type\":\"PanTool\"},{\"attributes\":{\"axis\":{\"id\":\"46745\"},\"dimension\":1,\"ticker\":null},\"id\":\"46748\",\"type\":\"Grid\"},{\"attributes\":{\"data\":{\"x\":[1,2,3,4,5,6,7,8,9,10,11,12,13,14,15,16,17,18,19,20,21,22,23,24,25,26,27,28,29,30,31,32,33,34,35,36,37,38,39,40,41,42,43,44,45,46,47,48,49,50,51,52,53,54,55,56,57,58,59,60,61],\"y\":{\"__ndarray__\":\"AM+pW13C4D/Al90IpZnZv4CHJMdFtcG/gN3dJpA+8L8APmG4GvH+v3Au7BtRovC/QEs6X4DL2z9AAZmoKr/fP4BxZP/TFs8/gG+fqOHpzz/AQuZnMHbSP2Am2MrFXus/gHUf7eRPxL8AdaTrU63MPwCoWjsjArA/AOqSBOmkuD8AQqIO5BuyP4DZx2Dcj8a/gK3la5/V1T8AIBe7b4SZP8AwjUsFOto/gBID64c2xj8Abt+WbtWzPwAOwsWuAbm/AOjUSm+glT+AMNunEanBPwCKcLa6xq0/AExk27nbvz8ANPZBuoelPwBgViGj+8U/gI4kaEtp3j/AFs9jiHvfP2DbQQw2De8/YDCyEwGK5D9A7TPqpArePwBZVzW4bru/AJPWEiCstj/AdafakZ/RP4Cp0GyXa8M/APrX86Fuyr8AcsBXb5u1v4C0GBjzm8+/gIq7/1QZ3D+AkWNnGx7cP0BXzn86Nug/gLUyhhlO0z8Ako11iA++v4AlGl9CyMK/gF3x9jDgxL/Ajq36dcLhP8DJbPqRftw/AMLw7E7zo78A8stUpWXev8Djeq+TQdG/QAjPePnl0j9gTLvb0xnqPwC5UGT4tdA/ANskvjChur8AhNAu08TGP4C7y5T1rs4/AA5pavsxpD8=\",\"dtype\":\"float64\",\"order\":\"little\",\"shape\":[61]}},\"selected\":{\"id\":\"46775\"},\"selection_policy\":{\"id\":\"46774\"}},\"id\":\"46763\",\"type\":\"ColumnDataSource\"},{\"attributes\":{},\"id\":\"46791\",\"type\":\"UnionRenderers\"},{\"attributes\":{},\"id\":\"46775\",\"type\":\"Selection\"},{\"attributes\":{},\"id\":\"46774\",\"type\":\"UnionRenderers\"},{\"attributes\":{\"axis_label\":\"t\",\"formatter\":{\"id\":\"46770\"},\"ticker\":{\"id\":\"46742\"}},\"id\":\"46741\",\"type\":\"LinearAxis\"},{\"attributes\":{\"overlay\":{\"id\":\"46755\"}},\"id\":\"46751\",\"type\":\"BoxZoomTool\"},{\"attributes\":{\"bottom_units\":\"screen\",\"fill_alpha\":0.5,\"fill_color\":\"lightgrey\",\"left_units\":\"screen\",\"level\":\"overlay\",\"line_alpha\":1.0,\"line_color\":\"black\",\"line_dash\":[4,4],\"line_width\":2,\"right_units\":\"screen\",\"top_units\":\"screen\"},\"id\":\"46755\",\"type\":\"BoxAnnotation\"},{\"attributes\":{\"label\":{\"value\":\"AR(2) Model\"},\"renderers\":[{\"id\":\"46781\"}]},\"id\":\"46793\",\"type\":\"LegendItem\"},{\"attributes\":{},\"id\":\"46746\",\"type\":\"BasicTicker\"},{\"attributes\":{},\"id\":\"46737\",\"type\":\"LinearScale\"},{\"attributes\":{\"line_alpha\":0.1,\"line_color\":\"orange\",\"line_width\":2.5,\"x\":{\"field\":\"x\"},\"y\":{\"field\":\"y\"}},\"id\":\"46780\",\"type\":\"Line\"},{\"attributes\":{},\"id\":\"46750\",\"type\":\"WheelZoomTool\"},{\"attributes\":{\"label\":{\"value\":\"Training Data\"},\"renderers\":[{\"id\":\"46766\"}]},\"id\":\"46777\",\"type\":\"LegendItem\"},{\"attributes\":{},\"id\":\"46735\",\"type\":\"DataRange1d\"},{\"attributes\":{\"line_color\":\"navy\",\"line_width\":2,\"x\":{\"field\":\"x\"},\"y\":{\"field\":\"y\"}},\"id\":\"46764\",\"type\":\"Line\"},{\"attributes\":{},\"id\":\"46754\",\"type\":\"HelpTool\"},{\"attributes\":{},\"id\":\"46772\",\"type\":\"BasicTickFormatter\"}],\"root_ids\":[\"46730\"]},\"title\":\"Bokeh Application\",\"version\":\"2.1.1\"}};\n",
       "  var render_items = [{\"docid\":\"a737a0a8-5da4-48b0-8bf2-068aaf15c9cf\",\"root_ids\":[\"46730\"],\"roots\":{\"46730\":\"f6568a91-6bb0-458c-b45a-d7ee77d465ac\"}}];\n",
       "  root.Bokeh.embed.embed_items_notebook(docs_json, render_items);\n",
       "\n",
       "  }\n",
       "  if (root.Bokeh !== undefined) {\n",
       "    embed_document(root);\n",
       "  } else {\n",
       "    var attempts = 0;\n",
       "    var timer = setInterval(function(root) {\n",
       "      if (root.Bokeh !== undefined) {\n",
       "        clearInterval(timer);\n",
       "        embed_document(root);\n",
       "      } else {\n",
       "        attempts++;\n",
       "        if (attempts > 100) {\n",
       "          clearInterval(timer);\n",
       "          console.log(\"Bokeh: ERROR: Unable to run BokehJS code because BokehJS library is missing\");\n",
       "        }\n",
       "      }\n",
       "    }, 10, root)\n",
       "  }\n",
       "})(window);"
      ],
      "application/vnd.bokehjs_exec.v0+json": ""
     },
     "metadata": {
      "application/vnd.bokehjs_exec.v0+json": {
       "id": "46730"
      }
     },
     "output_type": "display_data"
    },
    {
     "data": {
      "text/html": [
       "\n",
       "\n",
       "\n",
       "\n",
       "\n",
       "\n",
       "  <div class=\"bk-root\" id=\"2b44bc40-8d3f-40a5-888d-5a905eeeda3e\" data-root-id=\"47694\"></div>\n"
      ]
     },
     "metadata": {},
     "output_type": "display_data"
    },
    {
     "data": {
      "application/javascript": [
       "(function(root) {\n",
       "  function embed_document(root) {\n",
       "    \n",
       "  var docs_json = {\"fe8cff44-2171-45df-9c0a-d0c763630f54\":{\"roots\":{\"references\":[{\"attributes\":{\"below\":[{\"id\":\"47705\"}],\"center\":[{\"id\":\"47708\"},{\"id\":\"47712\"},{\"id\":\"47740\"}],\"left\":[{\"id\":\"47709\"}],\"plot_height\":400,\"plot_width\":400,\"renderers\":[{\"id\":\"47730\"},{\"id\":\"47745\"}],\"title\":{\"id\":\"47695\"},\"toolbar\":{\"id\":\"47720\"},\"x_range\":{\"id\":\"47697\"},\"x_scale\":{\"id\":\"47701\"},\"y_range\":{\"id\":\"47699\"},\"y_scale\":{\"id\":\"47703\"}},\"id\":\"47694\",\"subtype\":\"Figure\",\"type\":\"Plot\"},{\"attributes\":{},\"id\":\"47736\",\"type\":\"BasicTickFormatter\"},{\"attributes\":{\"source\":{\"id\":\"47742\"}},\"id\":\"47746\",\"type\":\"CDSView\"},{\"attributes\":{},\"id\":\"47716\",\"type\":\"SaveTool\"},{\"attributes\":{},\"id\":\"47717\",\"type\":\"ResetTool\"},{\"attributes\":{\"data\":{\"x\":[62,63,64,65,66,67,68,69,70,71,72,73,74,75,76,77,78,79,80,81,82,83,84,85,86,87,88,89,90,91,92,93,94,95,96,97,98,99,100,101,102,103,104,105,106,107,108,109,110,111,112,113,114,115,116,117,118,119,120,121,122,123,124,125,126,127,128,129,130,131,132,133,134],\"y\":{\"__ndarray__\":\"MEhRGztDwT/yKESuDC7PP7m4i1f0jsw/kGwkd+1ekL8YfEYysem+P/RKJTibac4/XELEmdvx2z8K3F9p6KnVPzVdqol+pOA/83z5gna8zz/KSDFwbizWPwQaeY2Ek84/E+FxWWa8wT+uIKXnwCm+P7BAx0rdBNQ/+PGFJntEpD+IlVX9boauv4Ae/aMPIGQ/IPD1uph5sz/KEISYApTkP5xppTtaZOA/TDcCKgoTzD+Fbbgg/8bgP+CcUCkVA9Y/mCefm/c6xT92sBmbz9zEP8a9BuoGI8k/c/iMEd6i0T8WdwhQDR3CP5AQaD6Ed7o/mj2fYGsw3j/msUSTaWTSP6eBg7OcPeE/xipdiEal3j/yIQXFGz/bP4SUV6txeNk/GJLtGas4uj8ZjqJjq5vZP3Tzb6Yuuds/5KOZFOeg1D8wjFx4WzvGPyDClCgO6Nc/9L7axmbl5T9Gtf+iVaPXPwLCdvByqNI/a1zBimXA3z80oI/Qb5HTPytw8UzTjtc/0CYo5EUI0T9Ub4TuiaLhPwgvb586auM/0L+uHNYZxT8YiCyRwHfXPyJkE0VSB9Q/rKaHobwu5z/mvlv1I1LgP5oow9g389g/vjtpkWUN4j/+nTc/TRrhP7qTWtNdddc/3J4DSDih1T+seva2wHTaP/mwoL1cX9w/AJzEbxoW3j+Y3K8eicu/PwWgrSFxc9E/VHH14JJV4z8W0vMHEfXjP2B7EmFdDOU/93kRIspA4z8IlZ5RXSjaP9oQtgpmqtc/lXBr+COh4D8=\",\"dtype\":\"float64\",\"order\":\"little\",\"shape\":[73]}},\"selected\":{\"id\":\"47756\"},\"selection_policy\":{\"id\":\"47755\"}},\"id\":\"47742\",\"type\":\"ColumnDataSource\"},{\"attributes\":{},\"id\":\"47699\",\"type\":\"DataRange1d\"},{\"attributes\":{},\"id\":\"47739\",\"type\":\"Selection\"},{\"attributes\":{},\"id\":\"47756\",\"type\":\"Selection\"},{\"attributes\":{},\"id\":\"47703\",\"type\":\"LinearScale\"},{\"attributes\":{\"axis_label\":\"t\",\"formatter\":{\"id\":\"47734\"},\"ticker\":{\"id\":\"47706\"}},\"id\":\"47705\",\"type\":\"LinearAxis\"},{\"attributes\":{},\"id\":\"47713\",\"type\":\"PanTool\"},{\"attributes\":{\"bottom_units\":\"screen\",\"fill_alpha\":0.5,\"fill_color\":\"lightgrey\",\"left_units\":\"screen\",\"level\":\"overlay\",\"line_alpha\":1.0,\"line_color\":\"black\",\"line_dash\":[4,4],\"line_width\":2,\"right_units\":\"screen\",\"top_units\":\"screen\"},\"id\":\"47719\",\"type\":\"BoxAnnotation\"},{\"attributes\":{\"axis\":{\"id\":\"47705\"},\"ticker\":null},\"id\":\"47708\",\"type\":\"Grid\"},{\"attributes\":{\"source\":{\"id\":\"47727\"}},\"id\":\"47731\",\"type\":\"CDSView\"},{\"attributes\":{},\"id\":\"47734\",\"type\":\"BasicTickFormatter\"},{\"attributes\":{},\"id\":\"47706\",\"type\":\"BasicTicker\"},{\"attributes\":{\"axis_label\":\"IR_t\",\"formatter\":{\"id\":\"47736\"},\"ticker\":{\"id\":\"47710\"}},\"id\":\"47709\",\"type\":\"LinearAxis\"},{\"attributes\":{\"line_color\":\"orange\",\"line_width\":2.5,\"x\":{\"field\":\"x\"},\"y\":{\"field\":\"y\"}},\"id\":\"47743\",\"type\":\"Line\"},{\"attributes\":{},\"id\":\"47718\",\"type\":\"HelpTool\"},{\"attributes\":{},\"id\":\"47697\",\"type\":\"DataRange1d\"},{\"attributes\":{\"axis\":{\"id\":\"47709\"},\"dimension\":1,\"ticker\":null},\"id\":\"47712\",\"type\":\"Grid\"},{\"attributes\":{},\"id\":\"47738\",\"type\":\"UnionRenderers\"},{\"attributes\":{\"label\":{\"value\":\"AR(2) Model\"},\"renderers\":[{\"id\":\"47745\"}]},\"id\":\"47757\",\"type\":\"LegendItem\"},{\"attributes\":{\"overlay\":{\"id\":\"47719\"}},\"id\":\"47715\",\"type\":\"BoxZoomTool\"},{\"attributes\":{\"line_alpha\":0.1,\"line_color\":\"navy\",\"line_width\":2,\"x\":{\"field\":\"x\"},\"y\":{\"field\":\"y\"}},\"id\":\"47729\",\"type\":\"Line\"},{\"attributes\":{\"active_drag\":\"auto\",\"active_inspect\":\"auto\",\"active_multi\":null,\"active_scroll\":\"auto\",\"active_tap\":\"auto\",\"tools\":[{\"id\":\"47713\"},{\"id\":\"47714\"},{\"id\":\"47715\"},{\"id\":\"47716\"},{\"id\":\"47717\"},{\"id\":\"47718\"}]},\"id\":\"47720\",\"type\":\"Toolbar\"},{\"attributes\":{\"data\":{\"x\":[62,63,64,65,66,67,68,69,70,71,72,73,74,75,76,77,78,79,80,81,82,83,84,85,86,87,88,89,90,91,92,93,94,95,96,97,98,99,100,101,102,103,104,105,106,107,108,109,110,111,112,113,114,115,116,117,118,119,120,121,122,123,124,125,126,127,128,129,130,131,132,133,134],\"y\":{\"__ndarray__\":\"AMRC45/Fvj8AcBUWEsG9P4DrOAQqgdC/gEPnRLEryr8A+P8EbX+Bv4DEAS2Ow9c/AE4Ap06f1z/gxordzorkP4AVD25jENU/QFzDFktQ1j+AWSa0hdHHPwAWS1Yl+6O/gFbbGtpmxb8AQA6y60GzP4CnQ9JwGdC/ALGriVBT4b8AtbGc6jHiv8CJIF5wMN6/ACDw40i72z+AycG8qf3iPwAeaPKp/8k/oBCPiqlE4D9AaGTmRGHWPwBwYBWFans/AM6u2Rclwr8A4RbFqO/DvwAKUW5yB6e/AH1Dog0Ly78Avo6MLOnVvwBcIfm4JMU/AHebjOcOtT/AqtzSvX/bP4DXZsX+Rd4/QIB2UYHX2T9And61mvzUPwAuqK6avMS/AGS6vliAtz8AHRnLv7vOPwAnqdoG6L8/gGH09d7rw78ARAewI8GgP6C7lAImmOI/wEIN8bcZ1D8AyBtPVM20PwA61HpN89I/AGcTlEPetT8Ad/ntvzi3PwA1YGsIqbG/wBHmsYQh0z9ApCfkE+bgPwCrpooMKrC/AGBaa/qeYz8AyG0+DR+uvwDLDZP3YuE/gEOIiy/13D8AN1K9COnMP4AgVIIlY9k/wJBAxdGP2j8AbCXzy2PEPwAgjsncYns/AFx3Eb9xrD8AdkFP2rq9PwCkzUhYmsY/AARqUP541b9A4Q10fnnUv4C9wktnYcg/AA+wxzf+2j9AbU1/eADiP4CPXdiz5uA/gPBLWcQ3yz8AQKqPWmKUP4DWaSzMXsU/AMCI1MP1dL8=\",\"dtype\":\"float64\",\"order\":\"little\",\"shape\":[73]}},\"selected\":{\"id\":\"47739\"},\"selection_policy\":{\"id\":\"47738\"}},\"id\":\"47727\",\"type\":\"ColumnDataSource\"},{\"attributes\":{\"line_alpha\":0.1,\"line_color\":\"orange\",\"line_width\":2.5,\"x\":{\"field\":\"x\"},\"y\":{\"field\":\"y\"}},\"id\":\"47744\",\"type\":\"Line\"},{\"attributes\":{\"data_source\":{\"id\":\"47727\"},\"glyph\":{\"id\":\"47728\"},\"hover_glyph\":null,\"muted_glyph\":null,\"nonselection_glyph\":{\"id\":\"47729\"},\"selection_glyph\":null,\"view\":{\"id\":\"47731\"}},\"id\":\"47730\",\"type\":\"GlyphRenderer\"},{\"attributes\":{\"line_color\":\"navy\",\"line_width\":2,\"x\":{\"field\":\"x\"},\"y\":{\"field\":\"y\"}},\"id\":\"47728\",\"type\":\"Line\"},{\"attributes\":{},\"id\":\"47710\",\"type\":\"BasicTicker\"},{\"attributes\":{},\"id\":\"47714\",\"type\":\"WheelZoomTool\"},{\"attributes\":{\"data_source\":{\"id\":\"47742\"},\"glyph\":{\"id\":\"47743\"},\"hover_glyph\":null,\"muted_glyph\":null,\"nonselection_glyph\":{\"id\":\"47744\"},\"selection_glyph\":null,\"view\":{\"id\":\"47746\"}},\"id\":\"47745\",\"type\":\"GlyphRenderer\"},{\"attributes\":{},\"id\":\"47755\",\"type\":\"UnionRenderers\"},{\"attributes\":{},\"id\":\"47701\",\"type\":\"LinearScale\"},{\"attributes\":{\"items\":[{\"id\":\"47741\"},{\"id\":\"47757\"}],\"location\":\"bottom_right\"},\"id\":\"47740\",\"type\":\"Legend\"},{\"attributes\":{\"label\":{\"value\":\"Training Data\"},\"renderers\":[{\"id\":\"47730\"}]},\"id\":\"47741\",\"type\":\"LegendItem\"},{\"attributes\":{\"text\":\"IR_t Time Series\"},\"id\":\"47695\",\"type\":\"Title\"}],\"root_ids\":[\"47694\"]},\"title\":\"Bokeh Application\",\"version\":\"2.1.1\"}};\n",
       "  var render_items = [{\"docid\":\"fe8cff44-2171-45df-9c0a-d0c763630f54\",\"root_ids\":[\"47694\"],\"roots\":{\"47694\":\"2b44bc40-8d3f-40a5-888d-5a905eeeda3e\"}}];\n",
       "  root.Bokeh.embed.embed_items_notebook(docs_json, render_items);\n",
       "\n",
       "  }\n",
       "  if (root.Bokeh !== undefined) {\n",
       "    embed_document(root);\n",
       "  } else {\n",
       "    var attempts = 0;\n",
       "    var timer = setInterval(function(root) {\n",
       "      if (root.Bokeh !== undefined) {\n",
       "        clearInterval(timer);\n",
       "        embed_document(root);\n",
       "      } else {\n",
       "        attempts++;\n",
       "        if (attempts > 100) {\n",
       "          clearInterval(timer);\n",
       "          console.log(\"Bokeh: ERROR: Unable to run BokehJS code because BokehJS library is missing\");\n",
       "        }\n",
       "      }\n",
       "    }, 10, root)\n",
       "  }\n",
       "})(window);"
      ],
      "application/vnd.bokehjs_exec.v0+json": ""
     },
     "metadata": {
      "application/vnd.bokehjs_exec.v0+json": {
       "id": "47694"
      }
     },
     "output_type": "display_data"
    }
   ],
   "source": [
    "def rebuild_diffed(series, first_element_original,x,linear_trend):\n",
    "    if x == 'linear':\n",
    "        final = series + linear_trend\n",
    "    else:\n",
    "        cumsum = pd.Series(series).cumsum()\n",
    "        final = np.exp(cumsum.fillna(0) + first_element_original)\n",
    "        if first_element_original == 0:\n",
    "            final = np.exp(cumsum.fillna(0))\n",
    "    return final\n",
    "\n",
    "## Building AR (2) Model \n",
    "n = 2\n",
    "AR2_model = AutoReg(remaining, lags= n).fit()# Here we have used the default value for the trend parameter\n",
    "coef = AR2_model.params\n",
    "# walk forward over time steps in test\n",
    "past = remaining[len(remaining)-n:].values\n",
    "past = [past[i] for i in range(len(past))]\n",
    "test_predictions = list()\n",
    "training_predictions = AR2_model.predict(start = train[0], end =train[-1])\n",
    "for t in range(len(remaining_test)):\n",
    "    length = len(past)\n",
    "    lag = [past[i] for i in range(length-n,length)]\n",
    "    pred = coef[0]\n",
    "    for d in range(n):\n",
    "        pred += coef[d+1] * lag[n-d-1]\n",
    "    obs = remaining_test.values[t]\n",
    "    test_predictions.append(pred)\n",
    "    past.append(obs)\n",
    "final_training = (rebuild_diffed(training_predictions,np.log(cpi_ir_train['diff_log'].dropna()),'linear',linear_cpi_ir))\n",
    "final_test = (rebuild_diffed(test_predictions,np.log(cpi_ir_train['diff_log'].dropna()),'linear',linear_cpi_ir_test))\n",
    "# final = (rebuild_diffed(test_predictions,np.log(cpi_train.iloc[-1].CPI),'linear',linear_cpi_ir_test))\n",
    "\n",
    "p = figure(plot_width=400, plot_height=400, title = \"IR_t Time Series\")\n",
    "p.line(cpi_ir_train['diff_log'].dropna().index,cpi_ir_train['diff_log'].dropna(), line_color=\"navy\", line_width=2, legend_label =\"Training Data\")\n",
    "p.line(cpi_ir_train['diff_log'].dropna().index,final_training, line_color=\"orange\",line_width=2.5,legend_label =\"AR(2) Model\")\n",
    "\n",
    "p.xaxis.axis_label ='t'\n",
    "p.yaxis.axis_label ='IR_t'\n",
    "p.legend.location='bottom_right'\n",
    "show(p)\n",
    "\n",
    "p = figure(plot_width=400, plot_height=400, title = \"IR_t Time Series\")\n",
    "p.line(cpi_ir_test['diff_log'].dropna().index,cpi_ir_test['diff_log'].dropna(), line_color=\"navy\", line_width=2, legend_label =\"Test Data\")\n",
    "p.line(cpi_ir_test['diff_log'].dropna().index,final_test, line_color=\"orange\",line_width=2.5,legend_label =\"AR(2) Model\")\n",
    "\n",
    "p.xaxis.axis_label ='t'\n",
    "p.yaxis.axis_label ='IR_t'\n",
    "p.legend.location='bottom_right'\n",
    "show(p)"
   ]
  },
  {
   "cell_type": "markdown",
   "metadata": {},
   "source": [
    " "
   ]
  },
  {
   "cell_type": "markdown",
   "metadata": {
    "tags": [
     "question:5.2",
     "points:3"
    ]
   },
   "source": [
    "**2.** (3 points) Which AR($p$) model gives the best predictions? Include a plot of the RSME against different lags $p$ for the model."
   ]
  },
  {
   "cell_type": "markdown",
   "metadata": {},
   "source": [
    "### Solution:\n",
    "AR( 2 ) model gives the best predictions"
   ]
  },
  {
   "cell_type": "code",
   "execution_count": 170,
   "metadata": {},
   "outputs": [
    {
     "name": "stderr",
     "output_type": "stream",
     "text": [
      "C:\\ProgramData\\Anaconda3\\lib\\site-packages\\statsmodels\\tsa\\base\\tsa_model.py:213: ValueWarning: An unsupported index was provided and will be ignored when e.g. forecasting.\n",
      "  warnings.warn('An unsupported index was provided and will be'\n",
      "C:\\ProgramData\\Anaconda3\\lib\\site-packages\\statsmodels\\tsa\\base\\tsa_model.py:213: ValueWarning: An unsupported index was provided and will be ignored when e.g. forecasting.\n",
      "  warnings.warn('An unsupported index was provided and will be'\n",
      "C:\\ProgramData\\Anaconda3\\lib\\site-packages\\statsmodels\\tsa\\base\\tsa_model.py:213: ValueWarning: An unsupported index was provided and will be ignored when e.g. forecasting.\n",
      "  warnings.warn('An unsupported index was provided and will be'\n",
      "C:\\ProgramData\\Anaconda3\\lib\\site-packages\\statsmodels\\tsa\\base\\tsa_model.py:213: ValueWarning: An unsupported index was provided and will be ignored when e.g. forecasting.\n",
      "  warnings.warn('An unsupported index was provided and will be'\n",
      "C:\\ProgramData\\Anaconda3\\lib\\site-packages\\statsmodels\\tsa\\base\\tsa_model.py:213: ValueWarning: An unsupported index was provided and will be ignored when e.g. forecasting.\n",
      "  warnings.warn('An unsupported index was provided and will be'\n",
      "C:\\ProgramData\\Anaconda3\\lib\\site-packages\\statsmodels\\tsa\\base\\tsa_model.py:213: ValueWarning: An unsupported index was provided and will be ignored when e.g. forecasting.\n",
      "  warnings.warn('An unsupported index was provided and will be'\n",
      "C:\\ProgramData\\Anaconda3\\lib\\site-packages\\statsmodels\\tsa\\base\\tsa_model.py:213: ValueWarning: An unsupported index was provided and will be ignored when e.g. forecasting.\n",
      "  warnings.warn('An unsupported index was provided and will be'\n"
     ]
    },
    {
     "data": {
      "text/html": [
       "\n",
       "\n",
       "\n",
       "\n",
       "\n",
       "\n",
       "  <div class=\"bk-root\" id=\"eac5517d-2814-4e0c-a0c9-0cb0c5212dbe\" data-root-id=\"117029\"></div>\n"
      ]
     },
     "metadata": {},
     "output_type": "display_data"
    },
    {
     "data": {
      "application/javascript": [
       "(function(root) {\n",
       "  function embed_document(root) {\n",
       "    \n",
       "  var docs_json = {\"0322b398-acb3-47e0-9400-8e63a9da2488\":{\"roots\":{\"references\":[{\"attributes\":{\"below\":[{\"id\":\"117040\"}],\"center\":[{\"id\":\"117043\"},{\"id\":\"117047\"},{\"id\":\"117075\"}],\"left\":[{\"id\":\"117044\"}],\"plot_height\":400,\"plot_width\":400,\"renderers\":[{\"id\":\"117065\"}],\"title\":{\"id\":\"117030\"},\"toolbar\":{\"id\":\"117055\"},\"x_range\":{\"id\":\"117032\"},\"x_scale\":{\"id\":\"117036\"},\"y_range\":{\"id\":\"117034\"},\"y_scale\":{\"id\":\"117038\"}},\"id\":\"117029\",\"subtype\":\"Figure\",\"type\":\"Plot\"},{\"attributes\":{},\"id\":\"117052\",\"type\":\"ResetTool\"},{\"attributes\":{},\"id\":\"117071\",\"type\":\"BasicTickFormatter\"},{\"attributes\":{\"bottom_units\":\"screen\",\"fill_alpha\":0.5,\"fill_color\":\"lightgrey\",\"left_units\":\"screen\",\"level\":\"overlay\",\"line_alpha\":1.0,\"line_color\":\"black\",\"line_dash\":[4,4],\"line_width\":2,\"right_units\":\"screen\",\"top_units\":\"screen\"},\"id\":\"117054\",\"type\":\"BoxAnnotation\"},{\"attributes\":{\"fill_alpha\":{\"value\":0.5},\"fill_color\":{\"value\":\"orange\"},\"line_color\":{\"value\":\"navy\"},\"marker\":{\"value\":\"square\"},\"size\":{\"units\":\"screen\",\"value\":15},\"x\":{\"field\":\"x\"},\"y\":{\"field\":\"y\"}},\"id\":\"117063\",\"type\":\"Scatter\"},{\"attributes\":{},\"id\":\"117045\",\"type\":\"BasicTicker\"},{\"attributes\":{},\"id\":\"117069\",\"type\":\"BasicTickFormatter\"},{\"attributes\":{},\"id\":\"117038\",\"type\":\"LinearScale\"},{\"attributes\":{\"fill_alpha\":{\"value\":0.1},\"fill_color\":{\"value\":\"orange\"},\"line_alpha\":{\"value\":0.1},\"line_color\":{\"value\":\"navy\"},\"marker\":{\"value\":\"square\"},\"size\":{\"units\":\"screen\",\"value\":15},\"x\":{\"field\":\"x\"},\"y\":{\"field\":\"y\"}},\"id\":\"117064\",\"type\":\"Scatter\"},{\"attributes\":{\"items\":[{\"id\":\"117076\"}]},\"id\":\"117075\",\"type\":\"Legend\"},{\"attributes\":{\"axis_label\":\"RMSE\",\"formatter\":{\"id\":\"117071\"},\"ticker\":{\"id\":\"117045\"}},\"id\":\"117044\",\"type\":\"LinearAxis\"},{\"attributes\":{\"axis\":{\"id\":\"117044\"},\"dimension\":1,\"ticker\":null},\"id\":\"117047\",\"type\":\"Grid\"},{\"attributes\":{},\"id\":\"117041\",\"type\":\"BasicTicker\"},{\"attributes\":{\"data_source\":{\"id\":\"117062\"},\"glyph\":{\"id\":\"117063\"},\"hover_glyph\":null,\"muted_glyph\":null,\"nonselection_glyph\":{\"id\":\"117064\"},\"selection_glyph\":null,\"view\":{\"id\":\"117066\"}},\"id\":\"117065\",\"type\":\"GlyphRenderer\"},{\"attributes\":{},\"id\":\"117051\",\"type\":\"SaveTool\"},{\"attributes\":{},\"id\":\"117036\",\"type\":\"LinearScale\"},{\"attributes\":{},\"id\":\"117034\",\"type\":\"DataRange1d\"},{\"attributes\":{\"overlay\":{\"id\":\"117054\"}},\"id\":\"117050\",\"type\":\"BoxZoomTool\"},{\"attributes\":{\"label\":{\"value\":\"RMSE\"},\"renderers\":[{\"id\":\"117065\"}]},\"id\":\"117076\",\"type\":\"LegendItem\"},{\"attributes\":{},\"id\":\"117048\",\"type\":\"PanTool\"},{\"attributes\":{},\"id\":\"117049\",\"type\":\"WheelZoomTool\"},{\"attributes\":{},\"id\":\"117073\",\"type\":\"UnionRenderers\"},{\"attributes\":{},\"id\":\"117032\",\"type\":\"DataRange1d\"},{\"attributes\":{\"axis\":{\"id\":\"117040\"},\"ticker\":null},\"id\":\"117043\",\"type\":\"Grid\"},{\"attributes\":{\"data\":{\"x\":{\"__ndarray__\":\"AQAAAAIAAAADAAAABAAAAAUAAAAGAAAABwAAAA==\",\"dtype\":\"int32\",\"order\":\"little\",\"shape\":[7]},\"y\":[0.3840021117596854,0.3638237140651355,0.3610014720780441,0.3417254501341827,0.2827962598888039,0.27692217534555524,0.2607024488393503]},\"selected\":{\"id\":\"117074\"},\"selection_policy\":{\"id\":\"117073\"}},\"id\":\"117062\",\"type\":\"ColumnDataSource\"},{\"attributes\":{},\"id\":\"117053\",\"type\":\"HelpTool\"},{\"attributes\":{},\"id\":\"117074\",\"type\":\"Selection\"},{\"attributes\":{\"source\":{\"id\":\"117062\"}},\"id\":\"117066\",\"type\":\"CDSView\"},{\"attributes\":{\"active_drag\":\"auto\",\"active_inspect\":\"auto\",\"active_multi\":null,\"active_scroll\":\"auto\",\"active_tap\":\"auto\",\"tools\":[{\"id\":\"117048\"},{\"id\":\"117049\"},{\"id\":\"117050\"},{\"id\":\"117051\"},{\"id\":\"117052\"},{\"id\":\"117053\"}]},\"id\":\"117055\",\"type\":\"Toolbar\"},{\"attributes\":{\"axis_label\":\"n\",\"formatter\":{\"id\":\"117069\"},\"ticker\":{\"id\":\"117041\"}},\"id\":\"117040\",\"type\":\"LinearAxis\"},{\"attributes\":{\"text\":\"RMSE of AR Models of order n\"},\"id\":\"117030\",\"type\":\"Title\"}],\"root_ids\":[\"117029\"]},\"title\":\"Bokeh Application\",\"version\":\"2.1.1\"}};\n",
       "  var render_items = [{\"docid\":\"0322b398-acb3-47e0-9400-8e63a9da2488\",\"root_ids\":[\"117029\"],\"roots\":{\"117029\":\"eac5517d-2814-4e0c-a0c9-0cb0c5212dbe\"}}];\n",
       "  root.Bokeh.embed.embed_items_notebook(docs_json, render_items);\n",
       "\n",
       "  }\n",
       "  if (root.Bokeh !== undefined) {\n",
       "    embed_document(root);\n",
       "  } else {\n",
       "    var attempts = 0;\n",
       "    var timer = setInterval(function(root) {\n",
       "      if (root.Bokeh !== undefined) {\n",
       "        clearInterval(timer);\n",
       "        embed_document(root);\n",
       "      } else {\n",
       "        attempts++;\n",
       "        if (attempts > 100) {\n",
       "          clearInterval(timer);\n",
       "          console.log(\"Bokeh: ERROR: Unable to run BokehJS code because BokehJS library is missing\");\n",
       "        }\n",
       "      }\n",
       "    }, 10, root)\n",
       "  }\n",
       "})(window);"
      ],
      "application/vnd.bokehjs_exec.v0+json": ""
     },
     "metadata": {
      "application/vnd.bokehjs_exec.v0+json": {
       "id": "117029"
      }
     },
     "output_type": "display_data"
    }
   ],
   "source": [
    "rmse_train=[]\n",
    "for n in range(1,8):\n",
    "    model = AutoReg(remaining.dropna(), lags= n,trend='n')\n",
    "    model_fit = model.fit()\n",
    "    predictions=model_fit.predict()\n",
    "    rmse=(mean_squared_error(remaining[n:], predictions[n:]))**0.5\n",
    "    rmse_train.append(rmse)\n",
    "\n",
    "p = figure(plot_width=400, plot_height=400, title = \"RMSE of AR Models of order n\")\n",
    "p.scatter(np.arange(1,8),rmse_train,size = 15, marker =\"square\", line_color=\"navy\",fill_color=\"orange\", fill_alpha =0.5, legend_label =\"RMSE\")\n",
    "p.xaxis.axis_label ='n'\n",
    "p.yaxis.axis_label ='RMSE'\n",
    "p.legend.location='top_right'\n",
    "show(p)"
   ]
  },
  {
   "cell_type": "markdown",
   "metadata": {},
   "source": [
    " "
   ]
  },
  {
   "cell_type": "markdown",
   "metadata": {
    "tags": [
     "question:5.3",
     "points:3"
    ]
   },
   "source": [
    "**3.** (3 points) Overlay your estimates of monthly inflation rates and plot them on the same graph to compare. (There should be 4 lines, one for each dataset, plus the predictions) over time (months from September 2013 onward)."
   ]
  },
  {
   "cell_type": "code",
   "execution_count": 117,
   "metadata": {},
   "outputs": [
    {
     "name": "stderr",
     "output_type": "stream",
     "text": [
      "BokehUserWarning: ColumnDataSource's columns must be of the same length. Current lengths: ('x', 62), ('y', 61)\n",
      "BokehUserWarning: ColumnDataSource's columns must be of the same length. Current lengths: ('x', 75), ('y', 73)\n",
      "BokehUserWarning: ColumnDataSource's columns must be of the same length. Current lengths: ('x', 62), ('y', 61)\n",
      "BokehUserWarning: ColumnDataSource's columns must be of the same length. Current lengths: ('x', 75), ('y', 73)\n"
     ]
    },
    {
     "data": {
      "text/html": [
       "\n",
       "\n",
       "\n",
       "\n",
       "\n",
       "\n",
       "  <div class=\"bk-root\" id=\"bbf322a3-c29b-4f56-89df-e11e4a4e40ef\" data-root-id=\"58437\"></div>\n"
      ]
     },
     "metadata": {},
     "output_type": "display_data"
    },
    {
     "data": {
      "application/javascript": [
       "(function(root) {\n",
       "  function embed_document(root) {\n",
       "    \n",
       "  var docs_json = {\"61152502-fda1-4b22-bdb1-c1017dfd164d\":{\"roots\":{\"references\":[{\"attributes\":{\"below\":[{\"id\":\"58448\"}],\"center\":[{\"id\":\"58451\"},{\"id\":\"58455\"},{\"id\":\"58483\"}],\"left\":[{\"id\":\"58452\"}],\"plot_height\":400,\"plot_width\":800,\"renderers\":[{\"id\":\"58473\"},{\"id\":\"58488\"},{\"id\":\"58504\"},{\"id\":\"58522\"}],\"title\":{\"id\":\"58438\"},\"toolbar\":{\"id\":\"58463\"},\"x_range\":{\"id\":\"58440\"},\"x_scale\":{\"id\":\"58444\"},\"y_range\":{\"id\":\"58442\"},\"y_scale\":{\"id\":\"58446\"}},\"id\":\"58437\",\"subtype\":\"Figure\",\"type\":\"Plot\"},{\"attributes\":{},\"id\":\"58440\",\"type\":\"DataRange1d\"},{\"attributes\":{\"data\":{\"x\":[62,63,64,65,66,67,68,69,70,71,72,73,74,75,76,77,78,79,80,81,82,83,84,85,86,87,88,89,90,91,92,93,94,95,96,97,98,99,100,101,102,103,104,105,106,107,108,109,110,111,112,113,114,115,116,117,118,119,120,121,122,123,124,125,126,127,128,129,130,131,132,133,134,135,136],\"y\":{\"__ndarray__\":\"MEhRGztDwT/yKESuDC7PP7m4i1f0jsw/kGwkd+1ekL8YfEYysem+P/RKJTibac4/XELEmdvx2z8K3F9p6KnVPzVdqol+pOA/83z5gna8zz/KSDFwbizWPwQaeY2Ek84/E+FxWWa8wT+uIKXnwCm+P7BAx0rdBNQ/+PGFJntEpD+IlVX9boauv4Ae/aMPIGQ/IPD1uph5sz/KEISYApTkP5xppTtaZOA/TDcCKgoTzD+Fbbgg/8bgP+CcUCkVA9Y/mCefm/c6xT92sBmbz9zEP8a9BuoGI8k/c/iMEd6i0T8WdwhQDR3CP5AQaD6Ed7o/mj2fYGsw3j/msUSTaWTSP6eBg7OcPeE/xipdiEal3j/yIQXFGz/bP4SUV6txeNk/GJLtGas4uj8ZjqJjq5vZP3Tzb6Yuuds/5KOZFOeg1D8wjFx4WzvGPyDClCgO6Nc/9L7axmbl5T9Gtf+iVaPXPwLCdvByqNI/a1zBimXA3z80oI/Qb5HTPytw8UzTjtc/0CYo5EUI0T9Ub4TuiaLhPwgvb586auM/0L+uHNYZxT8YiCyRwHfXPyJkE0VSB9Q/rKaHobwu5z/mvlv1I1LgP5oow9g389g/vjtpkWUN4j/+nTc/TRrhP7qTWtNdddc/3J4DSDih1T+seva2wHTaP/mwoL1cX9w/AJzEbxoW3j+Y3K8eicu/PwWgrSFxc9E/VHH14JJV4z8W0vMHEfXjP2B7EmFdDOU/93kRIspA4z8IlZ5RXSjaP9oQtgpmqtc/lXBr+COh4D8=\",\"dtype\":\"float64\",\"order\":\"little\",\"shape\":[73]}},\"selected\":{\"id\":\"58537\"},\"selection_policy\":{\"id\":\"58536\"}},\"id\":\"58519\",\"type\":\"ColumnDataSource\"},{\"attributes\":{\"line_alpha\":0.1,\"line_color\":\"orange\",\"line_width\":2.5,\"x\":{\"field\":\"x\"},\"y\":{\"field\":\"y\"}},\"id\":\"58503\",\"type\":\"Line\"},{\"attributes\":{\"data_source\":{\"id\":\"58519\"},\"glyph\":{\"id\":\"58520\"},\"hover_glyph\":null,\"muted_glyph\":null,\"nonselection_glyph\":{\"id\":\"58521\"},\"selection_glyph\":null,\"view\":{\"id\":\"58523\"}},\"id\":\"58522\",\"type\":\"GlyphRenderer\"},{\"attributes\":{\"label\":{\"value\":\"Test Data\"},\"renderers\":[{\"id\":\"58488\"}]},\"id\":\"58500\",\"type\":\"LegendItem\"},{\"attributes\":{\"line_alpha\":0.1,\"line_color\":\"navy\",\"line_width\":2,\"x\":{\"field\":\"x\"},\"y\":{\"field\":\"y\"}},\"id\":\"58472\",\"type\":\"Line\"},{\"attributes\":{},\"id\":\"58499\",\"type\":\"Selection\"},{\"attributes\":{\"axis_label\":\"t\",\"formatter\":{\"id\":\"58477\"},\"ticker\":{\"id\":\"58449\"}},\"id\":\"58448\",\"type\":\"LinearAxis\"},{\"attributes\":{},\"id\":\"58461\",\"type\":\"HelpTool\"},{\"attributes\":{\"label\":{\"value\":\"Training Data\"},\"renderers\":[{\"id\":\"58473\"}]},\"id\":\"58484\",\"type\":\"LegendItem\"},{\"attributes\":{\"source\":{\"id\":\"58470\"}},\"id\":\"58474\",\"type\":\"CDSView\"},{\"attributes\":{\"line_color\":\"red\",\"line_width\":2.5,\"x\":{\"field\":\"x\"},\"y\":{\"field\":\"y\"}},\"id\":\"58520\",\"type\":\"Line\"},{\"attributes\":{},\"id\":\"58457\",\"type\":\"WheelZoomTool\"},{\"attributes\":{},\"id\":\"58498\",\"type\":\"UnionRenderers\"},{\"attributes\":{\"items\":[{\"id\":\"58484\"},{\"id\":\"58500\"},{\"id\":\"58518\"},{\"id\":\"58538\"}],\"location\":\"bottom_right\"},\"id\":\"58483\",\"type\":\"Legend\"},{\"attributes\":{},\"id\":\"58453\",\"type\":\"BasicTicker\"},{\"attributes\":{},\"id\":\"58479\",\"type\":\"BasicTickFormatter\"},{\"attributes\":{\"line_color\":\"navy\",\"line_width\":2,\"x\":{\"field\":\"x\"},\"y\":{\"field\":\"y\"}},\"id\":\"58471\",\"type\":\"Line\"},{\"attributes\":{\"bottom_units\":\"screen\",\"fill_alpha\":0.5,\"fill_color\":\"lightgrey\",\"left_units\":\"screen\",\"level\":\"overlay\",\"line_alpha\":1.0,\"line_color\":\"black\",\"line_dash\":[4,4],\"line_width\":2,\"right_units\":\"screen\",\"top_units\":\"screen\"},\"id\":\"58462\",\"type\":\"BoxAnnotation\"},{\"attributes\":{\"data\":{\"x\":[0,1,2,3,4,5,6,7,8,9,10,11,12,13,14,15,16,17,18,19,20,21,22,23,24,25,26,27,28,29,30,31,32,33,34,35,36,37,38,39,40,41,42,43,44,45,46,47,48,49,50,51,52,53,54,55,56,57,58,59,60,61],\"y\":{\"__ndarray__\":\"AAAAAAAA+H92RWsSTZzbv/T95GEBSo2/xEcG6KPS5L/Jf1qbTjrwv6RIwI1i5ce/sAj6iTlM4T/CJDPCBA/JPwglMkAdhpI/UDRkOOOltz+SDP52Ypq+P9LtcDPp0t4/TmvMW5rD1L8Qx6kBxf7IP4w40u3s+n2/sKQfWcMErz/MsWeTh7GjPwLXKmMOury/onML1+7B0j9uQfw+2Gmnv3plOwFaqNI/LFxvrMNUpD96eGxQg+ulP0qVbtPqw6W/JzqZQv2YtT8pygwPUPbAP/TnNqZtN6s/eheW9gLovj8n1MgZTiSrP3o0GfLnzcQ/tPnni9gS1T8mMwu1697QP7maES2EXuI/uC2ZUoZmzj+m/nz0govLP7DCBm81fry/ZlsfduLwxT9NCnNfoFbPP+hka3KrVr4/arBdpq8mtL/uUR8YGDq5P/DQd52EdaK/NbmOAvU63T+OvvYvGeTRP/bxMVRNUt8/1lBDYRXuvD9QAky16LKiv2jeZsYYza0/4Owc8OUJrj88Wt9qABXhP/A1FjvYstE/oIcwFdX7eb980VU/X2DEv27m+XiXvbc/MGx4dZE52j9DsAwYIUzjP04pWQ89u7s/YGndzJmglD/CgBgZc2jTPxSE0RxuctE/LlxAAAaOwD8=\",\"dtype\":\"float64\",\"order\":\"little\",\"shape\":[61]}},\"selected\":{\"id\":\"58517\"},\"selection_policy\":{\"id\":\"58516\"}},\"id\":\"58501\",\"type\":\"ColumnDataSource\"},{\"attributes\":{\"source\":{\"id\":\"58519\"}},\"id\":\"58523\",\"type\":\"CDSView\"},{\"attributes\":{},\"id\":\"58449\",\"type\":\"BasicTicker\"},{\"attributes\":{\"label\":{\"value\":\"Estimates Data(Train)\"},\"renderers\":[{\"id\":\"58504\"}]},\"id\":\"58518\",\"type\":\"LegendItem\"},{\"attributes\":{\"text\":\"IR_t Time Series\"},\"id\":\"58438\",\"type\":\"Title\"},{\"attributes\":{},\"id\":\"58482\",\"type\":\"Selection\"},{\"attributes\":{\"line_color\":\"green\",\"line_width\":2,\"x\":{\"field\":\"x\"},\"y\":{\"field\":\"y\"}},\"id\":\"58486\",\"type\":\"Line\"},{\"attributes\":{},\"id\":\"58459\",\"type\":\"SaveTool\"},{\"attributes\":{\"overlay\":{\"id\":\"58462\"}},\"id\":\"58458\",\"type\":\"BoxZoomTool\"},{\"attributes\":{\"line_color\":\"orange\",\"line_width\":2.5,\"x\":{\"field\":\"x\"},\"y\":{\"field\":\"y\"}},\"id\":\"58502\",\"type\":\"Line\"},{\"attributes\":{\"data_source\":{\"id\":\"58470\"},\"glyph\":{\"id\":\"58471\"},\"hover_glyph\":null,\"muted_glyph\":null,\"nonselection_glyph\":{\"id\":\"58472\"},\"selection_glyph\":null,\"view\":{\"id\":\"58474\"}},\"id\":\"58473\",\"type\":\"GlyphRenderer\"},{\"attributes\":{\"axis\":{\"id\":\"58452\"},\"dimension\":1,\"ticker\":null},\"id\":\"58455\",\"type\":\"Grid\"},{\"attributes\":{\"data_source\":{\"id\":\"58485\"},\"glyph\":{\"id\":\"58486\"},\"hover_glyph\":null,\"muted_glyph\":null,\"nonselection_glyph\":{\"id\":\"58487\"},\"selection_glyph\":null,\"view\":{\"id\":\"58489\"}},\"id\":\"58488\",\"type\":\"GlyphRenderer\"},{\"attributes\":{\"data_source\":{\"id\":\"58501\"},\"glyph\":{\"id\":\"58502\"},\"hover_glyph\":null,\"muted_glyph\":null,\"nonselection_glyph\":{\"id\":\"58503\"},\"selection_glyph\":null,\"view\":{\"id\":\"58505\"}},\"id\":\"58504\",\"type\":\"GlyphRenderer\"},{\"attributes\":{\"source\":{\"id\":\"58485\"}},\"id\":\"58489\",\"type\":\"CDSView\"},{\"attributes\":{\"source\":{\"id\":\"58501\"}},\"id\":\"58505\",\"type\":\"CDSView\"},{\"attributes\":{},\"id\":\"58537\",\"type\":\"Selection\"},{\"attributes\":{},\"id\":\"58456\",\"type\":\"PanTool\"},{\"attributes\":{},\"id\":\"58481\",\"type\":\"UnionRenderers\"},{\"attributes\":{\"active_drag\":\"auto\",\"active_inspect\":\"auto\",\"active_multi\":null,\"active_scroll\":\"auto\",\"active_tap\":\"auto\",\"tools\":[{\"id\":\"58456\"},{\"id\":\"58457\"},{\"id\":\"58458\"},{\"id\":\"58459\"},{\"id\":\"58460\"},{\"id\":\"58461\"}]},\"id\":\"58463\",\"type\":\"Toolbar\"},{\"attributes\":{\"axis_label\":\"IR_t\",\"formatter\":{\"id\":\"58479\"},\"ticker\":{\"id\":\"58453\"}},\"id\":\"58452\",\"type\":\"LinearAxis\"},{\"attributes\":{\"data\":{\"x\":[0,1,2,3,4,5,6,7,8,9,10,11,12,13,14,15,16,17,18,19,20,21,22,23,24,25,26,27,28,29,30,31,32,33,34,35,36,37,38,39,40,41,42,43,44,45,46,47,48,49,50,51,52,53,54,55,56,57,58,59,60,61],\"y\":{\"__ndarray__\":\"AM+pW13C4D/Al90IpZnZv4CHJMdFtcG/gN3dJpA+8L8APmG4GvH+v3Au7BtRovC/QEs6X4DL2z9AAZmoKr/fP4BxZP/TFs8/gG+fqOHpzz/AQuZnMHbSP2Am2MrFXus/gHUf7eRPxL8AdaTrU63MPwCoWjsjArA/AOqSBOmkuD8AQqIO5BuyP4DZx2Dcj8a/gK3la5/V1T8AIBe7b4SZP8AwjUsFOto/gBID64c2xj8Abt+WbtWzPwAOwsWuAbm/AOjUSm+glT+AMNunEanBPwCKcLa6xq0/AExk27nbvz8ANPZBuoelPwBgViGj+8U/gI4kaEtp3j/AFs9jiHvfP2DbQQw2De8/YDCyEwGK5D9A7TPqpArePwBZVzW4bru/AJPWEiCstj/AdafakZ/RP4Cp0GyXa8M/APrX86Fuyr8AcsBXb5u1v4C0GBjzm8+/gIq7/1QZ3D+AkWNnGx7cP0BXzn86Nug/gLUyhhlO0z8Ako11iA++v4AlGl9CyMK/gF3x9jDgxL/Ajq36dcLhP8DJbPqRftw/AMLw7E7zo78A8stUpWXev8Djeq+TQdG/QAjPePnl0j9gTLvb0xnqPwC5UGT4tdA/ANskvjChur8AhNAu08TGP4C7y5T1rs4/AA5pavsxpD8=\",\"dtype\":\"float64\",\"order\":\"little\",\"shape\":[61]}},\"selected\":{\"id\":\"58482\"},\"selection_policy\":{\"id\":\"58481\"}},\"id\":\"58470\",\"type\":\"ColumnDataSource\"},{\"attributes\":{},\"id\":\"58516\",\"type\":\"UnionRenderers\"},{\"attributes\":{},\"id\":\"58460\",\"type\":\"ResetTool\"},{\"attributes\":{},\"id\":\"58442\",\"type\":\"DataRange1d\"},{\"attributes\":{\"label\":{\"value\":\"Estimates Data(Test)\"},\"renderers\":[{\"id\":\"58522\"}]},\"id\":\"58538\",\"type\":\"LegendItem\"},{\"attributes\":{\"line_alpha\":0.1,\"line_color\":\"green\",\"line_width\":2,\"x\":{\"field\":\"x\"},\"y\":{\"field\":\"y\"}},\"id\":\"58487\",\"type\":\"Line\"},{\"attributes\":{\"line_alpha\":0.1,\"line_color\":\"red\",\"line_width\":2.5,\"x\":{\"field\":\"x\"},\"y\":{\"field\":\"y\"}},\"id\":\"58521\",\"type\":\"Line\"},{\"attributes\":{\"data\":{\"x\":[62,63,64,65,66,67,68,69,70,71,72,73,74,75,76,77,78,79,80,81,82,83,84,85,86,87,88,89,90,91,92,93,94,95,96,97,98,99,100,101,102,103,104,105,106,107,108,109,110,111,112,113,114,115,116,117,118,119,120,121,122,123,124,125,126,127,128,129,130,131,132,133,134,135,136],\"y\":{\"__ndarray__\":\"AMRC45/Fvj8AcBUWEsG9P4DrOAQqgdC/gEPnRLEryr8A+P8EbX+Bv4DEAS2Ow9c/AE4Ap06f1z/gxordzorkP4AVD25jENU/QFzDFktQ1j+AWSa0hdHHPwAWS1Yl+6O/gFbbGtpmxb8AQA6y60GzP4CnQ9JwGdC/ALGriVBT4b8AtbGc6jHiv8CJIF5wMN6/ACDw40i72z+AycG8qf3iPwAeaPKp/8k/oBCPiqlE4D9AaGTmRGHWPwBwYBWFans/AM6u2Rclwr8A4RbFqO/DvwAKUW5yB6e/AH1Dog0Ly78Avo6MLOnVvwBcIfm4JMU/AHebjOcOtT/AqtzSvX/bP4DXZsX+Rd4/QIB2UYHX2T9And61mvzUPwAuqK6avMS/AGS6vliAtz8AHRnLv7vOPwAnqdoG6L8/gGH09d7rw78ARAewI8GgP6C7lAImmOI/wEIN8bcZ1D8AyBtPVM20PwA61HpN89I/AGcTlEPetT8Ad/ntvzi3PwA1YGsIqbG/wBHmsYQh0z9ApCfkE+bgPwCrpooMKrC/AGBaa/qeYz8AyG0+DR+uvwDLDZP3YuE/gEOIiy/13D8AN1K9COnMP4AgVIIlY9k/wJBAxdGP2j8AbCXzy2PEPwAgjsncYns/AFx3Eb9xrD8AdkFP2rq9PwCkzUhYmsY/AARqUP541b9A4Q10fnnUv4C9wktnYcg/AA+wxzf+2j9AbU1/eADiP4CPXdiz5uA/gPBLWcQ3yz8AQKqPWmKUP4DWaSzMXsU/AMCI1MP1dL8=\",\"dtype\":\"float64\",\"order\":\"little\",\"shape\":[73]}},\"selected\":{\"id\":\"58499\"},\"selection_policy\":{\"id\":\"58498\"}},\"id\":\"58485\",\"type\":\"ColumnDataSource\"},{\"attributes\":{},\"id\":\"58444\",\"type\":\"LinearScale\"},{\"attributes\":{},\"id\":\"58536\",\"type\":\"UnionRenderers\"},{\"attributes\":{\"axis\":{\"id\":\"58448\"},\"ticker\":null},\"id\":\"58451\",\"type\":\"Grid\"},{\"attributes\":{},\"id\":\"58517\",\"type\":\"Selection\"},{\"attributes\":{},\"id\":\"58446\",\"type\":\"LinearScale\"},{\"attributes\":{},\"id\":\"58477\",\"type\":\"BasicTickFormatter\"}],\"root_ids\":[\"58437\"]},\"title\":\"Bokeh Application\",\"version\":\"2.1.1\"}};\n",
       "  var render_items = [{\"docid\":\"61152502-fda1-4b22-bdb1-c1017dfd164d\",\"root_ids\":[\"58437\"],\"roots\":{\"58437\":\"bbf322a3-c29b-4f56-89df-e11e4a4e40ef\"}}];\n",
       "  root.Bokeh.embed.embed_items_notebook(docs_json, render_items);\n",
       "\n",
       "  }\n",
       "  if (root.Bokeh !== undefined) {\n",
       "    embed_document(root);\n",
       "  } else {\n",
       "    var attempts = 0;\n",
       "    var timer = setInterval(function(root) {\n",
       "      if (root.Bokeh !== undefined) {\n",
       "        clearInterval(timer);\n",
       "        embed_document(root);\n",
       "      } else {\n",
       "        attempts++;\n",
       "        if (attempts > 100) {\n",
       "          clearInterval(timer);\n",
       "          console.log(\"Bokeh: ERROR: Unable to run BokehJS code because BokehJS library is missing\");\n",
       "        }\n",
       "      }\n",
       "    }, 10, root)\n",
       "  }\n",
       "})(window);"
      ],
      "application/vnd.bokehjs_exec.v0+json": ""
     },
     "metadata": {
      "application/vnd.bokehjs_exec.v0+json": {
       "id": "58437"
      }
     },
     "output_type": "display_data"
    }
   ],
   "source": [
    "p = figure(plot_width=800, plot_height=400, title = \"IR_t Time Series\")\n",
    "p.line(cpi_ir_train['diff_log'].index,cpi_ir_train['diff_log'].dropna(), line_color=\"navy\", line_width=2, legend_label =\"Training Data\")\n",
    "p.line(cpi_ir_test['diff_log'].index,cpi_ir_test['diff_log'].dropna(), line_color=\"green\", line_width=2, legend_label =\"Test Data\")\n",
    "p.line(cpi_ir_train.index,final_training, line_color=\"orange\",line_width=2.5,legend_label =\"Estimates Data(Train)\")\n",
    "p.line(cpi_ir_test.index,final_test, line_color=\"red\",line_width=2.5,legend_label =\"Estimates Data(Test)\")\n",
    "\n",
    "p.xaxis.axis_label ='t'\n",
    "p.yaxis.axis_label ='IR_t'\n",
    "p.legend.location='bottom_right'\n",
    "show(p)"
   ]
  },
  {
   "cell_type": "markdown",
   "metadata": {},
   "source": [
    " "
   ]
  },
  {
   "cell_type": "markdown",
   "metadata": {
    "tags": []
   },
   "source": [
    "### Problem 6: External Regressors and Model Improvements\n",
    "### External Regressors"
   ]
  },
  {
   "cell_type": "markdown",
   "metadata": {
    "tags": [
     "question:6.1",
     "points:4"
    ]
   },
   "source": [
    "**1.** (4 points) Include as external regressors monthly average PriceStats inflation rate data and monthly BER data. Use cross-correlation plots to find the lag between the following:\n",
    "- CPI inflation rate and PriceStats inflation rate\n",
    "- CPI and BER inflation rate."
   ]
  },
  {
   "cell_type": "markdown",
   "metadata": {},
   "source": [
    "### Solution:"
   ]
  },
  {
   "cell_type": "markdown",
   "metadata": {},
   "source": [
    "Cross-correlation plots between CPI inflation rate and PriceStats inflation rate: we can get the lag = 1."
   ]
  },
  {
   "cell_type": "code",
   "execution_count": 142,
   "metadata": {
    "scrolled": false
   },
   "outputs": [
    {
     "data": {
      "image/png": "[encoded data removed]",
      "text/plain": [
       "<Figure size 432x288 with 1 Axes>"
      ]
     },
     "metadata": {
      "needs_background": "light"
     },
     "output_type": "display_data"
    },
    {
     "data": {
      "image/png": "[encoded data removed]",
      "text/plain": [
       "<Figure size 432x288 with 1 Axes>"
      ]
     },
     "metadata": {
      "needs_background": "light"
     },
     "output_type": "display_data"
    }
   ],
   "source": [
    "def calc_inflation_rate(data):\n",
    "    ir = []\n",
    "    for i in range(1,len(data)):\n",
    "        ir_temp = (data[i]-data[i-1])/data[i-1] *100      \n",
    "        ir.append(ir_temp)\n",
    "#         print(i)\n",
    "    return ir\n",
    "\n",
    "\n",
    "ps_monthly = pd.DataFrame(columns =['YearMonth','PS'])\n",
    "ps_monthly['PS'] =ps_cpi.groupby('YearMonth').PriceStats.mean().values\n",
    "ps_monthly['YearMonth'] = cpi.YearMonth\n",
    "val = calc_inflation_rate(ps_monthly.PS.values)\n",
    "ps_monthly.loc[1:, 'IR_ps'] = val\n",
    "\n",
    "ps_ir_train = (ps_monthly[ps_monthly.YearMonth<'2013-09'].copy())\n",
    "ps_ir_test = (ps_monthly[ps_monthly.YearMonth >='2013-09'].copy())\n",
    "\n",
    "\n",
    "remaining1 = cpi_ir_train['diff_log'] - ps_ir_train.IR_ps\n",
    "\n",
    "\n",
    "plot_acf(remaining1)\n",
    "plt.show()\n",
    "plot_pacf(remaining1)\n",
    "plt.show()"
   ]
  },
  {
   "cell_type": "markdown",
   "metadata": {},
   "source": [
    "Cross-correlation plots between CPI and BER inflation rate: we can get the lag = 1."
   ]
  },
  {
   "cell_type": "code",
   "execution_count": 141,
   "metadata": {},
   "outputs": [
    {
     "data": {
      "image/png": "[encoded data removed]",
      "text/plain": [
       "<Figure size 432x288 with 1 Axes>"
      ]
     },
     "metadata": {
      "needs_background": "light"
     },
     "output_type": "display_data"
    },
    {
     "data": {
      "image/png": "[encoded data removed]",
      "text/plain": [
       "<Figure size 432x288 with 1 Axes>"
      ]
     },
     "metadata": {
      "needs_background": "light"
     },
     "output_type": "display_data"
    }
   ],
   "source": [
    "\n",
    "ber = pd.read_csv('T10YIE.csv')\n",
    "ber['DATE'] =pd.to_datetime(ber['DATE'])\n",
    "ber['YearMonth'] = ber['DATE'].dt.strftime('%Y-%m')\n",
    "ber = ber.drop(ber[ber.YearMonth< '2008-07'].index)\n",
    "ber = ber.dropna()\n",
    "# print(ber)\n",
    "\n",
    "ber_monthly = pd.DataFrame(columns =['YearMonth','BER'])\n",
    "ber_monthly['BER'] =ber.groupby('YearMonth').T10YIE.mean().values\n",
    "ber_monthly['YearMonth'] = cpi.YearMonth\n",
    "ber_monthly.drop([0])\n",
    "\n",
    "# print(ber_monthly)\n",
    "ber_ir_train = (ber_monthly[ber_monthly.YearMonth<'2013-09'].copy())\n",
    "ber_ir_test = (ber_monthly[ber_monthly.YearMonth >='2013-09'].copy())\n",
    "\n",
    "\n",
    "ber_ir_train['IR_ber'] = ((ber_ir_train.BER.values/100+1)**(1/12)-1)*100\n",
    "ber_ir_test['IR_ber'] = ((ber_ir_test.BER.values/100+1)**(1/12)-1)*100\n",
    "\n",
    "remaining2 = cpi_ir_train['diff_log'] - ber_ir_train['IR_ber']\n",
    "plot_acf(remaining2)\n",
    "plt.show()\n",
    "plot_pacf(remaining2)\n",
    "plt.show()"
   ]
  },
  {
   "cell_type": "markdown",
   "metadata": {},
   "source": [
    " "
   ]
  },
  {
   "cell_type": "markdown",
   "metadata": {
    "tags": [
     "question:6.2",
     "points:3"
    ]
   },
   "source": [
    "**2.** (3 points) Fit a new AR model to the CPI inflation rate with these external regressors and the most appropriate lag. Report the coefficients.\n",
    "> Python Tip: You may use use sm.tsa.statespace.SARIMAX."
   ]
  },
  {
   "cell_type": "code",
   "execution_count": null,
   "metadata": {},
   "outputs": [],
   "source": [
    "### Solution:\n",
    "The coefficients(p, d, q) = (1,2,1)"
   ]
  },
  {
   "cell_type": "code",
   "execution_count": 167,
   "metadata": {},
   "outputs": [
    {
     "name": "stderr",
     "output_type": "stream",
     "text": [
      "BokehUserWarning: ColumnDataSource's columns must be of the same length. Current lengths: ('x', 62), ('y', 61)\n"
     ]
    },
    {
     "data": {
      "text/html": [
       "\n",
       "\n",
       "\n",
       "\n",
       "\n",
       "\n",
       "  <div class=\"bk-root\" id=\"27d35503-ef86-43da-8c92-f49464658008\" data-root-id=\"109691\"></div>\n"
      ]
     },
     "metadata": {},
     "output_type": "display_data"
    },
    {
     "data": {
      "application/javascript": [
       "(function(root) {\n",
       "  function embed_document(root) {\n",
       "    \n",
       "  var docs_json = {\"f34b51bc-5b57-4336-ae88-51b95f324bdb\":{\"roots\":{\"references\":[{\"attributes\":{\"below\":[{\"id\":\"109702\"}],\"center\":[{\"id\":\"109705\"},{\"id\":\"109709\"},{\"id\":\"109737\"}],\"left\":[{\"id\":\"109706\"}],\"plot_height\":400,\"plot_width\":800,\"renderers\":[{\"id\":\"109727\"},{\"id\":\"109742\"}],\"title\":{\"id\":\"109692\"},\"toolbar\":{\"id\":\"109717\"},\"x_range\":{\"id\":\"109694\"},\"x_scale\":{\"id\":\"109698\"},\"y_range\":{\"id\":\"109696\"},\"y_scale\":{\"id\":\"109700\"}},\"id\":\"109691\",\"subtype\":\"Figure\",\"type\":\"Plot\"},{\"attributes\":{},\"id\":\"109731\",\"type\":\"BasicTickFormatter\"},{\"attributes\":{\"data\":{\"x\":[0,1,2,3,4,5,6,7,8,9,10,11,12,13,14,15,16,17,18,19,20,21,22,23,24,25,26,27,28,29,30,31,32,33,34,35,36,37,38,39,40,41,42,43,44,45,46,47,48,49,50,51,52,53,54,55,56,57,58,59,60,61],\"y\":{\"__ndarray__\":\"AAAAAAAA+H8Az6lbXcLgP8CX3Qilmdm/gIckx0W1wb+A3d0mkD7wvwA+Ybga8f6/cC7sG1Gi8L9ASzpfgMvbP0ABmagqv98/gHFk/9MWzz+Ab5+o4enPP8BC5mcwdtI/YCbYysVe6z+AdR/t5E/EvwB1pOtTrcw/AKhaOyMCsD8A6pIE6aS4PwBCog7kG7I/gNnHYNyPxr+AreVrn9XVPwAgF7tvhJk/wDCNSwU62j+AEgPrhzbGPwBu35Zu1bM/AA7Cxa4Bub8A6NRKb6CVP4Aw26cRqcE/AIpwtrrGrT8ATGTbudu/PwA09kG6h6U/AGBWIaP7xT+AjiRoS2neP8AWz2OIe98/YNtBDDYN7z9gMLITAYrkP0DtM+qkCt4/AFlXNbhuu78Ak9YSIKy2P8B1p9qRn9E/gKnQbJdrwz8A+tfzoW7KvwBywFdvm7W/gLQYGPObz7+Airv/VBncP4CRY2cbHtw/QFfOfzo26D+AtTKGGU7TPwCSjXWID76/gCUaX0LIwr+AXfH2MODEv8COrfp1wuE/wMls+pF+3D8AwvDsTvOjvwDyy1SlZd6/wON6r5NB0b9ACM94+eXSP2BMu9vTGeo/ALlQZPi10D8A2yS+MKG6vwCE0C7TxMY/gLvLlPWuzj8ADmlq+zGkPw==\",\"dtype\":\"float64\",\"order\":\"little\",\"shape\":[62]}},\"selected\":{\"id\":\"109736\"},\"selection_policy\":{\"id\":\"109735\"}},\"id\":\"109724\",\"type\":\"ColumnDataSource\"},{\"attributes\":{},\"id\":\"109752\",\"type\":\"UnionRenderers\"},{\"attributes\":{},\"id\":\"109711\",\"type\":\"WheelZoomTool\"},{\"attributes\":{},\"id\":\"109700\",\"type\":\"LinearScale\"},{\"attributes\":{\"axis_label\":\"IR_t\",\"formatter\":{\"id\":\"109733\"},\"ticker\":{\"id\":\"109707\"}},\"id\":\"109706\",\"type\":\"LinearAxis\"},{\"attributes\":{\"overlay\":{\"id\":\"109716\"}},\"id\":\"109712\",\"type\":\"BoxZoomTool\"},{\"attributes\":{},\"id\":\"109694\",\"type\":\"DataRange1d\"},{\"attributes\":{\"active_drag\":\"auto\",\"active_inspect\":\"auto\",\"active_multi\":null,\"active_scroll\":\"auto\",\"active_tap\":\"auto\",\"tools\":[{\"id\":\"109710\"},{\"id\":\"109711\"},{\"id\":\"109712\"},{\"id\":\"109713\"},{\"id\":\"109714\"},{\"id\":\"109715\"}]},\"id\":\"109717\",\"type\":\"Toolbar\"},{\"attributes\":{},\"id\":\"109733\",\"type\":\"BasicTickFormatter\"},{\"attributes\":{\"text\":\"IR_t Time Series\"},\"id\":\"109692\",\"type\":\"Title\"},{\"attributes\":{},\"id\":\"109715\",\"type\":\"HelpTool\"},{\"attributes\":{\"axis\":{\"id\":\"109702\"},\"ticker\":null},\"id\":\"109705\",\"type\":\"Grid\"},{\"attributes\":{\"data\":{\"x\":[0,1,2,3,4,5,6,7,8,9,10,11,12,13,14,15,16,17,18,19,20,21,22,23,24,25,26,27,28,29,30,31,32,33,34,35,36,37,38,39,40,41,42,43,44,45,46,47,48,49,50,51,52,53,54,55,56,57,58,59,60,61],\"y\":{\"__ndarray__\":\"AAAAAAAAAADG4syugnbnPzccbvX/LfW/HglaInC93r/4vgeskET4v0+GDcR/UQTAMAunU0UH9r8w4hY6/vfYP9txirygj98/1mnWpl1wyz9kUt7TTCbMP+DF+x87+9A/I9le9WMK7D9gRlDto/jIv85MDr7G28g/pOGR4uQNoT+c/2D+b1GxP+EXN1F8OaY/n6xXN+wxy7+iwhqXiZbUP4B5B460LnU/17O5Cq1u2T/1byXPXLnEP1w9AapTa64/xL6w6TgCv7+AfoPufK5dv0glOJqu5L4/Iq45k6aLpT9Dt8VtydW7P+TU9hB6VZs/WP6bClQoxD9pwpwK4vjdP0W/cCNCbt8/5Su//ak77z8EWrWfU9/kPzjDly3iLd4/EKa75Uo2vb88y8yDY7CyPwq97M0O/dA/pW2ZMgWAwj8eNI4tvfPLvwYQ3AqFDrq/IlRM3M3O0L/iFjDnICrbPynsoEHSA9w/cr1/D6I06D8j1HGKgY7TP6yFRavClL+/WPpw/8aGxL/q4pz+Z6jGvxkAOOD3W+E/zuNzl96L3D8Ii3Bozd+kv6F5dhrEGt+/eKY/+Ih10r+SSkMRsfbRP0a+/Yi2+Ok/KuDjHlAX0T98RGLFEay7vzjWH3kXWsU/mKnEUszxzT8=\",\"dtype\":\"float64\",\"order\":\"little\",\"shape\":[61]}},\"selected\":{\"id\":\"109753\"},\"selection_policy\":{\"id\":\"109752\"}},\"id\":\"109739\",\"type\":\"ColumnDataSource\"},{\"attributes\":{\"data_source\":{\"id\":\"109739\"},\"glyph\":{\"id\":\"109740\"},\"hover_glyph\":null,\"muted_glyph\":null,\"nonselection_glyph\":{\"id\":\"109741\"},\"selection_glyph\":null,\"view\":{\"id\":\"109743\"}},\"id\":\"109742\",\"type\":\"GlyphRenderer\"},{\"attributes\":{},\"id\":\"109696\",\"type\":\"DataRange1d\"},{\"attributes\":{\"axis\":{\"id\":\"109706\"},\"dimension\":1,\"ticker\":null},\"id\":\"109709\",\"type\":\"Grid\"},{\"attributes\":{\"source\":{\"id\":\"109724\"}},\"id\":\"109728\",\"type\":\"CDSView\"},{\"attributes\":{\"line_alpha\":0.1,\"line_color\":\"orange\",\"line_width\":2.5,\"x\":{\"field\":\"x\"},\"y\":{\"field\":\"y\"}},\"id\":\"109741\",\"type\":\"Line\"},{\"attributes\":{\"source\":{\"id\":\"109739\"}},\"id\":\"109743\",\"type\":\"CDSView\"},{\"attributes\":{\"label\":{\"value\":\"Training Data\"},\"renderers\":[{\"id\":\"109727\"}]},\"id\":\"109738\",\"type\":\"LegendItem\"},{\"attributes\":{},\"id\":\"109703\",\"type\":\"BasicTicker\"},{\"attributes\":{\"line_color\":\"orange\",\"line_width\":2.5,\"x\":{\"field\":\"x\"},\"y\":{\"field\":\"y\"}},\"id\":\"109740\",\"type\":\"Line\"},{\"attributes\":{},\"id\":\"109698\",\"type\":\"LinearScale\"},{\"attributes\":{\"items\":[{\"id\":\"109738\"},{\"id\":\"109754\"}],\"location\":\"bottom_right\"},\"id\":\"109737\",\"type\":\"Legend\"},{\"attributes\":{},\"id\":\"109710\",\"type\":\"PanTool\"},{\"attributes\":{\"line_color\":\"navy\",\"line_width\":2,\"x\":{\"field\":\"x\"},\"y\":{\"field\":\"y\"}},\"id\":\"109725\",\"type\":\"Line\"},{\"attributes\":{},\"id\":\"109713\",\"type\":\"SaveTool\"},{\"attributes\":{\"label\":{\"value\":\"Estimates Data(Train)\"},\"renderers\":[{\"id\":\"109742\"}]},\"id\":\"109754\",\"type\":\"LegendItem\"},{\"attributes\":{\"axis_label\":\"t\",\"formatter\":{\"id\":\"109731\"},\"ticker\":{\"id\":\"109703\"}},\"id\":\"109702\",\"type\":\"LinearAxis\"},{\"attributes\":{\"bottom_units\":\"screen\",\"fill_alpha\":0.5,\"fill_color\":\"lightgrey\",\"left_units\":\"screen\",\"level\":\"overlay\",\"line_alpha\":1.0,\"line_color\":\"black\",\"line_dash\":[4,4],\"line_width\":2,\"right_units\":\"screen\",\"top_units\":\"screen\"},\"id\":\"109716\",\"type\":\"BoxAnnotation\"},{\"attributes\":{},\"id\":\"109753\",\"type\":\"Selection\"},{\"attributes\":{},\"id\":\"109735\",\"type\":\"UnionRenderers\"},{\"attributes\":{\"line_alpha\":0.1,\"line_color\":\"navy\",\"line_width\":2,\"x\":{\"field\":\"x\"},\"y\":{\"field\":\"y\"}},\"id\":\"109726\",\"type\":\"Line\"},{\"attributes\":{},\"id\":\"109707\",\"type\":\"BasicTicker\"},{\"attributes\":{\"data_source\":{\"id\":\"109724\"},\"glyph\":{\"id\":\"109725\"},\"hover_glyph\":null,\"muted_glyph\":null,\"nonselection_glyph\":{\"id\":\"109726\"},\"selection_glyph\":null,\"view\":{\"id\":\"109728\"}},\"id\":\"109727\",\"type\":\"GlyphRenderer\"},{\"attributes\":{},\"id\":\"109714\",\"type\":\"ResetTool\"},{\"attributes\":{},\"id\":\"109736\",\"type\":\"Selection\"}],\"root_ids\":[\"109691\"]},\"title\":\"Bokeh Application\",\"version\":\"2.1.1\"}};\n",
       "  var render_items = [{\"docid\":\"f34b51bc-5b57-4336-ae88-51b95f324bdb\",\"root_ids\":[\"109691\"],\"roots\":{\"109691\":\"27d35503-ef86-43da-8c92-f49464658008\"}}];\n",
       "  root.Bokeh.embed.embed_items_notebook(docs_json, render_items);\n",
       "\n",
       "  }\n",
       "  if (root.Bokeh !== undefined) {\n",
       "    embed_document(root);\n",
       "  } else {\n",
       "    var attempts = 0;\n",
       "    var timer = setInterval(function(root) {\n",
       "      if (root.Bokeh !== undefined) {\n",
       "        clearInterval(timer);\n",
       "        embed_document(root);\n",
       "      } else {\n",
       "        attempts++;\n",
       "        if (attempts > 100) {\n",
       "          clearInterval(timer);\n",
       "          console.log(\"Bokeh: ERROR: Unable to run BokehJS code because BokehJS library is missing\");\n",
       "        }\n",
       "      }\n",
       "    }, 10, root)\n",
       "  }\n",
       "})(window);"
      ],
      "application/vnd.bokehjs_exec.v0+json": ""
     },
     "metadata": {
      "application/vnd.bokehjs_exec.v0+json": {
       "id": "109691"
      }
     },
     "output_type": "display_data"
    }
   ],
   "source": [
    "import statsmodels.api as sm\n",
    "import statsmodels.tsa.api as tsa\n",
    "model1 = sm.tsa.statespace.SARIMAX(cpi_ir_train['diff_log'], order=(1,2,1),)\n",
    "result_arima = model1.fit(disp=-1)\n",
    "predict_ts = result_arima.predict()\n",
    "p = figure(plot_width=800, plot_height=400, title = \"IR_t Time Series\")\n",
    "p.line(cpi_ir_train['diff_log'].index,cpi_ir_train['diff_log'], line_color=\"navy\", line_width=2, legend_label =\"Training Data\")\n",
    "\n",
    "p.line(cpi_ir_train.index,predict_ts[1:], line_color=\"orange\",line_width=2.5,legend_label =\"Estimates Data(Train)\")\n",
    "p.xaxis.axis_label ='t'\n",
    "p.yaxis.axis_label ='IR_t'\n",
    "p.legend.location='bottom_right'\n",
    "show(p)"
   ]
  },
  {
   "cell_type": "markdown",
   "metadata": {},
   "source": [
    " "
   ]
  },
  {
   "cell_type": "markdown",
   "metadata": {
    "tags": [
     "question:6.3",
     "points:3"
    ]
   },
   "source": [
    "**3.** (3 points) Report the mean squared prediction error for 1 month ahead forecasts."
   ]
  },
  {
   "cell_type": "code",
   "execution_count": 162,
   "metadata": {},
   "outputs": [
    {
     "data": {
      "text/plain": [
       "0.2552522327615316"
      ]
     },
     "execution_count": 162,
     "metadata": {},
     "output_type": "execute_result"
    }
   ],
   "source": [
    "mean_squared_error(cpi_ir_train['diff_log'].dropna(),predict_ts[1:])"
   ]
  },
  {
   "cell_type": "markdown",
   "metadata": {},
   "source": [
    "### Solution:\n",
    "Mean squared prediction error for 1 month ahead forecasts is 0.2552522327615316"
   ]
  },
  {
   "cell_type": "markdown",
   "metadata": {},
   "source": [
    " "
   ]
  },
  {
   "cell_type": "markdown",
   "metadata": {
    "tags": []
   },
   "source": [
    "### Improving your model"
   ]
  },
  {
   "cell_type": "markdown",
   "metadata": {
    "tags": [
     "points:5"
    ]
   },
   "source": [
    "(5 points) What other steps can you take to improve your model from part III? What is the smallest prediction error you can obtain? Describe the model that performs best. You might consider including MA terms, adding a seasonal AR term, or adding multiple daily values (or values from different months) of PriceStats and BER data as external regressors.\n"
   ]
  },
  {
   "cell_type": "markdown",
   "metadata": {},
   "source": [
    "### Solution:\n",
    "Increasing training data will improve the accuracy of predictions"
   ]
  }
 ],
 "metadata": {
  "kernelspec": {
   "display_name": "Python 3",
   "language": "python",
   "name": "python3"
  },
  "language_info": {
   "codemirror_mode": {
    "name": "ipython",
    "version": 3
   },
   "file_extension": ".py",
   "mimetype": "text/x-python",
   "name": "python",
   "nbconvert_exporter": "python",
   "pygments_lexer": "ipython3",
   "version": "3.8.3"
  }
 },
 "nbformat": 4,
 "nbformat_minor": 5
}
